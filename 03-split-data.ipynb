{
 "cells": [
  {
   "cell_type": "code",
   "execution_count": 1,
   "metadata": {},
   "outputs": [
    {
     "name": "stderr",
     "output_type": "stream",
     "text": [
      "[2024-04-03 08:39:25] [get_logger] Logger initialized.\n",
      "[2024-04-03 08:39:25] [get_logger] Logging to file: log-data-combine-split.log\n",
      "[2024-04-03 08:39:25] [read_parameters] Reading parameters.\n",
      "[2024-04-03 08:39:25] [read_parameters] ... reading /Users/david/projects/lc-project-data/project.yaml\n"
     ]
    },
    {
     "name": "stdout",
     "output_type": "stream",
     "text": [
      "==================================================\n"
     ]
    }
   ],
   "source": [
    "# reload magics\n",
    "%load_ext autoreload\n",
    "%autoreload 2\n",
    "\n",
    "import pandas as pd\n",
    "import numpy as np\n",
    "import matplotlib.pyplot as plt\n",
    "import seaborn as sns\n",
    "\n",
    "from project_modules.utils import get_logger\n",
    "logger = get_logger(\"log-data-combine-split.log\")\n",
    "# read the parameter file\n",
    "\n",
    "from project_modules.utils import read_parameters\n",
    "parms = read_parameters(\"/Users/david/projects/lc-project-data/project.yaml\")"
   ]
  },
  {
   "cell_type": "code",
   "execution_count": 2,
   "metadata": {},
   "outputs": [
    {
     "data": {
      "text/plain": [
       "PosixPath('/Users/david/projects/lc-project-data/processed-data/SYNTHETIC_dataset_dict')"
      ]
     },
     "execution_count": 2,
     "metadata": {},
     "output_type": "execute_result"
    }
   ],
   "source": [
    "from pathlib import Path\n",
    "input_dir = Path(parms[\"dir_proc_data\"])\n",
    "ipath = Path(input_dir / \"SYNTHETIC_dataset_dict\")\n",
    "ipath"
   ]
  },
  {
   "cell_type": "code",
   "execution_count": 3,
   "metadata": {},
   "outputs": [
    {
     "name": "stderr",
     "output_type": "stream",
     "text": [
      "[2024-04-03 08:39:26] [load_dataset_to_df] Loading data from /Users/david/projects/lc-project-data/processed-data/SYNTHETIC_dataset_dict...\n",
      "[2024-04-03 08:39:26] [load_dataset_to_df] Converting to dataframe...\n",
      "[2024-04-03 08:39:26] [load_dataset_to_df] Shape: (1000, 26)\n"
     ]
    }
   ],
   "source": [
    "from project_modules.io import load_dataset_to_df\n",
    "df = load_dataset_to_df(ipath, verbose = True)"
   ]
  },
  {
   "cell_type": "markdown",
   "metadata": {},
   "source": [
    "### Do train-test-holdout split here and save as a new dataset"
   ]
  },
  {
   "cell_type": "markdown",
   "metadata": {},
   "source": []
  }
 ],
 "metadata": {
  "kernelspec": {
   "display_name": "lm2",
   "language": "python",
   "name": "python3"
  },
  "language_info": {
   "codemirror_mode": {
    "name": "ipython",
    "version": 3
   },
   "file_extension": ".py",
   "mimetype": "text/x-python",
   "name": "python",
   "nbconvert_exporter": "python",
   "pygments_lexer": "ipython3",
   "version": "3.11.6"
  }
 },
 "nbformat": 4,
 "nbformat_minor": 2
}
