{
 "cells": [
  {
   "cell_type": "code",
   "execution_count": 1,
   "metadata": {},
   "outputs": [],
   "source": [
    "# reload magics\n",
    "%load_ext autoreload\n",
    "%autoreload 2\n",
    "\n",
    "import pandas as pd\n",
    "import numpy as np\n",
    "import matplotlib.pyplot as plt\n",
    "import seaborn as sns\n",
    "import datasets\n",
    "from project_modules.io import load_dataset_to_df\n",
    "\n",
    "from sklearn.model_selection import train_test_split\n",
    "\n",
    "# from project_modules.utils import get_logger\n",
    "# logger = get_logger(\"log-data-combine-split.log\")\n",
    "# # read the parameter file\n",
    "\n",
    "# from project_modules.utils import read_parameters\n",
    "# parms = read_parameters(\"/Users/david/projects/lc-project-data/project.yaml\")"
   ]
  },
  {
   "cell_type": "code",
   "execution_count": 2,
   "metadata": {},
   "outputs": [],
   "source": [
    "from pathlib import Path\n",
    "\n",
    "# input_path = Path(\"../lc-project-data\")\n",
    "# output_path = Path(\"../lc-project-data\")\n",
    "\n",
    "# for MP,\n",
    "input_path = Path(\"../Data/DataV3\")\n",
    "output_path = Path(\"../Data/DataV3\")"
   ]
  },
  {
   "cell_type": "code",
   "execution_count": 3,
   "metadata": {},
   "outputs": [],
   "source": [
    "site_name_dict = {1: \"LDN\", 2: \"MTL\", 3: \"SAN\", 4: \"RIO\", 5: \"LUS\", 6: \"CA\", 7: \"NA\"}\n",
    "status_name_dict = {\n",
    "    0:'HC',\n",
    "    1:'LC_NEG',\n",
    "    2:'LC_POS'\n",
    "}"
   ]
  },
  {
   "cell_type": "code",
   "execution_count": 4,
   "metadata": {},
   "outputs": [],
   "source": [
    "# df81 = load_dataset_to_df('../Data/DataV2/featuresThresAll81.arrow', verbose = True)\n",
    "# df85 = load_dataset_to_df('../Data/DataV2/featuresThresAll85.arrow', verbose = True)\n",
    "# dfDT = load_dataset_to_df(\"../Data/DataV2/featuresDT.arrow\", verbose=True)\n",
    "\n",
    "df = load_dataset_to_df(input_path/\"2024-04-30-features-cmplt.arrow\", verbose=True)"
   ]
  },
  {
   "cell_type": "code",
   "execution_count": 5,
   "metadata": {},
   "outputs": [],
   "source": [
    "import json\n",
    "\n",
    "with open('JSON/dict-preLongCovid.json', 'r') as file:\n",
    "    lColPreLC = json.load(file)"
   ]
  },
  {
   "cell_type": "markdown",
   "metadata": {},
   "source": [
    "### Do train-test-holdout split here and save as a new dataset"
   ]
  },
  {
   "cell_type": "code",
   "execution_count": 6,
   "metadata": {},
   "outputs": [
    {
     "name": "stdout",
     "output_type": "stream",
     "text": [
      "% of patiens from each site in cmplt\n"
     ]
    },
    {
     "data": {
      "text/html": [
       "<div>\n",
       "<style scoped>\n",
       "    .dataframe tbody tr th:only-of-type {\n",
       "        vertical-align: middle;\n",
       "    }\n",
       "\n",
       "    .dataframe tbody tr th {\n",
       "        vertical-align: top;\n",
       "    }\n",
       "\n",
       "    .dataframe thead th {\n",
       "        text-align: right;\n",
       "    }\n",
       "</style>\n",
       "<table border=\"1\" class=\"dataframe\">\n",
       "  <thead>\n",
       "    <tr style=\"text-align: right;\">\n",
       "      <th>SITE</th>\n",
       "      <th>LDN</th>\n",
       "      <th>LUS</th>\n",
       "      <th>MTL</th>\n",
       "      <th>RIO</th>\n",
       "      <th>SAN</th>\n",
       "    </tr>\n",
       "    <tr>\n",
       "      <th>LC_STATUS</th>\n",
       "      <th></th>\n",
       "      <th></th>\n",
       "      <th></th>\n",
       "      <th></th>\n",
       "      <th></th>\n",
       "    </tr>\n",
       "  </thead>\n",
       "  <tbody>\n",
       "    <tr>\n",
       "      <th>HC</th>\n",
       "      <td>0.55</td>\n",
       "      <td>0.75</td>\n",
       "      <td>0.69</td>\n",
       "      <td>0.16</td>\n",
       "      <td>0.21</td>\n",
       "    </tr>\n",
       "    <tr>\n",
       "      <th>LC_NEG</th>\n",
       "      <td>0.35</td>\n",
       "      <td>0.22</td>\n",
       "      <td>0.31</td>\n",
       "      <td>0.83</td>\n",
       "      <td>0.78</td>\n",
       "    </tr>\n",
       "    <tr>\n",
       "      <th>LC_POS</th>\n",
       "      <td>0.10</td>\n",
       "      <td>0.03</td>\n",
       "      <td>0.00</td>\n",
       "      <td>0.01</td>\n",
       "      <td>0.01</td>\n",
       "    </tr>\n",
       "  </tbody>\n",
       "</table>\n",
       "</div>"
      ],
      "text/plain": [
       "SITE        LDN   LUS   MTL   RIO   SAN\n",
       "LC_STATUS                              \n",
       "HC         0.55  0.75  0.69  0.16  0.21\n",
       "LC_NEG     0.35  0.22  0.31  0.83  0.78\n",
       "LC_POS     0.10  0.03  0.00  0.01  0.01"
      ]
     },
     "execution_count": 6,
     "metadata": {},
     "output_type": "execute_result"
    }
   ],
   "source": [
    "print('% of patiens from each site in cmplt')\n",
    "pd.crosstab(df[\"LC_STATUS\"].map(status_name_dict), df[\"SITE\"].map(site_name_dict), normalize=\"columns\").round(2)"
   ]
  },
  {
   "cell_type": "code",
   "execution_count": 7,
   "metadata": {},
   "outputs": [
    {
     "name": "stdout",
     "output_type": "stream",
     "text": [
      "# of patiens from each site in cmplt\n"
     ]
    },
    {
     "data": {
      "text/html": [
       "<div>\n",
       "<style scoped>\n",
       "    .dataframe tbody tr th:only-of-type {\n",
       "        vertical-align: middle;\n",
       "    }\n",
       "\n",
       "    .dataframe tbody tr th {\n",
       "        vertical-align: top;\n",
       "    }\n",
       "\n",
       "    .dataframe thead th {\n",
       "        text-align: right;\n",
       "    }\n",
       "</style>\n",
       "<table border=\"1\" class=\"dataframe\">\n",
       "  <thead>\n",
       "    <tr style=\"text-align: right;\">\n",
       "      <th>SITE</th>\n",
       "      <th>LDN</th>\n",
       "      <th>LUS</th>\n",
       "      <th>MTL</th>\n",
       "      <th>RIO</th>\n",
       "      <th>SAN</th>\n",
       "    </tr>\n",
       "    <tr>\n",
       "      <th>LC_STATUS</th>\n",
       "      <th></th>\n",
       "      <th></th>\n",
       "      <th></th>\n",
       "      <th></th>\n",
       "      <th></th>\n",
       "    </tr>\n",
       "  </thead>\n",
       "  <tbody>\n",
       "    <tr>\n",
       "      <th>HC</th>\n",
       "      <td>176</td>\n",
       "      <td>934</td>\n",
       "      <td>1997</td>\n",
       "      <td>128</td>\n",
       "      <td>71</td>\n",
       "    </tr>\n",
       "    <tr>\n",
       "      <th>LC_NEG</th>\n",
       "      <td>110</td>\n",
       "      <td>268</td>\n",
       "      <td>916</td>\n",
       "      <td>650</td>\n",
       "      <td>266</td>\n",
       "    </tr>\n",
       "    <tr>\n",
       "      <th>LC_POS</th>\n",
       "      <td>32</td>\n",
       "      <td>38</td>\n",
       "      <td>0</td>\n",
       "      <td>9</td>\n",
       "      <td>3</td>\n",
       "    </tr>\n",
       "  </tbody>\n",
       "</table>\n",
       "</div>"
      ],
      "text/plain": [
       "SITE       LDN  LUS   MTL  RIO  SAN\n",
       "LC_STATUS                          \n",
       "HC         176  934  1997  128   71\n",
       "LC_NEG     110  268   916  650  266\n",
       "LC_POS      32   38     0    9    3"
      ]
     },
     "execution_count": 7,
     "metadata": {},
     "output_type": "execute_result"
    }
   ],
   "source": [
    "print(\"# of patiens from each site in cmplt\")\n",
    "\n",
    "pd.crosstab(df[\"LC_STATUS\"].map(status_name_dict), df[\"SITE\"].map(site_name_dict))"
   ]
  },
  {
   "cell_type": "code",
   "execution_count": 8,
   "metadata": {},
   "outputs": [],
   "source": [
    "def straify_train_test_holdout(df, labelVar, stratifyCol, test_size = 0.2, holdout_size = 0.2, random_state = 42 ):\n",
    "    from sklearn.model_selection import train_test_split\n",
    "    df_train, df_holdout = train_test_split(df, test_size = holdout_size, random_state = random_state, stratify = df['LC_STATUS'])\n",
    "    # Split the data into training and holdout sets\n",
    "    df_train, df_holdout = train_test_split(\n",
    "        df,\n",
    "        test_size=holdout_size,\n",
    "        stratify=df[stratifyCol],\n",
    "        random_state=42,\n",
    "    )\n",
    "\n",
    "    df_train, df_test = train_test_split(\n",
    "        df_train,\n",
    "        test_size=test_size / (1 - holdout_size),\n",
    "        random_state=random_state,\n",
    "        stratify=df_train[stratifyCol],\n",
    "    )\n",
    "    return df_train, df_test, df_holdout"
   ]
  },
  {
   "cell_type": "code",
   "execution_count": 9,
   "metadata": {},
   "outputs": [],
   "source": [
    "# Create combined variable to stratify on both LC_STATUS and SITE\n",
    "df[\"LC_STATUS_SITE\"] = df[\"LC_STATUS\"].astype(str) + \"_\" + df[\"SITE\"].astype(str)\n",
    "\n",
    "df_train, df_test, df_holdout = straify_train_test_holdout(\n",
    "    df,\n",
    "    \"LC_STATUS\",\n",
    "    \"LC_STATUS_SITE\",\n",
    "    test_size=0.2,\n",
    "    holdout_size=0.2,\n",
    "    random_state=42,\n",
    ")"
   ]
  },
  {
   "cell_type": "markdown",
   "metadata": {},
   "source": [
    "Verfiy stratification accurate"
   ]
  },
  {
   "cell_type": "code",
   "execution_count": 10,
   "metadata": {},
   "outputs": [
    {
     "data": {
      "text/html": [
       "<div>\n",
       "<style scoped>\n",
       "    .dataframe tbody tr th:only-of-type {\n",
       "        vertical-align: middle;\n",
       "    }\n",
       "\n",
       "    .dataframe tbody tr th {\n",
       "        vertical-align: top;\n",
       "    }\n",
       "\n",
       "    .dataframe thead th {\n",
       "        text-align: right;\n",
       "    }\n",
       "</style>\n",
       "<table border=\"1\" class=\"dataframe\">\n",
       "  <thead>\n",
       "    <tr style=\"text-align: right;\">\n",
       "      <th>SITE</th>\n",
       "      <th>1</th>\n",
       "      <th>2</th>\n",
       "      <th>3</th>\n",
       "      <th>4</th>\n",
       "      <th>5</th>\n",
       "    </tr>\n",
       "    <tr>\n",
       "      <th>LC_STATUS</th>\n",
       "      <th></th>\n",
       "      <th></th>\n",
       "      <th></th>\n",
       "      <th></th>\n",
       "      <th></th>\n",
       "    </tr>\n",
       "  </thead>\n",
       "  <tbody>\n",
       "    <tr>\n",
       "      <th>0</th>\n",
       "      <td>0.552083</td>\n",
       "      <td>0.685355</td>\n",
       "      <td>0.209756</td>\n",
       "      <td>0.161359</td>\n",
       "      <td>0.754717</td>\n",
       "    </tr>\n",
       "    <tr>\n",
       "      <th>1</th>\n",
       "      <td>0.343750</td>\n",
       "      <td>0.314645</td>\n",
       "      <td>0.780488</td>\n",
       "      <td>0.828025</td>\n",
       "      <td>0.215633</td>\n",
       "    </tr>\n",
       "    <tr>\n",
       "      <th>2</th>\n",
       "      <td>0.104167</td>\n",
       "      <td>0.000000</td>\n",
       "      <td>0.009756</td>\n",
       "      <td>0.010616</td>\n",
       "      <td>0.029650</td>\n",
       "    </tr>\n",
       "  </tbody>\n",
       "</table>\n",
       "</div>"
      ],
      "text/plain": [
       "SITE              1         2         3         4         5\n",
       "LC_STATUS                                                  \n",
       "0          0.552083  0.685355  0.209756  0.161359  0.754717\n",
       "1          0.343750  0.314645  0.780488  0.828025  0.215633\n",
       "2          0.104167  0.000000  0.009756  0.010616  0.029650"
      ]
     },
     "execution_count": 10,
     "metadata": {},
     "output_type": "execute_result"
    }
   ],
   "source": [
    "pd.crosstab(df_train[\"LC_STATUS\"], df_train[\"SITE\"], normalize=\"columns\")"
   ]
  },
  {
   "cell_type": "code",
   "execution_count": 11,
   "metadata": {},
   "outputs": [
    {
     "data": {
      "text/html": [
       "<div>\n",
       "<style scoped>\n",
       "    .dataframe tbody tr th:only-of-type {\n",
       "        vertical-align: middle;\n",
       "    }\n",
       "\n",
       "    .dataframe tbody tr th {\n",
       "        vertical-align: top;\n",
       "    }\n",
       "\n",
       "    .dataframe thead th {\n",
       "        text-align: right;\n",
       "    }\n",
       "</style>\n",
       "<table border=\"1\" class=\"dataframe\">\n",
       "  <thead>\n",
       "    <tr style=\"text-align: right;\">\n",
       "      <th>SITE</th>\n",
       "      <th>1</th>\n",
       "      <th>2</th>\n",
       "      <th>3</th>\n",
       "      <th>4</th>\n",
       "      <th>5</th>\n",
       "    </tr>\n",
       "    <tr>\n",
       "      <th>LC_STATUS</th>\n",
       "      <th></th>\n",
       "      <th></th>\n",
       "      <th></th>\n",
       "      <th></th>\n",
       "      <th></th>\n",
       "    </tr>\n",
       "  </thead>\n",
       "  <tbody>\n",
       "    <tr>\n",
       "      <th>0</th>\n",
       "      <td>0.555556</td>\n",
       "      <td>0.686106</td>\n",
       "      <td>0.208955</td>\n",
       "      <td>0.164557</td>\n",
       "      <td>0.751004</td>\n",
       "    </tr>\n",
       "    <tr>\n",
       "      <th>1</th>\n",
       "      <td>0.349206</td>\n",
       "      <td>0.313894</td>\n",
       "      <td>0.791045</td>\n",
       "      <td>0.822785</td>\n",
       "      <td>0.216867</td>\n",
       "    </tr>\n",
       "    <tr>\n",
       "      <th>2</th>\n",
       "      <td>0.095238</td>\n",
       "      <td>0.000000</td>\n",
       "      <td>0.000000</td>\n",
       "      <td>0.012658</td>\n",
       "      <td>0.032129</td>\n",
       "    </tr>\n",
       "  </tbody>\n",
       "</table>\n",
       "</div>"
      ],
      "text/plain": [
       "SITE              1         2         3         4         5\n",
       "LC_STATUS                                                  \n",
       "0          0.555556  0.686106  0.208955  0.164557  0.751004\n",
       "1          0.349206  0.313894  0.791045  0.822785  0.216867\n",
       "2          0.095238  0.000000  0.000000  0.012658  0.032129"
      ]
     },
     "execution_count": 11,
     "metadata": {},
     "output_type": "execute_result"
    }
   ],
   "source": [
    "pd.crosstab(df_test[\"LC_STATUS\"], df_test[\"SITE\"], normalize=\"columns\")"
   ]
  },
  {
   "cell_type": "code",
   "execution_count": 12,
   "metadata": {},
   "outputs": [
    {
     "data": {
      "text/html": [
       "<div>\n",
       "<style scoped>\n",
       "    .dataframe tbody tr th:only-of-type {\n",
       "        vertical-align: middle;\n",
       "    }\n",
       "\n",
       "    .dataframe tbody tr th {\n",
       "        vertical-align: top;\n",
       "    }\n",
       "\n",
       "    .dataframe thead th {\n",
       "        text-align: right;\n",
       "    }\n",
       "</style>\n",
       "<table border=\"1\" class=\"dataframe\">\n",
       "  <thead>\n",
       "    <tr style=\"text-align: right;\">\n",
       "      <th>SITE</th>\n",
       "      <th>1</th>\n",
       "      <th>2</th>\n",
       "      <th>3</th>\n",
       "      <th>4</th>\n",
       "      <th>5</th>\n",
       "    </tr>\n",
       "    <tr>\n",
       "      <th>LC_STATUS</th>\n",
       "      <th></th>\n",
       "      <th></th>\n",
       "      <th></th>\n",
       "      <th></th>\n",
       "      <th></th>\n",
       "    </tr>\n",
       "  </thead>\n",
       "  <tbody>\n",
       "    <tr>\n",
       "      <th>0</th>\n",
       "      <td>0.555556</td>\n",
       "      <td>0.685567</td>\n",
       "      <td>0.205882</td>\n",
       "      <td>0.164557</td>\n",
       "      <td>0.751004</td>\n",
       "    </tr>\n",
       "    <tr>\n",
       "      <th>1</th>\n",
       "      <td>0.349206</td>\n",
       "      <td>0.314433</td>\n",
       "      <td>0.779412</td>\n",
       "      <td>0.822785</td>\n",
       "      <td>0.216867</td>\n",
       "    </tr>\n",
       "    <tr>\n",
       "      <th>2</th>\n",
       "      <td>0.095238</td>\n",
       "      <td>0.000000</td>\n",
       "      <td>0.014706</td>\n",
       "      <td>0.012658</td>\n",
       "      <td>0.032129</td>\n",
       "    </tr>\n",
       "  </tbody>\n",
       "</table>\n",
       "</div>"
      ],
      "text/plain": [
       "SITE              1         2         3         4         5\n",
       "LC_STATUS                                                  \n",
       "0          0.555556  0.685567  0.205882  0.164557  0.751004\n",
       "1          0.349206  0.314433  0.779412  0.822785  0.216867\n",
       "2          0.095238  0.000000  0.014706  0.012658  0.032129"
      ]
     },
     "execution_count": 12,
     "metadata": {},
     "output_type": "execute_result"
    }
   ],
   "source": [
    "pd.crosstab(df_holdout[\"LC_STATUS\"], df_holdout[\"SITE\"], normalize=\"columns\")"
   ]
  },
  {
   "cell_type": "code",
   "execution_count": 13,
   "metadata": {},
   "outputs": [
    {
     "data": {
      "application/vnd.jupyter.widget-view+json": {
       "model_id": "c47838743d994713bd0bbd20774a4da9",
       "version_major": 2,
       "version_minor": 0
      },
      "text/plain": [
       "Saving the dataset (0/1 shards):   0%|          | 0/3358 [00:00<?, ? examples/s]"
      ]
     },
     "metadata": {},
     "output_type": "display_data"
    },
    {
     "data": {
      "application/vnd.jupyter.widget-view+json": {
       "model_id": "5d92b773fdcf455389c90a1e89a489d5",
       "version_major": 2,
       "version_minor": 0
      },
      "text/plain": [
       "Saving the dataset (0/1 shards):   0%|          | 0/1120 [00:00<?, ? examples/s]"
      ]
     },
     "metadata": {},
     "output_type": "display_data"
    },
    {
     "data": {
      "application/vnd.jupyter.widget-view+json": {
       "model_id": "fa2b6cc8f42141f1a6c5c8aaaf5f01fa",
       "version_major": 2,
       "version_minor": 0
      },
      "text/plain": [
       "Saving the dataset (0/1 shards):   0%|          | 0/1120 [00:00<?, ? examples/s]"
      ]
     },
     "metadata": {},
     "output_type": "display_data"
    }
   ],
   "source": [
    "datasets.arrow_dataset.Dataset.from_pandas(df_train,preserve_index=False).save_to_disk(\n",
    "    output_path/\"TTS/dfcmplt_Train.arrow\"\n",
    ")\n",
    "datasets.arrow_dataset.Dataset.from_pandas(df_test, preserve_index=False).save_to_disk(\n",
    "    output_path / \"TTS/dfcmplt_Test.arrow\"\n",
    ")\n",
    "datasets.arrow_dataset.Dataset.from_pandas(\n",
    "    df_holdout, preserve_index=False\n",
    ").save_to_disk(output_path / \"TTS/dfcmplt_Holdout.arrow\")"
   ]
  },
  {
   "cell_type": "code",
   "execution_count": 14,
   "metadata": {},
   "outputs": [
    {
     "data": {
      "application/vnd.jupyter.widget-view+json": {
       "model_id": "4f63a50fd773430eb7c4482fe0d502eb",
       "version_major": 2,
       "version_minor": 0
      },
      "text/plain": [
       "Saving the dataset (0/1 shards):   0%|          | 0/3358 [00:00<?, ? examples/s]"
      ]
     },
     "metadata": {},
     "output_type": "display_data"
    },
    {
     "data": {
      "application/vnd.jupyter.widget-view+json": {
       "model_id": "eb81e53ee513431788891c17980b6ca4",
       "version_major": 2,
       "version_minor": 0
      },
      "text/plain": [
       "Saving the dataset (0/1 shards):   0%|          | 0/1120 [00:00<?, ? examples/s]"
      ]
     },
     "metadata": {},
     "output_type": "display_data"
    },
    {
     "data": {
      "application/vnd.jupyter.widget-view+json": {
       "model_id": "37b3858b1da1469aac2c1c3dc5a510be",
       "version_major": 2,
       "version_minor": 0
      },
      "text/plain": [
       "Saving the dataset (0/1 shards):   0%|          | 0/1120 [00:00<?, ? examples/s]"
      ]
     },
     "metadata": {},
     "output_type": "display_data"
    }
   ],
   "source": [
    "datasets.arrow_dataset.Dataset.from_pandas(df_train[lColPreLC],preserve_index=False).save_to_disk(\n",
    "    output_path/\"TTS/dfcmpltPreLC_Train.arrow\"\n",
    ")\n",
    "datasets.arrow_dataset.Dataset.from_pandas(df_test[lColPreLC], preserve_index=False).save_to_disk(\n",
    "    output_path / \"TTS/dfcmpltPreLC_Test.arrow\"\n",
    ")\n",
    "datasets.arrow_dataset.Dataset.from_pandas(\n",
    "    df_holdout[lColPreLC], preserve_index=False\n",
    ").save_to_disk(output_path / \"TTS/dfcmpltPreLC_Holdout.arrow\")"
   ]
  },
  {
   "cell_type": "code",
   "execution_count": 15,
   "metadata": {},
   "outputs": [
    {
     "data": {
      "application/vnd.jupyter.widget-view+json": {
       "model_id": "4d7593a283e54d19ad805c44878042cb",
       "version_major": 2,
       "version_minor": 0
      },
      "text/plain": [
       "Saving the dataset (0/1 shards):   0%|          | 0/192 [00:00<?, ? examples/s]"
      ]
     },
     "metadata": {},
     "output_type": "display_data"
    },
    {
     "data": {
      "application/vnd.jupyter.widget-view+json": {
       "model_id": "b367a03eeacb43c2863e8846d45dcd48",
       "version_major": 2,
       "version_minor": 0
      },
      "text/plain": [
       "Saving the dataset (0/1 shards):   0%|          | 0/63 [00:00<?, ? examples/s]"
      ]
     },
     "metadata": {},
     "output_type": "display_data"
    },
    {
     "data": {
      "application/vnd.jupyter.widget-view+json": {
       "model_id": "265ba978adf843d787b9e48003adbd1b",
       "version_major": 2,
       "version_minor": 0
      },
      "text/plain": [
       "Saving the dataset (0/1 shards):   0%|          | 0/63 [00:00<?, ? examples/s]"
      ]
     },
     "metadata": {},
     "output_type": "display_data"
    },
    {
     "data": {
      "application/vnd.jupyter.widget-view+json": {
       "model_id": "85d86b3de7a24251bf24148ae8915347",
       "version_major": 2,
       "version_minor": 0
      },
      "text/plain": [
       "Saving the dataset (0/1 shards):   0%|          | 0/192 [00:00<?, ? examples/s]"
      ]
     },
     "metadata": {},
     "output_type": "display_data"
    },
    {
     "data": {
      "application/vnd.jupyter.widget-view+json": {
       "model_id": "81c8e4820d8d43eea3c532a203d73dbe",
       "version_major": 2,
       "version_minor": 0
      },
      "text/plain": [
       "Saving the dataset (0/1 shards):   0%|          | 0/63 [00:00<?, ? examples/s]"
      ]
     },
     "metadata": {},
     "output_type": "display_data"
    },
    {
     "data": {
      "application/vnd.jupyter.widget-view+json": {
       "model_id": "fbff022dafb5477ebb6297aea60a9c67",
       "version_major": 2,
       "version_minor": 0
      },
      "text/plain": [
       "Saving the dataset (0/1 shards):   0%|          | 0/63 [00:00<?, ? examples/s]"
      ]
     },
     "metadata": {},
     "output_type": "display_data"
    },
    {
     "data": {
      "application/vnd.jupyter.widget-view+json": {
       "model_id": "045b673de97b45369677bf881e0c6ca5",
       "version_major": 2,
       "version_minor": 0
      },
      "text/plain": [
       "Saving the dataset (0/1 shards):   0%|          | 0/1748 [00:00<?, ? examples/s]"
      ]
     },
     "metadata": {},
     "output_type": "display_data"
    },
    {
     "data": {
      "application/vnd.jupyter.widget-view+json": {
       "model_id": "a4d4fc8afdd34858b05484520e5e9fc5",
       "version_major": 2,
       "version_minor": 0
      },
      "text/plain": [
       "Saving the dataset (0/1 shards):   0%|          | 0/583 [00:00<?, ? examples/s]"
      ]
     },
     "metadata": {},
     "output_type": "display_data"
    },
    {
     "data": {
      "application/vnd.jupyter.widget-view+json": {
       "model_id": "aa6693d9edb74bdc955f55ad6409a720",
       "version_major": 2,
       "version_minor": 0
      },
      "text/plain": [
       "Saving the dataset (0/1 shards):   0%|          | 0/582 [00:00<?, ? examples/s]"
      ]
     },
     "metadata": {},
     "output_type": "display_data"
    },
    {
     "data": {
      "application/vnd.jupyter.widget-view+json": {
       "model_id": "2b3e632e854a472a8f698c98012645f3",
       "version_major": 2,
       "version_minor": 0
      },
      "text/plain": [
       "Saving the dataset (0/1 shards):   0%|          | 0/1748 [00:00<?, ? examples/s]"
      ]
     },
     "metadata": {},
     "output_type": "display_data"
    },
    {
     "data": {
      "application/vnd.jupyter.widget-view+json": {
       "model_id": "6eb83a2c2aa6495aa80dad1b84ef839f",
       "version_major": 2,
       "version_minor": 0
      },
      "text/plain": [
       "Saving the dataset (0/1 shards):   0%|          | 0/583 [00:00<?, ? examples/s]"
      ]
     },
     "metadata": {},
     "output_type": "display_data"
    },
    {
     "data": {
      "application/vnd.jupyter.widget-view+json": {
       "model_id": "307929edbb1a4394b5a63bdc5b5e09e0",
       "version_major": 2,
       "version_minor": 0
      },
      "text/plain": [
       "Saving the dataset (0/1 shards):   0%|          | 0/582 [00:00<?, ? examples/s]"
      ]
     },
     "metadata": {},
     "output_type": "display_data"
    },
    {
     "data": {
      "application/vnd.jupyter.widget-view+json": {
       "model_id": "b537889bdd2b4ef29fd4960985c76f2f",
       "version_major": 2,
       "version_minor": 0
      },
      "text/plain": [
       "Saving the dataset (0/1 shards):   0%|          | 0/205 [00:00<?, ? examples/s]"
      ]
     },
     "metadata": {},
     "output_type": "display_data"
    },
    {
     "data": {
      "application/vnd.jupyter.widget-view+json": {
       "model_id": "ea56deead0ff45df9b91013fdbbaea6c",
       "version_major": 2,
       "version_minor": 0
      },
      "text/plain": [
       "Saving the dataset (0/1 shards):   0%|          | 0/67 [00:00<?, ? examples/s]"
      ]
     },
     "metadata": {},
     "output_type": "display_data"
    },
    {
     "data": {
      "application/vnd.jupyter.widget-view+json": {
       "model_id": "08d1da3ac0484e6081b0bc805db6aaf8",
       "version_major": 2,
       "version_minor": 0
      },
      "text/plain": [
       "Saving the dataset (0/1 shards):   0%|          | 0/68 [00:00<?, ? examples/s]"
      ]
     },
     "metadata": {},
     "output_type": "display_data"
    },
    {
     "data": {
      "application/vnd.jupyter.widget-view+json": {
       "model_id": "40f155a71db04350919053e8c495c628",
       "version_major": 2,
       "version_minor": 0
      },
      "text/plain": [
       "Saving the dataset (0/1 shards):   0%|          | 0/205 [00:00<?, ? examples/s]"
      ]
     },
     "metadata": {},
     "output_type": "display_data"
    },
    {
     "data": {
      "application/vnd.jupyter.widget-view+json": {
       "model_id": "142baf4cf4374fb98dcd5c448ae37a9b",
       "version_major": 2,
       "version_minor": 0
      },
      "text/plain": [
       "Saving the dataset (0/1 shards):   0%|          | 0/67 [00:00<?, ? examples/s]"
      ]
     },
     "metadata": {},
     "output_type": "display_data"
    },
    {
     "data": {
      "application/vnd.jupyter.widget-view+json": {
       "model_id": "8e9c0fa848644d1a94d00531396dfe9f",
       "version_major": 2,
       "version_minor": 0
      },
      "text/plain": [
       "Saving the dataset (0/1 shards):   0%|          | 0/68 [00:00<?, ? examples/s]"
      ]
     },
     "metadata": {},
     "output_type": "display_data"
    },
    {
     "data": {
      "application/vnd.jupyter.widget-view+json": {
       "model_id": "6643ebf01d93481783062a3ebb359723",
       "version_major": 2,
       "version_minor": 0
      },
      "text/plain": [
       "Saving the dataset (0/1 shards):   0%|          | 0/471 [00:00<?, ? examples/s]"
      ]
     },
     "metadata": {},
     "output_type": "display_data"
    },
    {
     "data": {
      "application/vnd.jupyter.widget-view+json": {
       "model_id": "d99f8a0be1064f6495487ef0063b040b",
       "version_major": 2,
       "version_minor": 0
      },
      "text/plain": [
       "Saving the dataset (0/1 shards):   0%|          | 0/158 [00:00<?, ? examples/s]"
      ]
     },
     "metadata": {},
     "output_type": "display_data"
    },
    {
     "data": {
      "application/vnd.jupyter.widget-view+json": {
       "model_id": "4d8f468b0a404bf5bfe2be68661f7d0e",
       "version_major": 2,
       "version_minor": 0
      },
      "text/plain": [
       "Saving the dataset (0/1 shards):   0%|          | 0/158 [00:00<?, ? examples/s]"
      ]
     },
     "metadata": {},
     "output_type": "display_data"
    },
    {
     "data": {
      "application/vnd.jupyter.widget-view+json": {
       "model_id": "b3047618fcd04e24a9b5f8017ef797df",
       "version_major": 2,
       "version_minor": 0
      },
      "text/plain": [
       "Saving the dataset (0/1 shards):   0%|          | 0/471 [00:00<?, ? examples/s]"
      ]
     },
     "metadata": {},
     "output_type": "display_data"
    },
    {
     "data": {
      "application/vnd.jupyter.widget-view+json": {
       "model_id": "8016848c5d174f7fa8b4b9fcc9bae0ac",
       "version_major": 2,
       "version_minor": 0
      },
      "text/plain": [
       "Saving the dataset (0/1 shards):   0%|          | 0/158 [00:00<?, ? examples/s]"
      ]
     },
     "metadata": {},
     "output_type": "display_data"
    },
    {
     "data": {
      "application/vnd.jupyter.widget-view+json": {
       "model_id": "41eae781eee74de89bd710050061ad3c",
       "version_major": 2,
       "version_minor": 0
      },
      "text/plain": [
       "Saving the dataset (0/1 shards):   0%|          | 0/158 [00:00<?, ? examples/s]"
      ]
     },
     "metadata": {},
     "output_type": "display_data"
    },
    {
     "data": {
      "application/vnd.jupyter.widget-view+json": {
       "model_id": "656d1d4efcd146bd9352f3bf53bc9192",
       "version_major": 2,
       "version_minor": 0
      },
      "text/plain": [
       "Saving the dataset (0/1 shards):   0%|          | 0/742 [00:00<?, ? examples/s]"
      ]
     },
     "metadata": {},
     "output_type": "display_data"
    },
    {
     "data": {
      "application/vnd.jupyter.widget-view+json": {
       "model_id": "d932f0556e324634b1fed35d9ff23b5a",
       "version_major": 2,
       "version_minor": 0
      },
      "text/plain": [
       "Saving the dataset (0/1 shards):   0%|          | 0/249 [00:00<?, ? examples/s]"
      ]
     },
     "metadata": {},
     "output_type": "display_data"
    },
    {
     "data": {
      "application/vnd.jupyter.widget-view+json": {
       "model_id": "646590a4d621488495e07ca028b475c5",
       "version_major": 2,
       "version_minor": 0
      },
      "text/plain": [
       "Saving the dataset (0/1 shards):   0%|          | 0/249 [00:00<?, ? examples/s]"
      ]
     },
     "metadata": {},
     "output_type": "display_data"
    },
    {
     "data": {
      "application/vnd.jupyter.widget-view+json": {
       "model_id": "76c78392fcf34d749031a3b10578a1ab",
       "version_major": 2,
       "version_minor": 0
      },
      "text/plain": [
       "Saving the dataset (0/1 shards):   0%|          | 0/742 [00:00<?, ? examples/s]"
      ]
     },
     "metadata": {},
     "output_type": "display_data"
    },
    {
     "data": {
      "application/vnd.jupyter.widget-view+json": {
       "model_id": "6e65b2ec4024424eb11b03b214ed0a89",
       "version_major": 2,
       "version_minor": 0
      },
      "text/plain": [
       "Saving the dataset (0/1 shards):   0%|          | 0/249 [00:00<?, ? examples/s]"
      ]
     },
     "metadata": {},
     "output_type": "display_data"
    },
    {
     "data": {
      "application/vnd.jupyter.widget-view+json": {
       "model_id": "9ba005ac5a42447f81082ccc00f551ce",
       "version_major": 2,
       "version_minor": 0
      },
      "text/plain": [
       "Saving the dataset (0/1 shards):   0%|          | 0/249 [00:00<?, ? examples/s]"
      ]
     },
     "metadata": {},
     "output_type": "display_data"
    },
    {
     "data": {
      "application/vnd.jupyter.widget-view+json": {
       "model_id": "a8d521299793450bb50e4ce0a389e342",
       "version_major": 2,
       "version_minor": 0
      },
      "text/plain": [
       "Saving the dataset (0/1 shards):   0%|          | 0/1940 [00:00<?, ? examples/s]"
      ]
     },
     "metadata": {},
     "output_type": "display_data"
    },
    {
     "data": {
      "application/vnd.jupyter.widget-view+json": {
       "model_id": "8c13179acdbc4bdaa95e5d55a187b668",
       "version_major": 2,
       "version_minor": 0
      },
      "text/plain": [
       "Saving the dataset (0/1 shards):   0%|          | 0/646 [00:00<?, ? examples/s]"
      ]
     },
     "metadata": {},
     "output_type": "display_data"
    },
    {
     "data": {
      "application/vnd.jupyter.widget-view+json": {
       "model_id": "fccc71e459ca40f4b5b08aa40ca1b9a2",
       "version_major": 2,
       "version_minor": 0
      },
      "text/plain": [
       "Saving the dataset (0/1 shards):   0%|          | 0/645 [00:00<?, ? examples/s]"
      ]
     },
     "metadata": {},
     "output_type": "display_data"
    },
    {
     "data": {
      "application/vnd.jupyter.widget-view+json": {
       "model_id": "abcd8cff119f4299bb5170332f1d3f89",
       "version_major": 2,
       "version_minor": 0
      },
      "text/plain": [
       "Saving the dataset (0/1 shards):   0%|          | 0/1940 [00:00<?, ? examples/s]"
      ]
     },
     "metadata": {},
     "output_type": "display_data"
    },
    {
     "data": {
      "application/vnd.jupyter.widget-view+json": {
       "model_id": "6b0d1e68580842269116d928f91bf64d",
       "version_major": 2,
       "version_minor": 0
      },
      "text/plain": [
       "Saving the dataset (0/1 shards):   0%|          | 0/646 [00:00<?, ? examples/s]"
      ]
     },
     "metadata": {},
     "output_type": "display_data"
    },
    {
     "data": {
      "application/vnd.jupyter.widget-view+json": {
       "model_id": "d66fbbcd790f4259852dd38e5f65bc83",
       "version_major": 2,
       "version_minor": 0
      },
      "text/plain": [
       "Saving the dataset (0/1 shards):   0%|          | 0/645 [00:00<?, ? examples/s]"
      ]
     },
     "metadata": {},
     "output_type": "display_data"
    },
    {
     "data": {
      "application/vnd.jupyter.widget-view+json": {
       "model_id": "ce249a337fd44cbb9d1f231b2dec3e2f",
       "version_major": 2,
       "version_minor": 0
      },
      "text/plain": [
       "Saving the dataset (0/1 shards):   0%|          | 0/2145 [00:00<?, ? examples/s]"
      ]
     },
     "metadata": {},
     "output_type": "display_data"
    },
    {
     "data": {
      "application/vnd.jupyter.widget-view+json": {
       "model_id": "5a14d029d2334783a8e123c9dbac6218",
       "version_major": 2,
       "version_minor": 0
      },
      "text/plain": [
       "Saving the dataset (0/1 shards):   0%|          | 0/713 [00:00<?, ? examples/s]"
      ]
     },
     "metadata": {},
     "output_type": "display_data"
    },
    {
     "data": {
      "application/vnd.jupyter.widget-view+json": {
       "model_id": "defa4206793e4ac58422bee49aaacbce",
       "version_major": 2,
       "version_minor": 0
      },
      "text/plain": [
       "Saving the dataset (0/1 shards):   0%|          | 0/713 [00:00<?, ? examples/s]"
      ]
     },
     "metadata": {},
     "output_type": "display_data"
    },
    {
     "data": {
      "application/vnd.jupyter.widget-view+json": {
       "model_id": "b7af11bb99b743c78e311910b20e4101",
       "version_major": 2,
       "version_minor": 0
      },
      "text/plain": [
       "Saving the dataset (0/1 shards):   0%|          | 0/2145 [00:00<?, ? examples/s]"
      ]
     },
     "metadata": {},
     "output_type": "display_data"
    },
    {
     "data": {
      "application/vnd.jupyter.widget-view+json": {
       "model_id": "7d21b80c0c004d0494ae1697dc5f2733",
       "version_major": 2,
       "version_minor": 0
      },
      "text/plain": [
       "Saving the dataset (0/1 shards):   0%|          | 0/713 [00:00<?, ? examples/s]"
      ]
     },
     "metadata": {},
     "output_type": "display_data"
    },
    {
     "data": {
      "application/vnd.jupyter.widget-view+json": {
       "model_id": "05864487f88b418e98a8eb1c49cb7f1c",
       "version_major": 2,
       "version_minor": 0
      },
      "text/plain": [
       "Saving the dataset (0/1 shards):   0%|          | 0/713 [00:00<?, ? examples/s]"
      ]
     },
     "metadata": {},
     "output_type": "display_data"
    }
   ],
   "source": [
    "for key in site_name_dict.keys():\n",
    "    if key == 7:\n",
    "        query = 'SITE==1 or SITE==2 or SITE==3'\n",
    "    elif key == 6:\n",
    "        query = \"SITE==1 or SITE==2\"\n",
    "    else:\n",
    "        query = f'SITE=={key}'\n",
    "\n",
    "    datasets.arrow_dataset.Dataset.from_pandas(\n",
    "        df_train.query(query), preserve_index=False\n",
    "    ).save_to_disk(output_path / f\"TTS/dfcmplt_SITE{key}_Train.arrow\")\n",
    "\n",
    "    datasets.arrow_dataset.Dataset.from_pandas(\n",
    "        df_test.query(query), preserve_index=False\n",
    "    ).save_to_disk(output_path / f\"TTS/dfcmplt_SITE{key}_Test.arrow\")\n",
    "\n",
    "    datasets.arrow_dataset.Dataset.from_pandas(\n",
    "        df_holdout.query(query), preserve_index=False\n",
    "    ).save_to_disk(output_path / f\"TTS/dfcmplt_SITE{key}_Holdout.arrow\")\n",
    "\n",
    "    datasets.arrow_dataset.Dataset.from_pandas(\n",
    "        df_train[lColPreLC].query(query), preserve_index=False\n",
    "    ).save_to_disk(output_path / f\"TTS/dfcmpltPreLC_SITE{key}_Train.arrow\")\n",
    "\n",
    "    datasets.arrow_dataset.Dataset.from_pandas(\n",
    "        df_test[lColPreLC].query(query), preserve_index=False\n",
    "    ).save_to_disk(output_path / f\"TTS/dfcmpltPreLC_SITE{key}_Test.arrow\")\n",
    "\n",
    "    datasets.arrow_dataset.Dataset.from_pandas(\n",
    "        df_holdout[lColPreLC].query(query), preserve_index=False\n",
    "    ).save_to_disk(output_path / f\"TTS/dfcmpltPreLC_SITE{key}_Holdout.arrow\")"
   ]
  },
  {
   "cell_type": "code",
   "execution_count": null,
   "metadata": {},
   "outputs": [],
   "source": []
  },
  {
   "cell_type": "markdown",
   "metadata": {},
   "source": [
    "# ---- BELOW ARCHIVED April 30 \n",
    "- based on changes made with filling in data with missing values and assusmptions\n",
    "- Confirmed by emails to team on april 28 and 29\n"
   ]
  },
  {
   "cell_type": "markdown",
   "metadata": {},
   "source": [
    "## Split T81"
   ]
  },
  {
   "cell_type": "code",
   "execution_count": 19,
   "metadata": {},
   "outputs": [],
   "source": [
    "# Create combined variable to stratify on both LC_STATUS and SITE\n",
    "df81[\"LC_STATUS_SITE\"] = df81[\"LC_STATUS\"] + \"_\" + df81[\"SITE\"].astype(str)\n",
    "\n",
    "df_train81, df_test81, df_holdout81 = straify_train_test_holdout(df81, 'LC_STATUS', 'LC_STATUS_SITE', test_size = 0.2, holdout_size = 0.2, random_state = 42)"
   ]
  },
  {
   "cell_type": "markdown",
   "metadata": {},
   "source": [
    "Verfiy stratification accurate"
   ]
  },
  {
   "cell_type": "code",
   "execution_count": 20,
   "metadata": {},
   "outputs": [
    {
     "data": {
      "text/html": [
       "<div>\n",
       "<style scoped>\n",
       "    .dataframe tbody tr th:only-of-type {\n",
       "        vertical-align: middle;\n",
       "    }\n",
       "\n",
       "    .dataframe tbody tr th {\n",
       "        vertical-align: top;\n",
       "    }\n",
       "\n",
       "    .dataframe thead th {\n",
       "        text-align: right;\n",
       "    }\n",
       "</style>\n",
       "<table border=\"1\" class=\"dataframe\">\n",
       "  <thead>\n",
       "    <tr style=\"text-align: right;\">\n",
       "      <th>SITE</th>\n",
       "      <th>1</th>\n",
       "      <th>2</th>\n",
       "      <th>3</th>\n",
       "      <th>4</th>\n",
       "      <th>5</th>\n",
       "    </tr>\n",
       "    <tr>\n",
       "      <th>LC_STATUS</th>\n",
       "      <th></th>\n",
       "      <th></th>\n",
       "      <th></th>\n",
       "      <th></th>\n",
       "      <th></th>\n",
       "    </tr>\n",
       "  </thead>\n",
       "  <tbody>\n",
       "    <tr>\n",
       "      <th>HC</th>\n",
       "      <td>0.133803</td>\n",
       "      <td>0.000000</td>\n",
       "      <td>0.009756</td>\n",
       "      <td>0.0125</td>\n",
       "      <td>0.068966</td>\n",
       "    </tr>\n",
       "    <tr>\n",
       "      <th>LC_NEG</th>\n",
       "      <td>0.725352</td>\n",
       "      <td>0.685355</td>\n",
       "      <td>0.209756</td>\n",
       "      <td>0.0125</td>\n",
       "      <td>0.557994</td>\n",
       "    </tr>\n",
       "    <tr>\n",
       "      <th>LC_POS</th>\n",
       "      <td>0.140845</td>\n",
       "      <td>0.314645</td>\n",
       "      <td>0.780488</td>\n",
       "      <td>0.9750</td>\n",
       "      <td>0.373041</td>\n",
       "    </tr>\n",
       "  </tbody>\n",
       "</table>\n",
       "</div>"
      ],
      "text/plain": [
       "SITE              1         2         3       4         5\n",
       "LC_STATUS                                                \n",
       "HC         0.133803  0.000000  0.009756  0.0125  0.068966\n",
       "LC_NEG     0.725352  0.685355  0.209756  0.0125  0.557994\n",
       "LC_POS     0.140845  0.314645  0.780488  0.9750  0.373041"
      ]
     },
     "execution_count": 20,
     "metadata": {},
     "output_type": "execute_result"
    }
   ],
   "source": [
    "pd.crosstab(df_train81[\"LC_STATUS\"], df_train81[\"SITE\"], normalize=\"columns\")"
   ]
  },
  {
   "cell_type": "code",
   "execution_count": 21,
   "metadata": {},
   "outputs": [
    {
     "data": {
      "text/html": [
       "<div>\n",
       "<style scoped>\n",
       "    .dataframe tbody tr th:only-of-type {\n",
       "        vertical-align: middle;\n",
       "    }\n",
       "\n",
       "    .dataframe tbody tr th {\n",
       "        vertical-align: top;\n",
       "    }\n",
       "\n",
       "    .dataframe thead th {\n",
       "        text-align: right;\n",
       "    }\n",
       "</style>\n",
       "<table border=\"1\" class=\"dataframe\">\n",
       "  <thead>\n",
       "    <tr style=\"text-align: right;\">\n",
       "      <th>SITE</th>\n",
       "      <th>1</th>\n",
       "      <th>2</th>\n",
       "      <th>3</th>\n",
       "      <th>4</th>\n",
       "      <th>5</th>\n",
       "    </tr>\n",
       "    <tr>\n",
       "      <th>LC_STATUS</th>\n",
       "      <th></th>\n",
       "      <th></th>\n",
       "      <th></th>\n",
       "      <th></th>\n",
       "      <th></th>\n",
       "    </tr>\n",
       "  </thead>\n",
       "  <tbody>\n",
       "    <tr>\n",
       "      <th>HC</th>\n",
       "      <td>0.145833</td>\n",
       "      <td>0.000000</td>\n",
       "      <td>0.000000</td>\n",
       "      <td>0.015038</td>\n",
       "      <td>0.074074</td>\n",
       "    </tr>\n",
       "    <tr>\n",
       "      <th>LC_NEG</th>\n",
       "      <td>0.729167</td>\n",
       "      <td>0.685567</td>\n",
       "      <td>0.208955</td>\n",
       "      <td>0.007519</td>\n",
       "      <td>0.555556</td>\n",
       "    </tr>\n",
       "    <tr>\n",
       "      <th>LC_POS</th>\n",
       "      <td>0.125000</td>\n",
       "      <td>0.314433</td>\n",
       "      <td>0.791045</td>\n",
       "      <td>0.977444</td>\n",
       "      <td>0.370370</td>\n",
       "    </tr>\n",
       "  </tbody>\n",
       "</table>\n",
       "</div>"
      ],
      "text/plain": [
       "SITE              1         2         3         4         5\n",
       "LC_STATUS                                                  \n",
       "HC         0.145833  0.000000  0.000000  0.015038  0.074074\n",
       "LC_NEG     0.729167  0.685567  0.208955  0.007519  0.555556\n",
       "LC_POS     0.125000  0.314433  0.791045  0.977444  0.370370"
      ]
     },
     "execution_count": 21,
     "metadata": {},
     "output_type": "execute_result"
    }
   ],
   "source": [
    "pd.crosstab(df_test81[\"LC_STATUS\"], df_test81[\"SITE\"], normalize=\"columns\")"
   ]
  },
  {
   "cell_type": "code",
   "execution_count": 22,
   "metadata": {},
   "outputs": [
    {
     "data": {
      "text/html": [
       "<div>\n",
       "<style scoped>\n",
       "    .dataframe tbody tr th:only-of-type {\n",
       "        vertical-align: middle;\n",
       "    }\n",
       "\n",
       "    .dataframe tbody tr th {\n",
       "        vertical-align: top;\n",
       "    }\n",
       "\n",
       "    .dataframe thead th {\n",
       "        text-align: right;\n",
       "    }\n",
       "</style>\n",
       "<table border=\"1\" class=\"dataframe\">\n",
       "  <thead>\n",
       "    <tr style=\"text-align: right;\">\n",
       "      <th>SITE</th>\n",
       "      <th>1</th>\n",
       "      <th>2</th>\n",
       "      <th>3</th>\n",
       "      <th>4</th>\n",
       "      <th>5</th>\n",
       "    </tr>\n",
       "    <tr>\n",
       "      <th>LC_STATUS</th>\n",
       "      <th></th>\n",
       "      <th></th>\n",
       "      <th></th>\n",
       "      <th></th>\n",
       "      <th></th>\n",
       "    </tr>\n",
       "  </thead>\n",
       "  <tbody>\n",
       "    <tr>\n",
       "      <th>HC</th>\n",
       "      <td>0.127660</td>\n",
       "      <td>0.000000</td>\n",
       "      <td>0.014706</td>\n",
       "      <td>0.015038</td>\n",
       "      <td>0.074074</td>\n",
       "    </tr>\n",
       "    <tr>\n",
       "      <th>LC_NEG</th>\n",
       "      <td>0.723404</td>\n",
       "      <td>0.686106</td>\n",
       "      <td>0.205882</td>\n",
       "      <td>0.007519</td>\n",
       "      <td>0.555556</td>\n",
       "    </tr>\n",
       "    <tr>\n",
       "      <th>LC_POS</th>\n",
       "      <td>0.148936</td>\n",
       "      <td>0.313894</td>\n",
       "      <td>0.779412</td>\n",
       "      <td>0.977444</td>\n",
       "      <td>0.370370</td>\n",
       "    </tr>\n",
       "  </tbody>\n",
       "</table>\n",
       "</div>"
      ],
      "text/plain": [
       "SITE              1         2         3         4         5\n",
       "LC_STATUS                                                  \n",
       "HC         0.127660  0.000000  0.014706  0.015038  0.074074\n",
       "LC_NEG     0.723404  0.686106  0.205882  0.007519  0.555556\n",
       "LC_POS     0.148936  0.313894  0.779412  0.977444  0.370370"
      ]
     },
     "execution_count": 22,
     "metadata": {},
     "output_type": "execute_result"
    }
   ],
   "source": [
    "pd.crosstab(df_holdout81[\"LC_STATUS\"], df_holdout81[\"SITE\"], normalize=\"columns\")"
   ]
  },
  {
   "cell_type": "markdown",
   "metadata": {},
   "source": [
    "## Split T85"
   ]
  },
  {
   "cell_type": "code",
   "execution_count": 23,
   "metadata": {},
   "outputs": [],
   "source": [
    "# Create combined variable to stratify on both LC_STATUS and SITE\n",
    "df85[\"LC_STATUS_SITE\"] = df85[\"LC_STATUS\"] + \"_\" + df85[\"SITE\"].astype(str)\n",
    "\n",
    "df_train85, df_test85, df_holdout85 = straify_train_test_holdout(df85, 'LC_STATUS', 'LC_STATUS_SITE', test_size = 0.2, holdout_size = 0.2, random_state = 42)"
   ]
  },
  {
   "cell_type": "markdown",
   "metadata": {},
   "source": [
    "Verfiy stratification accurate"
   ]
  },
  {
   "cell_type": "code",
   "execution_count": 24,
   "metadata": {},
   "outputs": [
    {
     "data": {
      "text/html": [
       "<div>\n",
       "<style scoped>\n",
       "    .dataframe tbody tr th:only-of-type {\n",
       "        vertical-align: middle;\n",
       "    }\n",
       "\n",
       "    .dataframe tbody tr th {\n",
       "        vertical-align: top;\n",
       "    }\n",
       "\n",
       "    .dataframe thead th {\n",
       "        text-align: right;\n",
       "    }\n",
       "</style>\n",
       "<table border=\"1\" class=\"dataframe\">\n",
       "  <thead>\n",
       "    <tr style=\"text-align: right;\">\n",
       "      <th>SITE</th>\n",
       "      <th>1</th>\n",
       "      <th>2</th>\n",
       "      <th>3</th>\n",
       "      <th>4</th>\n",
       "      <th>5</th>\n",
       "    </tr>\n",
       "    <tr>\n",
       "      <th>LC_STATUS</th>\n",
       "      <th></th>\n",
       "      <th></th>\n",
       "      <th></th>\n",
       "      <th></th>\n",
       "      <th></th>\n",
       "    </tr>\n",
       "  </thead>\n",
       "  <tbody>\n",
       "    <tr>\n",
       "      <th>HC</th>\n",
       "      <td>0.134752</td>\n",
       "      <td>0.000000</td>\n",
       "      <td>0.009756</td>\n",
       "      <td>0.0125</td>\n",
       "      <td>0.029610</td>\n",
       "    </tr>\n",
       "    <tr>\n",
       "      <th>LC_NEG</th>\n",
       "      <td>0.730496</td>\n",
       "      <td>0.685355</td>\n",
       "      <td>0.209756</td>\n",
       "      <td>0.0125</td>\n",
       "      <td>0.753701</td>\n",
       "    </tr>\n",
       "    <tr>\n",
       "      <th>LC_POS</th>\n",
       "      <td>0.134752</td>\n",
       "      <td>0.314645</td>\n",
       "      <td>0.780488</td>\n",
       "      <td>0.9750</td>\n",
       "      <td>0.216689</td>\n",
       "    </tr>\n",
       "  </tbody>\n",
       "</table>\n",
       "</div>"
      ],
      "text/plain": [
       "SITE              1         2         3       4         5\n",
       "LC_STATUS                                                \n",
       "HC         0.134752  0.000000  0.009756  0.0125  0.029610\n",
       "LC_NEG     0.730496  0.685355  0.209756  0.0125  0.753701\n",
       "LC_POS     0.134752  0.314645  0.780488  0.9750  0.216689"
      ]
     },
     "execution_count": 24,
     "metadata": {},
     "output_type": "execute_result"
    }
   ],
   "source": [
    "pd.crosstab(df_train85[\"LC_STATUS\"], df_train85[\"SITE\"], normalize=\"columns\")"
   ]
  },
  {
   "cell_type": "code",
   "execution_count": 25,
   "metadata": {},
   "outputs": [
    {
     "data": {
      "text/html": [
       "<div>\n",
       "<style scoped>\n",
       "    .dataframe tbody tr th:only-of-type {\n",
       "        vertical-align: middle;\n",
       "    }\n",
       "\n",
       "    .dataframe tbody tr th {\n",
       "        vertical-align: top;\n",
       "    }\n",
       "\n",
       "    .dataframe thead th {\n",
       "        text-align: right;\n",
       "    }\n",
       "</style>\n",
       "<table border=\"1\" class=\"dataframe\">\n",
       "  <thead>\n",
       "    <tr style=\"text-align: right;\">\n",
       "      <th>SITE</th>\n",
       "      <th>1</th>\n",
       "      <th>2</th>\n",
       "      <th>3</th>\n",
       "      <th>4</th>\n",
       "      <th>5</th>\n",
       "    </tr>\n",
       "    <tr>\n",
       "      <th>LC_STATUS</th>\n",
       "      <th></th>\n",
       "      <th></th>\n",
       "      <th></th>\n",
       "      <th></th>\n",
       "      <th></th>\n",
       "    </tr>\n",
       "  </thead>\n",
       "  <tbody>\n",
       "    <tr>\n",
       "      <th>HC</th>\n",
       "      <td>0.142857</td>\n",
       "      <td>0.000000</td>\n",
       "      <td>0.000000</td>\n",
       "      <td>0.015038</td>\n",
       "      <td>0.032258</td>\n",
       "    </tr>\n",
       "    <tr>\n",
       "      <th>LC_NEG</th>\n",
       "      <td>0.714286</td>\n",
       "      <td>0.685567</td>\n",
       "      <td>0.208955</td>\n",
       "      <td>0.007519</td>\n",
       "      <td>0.754032</td>\n",
       "    </tr>\n",
       "    <tr>\n",
       "      <th>LC_POS</th>\n",
       "      <td>0.142857</td>\n",
       "      <td>0.314433</td>\n",
       "      <td>0.791045</td>\n",
       "      <td>0.977444</td>\n",
       "      <td>0.213710</td>\n",
       "    </tr>\n",
       "  </tbody>\n",
       "</table>\n",
       "</div>"
      ],
      "text/plain": [
       "SITE              1         2         3         4         5\n",
       "LC_STATUS                                                  \n",
       "HC         0.142857  0.000000  0.000000  0.015038  0.032258\n",
       "LC_NEG     0.714286  0.685567  0.208955  0.007519  0.754032\n",
       "LC_POS     0.142857  0.314433  0.791045  0.977444  0.213710"
      ]
     },
     "execution_count": 25,
     "metadata": {},
     "output_type": "execute_result"
    }
   ],
   "source": [
    "pd.crosstab(df_test85[\"LC_STATUS\"], df_test85[\"SITE\"], normalize=\"columns\")"
   ]
  },
  {
   "cell_type": "code",
   "execution_count": 26,
   "metadata": {},
   "outputs": [
    {
     "data": {
      "text/html": [
       "<div>\n",
       "<style scoped>\n",
       "    .dataframe tbody tr th:only-of-type {\n",
       "        vertical-align: middle;\n",
       "    }\n",
       "\n",
       "    .dataframe tbody tr th {\n",
       "        vertical-align: top;\n",
       "    }\n",
       "\n",
       "    .dataframe thead th {\n",
       "        text-align: right;\n",
       "    }\n",
       "</style>\n",
       "<table border=\"1\" class=\"dataframe\">\n",
       "  <thead>\n",
       "    <tr style=\"text-align: right;\">\n",
       "      <th>SITE</th>\n",
       "      <th>1</th>\n",
       "      <th>2</th>\n",
       "      <th>3</th>\n",
       "      <th>4</th>\n",
       "      <th>5</th>\n",
       "    </tr>\n",
       "    <tr>\n",
       "      <th>LC_STATUS</th>\n",
       "      <th></th>\n",
       "      <th></th>\n",
       "      <th></th>\n",
       "      <th></th>\n",
       "      <th></th>\n",
       "    </tr>\n",
       "  </thead>\n",
       "  <tbody>\n",
       "    <tr>\n",
       "      <th>HC</th>\n",
       "      <td>0.127660</td>\n",
       "      <td>0.000000</td>\n",
       "      <td>0.014706</td>\n",
       "      <td>0.015038</td>\n",
       "      <td>0.032129</td>\n",
       "    </tr>\n",
       "    <tr>\n",
       "      <th>LC_NEG</th>\n",
       "      <td>0.723404</td>\n",
       "      <td>0.686106</td>\n",
       "      <td>0.205882</td>\n",
       "      <td>0.007519</td>\n",
       "      <td>0.751004</td>\n",
       "    </tr>\n",
       "    <tr>\n",
       "      <th>LC_POS</th>\n",
       "      <td>0.148936</td>\n",
       "      <td>0.313894</td>\n",
       "      <td>0.779412</td>\n",
       "      <td>0.977444</td>\n",
       "      <td>0.216867</td>\n",
       "    </tr>\n",
       "  </tbody>\n",
       "</table>\n",
       "</div>"
      ],
      "text/plain": [
       "SITE              1         2         3         4         5\n",
       "LC_STATUS                                                  \n",
       "HC         0.127660  0.000000  0.014706  0.015038  0.032129\n",
       "LC_NEG     0.723404  0.686106  0.205882  0.007519  0.751004\n",
       "LC_POS     0.148936  0.313894  0.779412  0.977444  0.216867"
      ]
     },
     "execution_count": 26,
     "metadata": {},
     "output_type": "execute_result"
    }
   ],
   "source": [
    "pd.crosstab(df_holdout85[\"LC_STATUS\"], df_holdout85[\"SITE\"], normalize=\"columns\")"
   ]
  },
  {
   "cell_type": "markdown",
   "metadata": {},
   "source": [
    "## Split DT"
   ]
  },
  {
   "cell_type": "code",
   "execution_count": 29,
   "metadata": {},
   "outputs": [],
   "source": [
    "# Create combined variable to stratify on both LC_STATUS and SITE\n",
    "dfDT[\"LC_STATUS_SITE\"] = dfDT[\"LC_STATUS\"] + \"_\" + dfDT[\"SITE\"].astype(str)\n",
    "\n",
    "df_trainDT, df_testDT, df_holdoutDT = straify_train_test_holdout(dfDT, 'LC_STATUS', 'LC_STATUS_SITE', test_size = 0.2, holdout_size = 0.2, random_state = 42)"
   ]
  },
  {
   "cell_type": "markdown",
   "metadata": {},
   "source": [
    "Verfiy stratification accurate"
   ]
  },
  {
   "cell_type": "code",
   "execution_count": null,
   "metadata": {},
   "outputs": [
    {
     "data": {
      "text/html": [
       "<div>\n",
       "<style scoped>\n",
       "    .dataframe tbody tr th:only-of-type {\n",
       "        vertical-align: middle;\n",
       "    }\n",
       "\n",
       "    .dataframe tbody tr th {\n",
       "        vertical-align: top;\n",
       "    }\n",
       "\n",
       "    .dataframe thead th {\n",
       "        text-align: right;\n",
       "    }\n",
       "</style>\n",
       "<table border=\"1\" class=\"dataframe\">\n",
       "  <thead>\n",
       "    <tr style=\"text-align: right;\">\n",
       "      <th>SITE</th>\n",
       "      <th>1</th>\n",
       "      <th>2</th>\n",
       "      <th>3</th>\n",
       "      <th>4</th>\n",
       "      <th>5</th>\n",
       "    </tr>\n",
       "    <tr>\n",
       "      <th>LC_STATUS</th>\n",
       "      <th></th>\n",
       "      <th></th>\n",
       "      <th></th>\n",
       "      <th></th>\n",
       "      <th></th>\n",
       "    </tr>\n",
       "  </thead>\n",
       "  <tbody>\n",
       "    <tr>\n",
       "      <th>HC</th>\n",
       "      <td>0.134752</td>\n",
       "      <td>0.000000</td>\n",
       "      <td>0.009756</td>\n",
       "      <td>0.0125</td>\n",
       "      <td>0.029610</td>\n",
       "    </tr>\n",
       "    <tr>\n",
       "      <th>LC_NEG</th>\n",
       "      <td>0.730496</td>\n",
       "      <td>0.685355</td>\n",
       "      <td>0.209756</td>\n",
       "      <td>0.0125</td>\n",
       "      <td>0.753701</td>\n",
       "    </tr>\n",
       "    <tr>\n",
       "      <th>LC_POS</th>\n",
       "      <td>0.134752</td>\n",
       "      <td>0.314645</td>\n",
       "      <td>0.780488</td>\n",
       "      <td>0.9750</td>\n",
       "      <td>0.216689</td>\n",
       "    </tr>\n",
       "  </tbody>\n",
       "</table>\n",
       "</div>"
      ],
      "text/plain": [
       "SITE              1         2         3       4         5\n",
       "LC_STATUS                                                \n",
       "HC         0.134752  0.000000  0.009756  0.0125  0.029610\n",
       "LC_NEG     0.730496  0.685355  0.209756  0.0125  0.753701\n",
       "LC_POS     0.134752  0.314645  0.780488  0.9750  0.216689"
      ]
     },
     "metadata": {},
     "output_type": "display_data"
    }
   ],
   "source": [
    "pd.crosstab(df_trainDT[\"LC_STATUS\"], df_trainDT[\"SITE\"], normalize=\"columns\")"
   ]
  },
  {
   "cell_type": "code",
   "execution_count": 30,
   "metadata": {},
   "outputs": [
    {
     "data": {
      "text/html": [
       "<div>\n",
       "<style scoped>\n",
       "    .dataframe tbody tr th:only-of-type {\n",
       "        vertical-align: middle;\n",
       "    }\n",
       "\n",
       "    .dataframe tbody tr th {\n",
       "        vertical-align: top;\n",
       "    }\n",
       "\n",
       "    .dataframe thead th {\n",
       "        text-align: right;\n",
       "    }\n",
       "</style>\n",
       "<table border=\"1\" class=\"dataframe\">\n",
       "  <thead>\n",
       "    <tr style=\"text-align: right;\">\n",
       "      <th>SITE</th>\n",
       "      <th>1</th>\n",
       "      <th>2</th>\n",
       "      <th>3</th>\n",
       "      <th>4</th>\n",
       "      <th>5</th>\n",
       "    </tr>\n",
       "    <tr>\n",
       "      <th>LC_STATUS</th>\n",
       "      <th></th>\n",
       "      <th></th>\n",
       "      <th></th>\n",
       "      <th></th>\n",
       "      <th></th>\n",
       "    </tr>\n",
       "  </thead>\n",
       "  <tbody>\n",
       "    <tr>\n",
       "      <th>HC</th>\n",
       "      <td>0.176471</td>\n",
       "      <td>0.000000</td>\n",
       "      <td>0.00000</td>\n",
       "      <td>0.014925</td>\n",
       "      <td>0.875</td>\n",
       "    </tr>\n",
       "    <tr>\n",
       "      <th>LC_NEG</th>\n",
       "      <td>0.470588</td>\n",
       "      <td>0.683478</td>\n",
       "      <td>0.19697</td>\n",
       "      <td>0.014925</td>\n",
       "      <td>0.125</td>\n",
       "    </tr>\n",
       "    <tr>\n",
       "      <th>LC_POS</th>\n",
       "      <td>0.352941</td>\n",
       "      <td>0.316522</td>\n",
       "      <td>0.80303</td>\n",
       "      <td>0.970149</td>\n",
       "      <td>0.000</td>\n",
       "    </tr>\n",
       "  </tbody>\n",
       "</table>\n",
       "</div>"
      ],
      "text/plain": [
       "SITE              1         2        3         4      5\n",
       "LC_STATUS                                              \n",
       "HC         0.176471  0.000000  0.00000  0.014925  0.875\n",
       "LC_NEG     0.470588  0.683478  0.19697  0.014925  0.125\n",
       "LC_POS     0.352941  0.316522  0.80303  0.970149  0.000"
      ]
     },
     "execution_count": 30,
     "metadata": {},
     "output_type": "execute_result"
    }
   ],
   "source": [
    "pd.crosstab(df_testDT[\"LC_STATUS\"], df_testDT[\"SITE\"], normalize=\"columns\")"
   ]
  },
  {
   "cell_type": "code",
   "execution_count": 31,
   "metadata": {},
   "outputs": [
    {
     "data": {
      "text/html": [
       "<div>\n",
       "<style scoped>\n",
       "    .dataframe tbody tr th:only-of-type {\n",
       "        vertical-align: middle;\n",
       "    }\n",
       "\n",
       "    .dataframe tbody tr th {\n",
       "        vertical-align: top;\n",
       "    }\n",
       "\n",
       "    .dataframe thead th {\n",
       "        text-align: right;\n",
       "    }\n",
       "</style>\n",
       "<table border=\"1\" class=\"dataframe\">\n",
       "  <thead>\n",
       "    <tr style=\"text-align: right;\">\n",
       "      <th>SITE</th>\n",
       "      <th>1</th>\n",
       "      <th>2</th>\n",
       "      <th>3</th>\n",
       "      <th>4</th>\n",
       "      <th>5</th>\n",
       "    </tr>\n",
       "    <tr>\n",
       "      <th>LC_STATUS</th>\n",
       "      <th></th>\n",
       "      <th></th>\n",
       "      <th></th>\n",
       "      <th></th>\n",
       "      <th></th>\n",
       "    </tr>\n",
       "  </thead>\n",
       "  <tbody>\n",
       "    <tr>\n",
       "      <th>HC</th>\n",
       "      <td>0.176471</td>\n",
       "      <td>0.000000</td>\n",
       "      <td>0.00000</td>\n",
       "      <td>0.015038</td>\n",
       "      <td>0.8</td>\n",
       "    </tr>\n",
       "    <tr>\n",
       "      <th>LC_NEG</th>\n",
       "      <td>0.470588</td>\n",
       "      <td>0.682927</td>\n",
       "      <td>0.19697</td>\n",
       "      <td>0.007519</td>\n",
       "      <td>0.1</td>\n",
       "    </tr>\n",
       "    <tr>\n",
       "      <th>LC_POS</th>\n",
       "      <td>0.352941</td>\n",
       "      <td>0.317073</td>\n",
       "      <td>0.80303</td>\n",
       "      <td>0.977444</td>\n",
       "      <td>0.1</td>\n",
       "    </tr>\n",
       "  </tbody>\n",
       "</table>\n",
       "</div>"
      ],
      "text/plain": [
       "SITE              1         2        3         4    5\n",
       "LC_STATUS                                            \n",
       "HC         0.176471  0.000000  0.00000  0.015038  0.8\n",
       "LC_NEG     0.470588  0.682927  0.19697  0.007519  0.1\n",
       "LC_POS     0.352941  0.317073  0.80303  0.977444  0.1"
      ]
     },
     "execution_count": 31,
     "metadata": {},
     "output_type": "execute_result"
    }
   ],
   "source": [
    "pd.crosstab(df_holdoutDT[\"LC_STATUS\"], df_holdoutDT[\"SITE\"], normalize=\"columns\")"
   ]
  },
  {
   "cell_type": "markdown",
   "metadata": {},
   "source": [
    "## Export"
   ]
  },
  {
   "cell_type": "code",
   "execution_count": 33,
   "metadata": {},
   "outputs": [
    {
     "data": {
      "application/vnd.jupyter.widget-view+json": {
       "model_id": "440bf1ff96884ae9a65f763ba71078ad",
       "version_major": 2,
       "version_minor": 0
      },
      "text/plain": [
       "Saving the dataset (0/1 shards):   0%|          | 0/2814 [00:00<?, ? examples/s]"
      ]
     },
     "metadata": {},
     "output_type": "display_data"
    },
    {
     "data": {
      "application/vnd.jupyter.widget-view+json": {
       "model_id": "3aac83980baa456c92d890aad7fe9855",
       "version_major": 2,
       "version_minor": 0
      },
      "text/plain": [
       "Saving the dataset (0/1 shards):   0%|          | 0/938 [00:00<?, ? examples/s]"
      ]
     },
     "metadata": {},
     "output_type": "display_data"
    },
    {
     "data": {
      "application/vnd.jupyter.widget-view+json": {
       "model_id": "d1a65d7b12534c0d99f77bf980226976",
       "version_major": 2,
       "version_minor": 0
      },
      "text/plain": [
       "Saving the dataset (0/1 shards):   0%|          | 0/939 [00:00<?, ? examples/s]"
      ]
     },
     "metadata": {},
     "output_type": "display_data"
    }
   ],
   "source": [
    "datasets.arrow_dataset.Dataset.from_pandas(df_train81,preserve_index=False).save_to_disk(\n",
    "    \"../Data/DataV2/TTS/T81_Train.arrow\"\n",
    ")\n",
    "datasets.arrow_dataset.Dataset.from_pandas(df_test81,preserve_index=False).save_to_disk(\n",
    "    \"../Data/DataV2/TTS/T81_Test.arrow\"\n",
    ")\n",
    "datasets.arrow_dataset.Dataset.from_pandas(df_holdout81,preserve_index=False).save_to_disk(\n",
    "    \"../Data/DataV2/TTS/T81_Holdout.arrow\"\n",
    ")"
   ]
  },
  {
   "cell_type": "code",
   "execution_count": 34,
   "metadata": {},
   "outputs": [
    {
     "data": {
      "application/vnd.jupyter.widget-view+json": {
       "model_id": "29541f7e966f4452b73a7c4216e3c2c3",
       "version_major": 2,
       "version_minor": 0
      },
      "text/plain": [
       "Saving the dataset (0/1 shards):   0%|          | 0/3237 [00:00<?, ? examples/s]"
      ]
     },
     "metadata": {},
     "output_type": "display_data"
    },
    {
     "data": {
      "application/vnd.jupyter.widget-view+json": {
       "model_id": "4875957f11d04151bec3033c033f5ad9",
       "version_major": 2,
       "version_minor": 0
      },
      "text/plain": [
       "Saving the dataset (0/1 shards):   0%|          | 0/1079 [00:00<?, ? examples/s]"
      ]
     },
     "metadata": {},
     "output_type": "display_data"
    },
    {
     "data": {
      "application/vnd.jupyter.widget-view+json": {
       "model_id": "202dbbe8ef58410da323ea77158e1e40",
       "version_major": 2,
       "version_minor": 0
      },
      "text/plain": [
       "Saving the dataset (0/1 shards):   0%|          | 0/1080 [00:00<?, ? examples/s]"
      ]
     },
     "metadata": {},
     "output_type": "display_data"
    }
   ],
   "source": [
    "datasets.arrow_dataset.Dataset.from_pandas(\n",
    "    df_train85, preserve_index=False\n",
    ").save_to_disk(\"../Data/DataV2/TTS/T85_Train.arrow\")\n",
    "datasets.arrow_dataset.Dataset.from_pandas(\n",
    "    df_test85, preserve_index=False\n",
    ").save_to_disk(\"../Data/DataV2/TTS/T85_Test.arrow\")\n",
    "datasets.arrow_dataset.Dataset.from_pandas(\n",
    "    df_holdout85, preserve_index=False\n",
    ").save_to_disk(\"../Data/DataV2/TTS/T85_Holdout.arrow\")"
   ]
  },
  {
   "cell_type": "code",
   "execution_count": 35,
   "metadata": {},
   "outputs": [
    {
     "data": {
      "application/vnd.jupyter.widget-view+json": {
       "model_id": "890093aed46c4bb5a7c0d379919d1e9f",
       "version_major": 2,
       "version_minor": 0
      },
      "text/plain": [
       "Saving the dataset (0/1 shards):   0%|          | 0/2400 [00:00<?, ? examples/s]"
      ]
     },
     "metadata": {},
     "output_type": "display_data"
    },
    {
     "data": {
      "application/vnd.jupyter.widget-view+json": {
       "model_id": "2097eb9f74fa483b9588b77cf7a41a49",
       "version_major": 2,
       "version_minor": 0
      },
      "text/plain": [
       "Saving the dataset (0/1 shards):   0%|          | 0/800 [00:00<?, ? examples/s]"
      ]
     },
     "metadata": {},
     "output_type": "display_data"
    },
    {
     "data": {
      "application/vnd.jupyter.widget-view+json": {
       "model_id": "e9a79adc6d8e45888dbaf8fa75c1db60",
       "version_major": 2,
       "version_minor": 0
      },
      "text/plain": [
       "Saving the dataset (0/1 shards):   0%|          | 0/800 [00:00<?, ? examples/s]"
      ]
     },
     "metadata": {},
     "output_type": "display_data"
    }
   ],
   "source": [
    "datasets.arrow_dataset.Dataset.from_pandas(\n",
    "    df_trainDT, preserve_index=False\n",
    ").save_to_disk(\"../Data/DataV2/TTS/DT_Train.arrow\")\n",
    "datasets.arrow_dataset.Dataset.from_pandas(\n",
    "    df_testDT, preserve_index=False\n",
    ").save_to_disk(\"../Data/DataV2/TTS/DT_Test.arrow\")\n",
    "datasets.arrow_dataset.Dataset.from_pandas(\n",
    "    df_holdoutDT, preserve_index=False\n",
    ").save_to_disk(\"../Data/DataV2/TTS/DT_Holdout.arrow\")"
   ]
  }
 ],
 "metadata": {
  "kernelspec": {
   "display_name": "lm2",
   "language": "python",
   "name": "python3"
  },
  "language_info": {
   "codemirror_mode": {
    "name": "ipython",
    "version": 3
   },
   "file_extension": ".py",
   "mimetype": "text/x-python",
   "name": "python",
   "nbconvert_exporter": "python",
   "pygments_lexer": "ipython3",
   "version": "3.11.8"
  }
 },
 "nbformat": 4,
 "nbformat_minor": 2
}
