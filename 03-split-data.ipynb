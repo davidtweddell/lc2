{
 "cells": [
  {
   "cell_type": "code",
   "execution_count": 1,
   "metadata": {},
   "outputs": [],
   "source": [
    "# reload magics\n",
    "%load_ext autoreload\n",
    "%autoreload 2\n",
    "\n",
    "import pandas as pd\n",
    "import numpy as np\n",
    "import matplotlib.pyplot as plt\n",
    "import seaborn as sns\n",
    "import datasets\n",
    "from project_modules.io import load_dataset_to_df\n",
    "\n",
    "from sklearn.model_selection import train_test_split\n",
    "from copy import deepcopy\n",
    "\n",
    "\n",
    "# from project_modules.utils import get_logger\n",
    "\n",
    "# logger = get_logger(\"log-data-combine-split.log\")\n",
    "# # read the parameter file\n",
    "\n",
    "# from project_modules.utils import read_parameters\n",
    "# parms = read_parameters(\"/Users/david/projects/lc-project-data/project.yaml\")"
   ]
  },
  {
   "cell_type": "code",
   "execution_count": 2,
   "metadata": {},
   "outputs": [],
   "source": [
    "from pathlib import Path\n",
    "\n",
    "# input_path = Path(\"../lc-project-data\")\n",
    "# output_path = Path(\"../lc-project-data\")\n",
    "\n",
    "# for MP,\n",
    "# input_path = Path(\"../Data/DataV3\")\n",
    "# output_path = Path(\"../Data/DataV3\")\n",
    "\n",
    "input_path = Path(\"../Data/DataV4\")\n",
    "output_path = Path(\"../Data/DataV4\")"
   ]
  },
  {
   "cell_type": "code",
   "execution_count": 3,
   "metadata": {},
   "outputs": [],
   "source": [
    "site_name_dict = {1: \"LDN\", 2: \"MTL\", 3: \"SAN\", 4: \"RIO\", 5: \"LUS\", 6: \"CA\", 7: \"NA\"}\n",
    "status_name_dict = {\n",
    "    0:'HC',\n",
    "    1:'LC_NEG',\n",
    "    2:'LC_POS'\n",
    "}"
   ]
  },
  {
   "cell_type": "code",
   "execution_count": 4,
   "metadata": {},
   "outputs": [],
   "source": [
    "# df81 = load_dataset_to_df('../Data/DataV2/featuresThresAll81.arrow', verbose = True)\n",
    "# df85 = load_dataset_to_df('../Data/DataV2/featuresThresAll85.arrow', verbose = True)\n",
    "# dfDT = load_dataset_to_df(\"../Data/DataV2/featuresDT.arrow\", verbose=True)\n",
    "\n",
    "# df = load_dataset_to_df(input_path/\"2024-04-30-features-cmplt.arrow\", verbose=True)# Prior Oct 8 2024 Bc of vax fillin removal\n",
    "\n",
    "ds = datasets.load_from_disk('../Data/DataV4/2024-10-09-features-cmplt.arrow') # After Oct 8 2024 Bc of vax fillin removal\n",
    "df = datasets.arrow_dataset.Dataset.to_pandas(ds)"
   ]
  },
  {
   "cell_type": "code",
   "execution_count": 5,
   "metadata": {},
   "outputs": [],
   "source": [
    "import json\n",
    "\n",
    "with open('JSON/dict-preLongCovid.json', 'r') as file:\n",
    "    lColPreLC = json.load(file)"
   ]
  },
  {
   "cell_type": "code",
   "execution_count": 6,
   "metadata": {},
   "outputs": [],
   "source": [
    "lColPreLC2 = deepcopy(lColPreLC)"
   ]
  },
  {
   "cell_type": "code",
   "execution_count": 7,
   "metadata": {},
   "outputs": [],
   "source": [
    "lColPreLC2.remove('CD-mode_of_diag')"
   ]
  },
  {
   "cell_type": "markdown",
   "metadata": {},
   "source": [
    "### Do train-test-holdout split here and save as a new dataset"
   ]
  },
  {
   "cell_type": "code",
   "execution_count": null,
   "metadata": {},
   "outputs": [
    {
     "name": "stdout",
     "output_type": "stream",
     "text": [
      "% of patiens from each site in cmplt\n"
     ]
    },
    {
     "data": {
      "text/html": [
       "<div>\n",
       "<style scoped>\n",
       "    .dataframe tbody tr th:only-of-type {\n",
       "        vertical-align: middle;\n",
       "    }\n",
       "\n",
       "    .dataframe tbody tr th {\n",
       "        vertical-align: top;\n",
       "    }\n",
       "\n",
       "    .dataframe thead th {\n",
       "        text-align: right;\n",
       "    }\n",
       "</style>\n",
       "<table border=\"1\" class=\"dataframe\">\n",
       "  <thead>\n",
       "    <tr style=\"text-align: right;\">\n",
       "      <th>SITE</th>\n",
       "      <th>LDN</th>\n",
       "      <th>LUS</th>\n",
       "      <th>MTL</th>\n",
       "      <th>RIO</th>\n",
       "      <th>SAN</th>\n",
       "    </tr>\n",
       "    <tr>\n",
       "      <th>LC_STATUS</th>\n",
       "      <th></th>\n",
       "      <th></th>\n",
       "      <th></th>\n",
       "      <th></th>\n",
       "      <th></th>\n",
       "    </tr>\n",
       "  </thead>\n",
       "  <tbody>\n",
       "    <tr>\n",
       "      <th>HC</th>\n",
       "      <td>0.27</td>\n",
       "      <td>0.66</td>\n",
       "      <td>0.68</td>\n",
       "      <td>0.16</td>\n",
       "      <td>0.20</td>\n",
       "    </tr>\n",
       "    <tr>\n",
       "      <th>LC_NEG</th>\n",
       "      <td>0.63</td>\n",
       "      <td>0.24</td>\n",
       "      <td>0.32</td>\n",
       "      <td>0.83</td>\n",
       "      <td>0.80</td>\n",
       "    </tr>\n",
       "    <tr>\n",
       "      <th>LC_POS</th>\n",
       "      <td>0.10</td>\n",
       "      <td>0.11</td>\n",
       "      <td>0.00</td>\n",
       "      <td>0.01</td>\n",
       "      <td>0.01</td>\n",
       "    </tr>\n",
       "  </tbody>\n",
       "</table>\n",
       "</div>"
      ],
      "text/plain": [
       "SITE        LDN   LUS   MTL   RIO   SAN\n",
       "LC_STATUS                              \n",
       "HC         0.27  0.66  0.68  0.16  0.20\n",
       "LC_NEG     0.63  0.24  0.32  0.83  0.80\n",
       "LC_POS     0.10  0.11  0.00  0.01  0.01"
      ]
     },
     "execution_count": 8,
     "metadata": {},
     "output_type": "execute_result"
    }
   ],
   "source": [
    "print('% of patiens from each site in cmplt')\n",
    "pd.crosstab(df[\"LC_STATUS\"].map(status_name_dict), df[\"SITE\"].map(site_name_dict), normalize=\"columns\").round(2)"
   ]
  },
  {
   "cell_type": "code",
   "execution_count": 9,
   "metadata": {},
   "outputs": [
    {
     "name": "stdout",
     "output_type": "stream",
     "text": [
      "# of patiens from each site in cmplt\n"
     ]
    },
    {
     "data": {
      "text/html": [
       "<div>\n",
       "<style scoped>\n",
       "    .dataframe tbody tr th:only-of-type {\n",
       "        vertical-align: middle;\n",
       "    }\n",
       "\n",
       "    .dataframe tbody tr th {\n",
       "        vertical-align: top;\n",
       "    }\n",
       "\n",
       "    .dataframe thead th {\n",
       "        text-align: right;\n",
       "    }\n",
       "</style>\n",
       "<table border=\"1\" class=\"dataframe\">\n",
       "  <thead>\n",
       "    <tr style=\"text-align: right;\">\n",
       "      <th>SITE</th>\n",
       "      <th>LDN</th>\n",
       "      <th>LUS</th>\n",
       "      <th>MTL</th>\n",
       "      <th>RIO</th>\n",
       "      <th>SAN</th>\n",
       "    </tr>\n",
       "    <tr>\n",
       "      <th>LC_STATUS</th>\n",
       "      <th></th>\n",
       "      <th></th>\n",
       "      <th></th>\n",
       "      <th></th>\n",
       "      <th></th>\n",
       "    </tr>\n",
       "  </thead>\n",
       "  <tbody>\n",
       "    <tr>\n",
       "      <th>HC</th>\n",
       "      <td>44</td>\n",
       "      <td>238</td>\n",
       "      <td>1962</td>\n",
       "      <td>128</td>\n",
       "      <td>65</td>\n",
       "    </tr>\n",
       "    <tr>\n",
       "      <th>LC_NEG</th>\n",
       "      <td>101</td>\n",
       "      <td>85</td>\n",
       "      <td>910</td>\n",
       "      <td>650</td>\n",
       "      <td>266</td>\n",
       "    </tr>\n",
       "    <tr>\n",
       "      <th>LC_POS</th>\n",
       "      <td>16</td>\n",
       "      <td>38</td>\n",
       "      <td>0</td>\n",
       "      <td>9</td>\n",
       "      <td>2</td>\n",
       "    </tr>\n",
       "  </tbody>\n",
       "</table>\n",
       "</div>"
      ],
      "text/plain": [
       "SITE       LDN  LUS   MTL  RIO  SAN\n",
       "LC_STATUS                          \n",
       "HC          44  238  1962  128   65\n",
       "LC_NEG     101   85   910  650  266\n",
       "LC_POS      16   38     0    9    2"
      ]
     },
     "execution_count": 9,
     "metadata": {},
     "output_type": "execute_result"
    }
   ],
   "source": [
    "print(\"# of patiens from each site in cmplt\")\n",
    "\n",
    "pd.crosstab(df[\"LC_STATUS\"].map(status_name_dict), df[\"SITE\"].map(site_name_dict))"
   ]
  },
  {
   "cell_type": "code",
   "execution_count": 10,
   "metadata": {},
   "outputs": [],
   "source": [
    "def straify_train_test_holdout(df, labelVar, stratifyCol, test_size = 0.2, holdout_size = 0.2, random_state = 42 ):\n",
    "    from sklearn.model_selection import train_test_split\n",
    "    df_train, df_holdout = train_test_split(df, test_size = holdout_size, random_state = random_state, stratify = df['LC_STATUS'])\n",
    "    # Split the data into training and holdout sets\n",
    "    df_train, df_holdout = train_test_split(\n",
    "        df,\n",
    "        test_size=holdout_size,\n",
    "        stratify=df[stratifyCol],\n",
    "        random_state=42,\n",
    "    )\n",
    "\n",
    "    df_train, df_test = train_test_split(\n",
    "        df_train,\n",
    "        test_size=test_size / (1 - holdout_size),\n",
    "        random_state=random_state,\n",
    "        stratify=df_train[stratifyCol],\n",
    "    )\n",
    "    return df_train, df_test, df_holdout"
   ]
  },
  {
   "cell_type": "code",
   "execution_count": 11,
   "metadata": {},
   "outputs": [],
   "source": [
    "# Create combined variable to stratify on both LC_STATUS and SITE\n",
    "df[\"LC_STATUS_SITE\"] = df[\"LC_STATUS\"].astype(str) + \"_\" + df[\"SITE\"].astype(str)\n",
    "\n",
    "df_train, df_test, df_holdout = straify_train_test_holdout(\n",
    "    df,\n",
    "    \"LC_STATUS\",\n",
    "    \"LC_STATUS_SITE\",\n",
    "    test_size=0.2,\n",
    "    holdout_size=0.2,\n",
    "    random_state=42,\n",
    ")"
   ]
  },
  {
   "cell_type": "markdown",
   "metadata": {},
   "source": [
    "Verfiy stratification accurate"
   ]
  },
  {
   "cell_type": "code",
   "execution_count": 12,
   "metadata": {},
   "outputs": [
    {
     "data": {
      "text/html": [
       "<div>\n",
       "<style scoped>\n",
       "    .dataframe tbody tr th:only-of-type {\n",
       "        vertical-align: middle;\n",
       "    }\n",
       "\n",
       "    .dataframe tbody tr th {\n",
       "        vertical-align: top;\n",
       "    }\n",
       "\n",
       "    .dataframe thead th {\n",
       "        text-align: right;\n",
       "    }\n",
       "</style>\n",
       "<table border=\"1\" class=\"dataframe\">\n",
       "  <thead>\n",
       "    <tr style=\"text-align: right;\">\n",
       "      <th>SITE</th>\n",
       "      <th>1</th>\n",
       "      <th>2</th>\n",
       "      <th>3</th>\n",
       "      <th>4</th>\n",
       "      <th>5</th>\n",
       "    </tr>\n",
       "    <tr>\n",
       "      <th>LC_STATUS</th>\n",
       "      <th></th>\n",
       "      <th></th>\n",
       "      <th></th>\n",
       "      <th></th>\n",
       "      <th></th>\n",
       "    </tr>\n",
       "  </thead>\n",
       "  <tbody>\n",
       "    <tr>\n",
       "      <th>0</th>\n",
       "      <td>0.268041</td>\n",
       "      <td>0.683111</td>\n",
       "      <td>0.19403</td>\n",
       "      <td>0.161359</td>\n",
       "      <td>0.657407</td>\n",
       "    </tr>\n",
       "    <tr>\n",
       "      <th>1</th>\n",
       "      <td>0.628866</td>\n",
       "      <td>0.316889</td>\n",
       "      <td>0.79602</td>\n",
       "      <td>0.828025</td>\n",
       "      <td>0.236111</td>\n",
       "    </tr>\n",
       "    <tr>\n",
       "      <th>2</th>\n",
       "      <td>0.103093</td>\n",
       "      <td>0.000000</td>\n",
       "      <td>0.00995</td>\n",
       "      <td>0.010616</td>\n",
       "      <td>0.106481</td>\n",
       "    </tr>\n",
       "  </tbody>\n",
       "</table>\n",
       "</div>"
      ],
      "text/plain": [
       "SITE              1         2        3         4         5\n",
       "LC_STATUS                                                 \n",
       "0          0.268041  0.683111  0.19403  0.161359  0.657407\n",
       "1          0.628866  0.316889  0.79602  0.828025  0.236111\n",
       "2          0.103093  0.000000  0.00995  0.010616  0.106481"
      ]
     },
     "execution_count": 12,
     "metadata": {},
     "output_type": "execute_result"
    }
   ],
   "source": [
    "pd.crosstab(df_train[\"LC_STATUS\"], df_train[\"SITE\"], normalize=\"columns\")"
   ]
  },
  {
   "cell_type": "code",
   "execution_count": 13,
   "metadata": {},
   "outputs": [
    {
     "data": {
      "text/html": [
       "<div>\n",
       "<style scoped>\n",
       "    .dataframe tbody tr th:only-of-type {\n",
       "        vertical-align: middle;\n",
       "    }\n",
       "\n",
       "    .dataframe tbody tr th {\n",
       "        vertical-align: top;\n",
       "    }\n",
       "\n",
       "    .dataframe thead th {\n",
       "        text-align: right;\n",
       "    }\n",
       "</style>\n",
       "<table border=\"1\" class=\"dataframe\">\n",
       "  <thead>\n",
       "    <tr style=\"text-align: right;\">\n",
       "      <th>SITE</th>\n",
       "      <th>1</th>\n",
       "      <th>2</th>\n",
       "      <th>3</th>\n",
       "      <th>4</th>\n",
       "      <th>5</th>\n",
       "    </tr>\n",
       "    <tr>\n",
       "      <th>LC_STATUS</th>\n",
       "      <th></th>\n",
       "      <th></th>\n",
       "      <th></th>\n",
       "      <th></th>\n",
       "      <th></th>\n",
       "    </tr>\n",
       "  </thead>\n",
       "  <tbody>\n",
       "    <tr>\n",
       "      <th>0</th>\n",
       "      <td>0.28125</td>\n",
       "      <td>0.683478</td>\n",
       "      <td>0.19697</td>\n",
       "      <td>0.164557</td>\n",
       "      <td>0.666667</td>\n",
       "    </tr>\n",
       "    <tr>\n",
       "      <th>1</th>\n",
       "      <td>0.62500</td>\n",
       "      <td>0.316522</td>\n",
       "      <td>0.80303</td>\n",
       "      <td>0.822785</td>\n",
       "      <td>0.236111</td>\n",
       "    </tr>\n",
       "    <tr>\n",
       "      <th>2</th>\n",
       "      <td>0.09375</td>\n",
       "      <td>0.000000</td>\n",
       "      <td>0.00000</td>\n",
       "      <td>0.012658</td>\n",
       "      <td>0.097222</td>\n",
       "    </tr>\n",
       "  </tbody>\n",
       "</table>\n",
       "</div>"
      ],
      "text/plain": [
       "SITE             1         2        3         4         5\n",
       "LC_STATUS                                                \n",
       "0          0.28125  0.683478  0.19697  0.164557  0.666667\n",
       "1          0.62500  0.316522  0.80303  0.822785  0.236111\n",
       "2          0.09375  0.000000  0.00000  0.012658  0.097222"
      ]
     },
     "execution_count": 13,
     "metadata": {},
     "output_type": "execute_result"
    }
   ],
   "source": [
    "pd.crosstab(df_test[\"LC_STATUS\"], df_test[\"SITE\"], normalize=\"columns\")"
   ]
  },
  {
   "cell_type": "code",
   "execution_count": null,
   "metadata": {},
   "outputs": [
    {
     "data": {
      "text/html": [
       "<div>\n",
       "<style scoped>\n",
       "    .dataframe tbody tr th:only-of-type {\n",
       "        vertical-align: middle;\n",
       "    }\n",
       "\n",
       "    .dataframe tbody tr th {\n",
       "        vertical-align: top;\n",
       "    }\n",
       "\n",
       "    .dataframe thead th {\n",
       "        text-align: right;\n",
       "    }\n",
       "</style>\n",
       "<table border=\"1\" class=\"dataframe\">\n",
       "  <thead>\n",
       "    <tr style=\"text-align: right;\">\n",
       "      <th>SITE</th>\n",
       "      <th>1</th>\n",
       "      <th>2</th>\n",
       "      <th>3</th>\n",
       "      <th>4</th>\n",
       "      <th>5</th>\n",
       "    </tr>\n",
       "    <tr>\n",
       "      <th>LC_STATUS</th>\n",
       "      <th></th>\n",
       "      <th></th>\n",
       "      <th></th>\n",
       "      <th></th>\n",
       "      <th></th>\n",
       "    </tr>\n",
       "  </thead>\n",
       "  <tbody>\n",
       "    <tr>\n",
       "      <th>0</th>\n",
       "      <td>0.28125</td>\n",
       "      <td>0.682927</td>\n",
       "      <td>0.19697</td>\n",
       "      <td>0.164557</td>\n",
       "      <td>0.657534</td>\n",
       "    </tr>\n",
       "    <tr>\n",
       "      <th>1</th>\n",
       "      <td>0.62500</td>\n",
       "      <td>0.317073</td>\n",
       "      <td>0.80303</td>\n",
       "      <td>0.822785</td>\n",
       "      <td>0.232877</td>\n",
       "    </tr>\n",
       "    <tr>\n",
       "      <th>2</th>\n",
       "      <td>0.09375</td>\n",
       "      <td>0.000000</td>\n",
       "      <td>0.00000</td>\n",
       "      <td>0.012658</td>\n",
       "      <td>0.109589</td>\n",
       "    </tr>\n",
       "  </tbody>\n",
       "</table>\n",
       "</div>"
      ],
      "text/plain": [
       "SITE             1         2        3         4         5\n",
       "LC_STATUS                                                \n",
       "0          0.28125  0.682927  0.19697  0.164557  0.657534\n",
       "1          0.62500  0.317073  0.80303  0.822785  0.232877\n",
       "2          0.09375  0.000000  0.00000  0.012658  0.109589"
      ]
     },
     "execution_count": 14,
     "metadata": {},
     "output_type": "execute_result"
    }
   ],
   "source": [
    "pd.crosstab(df_holdout[\"LC_STATUS\"], df_holdout[\"SITE\"], normalize=\"columns\")"
   ]
  },
  {
   "cell_type": "code",
   "execution_count": 15,
   "metadata": {},
   "outputs": [
    {
     "data": {
      "text/html": [
       "<div>\n",
       "<style scoped>\n",
       "    .dataframe tbody tr th:only-of-type {\n",
       "        vertical-align: middle;\n",
       "    }\n",
       "\n",
       "    .dataframe tbody tr th {\n",
       "        vertical-align: top;\n",
       "    }\n",
       "\n",
       "    .dataframe thead th {\n",
       "        text-align: right;\n",
       "    }\n",
       "</style>\n",
       "<table border=\"1\" class=\"dataframe\">\n",
       "  <thead>\n",
       "    <tr style=\"text-align: right;\">\n",
       "      <th></th>\n",
       "      <th>__index_level_0__</th>\n",
       "      <th>SITE</th>\n",
       "      <th>LC_STATUS</th>\n",
       "      <th>sex</th>\n",
       "      <th>age</th>\n",
       "      <th>MED-Analgesics</th>\n",
       "      <th>MED-Anesthetics</th>\n",
       "      <th>MED-Antibacterials</th>\n",
       "      <th>MED-Anticonvulsants</th>\n",
       "      <th>MED-Antidepressants</th>\n",
       "      <th>...</th>\n",
       "      <th>LABS-IND-sodium</th>\n",
       "      <th>LABS-IND-triglycerides</th>\n",
       "      <th>LABS-IND-urea</th>\n",
       "      <th>LABS-IND-wbc</th>\n",
       "      <th>SUBST-1</th>\n",
       "      <th>SUBST-2</th>\n",
       "      <th>SUBST-3</th>\n",
       "      <th>SUBST-4</th>\n",
       "      <th>SUBST-5</th>\n",
       "      <th>LC_STATUS_SITE</th>\n",
       "    </tr>\n",
       "  </thead>\n",
       "  <tbody>\n",
       "    <tr>\n",
       "      <th>0</th>\n",
       "      <td>0</td>\n",
       "      <td>2</td>\n",
       "      <td>1</td>\n",
       "      <td>2.0</td>\n",
       "      <td>30.0</td>\n",
       "      <td>0</td>\n",
       "      <td>0</td>\n",
       "      <td>0</td>\n",
       "      <td>0</td>\n",
       "      <td>0</td>\n",
       "      <td>...</td>\n",
       "      <td>0.0</td>\n",
       "      <td>0.0</td>\n",
       "      <td>0.0</td>\n",
       "      <td>0.0</td>\n",
       "      <td>0.0</td>\n",
       "      <td>0.0</td>\n",
       "      <td>0.0</td>\n",
       "      <td>0.0</td>\n",
       "      <td>0.0</td>\n",
       "      <td>1_2</td>\n",
       "    </tr>\n",
       "    <tr>\n",
       "      <th>1</th>\n",
       "      <td>1</td>\n",
       "      <td>2</td>\n",
       "      <td>1</td>\n",
       "      <td>1.0</td>\n",
       "      <td>33.0</td>\n",
       "      <td>0</td>\n",
       "      <td>0</td>\n",
       "      <td>0</td>\n",
       "      <td>0</td>\n",
       "      <td>0</td>\n",
       "      <td>...</td>\n",
       "      <td>0.0</td>\n",
       "      <td>0.0</td>\n",
       "      <td>0.0</td>\n",
       "      <td>0.0</td>\n",
       "      <td>0.0</td>\n",
       "      <td>0.0</td>\n",
       "      <td>0.0</td>\n",
       "      <td>0.0</td>\n",
       "      <td>0.0</td>\n",
       "      <td>1_2</td>\n",
       "    </tr>\n",
       "    <tr>\n",
       "      <th>2</th>\n",
       "      <td>2</td>\n",
       "      <td>2</td>\n",
       "      <td>1</td>\n",
       "      <td>2.0</td>\n",
       "      <td>36.0</td>\n",
       "      <td>0</td>\n",
       "      <td>0</td>\n",
       "      <td>0</td>\n",
       "      <td>0</td>\n",
       "      <td>0</td>\n",
       "      <td>...</td>\n",
       "      <td>0.0</td>\n",
       "      <td>0.0</td>\n",
       "      <td>0.0</td>\n",
       "      <td>0.0</td>\n",
       "      <td>0.0</td>\n",
       "      <td>0.0</td>\n",
       "      <td>0.0</td>\n",
       "      <td>0.0</td>\n",
       "      <td>0.0</td>\n",
       "      <td>1_2</td>\n",
       "    </tr>\n",
       "    <tr>\n",
       "      <th>3</th>\n",
       "      <td>3</td>\n",
       "      <td>2</td>\n",
       "      <td>1</td>\n",
       "      <td>2.0</td>\n",
       "      <td>50.0</td>\n",
       "      <td>0</td>\n",
       "      <td>0</td>\n",
       "      <td>0</td>\n",
       "      <td>0</td>\n",
       "      <td>0</td>\n",
       "      <td>...</td>\n",
       "      <td>0.0</td>\n",
       "      <td>0.0</td>\n",
       "      <td>0.0</td>\n",
       "      <td>0.0</td>\n",
       "      <td>1.0</td>\n",
       "      <td>0.0</td>\n",
       "      <td>0.0</td>\n",
       "      <td>0.0</td>\n",
       "      <td>0.0</td>\n",
       "      <td>1_2</td>\n",
       "    </tr>\n",
       "    <tr>\n",
       "      <th>4</th>\n",
       "      <td>4</td>\n",
       "      <td>2</td>\n",
       "      <td>1</td>\n",
       "      <td>1.0</td>\n",
       "      <td>40.0</td>\n",
       "      <td>0</td>\n",
       "      <td>0</td>\n",
       "      <td>0</td>\n",
       "      <td>0</td>\n",
       "      <td>0</td>\n",
       "      <td>...</td>\n",
       "      <td>0.0</td>\n",
       "      <td>0.0</td>\n",
       "      <td>0.0</td>\n",
       "      <td>0.0</td>\n",
       "      <td>0.0</td>\n",
       "      <td>0.0</td>\n",
       "      <td>0.0</td>\n",
       "      <td>0.0</td>\n",
       "      <td>0.0</td>\n",
       "      <td>1_2</td>\n",
       "    </tr>\n",
       "    <tr>\n",
       "      <th>...</th>\n",
       "      <td>...</td>\n",
       "      <td>...</td>\n",
       "      <td>...</td>\n",
       "      <td>...</td>\n",
       "      <td>...</td>\n",
       "      <td>...</td>\n",
       "      <td>...</td>\n",
       "      <td>...</td>\n",
       "      <td>...</td>\n",
       "      <td>...</td>\n",
       "      <td>...</td>\n",
       "      <td>...</td>\n",
       "      <td>...</td>\n",
       "      <td>...</td>\n",
       "      <td>...</td>\n",
       "      <td>...</td>\n",
       "      <td>...</td>\n",
       "      <td>...</td>\n",
       "      <td>...</td>\n",
       "      <td>...</td>\n",
       "      <td>...</td>\n",
       "    </tr>\n",
       "    <tr>\n",
       "      <th>4509</th>\n",
       "      <td>5659</td>\n",
       "      <td>3</td>\n",
       "      <td>1</td>\n",
       "      <td>1.0</td>\n",
       "      <td>48.0</td>\n",
       "      <td>0</td>\n",
       "      <td>0</td>\n",
       "      <td>0</td>\n",
       "      <td>0</td>\n",
       "      <td>0</td>\n",
       "      <td>...</td>\n",
       "      <td>1.0</td>\n",
       "      <td>1.0</td>\n",
       "      <td>1.0</td>\n",
       "      <td>0.0</td>\n",
       "      <td>0.0</td>\n",
       "      <td>0.0</td>\n",
       "      <td>1.0</td>\n",
       "      <td>0.0</td>\n",
       "      <td>0.0</td>\n",
       "      <td>1_3</td>\n",
       "    </tr>\n",
       "    <tr>\n",
       "      <th>4510</th>\n",
       "      <td>5660</td>\n",
       "      <td>3</td>\n",
       "      <td>1</td>\n",
       "      <td>2.0</td>\n",
       "      <td>42.0</td>\n",
       "      <td>0</td>\n",
       "      <td>0</td>\n",
       "      <td>0</td>\n",
       "      <td>0</td>\n",
       "      <td>0</td>\n",
       "      <td>...</td>\n",
       "      <td>1.0</td>\n",
       "      <td>0.0</td>\n",
       "      <td>1.0</td>\n",
       "      <td>1.0</td>\n",
       "      <td>0.0</td>\n",
       "      <td>0.0</td>\n",
       "      <td>0.0</td>\n",
       "      <td>0.0</td>\n",
       "      <td>0.0</td>\n",
       "      <td>1_3</td>\n",
       "    </tr>\n",
       "    <tr>\n",
       "      <th>4511</th>\n",
       "      <td>5661</td>\n",
       "      <td>3</td>\n",
       "      <td>1</td>\n",
       "      <td>1.0</td>\n",
       "      <td>23.0</td>\n",
       "      <td>0</td>\n",
       "      <td>0</td>\n",
       "      <td>0</td>\n",
       "      <td>0</td>\n",
       "      <td>0</td>\n",
       "      <td>...</td>\n",
       "      <td>0.0</td>\n",
       "      <td>1.0</td>\n",
       "      <td>0.0</td>\n",
       "      <td>0.0</td>\n",
       "      <td>0.0</td>\n",
       "      <td>0.0</td>\n",
       "      <td>1.0</td>\n",
       "      <td>1.0</td>\n",
       "      <td>0.0</td>\n",
       "      <td>1_3</td>\n",
       "    </tr>\n",
       "    <tr>\n",
       "      <th>4512</th>\n",
       "      <td>5662</td>\n",
       "      <td>3</td>\n",
       "      <td>1</td>\n",
       "      <td>1.0</td>\n",
       "      <td>71.0</td>\n",
       "      <td>0</td>\n",
       "      <td>0</td>\n",
       "      <td>0</td>\n",
       "      <td>0</td>\n",
       "      <td>0</td>\n",
       "      <td>...</td>\n",
       "      <td>1.0</td>\n",
       "      <td>0.0</td>\n",
       "      <td>1.0</td>\n",
       "      <td>0.0</td>\n",
       "      <td>0.0</td>\n",
       "      <td>0.0</td>\n",
       "      <td>0.0</td>\n",
       "      <td>0.0</td>\n",
       "      <td>0.0</td>\n",
       "      <td>1_3</td>\n",
       "    </tr>\n",
       "    <tr>\n",
       "      <th>4513</th>\n",
       "      <td>5663</td>\n",
       "      <td>3</td>\n",
       "      <td>1</td>\n",
       "      <td>2.0</td>\n",
       "      <td>58.0</td>\n",
       "      <td>0</td>\n",
       "      <td>0</td>\n",
       "      <td>0</td>\n",
       "      <td>0</td>\n",
       "      <td>0</td>\n",
       "      <td>...</td>\n",
       "      <td>1.0</td>\n",
       "      <td>1.0</td>\n",
       "      <td>1.0</td>\n",
       "      <td>1.0</td>\n",
       "      <td>0.0</td>\n",
       "      <td>0.0</td>\n",
       "      <td>0.0</td>\n",
       "      <td>0.0</td>\n",
       "      <td>0.0</td>\n",
       "      <td>1_3</td>\n",
       "    </tr>\n",
       "  </tbody>\n",
       "</table>\n",
       "<p>4514 rows × 438 columns</p>\n",
       "</div>"
      ],
      "text/plain": [
       "      __index_level_0__  SITE  LC_STATUS  sex   age  MED-Analgesics  \\\n",
       "0                     0     2          1  2.0  30.0               0   \n",
       "1                     1     2          1  1.0  33.0               0   \n",
       "2                     2     2          1  2.0  36.0               0   \n",
       "3                     3     2          1  2.0  50.0               0   \n",
       "4                     4     2          1  1.0  40.0               0   \n",
       "...                 ...   ...        ...  ...   ...             ...   \n",
       "4509               5659     3          1  1.0  48.0               0   \n",
       "4510               5660     3          1  2.0  42.0               0   \n",
       "4511               5661     3          1  1.0  23.0               0   \n",
       "4512               5662     3          1  1.0  71.0               0   \n",
       "4513               5663     3          1  2.0  58.0               0   \n",
       "\n",
       "      MED-Anesthetics  MED-Antibacterials  MED-Anticonvulsants  \\\n",
       "0                   0                   0                    0   \n",
       "1                   0                   0                    0   \n",
       "2                   0                   0                    0   \n",
       "3                   0                   0                    0   \n",
       "4                   0                   0                    0   \n",
       "...               ...                 ...                  ...   \n",
       "4509                0                   0                    0   \n",
       "4510                0                   0                    0   \n",
       "4511                0                   0                    0   \n",
       "4512                0                   0                    0   \n",
       "4513                0                   0                    0   \n",
       "\n",
       "      MED-Antidepressants  ...  LABS-IND-sodium  LABS-IND-triglycerides  \\\n",
       "0                       0  ...              0.0                     0.0   \n",
       "1                       0  ...              0.0                     0.0   \n",
       "2                       0  ...              0.0                     0.0   \n",
       "3                       0  ...              0.0                     0.0   \n",
       "4                       0  ...              0.0                     0.0   \n",
       "...                   ...  ...              ...                     ...   \n",
       "4509                    0  ...              1.0                     1.0   \n",
       "4510                    0  ...              1.0                     0.0   \n",
       "4511                    0  ...              0.0                     1.0   \n",
       "4512                    0  ...              1.0                     0.0   \n",
       "4513                    0  ...              1.0                     1.0   \n",
       "\n",
       "      LABS-IND-urea  LABS-IND-wbc  SUBST-1  SUBST-2  SUBST-3  SUBST-4  \\\n",
       "0               0.0           0.0      0.0      0.0      0.0      0.0   \n",
       "1               0.0           0.0      0.0      0.0      0.0      0.0   \n",
       "2               0.0           0.0      0.0      0.0      0.0      0.0   \n",
       "3               0.0           0.0      1.0      0.0      0.0      0.0   \n",
       "4               0.0           0.0      0.0      0.0      0.0      0.0   \n",
       "...             ...           ...      ...      ...      ...      ...   \n",
       "4509            1.0           0.0      0.0      0.0      1.0      0.0   \n",
       "4510            1.0           1.0      0.0      0.0      0.0      0.0   \n",
       "4511            0.0           0.0      0.0      0.0      1.0      1.0   \n",
       "4512            1.0           0.0      0.0      0.0      0.0      0.0   \n",
       "4513            1.0           1.0      0.0      0.0      0.0      0.0   \n",
       "\n",
       "      SUBST-5  LC_STATUS_SITE  \n",
       "0         0.0             1_2  \n",
       "1         0.0             1_2  \n",
       "2         0.0             1_2  \n",
       "3         0.0             1_2  \n",
       "4         0.0             1_2  \n",
       "...       ...             ...  \n",
       "4509      0.0             1_3  \n",
       "4510      0.0             1_3  \n",
       "4511      0.0             1_3  \n",
       "4512      0.0             1_3  \n",
       "4513      0.0             1_3  \n",
       "\n",
       "[4514 rows x 438 columns]"
      ]
     },
     "execution_count": 15,
     "metadata": {},
     "output_type": "execute_result"
    }
   ],
   "source": [
    "df"
   ]
  },
  {
   "cell_type": "code",
   "execution_count": 16,
   "metadata": {},
   "outputs": [
    {
     "data": {
      "application/vnd.jupyter.widget-view+json": {
       "model_id": "f123230cf15441c597aa862fc3ca1802",
       "version_major": 2,
       "version_minor": 0
      },
      "text/plain": [
       "Saving the dataset (0/1 shards):   0%|          | 0/2708 [00:00<?, ? examples/s]"
      ]
     },
     "metadata": {},
     "output_type": "display_data"
    },
    {
     "data": {
      "application/vnd.jupyter.widget-view+json": {
       "model_id": "f8f4351b6b7a47ea918275b85e9670f5",
       "version_major": 2,
       "version_minor": 0
      },
      "text/plain": [
       "Saving the dataset (0/1 shards):   0%|          | 0/903 [00:00<?, ? examples/s]"
      ]
     },
     "metadata": {},
     "output_type": "display_data"
    },
    {
     "data": {
      "application/vnd.jupyter.widget-view+json": {
       "model_id": "03e5e5569986426b819ea4103f4a614e",
       "version_major": 2,
       "version_minor": 0
      },
      "text/plain": [
       "Saving the dataset (0/1 shards):   0%|          | 0/903 [00:00<?, ? examples/s]"
      ]
     },
     "metadata": {},
     "output_type": "display_data"
    }
   ],
   "source": [
    "datasets.arrow_dataset.Dataset.from_pandas(df_train,preserve_index=False).save_to_disk(\n",
    "    output_path/\"TTS/dfcmplt_Train.arrow\"\n",
    ")\n",
    "datasets.arrow_dataset.Dataset.from_pandas(df_test, preserve_index=False).save_to_disk(\n",
    "    output_path / \"TTS/dfcmplt_Test.arrow\"\n",
    ")\n",
    "datasets.arrow_dataset.Dataset.from_pandas(\n",
    "    df_holdout, preserve_index=False\n",
    ").save_to_disk(output_path / \"TTS/dfcmplt_Holdout.arrow\")"
   ]
  },
  {
   "cell_type": "code",
   "execution_count": 17,
   "metadata": {},
   "outputs": [
    {
     "data": {
      "application/vnd.jupyter.widget-view+json": {
       "model_id": "ba43ea3c9a9b45799e8f9a5346ffe4e8",
       "version_major": 2,
       "version_minor": 0
      },
      "text/plain": [
       "Saving the dataset (0/1 shards):   0%|          | 0/2708 [00:00<?, ? examples/s]"
      ]
     },
     "metadata": {},
     "output_type": "display_data"
    },
    {
     "data": {
      "application/vnd.jupyter.widget-view+json": {
       "model_id": "573139b94c5c4546a4431df53b551b7f",
       "version_major": 2,
       "version_minor": 0
      },
      "text/plain": [
       "Saving the dataset (0/1 shards):   0%|          | 0/903 [00:00<?, ? examples/s]"
      ]
     },
     "metadata": {},
     "output_type": "display_data"
    },
    {
     "data": {
      "application/vnd.jupyter.widget-view+json": {
       "model_id": "867100d940004482b77047b5c6aa79fd",
       "version_major": 2,
       "version_minor": 0
      },
      "text/plain": [
       "Saving the dataset (0/1 shards):   0%|          | 0/903 [00:00<?, ? examples/s]"
      ]
     },
     "metadata": {},
     "output_type": "display_data"
    }
   ],
   "source": [
    "datasets.arrow_dataset.Dataset.from_pandas(df_train[lColPreLC],preserve_index=False).save_to_disk(\n",
    "    output_path/\"TTS/dfcmpltPreLC_Train.arrow\"\n",
    ")\n",
    "datasets.arrow_dataset.Dataset.from_pandas(df_test[lColPreLC], preserve_index=False).save_to_disk(\n",
    "    output_path / \"TTS/dfcmpltPreLC_Test.arrow\"\n",
    ")\n",
    "datasets.arrow_dataset.Dataset.from_pandas(\n",
    "    df_holdout[lColPreLC], preserve_index=False\n",
    ").save_to_disk(output_path / \"TTS/dfcmpltPreLC_Holdout.arrow\")"
   ]
  },
  {
   "cell_type": "code",
   "execution_count": 18,
   "metadata": {},
   "outputs": [
    {
     "data": {
      "application/vnd.jupyter.widget-view+json": {
       "model_id": "1af474c7862c4a5291ce8d8c2aebdd4d",
       "version_major": 2,
       "version_minor": 0
      },
      "text/plain": [
       "Saving the dataset (0/1 shards):   0%|          | 0/2708 [00:00<?, ? examples/s]"
      ]
     },
     "metadata": {},
     "output_type": "display_data"
    },
    {
     "data": {
      "application/vnd.jupyter.widget-view+json": {
       "model_id": "4796907abb2c46ff84e0aeb048f1248a",
       "version_major": 2,
       "version_minor": 0
      },
      "text/plain": [
       "Saving the dataset (0/1 shards):   0%|          | 0/903 [00:00<?, ? examples/s]"
      ]
     },
     "metadata": {},
     "output_type": "display_data"
    },
    {
     "data": {
      "application/vnd.jupyter.widget-view+json": {
       "model_id": "05a629aaa8a845bc994bc1dc96a7ce66",
       "version_major": 2,
       "version_minor": 0
      },
      "text/plain": [
       "Saving the dataset (0/1 shards):   0%|          | 0/903 [00:00<?, ? examples/s]"
      ]
     },
     "metadata": {},
     "output_type": "display_data"
    }
   ],
   "source": [
    "# lColPreLC2 = remove mode of diag from prelc cols\n",
    "datasets.arrow_dataset.Dataset.from_pandas(df_train[lColPreLC2],preserve_index=False).save_to_disk(\n",
    "    output_path/\"TTS/dfcmpltPreLC2_Train.arrow\"\n",
    ")\n",
    "datasets.arrow_dataset.Dataset.from_pandas(df_test[lColPreLC2], preserve_index=False).save_to_disk(\n",
    "    output_path / \"TTS/dfcmpltPreLC2_Test.arrow\"\n",
    ")\n",
    "datasets.arrow_dataset.Dataset.from_pandas(\n",
    "    df_holdout[lColPreLC2], preserve_index=False\n",
    ").save_to_disk(output_path / \"TTS/dfcmpltPreLC2_Holdout.arrow\")"
   ]
  },
  {
   "cell_type": "code",
   "execution_count": 19,
   "metadata": {},
   "outputs": [
    {
     "data": {
      "application/vnd.jupyter.widget-view+json": {
       "model_id": "6eb4186bd22e44e6ba662f7ab7cd01ad",
       "version_major": 2,
       "version_minor": 0
      },
      "text/plain": [
       "Saving the dataset (0/1 shards):   0%|          | 0/2695 [00:00<?, ? examples/s]"
      ]
     },
     "metadata": {},
     "output_type": "display_data"
    },
    {
     "data": {
      "application/vnd.jupyter.widget-view+json": {
       "model_id": "a0b41072ad34498d87b94631fc376ce7",
       "version_major": 2,
       "version_minor": 0
      },
      "text/plain": [
       "Saving the dataset (0/1 shards):   0%|          | 0/898 [00:00<?, ? examples/s]"
      ]
     },
     "metadata": {},
     "output_type": "display_data"
    },
    {
     "data": {
      "application/vnd.jupyter.widget-view+json": {
       "model_id": "3a3a7c8a007343139608f1fadce96577",
       "version_major": 2,
       "version_minor": 0
      },
      "text/plain": [
       "Saving the dataset (0/1 shards):   0%|          | 0/900 [00:00<?, ? examples/s]"
      ]
     },
     "metadata": {},
     "output_type": "display_data"
    }
   ],
   "source": [
    "# lColPreLC3 = remove 21 patietnst that were incorectly included - May 2/3\n",
    "\n",
    "# reimport original data\n",
    "from pathlib import Path\n",
    "input_path = Path(\"../Data/Original Data/2024_04_26\")\n",
    "\n",
    "\n",
    "dfOrg = pd.read_excel(input_path / \"FINAL-CORRECTED-DATA-2024-04-26.xlsx\")\n",
    "\n",
    "#records to remove\n",
    "recRemove = ['353','363','400','1020','1147','1154','1159','1164','1171','1173','1228','1242','1272','1300','1325','1344','1345','1346','1348','1349','1380']\n",
    "recRemove = [int(x) for x in recRemove]\n",
    "indexOrg = dfOrg[~dfOrg['record_id'].isin(recRemove)].index\n",
    "recRemove = [int(x) for x in recRemove]\n",
    "# dfOrg[['record_id','__index_']]\n",
    "\n",
    "\n",
    "\n",
    "df_train_LC3 = df_train[df_train['__index_level_0__'].isin(indexOrg)]\n",
    "df_test_LC3 = df_test[df_test['__index_level_0__'].isin(indexOrg)]\n",
    "df_holdout_LC3 = df_holdout[df_holdout['__index_level_0__'].isin(indexOrg)]\n",
    "\n",
    "lColPreLC3 = [x for x in lColPreLC2 if 'covid_test' not in  x.lower()]\n",
    "\n",
    "\n",
    "\n",
    "datasets.arrow_dataset.Dataset.from_pandas(df_train_LC3[lColPreLC3],preserve_index=False).save_to_disk(\n",
    "    output_path/\"TTS/dfcmpltPreLC3_Train.arrow\"\n",
    ")\n",
    "datasets.arrow_dataset.Dataset.from_pandas(df_test_LC3[lColPreLC3], preserve_index=False).save_to_disk(\n",
    "    output_path / \"TTS/dfcmpltPreLC3_Test.arrow\"\n",
    ")\n",
    "datasets.arrow_dataset.Dataset.from_pandas(\n",
    "    df_holdout_LC3[lColPreLC3], preserve_index=False\n",
    ").save_to_disk(output_path / \"TTS/dfcmpltPreLC3_Holdout.arrow\")\n"
   ]
  },
  {
   "cell_type": "code",
   "execution_count": 20,
   "metadata": {},
   "outputs": [
    {
     "data": {
      "text/plain": [
       "['__index_level_0__',\n",
       " 'SITE',\n",
       " 'LC_STATUS',\n",
       " 'sex',\n",
       " 'age',\n",
       " 'VAX-vaccinated',\n",
       " 'CD-hospitalized',\n",
       " 'CD-required_oxygen',\n",
       " 'MED-Analgesics',\n",
       " 'MED-Anesthetics',\n",
       " 'MED-Antibacterials',\n",
       " 'MED-Anticonvulsants',\n",
       " 'MED-Antidepressants',\n",
       " 'MED-Antifungals',\n",
       " 'MED-Antimigraine-agents',\n",
       " 'MED-Antiparasitics',\n",
       " 'MED-Antiparkinson-agents',\n",
       " 'MED-Antipsychotics',\n",
       " 'MED-Antispasticity-agents',\n",
       " 'MED-Antivirals',\n",
       " 'MED-Blood-glucose-regulators',\n",
       " 'MED-Blood-products',\n",
       " 'MED-Cardiovascular-agents',\n",
       " 'MED-Dental-and-oral-agents',\n",
       " 'MED-Dermatological-agents',\n",
       " 'MED-Gastrointestinal-agents',\n",
       " 'MED-Hormonal-agents-(adrenal)',\n",
       " 'MED-Hormonal-agents-(sex-hormones)',\n",
       " 'MED-Hormonal-agents-(thyroid)',\n",
       " 'MED-Hormone-suppressant-(thyroid)',\n",
       " 'MED-Immunological-agents',\n",
       " 'MED-Inflammatory-bowel-disease-agents',\n",
       " 'MED-Metabolic-bone-disease-agents',\n",
       " 'MED-Ophthalmic-agents',\n",
       " 'MED-Respiratory-tract-agents',\n",
       " 'MED-Skeletal-muscle-relaxants',\n",
       " 'SYMPT-abdominal_pain___1',\n",
       " 'SYMPT-chest_pain___1',\n",
       " 'SYMPT-confusion_altered_mental_s___1',\n",
       " 'SYMPT-cough___1',\n",
       " 'SYMPT-diarrhea___1',\n",
       " 'SYMPT-dizziness___1',\n",
       " 'SYMPT-ear_pain___1',\n",
       " 'SYMPT-extremity_weakness_or_numb___1',\n",
       " 'SYMPT-fatigue___1',\n",
       " 'SYMPT-fever_38_0oc___1',\n",
       " 'SYMPT-headache___1',\n",
       " 'SYMPT-hemoptysis_bloody_sputum___1',\n",
       " 'SYMPT-joint_pain_arthralgia___1',\n",
       " 'SYMPT-leg_swelling_edema___1',\n",
       " 'SYMPT-loss_of_appetite___1',\n",
       " 'SYMPT-loss_of_taste_lost_of_smel___1',\n",
       " 'SYMPT-muscle_aches_myalgia___1',\n",
       " 'SYMPT-nausea_vomiting___1',\n",
       " 'SYMPT-night_sweats___1',\n",
       " 'SYMPT-red_eye_conjunctivitis___1',\n",
       " 'SYMPT-runny_nose_rhinorrhea___1',\n",
       " 'SYMPT-seizure___1',\n",
       " 'SYMPT-shortness_of_breath_dyspne___1',\n",
       " 'SYMPT-skin_rash___1',\n",
       " 'SYMPT-sore_throat___1',\n",
       " 'SYMPT-trouble_speaking_aphasia_d___1',\n",
       " 'SYMPT-weight_loss___1',\n",
       " 'SYMPT-wheezing_or_stridor___1',\n",
       " 'HHX-Arterial Hypertension',\n",
       " 'HHX-Asthma',\n",
       " 'HHX-Atrial fibrillation or flutter',\n",
       " 'HHX-COPD (emphysema',\n",
       " 'HHX-Cancer',\n",
       " 'HHX-Cardiovascular disease',\n",
       " 'HHX-Chronic hematologic disease',\n",
       " 'HHX-Chronic kidney disease',\n",
       " 'HHX-Chronic liver disease',\n",
       " 'HHX-Chronic lung disease',\n",
       " 'HHX-Chronic neurological disorder (other than stroke/TIA)',\n",
       " 'HHX-Coronary artery disease',\n",
       " 'HHX-Dementia',\n",
       " 'HHX-Diabetes',\n",
       " 'HHX-Dialysis',\n",
       " 'HHX-HIV or AIDS',\n",
       " 'HHX-Heart failure',\n",
       " 'HHX-Immunosuppression',\n",
       " 'HHX-Malnutrition',\n",
       " 'HHX-Obesity',\n",
       " 'HHX-Other',\n",
       " 'HHX-Past tuberculosis infection',\n",
       " 'HHX-Pregnant',\n",
       " 'HHX-Prior myocardial infarction',\n",
       " 'HHX-Psychiatric disease',\n",
       " 'HHX-Pulmonary hypertension',\n",
       " 'HHX-Rheumatologic disease',\n",
       " 'HHX-Stroke',\n",
       " 'HHX-Transient ischemic attack (TIA)',\n",
       " 'HHX-OTHER-AAA',\n",
       " 'HHX-OTHER-Anemia',\n",
       " 'HHX-OTHER-BPH',\n",
       " 'HHX-OTHER-Celiac',\n",
       " \"HHX-OTHER-Crohn's-disease\",\n",
       " 'HHX-OTHER-DVT',\n",
       " 'HHX-OTHER-Derm',\n",
       " 'HHX-OTHER-GERD',\n",
       " 'HHX-OTHER-GI',\n",
       " 'HHX-OTHER-IBS',\n",
       " 'HHX-OTHER-MSK',\n",
       " 'HHX-OTHER-OB',\n",
       " 'HHX-OTHER-Sleep-disorder',\n",
       " 'HHX-OTHER-UNSPECIFIED',\n",
       " 'HHX-OTHER-chagas',\n",
       " 'HHX-OTHER-concussion',\n",
       " 'HHX-OTHER-diverticulitis',\n",
       " 'HHX-OTHER-fatigue',\n",
       " 'HHX-OTHER-genetic-disorder',\n",
       " 'HHX-OTHER-hyper',\n",
       " 'HHX-OTHER-hypo',\n",
       " 'HHX-OTHER-resp',\n",
       " 'HHX-OTHER-sickle-cell-anemia',\n",
       " 'HHX-OTHER-surgery',\n",
       " 'HHX-OTHER-ulcerative-colitis',\n",
       " 'CD-acute_kidney_injury___3',\n",
       " 'CD-acute_kidney_injury___4',\n",
       " 'CD-acute_respiratory_distress___3',\n",
       " 'CD-acute_respiratory_distress___4',\n",
       " 'CD-adjunctive___1',\n",
       " 'CD-anemia___3',\n",
       " 'CD-anemia___4',\n",
       " 'CD-anxiety___3',\n",
       " 'CD-anxiety___4',\n",
       " 'CD-asthma___3',\n",
       " 'CD-asthma___4',\n",
       " 'CD-bacterial_viral_or_cryptog___3',\n",
       " 'CD-bacterial_viral_or_cryptog___4',\n",
       " 'CD-bacteriemia___3',\n",
       " 'CD-bacteriemia___4',\n",
       " 'CD-brain_fog___3',\n",
       " 'CD-brain_fog___4',\n",
       " 'CD-bronchiolitis___3',\n",
       " 'CD-bronchiolitis___4',\n",
       " 'CD-cardiac_arrest___3',\n",
       " 'CD-cardiac_arrest___4',\n",
       " 'CD-cardiovascular-other-3',\n",
       " 'CD-cardiovascular-other-4',\n",
       " 'CD-copd___3',\n",
       " 'CD-copd___4',\n",
       " 'CD-decompensated_heart_failur___3',\n",
       " 'CD-decompensated_heart_failur___4',\n",
       " 'CD-deep_vein_thrombosis_dvt___3',\n",
       " 'CD-deep_vein_thrombosis_dvt___4',\n",
       " 'CD-depression___3',\n",
       " 'CD-depression___4',\n",
       " 'CD-difficulty_with_concentrat___3',\n",
       " 'CD-difficulty_with_concentrat___4',\n",
       " 'CD-disseminated_intravascular___3',\n",
       " 'CD-disseminated_intravascular___4',\n",
       " 'CD-encephalitis___3',\n",
       " 'CD-encephalitis___4',\n",
       " 'CD-endocarditis___3',\n",
       " 'CD-endocarditis___4',\n",
       " 'CD-endocrine-other-3',\n",
       " 'CD-endocrine-other-4',\n",
       " 'CD-gastrointestinal-other-3',\n",
       " 'CD-gastrointestinal-other-4',\n",
       " 'CD-gastrointestinal_haemorrha___3',\n",
       " 'CD-gastrointestinal_haemorrha___4',\n",
       " 'CD-hyperglycemia___3',\n",
       " 'CD-hyperglycemia___4',\n",
       " 'CD-hypoglycemia___3',\n",
       " 'CD-hypoglycemia___4',\n",
       " 'CD-insomnia___3',\n",
       " 'CD-insomnia___4',\n",
       " 'CD-interstitial_lung_disease___3',\n",
       " 'CD-interstitial_lung_disease___4',\n",
       " 'CD-left_ventricular_function___3',\n",
       " 'CD-left_ventricular_function___4',\n",
       " 'CD-liver_dysfunction___3',\n",
       " 'CD-liver_dysfunction___4',\n",
       " 'CD-medication_received___1',\n",
       " 'CD-medication_received___2',\n",
       " 'CD-medication_received___3',\n",
       " 'CD-medication_received___4',\n",
       " 'CD-medication_received___5',\n",
       " 'CD-medication_received___6',\n",
       " 'CD-memory_problems___3',\n",
       " 'CD-memory_problems___4',\n",
       " 'CD-meningitis___3',\n",
       " 'CD-meningitis___4',\n",
       " 'CD-mood_change___3',\n",
       " 'CD-mood_change___4',\n",
       " 'CD-myocardial_infarction_stem___3',\n",
       " 'CD-myocardial_infarction_stem___4',\n",
       " 'CD-myocarditis___3',\n",
       " 'CD-myocarditis___4',\n",
       " 'CD-myositis___3',\n",
       " 'CD-myositis___4',\n",
       " 'CD-neurologic-other-3',\n",
       " 'CD-neurologic-other-4',\n",
       " 'CD-new_atrial_fibrillation_or___3',\n",
       " 'CD-new_atrial_fibrillation_or___4',\n",
       " 'CD-non_st_elevation_myocardia___3',\n",
       " 'CD-non_st_elevation_myocardia___4',\n",
       " 'CD-other_cardiac_arrhythmia___3',\n",
       " 'CD-other_cardiac_arrhythmia___4',\n",
       " 'CD-pancreatitis___3',\n",
       " 'CD-pancreatitis___4',\n",
       " 'CD-pericarditis___3',\n",
       " 'CD-pericarditis___4',\n",
       " 'CD-pleural_effusion___3',\n",
       " 'CD-pleural_effusion___4',\n",
       " 'CD-pneumothorax___3',\n",
       " 'CD-pneumothorax___4',\n",
       " 'CD-psychiatric-other-3',\n",
       " 'CD-psychiatric-other-4',\n",
       " 'CD-pulmonary_embolism_pe___3',\n",
       " 'CD-pulmonary_embolism_pe___4',\n",
       " 'CD-renal-other-3',\n",
       " 'CD-renal-other-4',\n",
       " 'CD-respiratory-other-3',\n",
       " 'CD-respiratory-other-4',\n",
       " 'CD-rhabdomyolysis___3',\n",
       " 'CD-rhabdomyolysis___4',\n",
       " 'CD-st_elevation___3',\n",
       " 'CD-st_elevation___4',\n",
       " 'CD-stroke___3',\n",
       " 'CD-stroke___4',\n",
       " 'CD-tia___3',\n",
       " 'CD-tia___4',\n",
       " 'CD-type_of_care___1',\n",
       " 'CD-type_of_care___2',\n",
       " 'CD-ventilatory_support_type___1',\n",
       " 'CD-ventilatory_support_type___2',\n",
       " 'CD-ventilatory_support_type___3',\n",
       " 'CD-ventilatory_support_type___4',\n",
       " 'CD-ventricular_tachycardia_or___3',\n",
       " 'CD-ventricular_tachycardia_or___4',\n",
       " 'CD-severity_level___0',\n",
       " 'CD-severity_level___1',\n",
       " 'CD-severity_level___2',\n",
       " 'CD-severity_level___3',\n",
       " 'SUBST-1',\n",
       " 'SUBST-2',\n",
       " 'SUBST-3',\n",
       " 'SUBST-4',\n",
       " 'SUBST-5']"
      ]
     },
     "execution_count": 20,
     "metadata": {},
     "output_type": "execute_result"
    }
   ],
   "source": [
    "lColPreLC3"
   ]
  },
  {
   "cell_type": "code",
   "execution_count": 21,
   "metadata": {},
   "outputs": [
    {
     "data": {
      "application/vnd.jupyter.widget-view+json": {
       "model_id": "7d81e87c37204fde9da4607f054dc7e5",
       "version_major": 2,
       "version_minor": 0
      },
      "text/plain": [
       "Saving the dataset (0/1 shards):   0%|          | 0/2695 [00:00<?, ? examples/s]"
      ]
     },
     "metadata": {},
     "output_type": "display_data"
    },
    {
     "data": {
      "application/vnd.jupyter.widget-view+json": {
       "model_id": "c255de68dbc941ddbc865368e4414320",
       "version_major": 2,
       "version_minor": 0
      },
      "text/plain": [
       "Saving the dataset (0/1 shards):   0%|          | 0/898 [00:00<?, ? examples/s]"
      ]
     },
     "metadata": {},
     "output_type": "display_data"
    },
    {
     "data": {
      "application/vnd.jupyter.widget-view+json": {
       "model_id": "00b726b76b43412aa02cfbb62ae896ca",
       "version_major": 2,
       "version_minor": 0
      },
      "text/plain": [
       "Saving the dataset (0/1 shards):   0%|          | 0/900 [00:00<?, ? examples/s]"
      ]
     },
     "metadata": {},
     "output_type": "display_data"
    }
   ],
   "source": [
    "# lColPreLC4 = remove severity variable bc Issue #8 - The severity level variable can likely be omitted. It was only collected by a few sites for a few patients and i suspect that the zeros within it are in fact missing data. - May 6\n",
    "\n",
    "lColPreLC4 = deepcopy(lColPreLC3)\n",
    "lColPreLC4.remove('CD-severity_level___0')\n",
    "lColPreLC4.remove('CD-severity_level___1')\n",
    "lColPreLC4.remove('CD-severity_level___2')\n",
    "lColPreLC4.remove('CD-severity_level___3')\n",
    "\n",
    "\n",
    "df_train_LC4 = deepcopy(df_train_LC3[lColPreLC3])[lColPreLC4]\n",
    "df_test_LC4 = deepcopy(df_test_LC3[lColPreLC3])[lColPreLC4]\n",
    "df_holdout_LC4 = deepcopy(df_holdout_LC3[lColPreLC3])[lColPreLC4]\n",
    "\n",
    "datasets.arrow_dataset.Dataset.from_pandas(df_train_LC4,preserve_index=False).save_to_disk(\n",
    "    output_path/\"TTS/dfcmpltPreLC4_Train.arrow\"\n",
    ")\n",
    "datasets.arrow_dataset.Dataset.from_pandas(df_test_LC4, preserve_index=False).save_to_disk(\n",
    "    output_path / \"TTS/dfcmpltPreLC4_Test.arrow\"\n",
    ")\n",
    "datasets.arrow_dataset.Dataset.from_pandas(df_holdout_LC4, preserve_index=False\n",
    ").save_to_disk(output_path / \"TTS/dfcmpltPreLC4_Holdout.arrow\")\n"
   ]
  },
  {
   "cell_type": "code",
   "execution_count": 22,
   "metadata": {},
   "outputs": [
    {
     "data": {
      "application/vnd.jupyter.widget-view+json": {
       "model_id": "aa56dd31c14a43398d3c78f5621d1bf2",
       "version_major": 2,
       "version_minor": 0
      },
      "text/plain": [
       "Saving the dataset (0/1 shards):   0%|          | 0/97 [00:00<?, ? examples/s]"
      ]
     },
     "metadata": {},
     "output_type": "display_data"
    },
    {
     "data": {
      "application/vnd.jupyter.widget-view+json": {
       "model_id": "d9771d6dcd2749c19c072c5cba88eb13",
       "version_major": 2,
       "version_minor": 0
      },
      "text/plain": [
       "Saving the dataset (0/1 shards):   0%|          | 0/32 [00:00<?, ? examples/s]"
      ]
     },
     "metadata": {},
     "output_type": "display_data"
    },
    {
     "data": {
      "application/vnd.jupyter.widget-view+json": {
       "model_id": "82ab2c93c4e64a1183c0a24fd63c5f16",
       "version_major": 2,
       "version_minor": 0
      },
      "text/plain": [
       "Saving the dataset (0/1 shards):   0%|          | 0/32 [00:00<?, ? examples/s]"
      ]
     },
     "metadata": {},
     "output_type": "display_data"
    },
    {
     "data": {
      "application/vnd.jupyter.widget-view+json": {
       "model_id": "5a724114ebe54f54971c7c8c2234d880",
       "version_major": 2,
       "version_minor": 0
      },
      "text/plain": [
       "Saving the dataset (0/1 shards):   0%|          | 0/97 [00:00<?, ? examples/s]"
      ]
     },
     "metadata": {},
     "output_type": "display_data"
    },
    {
     "data": {
      "application/vnd.jupyter.widget-view+json": {
       "model_id": "7c88d003febf4d8db87a7d3febb58bf1",
       "version_major": 2,
       "version_minor": 0
      },
      "text/plain": [
       "Saving the dataset (0/1 shards):   0%|          | 0/32 [00:00<?, ? examples/s]"
      ]
     },
     "metadata": {},
     "output_type": "display_data"
    },
    {
     "data": {
      "application/vnd.jupyter.widget-view+json": {
       "model_id": "799b8e8a67ed4398962f028ceab5a095",
       "version_major": 2,
       "version_minor": 0
      },
      "text/plain": [
       "Saving the dataset (0/1 shards):   0%|          | 0/32 [00:00<?, ? examples/s]"
      ]
     },
     "metadata": {},
     "output_type": "display_data"
    },
    {
     "data": {
      "application/vnd.jupyter.widget-view+json": {
       "model_id": "0951eab94aa34475a622d003907bbe72",
       "version_major": 2,
       "version_minor": 0
      },
      "text/plain": [
       "Saving the dataset (0/1 shards):   0%|          | 0/97 [00:00<?, ? examples/s]"
      ]
     },
     "metadata": {},
     "output_type": "display_data"
    },
    {
     "data": {
      "application/vnd.jupyter.widget-view+json": {
       "model_id": "b79aa4fbb1a54babb33eb99d7bd4348d",
       "version_major": 2,
       "version_minor": 0
      },
      "text/plain": [
       "Saving the dataset (0/1 shards):   0%|          | 0/32 [00:00<?, ? examples/s]"
      ]
     },
     "metadata": {},
     "output_type": "display_data"
    },
    {
     "data": {
      "application/vnd.jupyter.widget-view+json": {
       "model_id": "28b53342f7cd4e668df6488f0e52f7c4",
       "version_major": 2,
       "version_minor": 0
      },
      "text/plain": [
       "Saving the dataset (0/1 shards):   0%|          | 0/32 [00:00<?, ? examples/s]"
      ]
     },
     "metadata": {},
     "output_type": "display_data"
    },
    {
     "data": {
      "application/vnd.jupyter.widget-view+json": {
       "model_id": "1d2df2d96f1e4ceabf49ddd48eb961fc",
       "version_major": 2,
       "version_minor": 0
      },
      "text/plain": [
       "Saving the dataset (0/1 shards):   0%|          | 0/97 [00:00<?, ? examples/s]"
      ]
     },
     "metadata": {},
     "output_type": "display_data"
    },
    {
     "data": {
      "application/vnd.jupyter.widget-view+json": {
       "model_id": "f7d51f43ff9847b5ac652a82bd1385b2",
       "version_major": 2,
       "version_minor": 0
      },
      "text/plain": [
       "Saving the dataset (0/1 shards):   0%|          | 0/32 [00:00<?, ? examples/s]"
      ]
     },
     "metadata": {},
     "output_type": "display_data"
    },
    {
     "data": {
      "application/vnd.jupyter.widget-view+json": {
       "model_id": "2dddbe5e353d450e85a2f56d63b8f7ba",
       "version_major": 2,
       "version_minor": 0
      },
      "text/plain": [
       "Saving the dataset (0/1 shards):   0%|          | 0/32 [00:00<?, ? examples/s]"
      ]
     },
     "metadata": {},
     "output_type": "display_data"
    },
    {
     "data": {
      "application/vnd.jupyter.widget-view+json": {
       "model_id": "c0efb6c591894905958daacda41d785e",
       "version_major": 2,
       "version_minor": 0
      },
      "text/plain": [
       "Saving the dataset (0/1 shards):   0%|          | 0/97 [00:00<?, ? examples/s]"
      ]
     },
     "metadata": {},
     "output_type": "display_data"
    },
    {
     "data": {
      "application/vnd.jupyter.widget-view+json": {
       "model_id": "e2d1ce6f983f4006b1835104a798b166",
       "version_major": 2,
       "version_minor": 0
      },
      "text/plain": [
       "Saving the dataset (0/1 shards):   0%|          | 0/32 [00:00<?, ? examples/s]"
      ]
     },
     "metadata": {},
     "output_type": "display_data"
    },
    {
     "data": {
      "application/vnd.jupyter.widget-view+json": {
       "model_id": "d19a75c67c3941fa9876f5735047a91a",
       "version_major": 2,
       "version_minor": 0
      },
      "text/plain": [
       "Saving the dataset (0/1 shards):   0%|          | 0/32 [00:00<?, ? examples/s]"
      ]
     },
     "metadata": {},
     "output_type": "display_data"
    },
    {
     "data": {
      "application/vnd.jupyter.widget-view+json": {
       "model_id": "c13b1cfeed48433ca76edcbb7391e7e5",
       "version_major": 2,
       "version_minor": 0
      },
      "text/plain": [
       "Saving the dataset (0/1 shards):   0%|          | 0/1723 [00:00<?, ? examples/s]"
      ]
     },
     "metadata": {},
     "output_type": "display_data"
    },
    {
     "data": {
      "application/vnd.jupyter.widget-view+json": {
       "model_id": "209c6a9832814a159323f6b5a963d309",
       "version_major": 2,
       "version_minor": 0
      },
      "text/plain": [
       "Saving the dataset (0/1 shards):   0%|          | 0/575 [00:00<?, ? examples/s]"
      ]
     },
     "metadata": {},
     "output_type": "display_data"
    },
    {
     "data": {
      "application/vnd.jupyter.widget-view+json": {
       "model_id": "8d9be0b7117f4e13a5989bbf60356eb0",
       "version_major": 2,
       "version_minor": 0
      },
      "text/plain": [
       "Saving the dataset (0/1 shards):   0%|          | 0/574 [00:00<?, ? examples/s]"
      ]
     },
     "metadata": {},
     "output_type": "display_data"
    },
    {
     "data": {
      "application/vnd.jupyter.widget-view+json": {
       "model_id": "cfd33577a90f4180b903bc2c2e98ac4d",
       "version_major": 2,
       "version_minor": 0
      },
      "text/plain": [
       "Saving the dataset (0/1 shards):   0%|          | 0/1723 [00:00<?, ? examples/s]"
      ]
     },
     "metadata": {},
     "output_type": "display_data"
    },
    {
     "data": {
      "application/vnd.jupyter.widget-view+json": {
       "model_id": "a7f56adbf5c34b6f98a9cdda9c047763",
       "version_major": 2,
       "version_minor": 0
      },
      "text/plain": [
       "Saving the dataset (0/1 shards):   0%|          | 0/575 [00:00<?, ? examples/s]"
      ]
     },
     "metadata": {},
     "output_type": "display_data"
    },
    {
     "data": {
      "application/vnd.jupyter.widget-view+json": {
       "model_id": "c0ad103e7c894ae79b98e63de2c6bc47",
       "version_major": 2,
       "version_minor": 0
      },
      "text/plain": [
       "Saving the dataset (0/1 shards):   0%|          | 0/574 [00:00<?, ? examples/s]"
      ]
     },
     "metadata": {},
     "output_type": "display_data"
    },
    {
     "data": {
      "application/vnd.jupyter.widget-view+json": {
       "model_id": "23efe54fa83b46c9a7dec7382748f8a4",
       "version_major": 2,
       "version_minor": 0
      },
      "text/plain": [
       "Saving the dataset (0/1 shards):   0%|          | 0/1723 [00:00<?, ? examples/s]"
      ]
     },
     "metadata": {},
     "output_type": "display_data"
    },
    {
     "data": {
      "application/vnd.jupyter.widget-view+json": {
       "model_id": "a1493e8a5ed44330aaed90c2aab85038",
       "version_major": 2,
       "version_minor": 0
      },
      "text/plain": [
       "Saving the dataset (0/1 shards):   0%|          | 0/575 [00:00<?, ? examples/s]"
      ]
     },
     "metadata": {},
     "output_type": "display_data"
    },
    {
     "data": {
      "application/vnd.jupyter.widget-view+json": {
       "model_id": "4262dd0660f5419684ef68a1235be65c",
       "version_major": 2,
       "version_minor": 0
      },
      "text/plain": [
       "Saving the dataset (0/1 shards):   0%|          | 0/574 [00:00<?, ? examples/s]"
      ]
     },
     "metadata": {},
     "output_type": "display_data"
    },
    {
     "data": {
      "application/vnd.jupyter.widget-view+json": {
       "model_id": "cd73b95e74714793b033fd6ea76afcb4",
       "version_major": 2,
       "version_minor": 0
      },
      "text/plain": [
       "Saving the dataset (0/1 shards):   0%|          | 0/1710 [00:00<?, ? examples/s]"
      ]
     },
     "metadata": {},
     "output_type": "display_data"
    },
    {
     "data": {
      "application/vnd.jupyter.widget-view+json": {
       "model_id": "36e1e17418a743698b8b039a79be5b36",
       "version_major": 2,
       "version_minor": 0
      },
      "text/plain": [
       "Saving the dataset (0/1 shards):   0%|          | 0/570 [00:00<?, ? examples/s]"
      ]
     },
     "metadata": {},
     "output_type": "display_data"
    },
    {
     "data": {
      "application/vnd.jupyter.widget-view+json": {
       "model_id": "9d5ac3eaa42b41bb9b08a3b8e4e3f036",
       "version_major": 2,
       "version_minor": 0
      },
      "text/plain": [
       "Saving the dataset (0/1 shards):   0%|          | 0/571 [00:00<?, ? examples/s]"
      ]
     },
     "metadata": {},
     "output_type": "display_data"
    },
    {
     "data": {
      "application/vnd.jupyter.widget-view+json": {
       "model_id": "7bab1690221146b8bb97c7d6bdab012b",
       "version_major": 2,
       "version_minor": 0
      },
      "text/plain": [
       "Saving the dataset (0/1 shards):   0%|          | 0/1710 [00:00<?, ? examples/s]"
      ]
     },
     "metadata": {},
     "output_type": "display_data"
    },
    {
     "data": {
      "application/vnd.jupyter.widget-view+json": {
       "model_id": "ce613c9783c64055a900273d1120c4d9",
       "version_major": 2,
       "version_minor": 0
      },
      "text/plain": [
       "Saving the dataset (0/1 shards):   0%|          | 0/570 [00:00<?, ? examples/s]"
      ]
     },
     "metadata": {},
     "output_type": "display_data"
    },
    {
     "data": {
      "application/vnd.jupyter.widget-view+json": {
       "model_id": "b183ae3c0c2b485581080091efc90e5a",
       "version_major": 2,
       "version_minor": 0
      },
      "text/plain": [
       "Saving the dataset (0/1 shards):   0%|          | 0/571 [00:00<?, ? examples/s]"
      ]
     },
     "metadata": {},
     "output_type": "display_data"
    },
    {
     "data": {
      "application/vnd.jupyter.widget-view+json": {
       "model_id": "e3d6f7f9bd754572b85f69a6df904611",
       "version_major": 2,
       "version_minor": 0
      },
      "text/plain": [
       "Saving the dataset (0/1 shards):   0%|          | 0/201 [00:00<?, ? examples/s]"
      ]
     },
     "metadata": {},
     "output_type": "display_data"
    },
    {
     "data": {
      "application/vnd.jupyter.widget-view+json": {
       "model_id": "5a43b55eb8e44cfd854eb8eaee3c2385",
       "version_major": 2,
       "version_minor": 0
      },
      "text/plain": [
       "Saving the dataset (0/1 shards):   0%|          | 0/66 [00:00<?, ? examples/s]"
      ]
     },
     "metadata": {},
     "output_type": "display_data"
    },
    {
     "data": {
      "application/vnd.jupyter.widget-view+json": {
       "model_id": "bf26daf48c64471dab9e96e2cac0a91c",
       "version_major": 2,
       "version_minor": 0
      },
      "text/plain": [
       "Saving the dataset (0/1 shards):   0%|          | 0/66 [00:00<?, ? examples/s]"
      ]
     },
     "metadata": {},
     "output_type": "display_data"
    },
    {
     "data": {
      "application/vnd.jupyter.widget-view+json": {
       "model_id": "39d2c657d3eb4dec83d334283892495b",
       "version_major": 2,
       "version_minor": 0
      },
      "text/plain": [
       "Saving the dataset (0/1 shards):   0%|          | 0/201 [00:00<?, ? examples/s]"
      ]
     },
     "metadata": {},
     "output_type": "display_data"
    },
    {
     "data": {
      "application/vnd.jupyter.widget-view+json": {
       "model_id": "395f42a68f6f496180283a189362177f",
       "version_major": 2,
       "version_minor": 0
      },
      "text/plain": [
       "Saving the dataset (0/1 shards):   0%|          | 0/66 [00:00<?, ? examples/s]"
      ]
     },
     "metadata": {},
     "output_type": "display_data"
    },
    {
     "data": {
      "application/vnd.jupyter.widget-view+json": {
       "model_id": "40d9a1ee7058441d919f60825481080d",
       "version_major": 2,
       "version_minor": 0
      },
      "text/plain": [
       "Saving the dataset (0/1 shards):   0%|          | 0/66 [00:00<?, ? examples/s]"
      ]
     },
     "metadata": {},
     "output_type": "display_data"
    },
    {
     "data": {
      "application/vnd.jupyter.widget-view+json": {
       "model_id": "4119e7ce293644379563407e9f2087d4",
       "version_major": 2,
       "version_minor": 0
      },
      "text/plain": [
       "Saving the dataset (0/1 shards):   0%|          | 0/201 [00:00<?, ? examples/s]"
      ]
     },
     "metadata": {},
     "output_type": "display_data"
    },
    {
     "data": {
      "application/vnd.jupyter.widget-view+json": {
       "model_id": "47a45fa603ae431899f835c4b209f388",
       "version_major": 2,
       "version_minor": 0
      },
      "text/plain": [
       "Saving the dataset (0/1 shards):   0%|          | 0/66 [00:00<?, ? examples/s]"
      ]
     },
     "metadata": {},
     "output_type": "display_data"
    },
    {
     "data": {
      "application/vnd.jupyter.widget-view+json": {
       "model_id": "45da0ec550a843e3894162a50f2363f1",
       "version_major": 2,
       "version_minor": 0
      },
      "text/plain": [
       "Saving the dataset (0/1 shards):   0%|          | 0/66 [00:00<?, ? examples/s]"
      ]
     },
     "metadata": {},
     "output_type": "display_data"
    },
    {
     "data": {
      "application/vnd.jupyter.widget-view+json": {
       "model_id": "165f4834b660493aab60bbe9b3d8f16d",
       "version_major": 2,
       "version_minor": 0
      },
      "text/plain": [
       "Saving the dataset (0/1 shards):   0%|          | 0/201 [00:00<?, ? examples/s]"
      ]
     },
     "metadata": {},
     "output_type": "display_data"
    },
    {
     "data": {
      "application/vnd.jupyter.widget-view+json": {
       "model_id": "e786a7f788b44ba6b308e4ef27644574",
       "version_major": 2,
       "version_minor": 0
      },
      "text/plain": [
       "Saving the dataset (0/1 shards):   0%|          | 0/66 [00:00<?, ? examples/s]"
      ]
     },
     "metadata": {},
     "output_type": "display_data"
    },
    {
     "data": {
      "application/vnd.jupyter.widget-view+json": {
       "model_id": "59d96f0519ba4c75b7e92d6887148ec1",
       "version_major": 2,
       "version_minor": 0
      },
      "text/plain": [
       "Saving the dataset (0/1 shards):   0%|          | 0/66 [00:00<?, ? examples/s]"
      ]
     },
     "metadata": {},
     "output_type": "display_data"
    },
    {
     "data": {
      "application/vnd.jupyter.widget-view+json": {
       "model_id": "86e735e0f4fb44dcaa35f68ed98625a7",
       "version_major": 2,
       "version_minor": 0
      },
      "text/plain": [
       "Saving the dataset (0/1 shards):   0%|          | 0/201 [00:00<?, ? examples/s]"
      ]
     },
     "metadata": {},
     "output_type": "display_data"
    },
    {
     "data": {
      "application/vnd.jupyter.widget-view+json": {
       "model_id": "437516ca266942d8865fe10cc353452e",
       "version_major": 2,
       "version_minor": 0
      },
      "text/plain": [
       "Saving the dataset (0/1 shards):   0%|          | 0/66 [00:00<?, ? examples/s]"
      ]
     },
     "metadata": {},
     "output_type": "display_data"
    },
    {
     "data": {
      "application/vnd.jupyter.widget-view+json": {
       "model_id": "7e81ef8629b248a9a3af5a1e4644fd61",
       "version_major": 2,
       "version_minor": 0
      },
      "text/plain": [
       "Saving the dataset (0/1 shards):   0%|          | 0/66 [00:00<?, ? examples/s]"
      ]
     },
     "metadata": {},
     "output_type": "display_data"
    },
    {
     "data": {
      "application/vnd.jupyter.widget-view+json": {
       "model_id": "2176c8c84e694a78af14965fd9d5f06a",
       "version_major": 2,
       "version_minor": 0
      },
      "text/plain": [
       "Saving the dataset (0/1 shards):   0%|          | 0/471 [00:00<?, ? examples/s]"
      ]
     },
     "metadata": {},
     "output_type": "display_data"
    },
    {
     "data": {
      "application/vnd.jupyter.widget-view+json": {
       "model_id": "af2b1138c4bf492cb6c5af246258de3f",
       "version_major": 2,
       "version_minor": 0
      },
      "text/plain": [
       "Saving the dataset (0/1 shards):   0%|          | 0/158 [00:00<?, ? examples/s]"
      ]
     },
     "metadata": {},
     "output_type": "display_data"
    },
    {
     "data": {
      "application/vnd.jupyter.widget-view+json": {
       "model_id": "bdf57513504e4a78b0e078dd0e136fa3",
       "version_major": 2,
       "version_minor": 0
      },
      "text/plain": [
       "Saving the dataset (0/1 shards):   0%|          | 0/158 [00:00<?, ? examples/s]"
      ]
     },
     "metadata": {},
     "output_type": "display_data"
    },
    {
     "data": {
      "application/vnd.jupyter.widget-view+json": {
       "model_id": "108d5be7f67e40598355dabc7c6e7af7",
       "version_major": 2,
       "version_minor": 0
      },
      "text/plain": [
       "Saving the dataset (0/1 shards):   0%|          | 0/471 [00:00<?, ? examples/s]"
      ]
     },
     "metadata": {},
     "output_type": "display_data"
    },
    {
     "data": {
      "application/vnd.jupyter.widget-view+json": {
       "model_id": "26339aebd6ac4c1dbce857459711b553",
       "version_major": 2,
       "version_minor": 0
      },
      "text/plain": [
       "Saving the dataset (0/1 shards):   0%|          | 0/158 [00:00<?, ? examples/s]"
      ]
     },
     "metadata": {},
     "output_type": "display_data"
    },
    {
     "data": {
      "application/vnd.jupyter.widget-view+json": {
       "model_id": "96a5c7eac5fa4199b74c21f23113bc8f",
       "version_major": 2,
       "version_minor": 0
      },
      "text/plain": [
       "Saving the dataset (0/1 shards):   0%|          | 0/158 [00:00<?, ? examples/s]"
      ]
     },
     "metadata": {},
     "output_type": "display_data"
    },
    {
     "data": {
      "application/vnd.jupyter.widget-view+json": {
       "model_id": "51bcb66d6bde428f9421730cdd0cc00a",
       "version_major": 2,
       "version_minor": 0
      },
      "text/plain": [
       "Saving the dataset (0/1 shards):   0%|          | 0/471 [00:00<?, ? examples/s]"
      ]
     },
     "metadata": {},
     "output_type": "display_data"
    },
    {
     "data": {
      "application/vnd.jupyter.widget-view+json": {
       "model_id": "e5a8370eab624abbab9826c8d8a2bc9f",
       "version_major": 2,
       "version_minor": 0
      },
      "text/plain": [
       "Saving the dataset (0/1 shards):   0%|          | 0/158 [00:00<?, ? examples/s]"
      ]
     },
     "metadata": {},
     "output_type": "display_data"
    },
    {
     "data": {
      "application/vnd.jupyter.widget-view+json": {
       "model_id": "16e64bd51a4f42bb816c9bd509181df9",
       "version_major": 2,
       "version_minor": 0
      },
      "text/plain": [
       "Saving the dataset (0/1 shards):   0%|          | 0/158 [00:00<?, ? examples/s]"
      ]
     },
     "metadata": {},
     "output_type": "display_data"
    },
    {
     "data": {
      "application/vnd.jupyter.widget-view+json": {
       "model_id": "f4beb0e361fa4700932af61c066d7cd6",
       "version_major": 2,
       "version_minor": 0
      },
      "text/plain": [
       "Saving the dataset (0/1 shards):   0%|          | 0/471 [00:00<?, ? examples/s]"
      ]
     },
     "metadata": {},
     "output_type": "display_data"
    },
    {
     "data": {
      "application/vnd.jupyter.widget-view+json": {
       "model_id": "e74b8aa1775747959eac3b1216c706fa",
       "version_major": 2,
       "version_minor": 0
      },
      "text/plain": [
       "Saving the dataset (0/1 shards):   0%|          | 0/158 [00:00<?, ? examples/s]"
      ]
     },
     "metadata": {},
     "output_type": "display_data"
    },
    {
     "data": {
      "application/vnd.jupyter.widget-view+json": {
       "model_id": "7cd5fd65753b4c27ab43ff865d21afc3",
       "version_major": 2,
       "version_minor": 0
      },
      "text/plain": [
       "Saving the dataset (0/1 shards):   0%|          | 0/158 [00:00<?, ? examples/s]"
      ]
     },
     "metadata": {},
     "output_type": "display_data"
    },
    {
     "data": {
      "application/vnd.jupyter.widget-view+json": {
       "model_id": "72bc410f702a4381bb48a04df66d5d5d",
       "version_major": 2,
       "version_minor": 0
      },
      "text/plain": [
       "Saving the dataset (0/1 shards):   0%|          | 0/471 [00:00<?, ? examples/s]"
      ]
     },
     "metadata": {},
     "output_type": "display_data"
    },
    {
     "data": {
      "application/vnd.jupyter.widget-view+json": {
       "model_id": "47dabbb56d114827b66b25f4dfd65b25",
       "version_major": 2,
       "version_minor": 0
      },
      "text/plain": [
       "Saving the dataset (0/1 shards):   0%|          | 0/158 [00:00<?, ? examples/s]"
      ]
     },
     "metadata": {},
     "output_type": "display_data"
    },
    {
     "data": {
      "application/vnd.jupyter.widget-view+json": {
       "model_id": "b5fe756af61a4cf8ba64f0b22f5b0951",
       "version_major": 2,
       "version_minor": 0
      },
      "text/plain": [
       "Saving the dataset (0/1 shards):   0%|          | 0/158 [00:00<?, ? examples/s]"
      ]
     },
     "metadata": {},
     "output_type": "display_data"
    },
    {
     "data": {
      "application/vnd.jupyter.widget-view+json": {
       "model_id": "919a03522ab748f9b8a4df7db03e0a36",
       "version_major": 2,
       "version_minor": 0
      },
      "text/plain": [
       "Saving the dataset (0/1 shards):   0%|          | 0/216 [00:00<?, ? examples/s]"
      ]
     },
     "metadata": {},
     "output_type": "display_data"
    },
    {
     "data": {
      "application/vnd.jupyter.widget-view+json": {
       "model_id": "60c4a82f8e4549cb84e7ab06d22bdca5",
       "version_major": 2,
       "version_minor": 0
      },
      "text/plain": [
       "Saving the dataset (0/1 shards):   0%|          | 0/72 [00:00<?, ? examples/s]"
      ]
     },
     "metadata": {},
     "output_type": "display_data"
    },
    {
     "data": {
      "application/vnd.jupyter.widget-view+json": {
       "model_id": "318d8401c0dd4edda280124eb1a2ab71",
       "version_major": 2,
       "version_minor": 0
      },
      "text/plain": [
       "Saving the dataset (0/1 shards):   0%|          | 0/73 [00:00<?, ? examples/s]"
      ]
     },
     "metadata": {},
     "output_type": "display_data"
    },
    {
     "data": {
      "application/vnd.jupyter.widget-view+json": {
       "model_id": "5a26cb5ce1464a628e93c3224d203140",
       "version_major": 2,
       "version_minor": 0
      },
      "text/plain": [
       "Saving the dataset (0/1 shards):   0%|          | 0/216 [00:00<?, ? examples/s]"
      ]
     },
     "metadata": {},
     "output_type": "display_data"
    },
    {
     "data": {
      "application/vnd.jupyter.widget-view+json": {
       "model_id": "cda81171fae9477d872e10ef6e03fd98",
       "version_major": 2,
       "version_minor": 0
      },
      "text/plain": [
       "Saving the dataset (0/1 shards):   0%|          | 0/72 [00:00<?, ? examples/s]"
      ]
     },
     "metadata": {},
     "output_type": "display_data"
    },
    {
     "data": {
      "application/vnd.jupyter.widget-view+json": {
       "model_id": "e2a77f33e2bd4a82919aac287d627b87",
       "version_major": 2,
       "version_minor": 0
      },
      "text/plain": [
       "Saving the dataset (0/1 shards):   0%|          | 0/73 [00:00<?, ? examples/s]"
      ]
     },
     "metadata": {},
     "output_type": "display_data"
    },
    {
     "data": {
      "application/vnd.jupyter.widget-view+json": {
       "model_id": "3c464331f4b647fbbceb6e385d3f6d21",
       "version_major": 2,
       "version_minor": 0
      },
      "text/plain": [
       "Saving the dataset (0/1 shards):   0%|          | 0/216 [00:00<?, ? examples/s]"
      ]
     },
     "metadata": {},
     "output_type": "display_data"
    },
    {
     "data": {
      "application/vnd.jupyter.widget-view+json": {
       "model_id": "1b215de9877a42b7a19f2f2bc1df7fa0",
       "version_major": 2,
       "version_minor": 0
      },
      "text/plain": [
       "Saving the dataset (0/1 shards):   0%|          | 0/72 [00:00<?, ? examples/s]"
      ]
     },
     "metadata": {},
     "output_type": "display_data"
    },
    {
     "data": {
      "application/vnd.jupyter.widget-view+json": {
       "model_id": "e08b49702a0949a68032c6f8780d3d08",
       "version_major": 2,
       "version_minor": 0
      },
      "text/plain": [
       "Saving the dataset (0/1 shards):   0%|          | 0/73 [00:00<?, ? examples/s]"
      ]
     },
     "metadata": {},
     "output_type": "display_data"
    },
    {
     "data": {
      "application/vnd.jupyter.widget-view+json": {
       "model_id": "ff0b5816e35f4d2fa6b5f183988ca229",
       "version_major": 2,
       "version_minor": 0
      },
      "text/plain": [
       "Saving the dataset (0/1 shards):   0%|          | 0/216 [00:00<?, ? examples/s]"
      ]
     },
     "metadata": {},
     "output_type": "display_data"
    },
    {
     "data": {
      "application/vnd.jupyter.widget-view+json": {
       "model_id": "4984754c05cd44e5aa4f43b8b9423c87",
       "version_major": 2,
       "version_minor": 0
      },
      "text/plain": [
       "Saving the dataset (0/1 shards):   0%|          | 0/72 [00:00<?, ? examples/s]"
      ]
     },
     "metadata": {},
     "output_type": "display_data"
    },
    {
     "data": {
      "application/vnd.jupyter.widget-view+json": {
       "model_id": "9469f5c24d4f4ef994bcad4f70a547ab",
       "version_major": 2,
       "version_minor": 0
      },
      "text/plain": [
       "Saving the dataset (0/1 shards):   0%|          | 0/73 [00:00<?, ? examples/s]"
      ]
     },
     "metadata": {},
     "output_type": "display_data"
    },
    {
     "data": {
      "application/vnd.jupyter.widget-view+json": {
       "model_id": "5c19bbdb15fd40eea9e982b8b1175669",
       "version_major": 2,
       "version_minor": 0
      },
      "text/plain": [
       "Saving the dataset (0/1 shards):   0%|          | 0/216 [00:00<?, ? examples/s]"
      ]
     },
     "metadata": {},
     "output_type": "display_data"
    },
    {
     "data": {
      "application/vnd.jupyter.widget-view+json": {
       "model_id": "402158ac09f942308cd6951e458ff78e",
       "version_major": 2,
       "version_minor": 0
      },
      "text/plain": [
       "Saving the dataset (0/1 shards):   0%|          | 0/72 [00:00<?, ? examples/s]"
      ]
     },
     "metadata": {},
     "output_type": "display_data"
    },
    {
     "data": {
      "application/vnd.jupyter.widget-view+json": {
       "model_id": "48475d71bf774308b24e356c2a8fb1d0",
       "version_major": 2,
       "version_minor": 0
      },
      "text/plain": [
       "Saving the dataset (0/1 shards):   0%|          | 0/73 [00:00<?, ? examples/s]"
      ]
     },
     "metadata": {},
     "output_type": "display_data"
    },
    {
     "data": {
      "application/vnd.jupyter.widget-view+json": {
       "model_id": "90f39f27ebf84e8782c622f8cc600748",
       "version_major": 2,
       "version_minor": 0
      },
      "text/plain": [
       "Saving the dataset (0/1 shards):   0%|          | 0/1820 [00:00<?, ? examples/s]"
      ]
     },
     "metadata": {},
     "output_type": "display_data"
    },
    {
     "data": {
      "application/vnd.jupyter.widget-view+json": {
       "model_id": "a6246d24a6b34d359a010f2199466d95",
       "version_major": 2,
       "version_minor": 0
      },
      "text/plain": [
       "Saving the dataset (0/1 shards):   0%|          | 0/607 [00:00<?, ? examples/s]"
      ]
     },
     "metadata": {},
     "output_type": "display_data"
    },
    {
     "data": {
      "application/vnd.jupyter.widget-view+json": {
       "model_id": "be4acf70224f4f27b7c4b2aa227e1a18",
       "version_major": 2,
       "version_minor": 0
      },
      "text/plain": [
       "Saving the dataset (0/1 shards):   0%|          | 0/606 [00:00<?, ? examples/s]"
      ]
     },
     "metadata": {},
     "output_type": "display_data"
    },
    {
     "data": {
      "application/vnd.jupyter.widget-view+json": {
       "model_id": "d97ee09bc0be40ae97fa06a37a621e63",
       "version_major": 2,
       "version_minor": 0
      },
      "text/plain": [
       "Saving the dataset (0/1 shards):   0%|          | 0/1820 [00:00<?, ? examples/s]"
      ]
     },
     "metadata": {},
     "output_type": "display_data"
    },
    {
     "data": {
      "application/vnd.jupyter.widget-view+json": {
       "model_id": "1675bf387f6147208cad23f4e33fe79a",
       "version_major": 2,
       "version_minor": 0
      },
      "text/plain": [
       "Saving the dataset (0/1 shards):   0%|          | 0/607 [00:00<?, ? examples/s]"
      ]
     },
     "metadata": {},
     "output_type": "display_data"
    },
    {
     "data": {
      "application/vnd.jupyter.widget-view+json": {
       "model_id": "d934b02858cf4e958e28a97b5acbb982",
       "version_major": 2,
       "version_minor": 0
      },
      "text/plain": [
       "Saving the dataset (0/1 shards):   0%|          | 0/606 [00:00<?, ? examples/s]"
      ]
     },
     "metadata": {},
     "output_type": "display_data"
    },
    {
     "data": {
      "application/vnd.jupyter.widget-view+json": {
       "model_id": "6ccdcecf96b4438c95f8626a25f400d7",
       "version_major": 2,
       "version_minor": 0
      },
      "text/plain": [
       "Saving the dataset (0/1 shards):   0%|          | 0/1820 [00:00<?, ? examples/s]"
      ]
     },
     "metadata": {},
     "output_type": "display_data"
    },
    {
     "data": {
      "application/vnd.jupyter.widget-view+json": {
       "model_id": "c028508138494a7eadeeee282e82218c",
       "version_major": 2,
       "version_minor": 0
      },
      "text/plain": [
       "Saving the dataset (0/1 shards):   0%|          | 0/607 [00:00<?, ? examples/s]"
      ]
     },
     "metadata": {},
     "output_type": "display_data"
    },
    {
     "data": {
      "application/vnd.jupyter.widget-view+json": {
       "model_id": "e7f25570c1ad4524b1810a96c3e43663",
       "version_major": 2,
       "version_minor": 0
      },
      "text/plain": [
       "Saving the dataset (0/1 shards):   0%|          | 0/606 [00:00<?, ? examples/s]"
      ]
     },
     "metadata": {},
     "output_type": "display_data"
    },
    {
     "data": {
      "application/vnd.jupyter.widget-view+json": {
       "model_id": "4401d25b5a3240d2b0a9bdecf23a1565",
       "version_major": 2,
       "version_minor": 0
      },
      "text/plain": [
       "Saving the dataset (0/1 shards):   0%|          | 0/1807 [00:00<?, ? examples/s]"
      ]
     },
     "metadata": {},
     "output_type": "display_data"
    },
    {
     "data": {
      "application/vnd.jupyter.widget-view+json": {
       "model_id": "bb17b5ef686e40f5bc04f0966eccb851",
       "version_major": 2,
       "version_minor": 0
      },
      "text/plain": [
       "Saving the dataset (0/1 shards):   0%|          | 0/602 [00:00<?, ? examples/s]"
      ]
     },
     "metadata": {},
     "output_type": "display_data"
    },
    {
     "data": {
      "application/vnd.jupyter.widget-view+json": {
       "model_id": "2e5656aa343f45feaf3a0f2be340aad7",
       "version_major": 2,
       "version_minor": 0
      },
      "text/plain": [
       "Saving the dataset (0/1 shards):   0%|          | 0/603 [00:00<?, ? examples/s]"
      ]
     },
     "metadata": {},
     "output_type": "display_data"
    },
    {
     "data": {
      "application/vnd.jupyter.widget-view+json": {
       "model_id": "d80d116a478a434c8f3fe1133fbcc5c7",
       "version_major": 2,
       "version_minor": 0
      },
      "text/plain": [
       "Saving the dataset (0/1 shards):   0%|          | 0/1807 [00:00<?, ? examples/s]"
      ]
     },
     "metadata": {},
     "output_type": "display_data"
    },
    {
     "data": {
      "application/vnd.jupyter.widget-view+json": {
       "model_id": "a2446b3b398e4dbb89f996adc154379a",
       "version_major": 2,
       "version_minor": 0
      },
      "text/plain": [
       "Saving the dataset (0/1 shards):   0%|          | 0/602 [00:00<?, ? examples/s]"
      ]
     },
     "metadata": {},
     "output_type": "display_data"
    },
    {
     "data": {
      "application/vnd.jupyter.widget-view+json": {
       "model_id": "380dc420ae31496ead9528ae7f25e476",
       "version_major": 2,
       "version_minor": 0
      },
      "text/plain": [
       "Saving the dataset (0/1 shards):   0%|          | 0/603 [00:00<?, ? examples/s]"
      ]
     },
     "metadata": {},
     "output_type": "display_data"
    },
    {
     "data": {
      "application/vnd.jupyter.widget-view+json": {
       "model_id": "0430f0ecd70640c9a211829297bd87a9",
       "version_major": 2,
       "version_minor": 0
      },
      "text/plain": [
       "Saving the dataset (0/1 shards):   0%|          | 0/2021 [00:00<?, ? examples/s]"
      ]
     },
     "metadata": {},
     "output_type": "display_data"
    },
    {
     "data": {
      "application/vnd.jupyter.widget-view+json": {
       "model_id": "397ca7ea947641fe8a45c02a4f53f967",
       "version_major": 2,
       "version_minor": 0
      },
      "text/plain": [
       "Saving the dataset (0/1 shards):   0%|          | 0/673 [00:00<?, ? examples/s]"
      ]
     },
     "metadata": {},
     "output_type": "display_data"
    },
    {
     "data": {
      "application/vnd.jupyter.widget-view+json": {
       "model_id": "66b706ea67c2473fbcb56715e5f90e1d",
       "version_major": 2,
       "version_minor": 0
      },
      "text/plain": [
       "Saving the dataset (0/1 shards):   0%|          | 0/672 [00:00<?, ? examples/s]"
      ]
     },
     "metadata": {},
     "output_type": "display_data"
    },
    {
     "data": {
      "application/vnd.jupyter.widget-view+json": {
       "model_id": "aee79746e3a24a92b81d57689a1047bf",
       "version_major": 2,
       "version_minor": 0
      },
      "text/plain": [
       "Saving the dataset (0/1 shards):   0%|          | 0/2021 [00:00<?, ? examples/s]"
      ]
     },
     "metadata": {},
     "output_type": "display_data"
    },
    {
     "data": {
      "application/vnd.jupyter.widget-view+json": {
       "model_id": "66a8adb183c144dabf19c8b1ad124370",
       "version_major": 2,
       "version_minor": 0
      },
      "text/plain": [
       "Saving the dataset (0/1 shards):   0%|          | 0/673 [00:00<?, ? examples/s]"
      ]
     },
     "metadata": {},
     "output_type": "display_data"
    },
    {
     "data": {
      "application/vnd.jupyter.widget-view+json": {
       "model_id": "a0d10f128d094be9af292c6f2479c175",
       "version_major": 2,
       "version_minor": 0
      },
      "text/plain": [
       "Saving the dataset (0/1 shards):   0%|          | 0/672 [00:00<?, ? examples/s]"
      ]
     },
     "metadata": {},
     "output_type": "display_data"
    },
    {
     "data": {
      "application/vnd.jupyter.widget-view+json": {
       "model_id": "af1b2f8e3ddc4684bf2c8947969e438b",
       "version_major": 2,
       "version_minor": 0
      },
      "text/plain": [
       "Saving the dataset (0/1 shards):   0%|          | 0/2021 [00:00<?, ? examples/s]"
      ]
     },
     "metadata": {},
     "output_type": "display_data"
    },
    {
     "data": {
      "application/vnd.jupyter.widget-view+json": {
       "model_id": "b68d4dbc1ae042e5a8f8f4ffad77e777",
       "version_major": 2,
       "version_minor": 0
      },
      "text/plain": [
       "Saving the dataset (0/1 shards):   0%|          | 0/673 [00:00<?, ? examples/s]"
      ]
     },
     "metadata": {},
     "output_type": "display_data"
    },
    {
     "data": {
      "application/vnd.jupyter.widget-view+json": {
       "model_id": "95ead6d75aba458d822b37286b7fe574",
       "version_major": 2,
       "version_minor": 0
      },
      "text/plain": [
       "Saving the dataset (0/1 shards):   0%|          | 0/672 [00:00<?, ? examples/s]"
      ]
     },
     "metadata": {},
     "output_type": "display_data"
    },
    {
     "data": {
      "application/vnd.jupyter.widget-view+json": {
       "model_id": "b27052870b7d4cc59688d050ea0e71d1",
       "version_major": 2,
       "version_minor": 0
      },
      "text/plain": [
       "Saving the dataset (0/1 shards):   0%|          | 0/2008 [00:00<?, ? examples/s]"
      ]
     },
     "metadata": {},
     "output_type": "display_data"
    },
    {
     "data": {
      "application/vnd.jupyter.widget-view+json": {
       "model_id": "061d0dbf45394f2785798f7c91d3e293",
       "version_major": 2,
       "version_minor": 0
      },
      "text/plain": [
       "Saving the dataset (0/1 shards):   0%|          | 0/668 [00:00<?, ? examples/s]"
      ]
     },
     "metadata": {},
     "output_type": "display_data"
    },
    {
     "data": {
      "application/vnd.jupyter.widget-view+json": {
       "model_id": "9874474843174dcfa0066dc45ea204d5",
       "version_major": 2,
       "version_minor": 0
      },
      "text/plain": [
       "Saving the dataset (0/1 shards):   0%|          | 0/669 [00:00<?, ? examples/s]"
      ]
     },
     "metadata": {},
     "output_type": "display_data"
    },
    {
     "data": {
      "application/vnd.jupyter.widget-view+json": {
       "model_id": "db43004590bf4a5585ed537ae782f52d",
       "version_major": 2,
       "version_minor": 0
      },
      "text/plain": [
       "Saving the dataset (0/1 shards):   0%|          | 0/2008 [00:00<?, ? examples/s]"
      ]
     },
     "metadata": {},
     "output_type": "display_data"
    },
    {
     "data": {
      "application/vnd.jupyter.widget-view+json": {
       "model_id": "0d201d2e549b4d8486683750caddd0fd",
       "version_major": 2,
       "version_minor": 0
      },
      "text/plain": [
       "Saving the dataset (0/1 shards):   0%|          | 0/668 [00:00<?, ? examples/s]"
      ]
     },
     "metadata": {},
     "output_type": "display_data"
    },
    {
     "data": {
      "application/vnd.jupyter.widget-view+json": {
       "model_id": "b6b7908ea35144118b74068f1060b843",
       "version_major": 2,
       "version_minor": 0
      },
      "text/plain": [
       "Saving the dataset (0/1 shards):   0%|          | 0/669 [00:00<?, ? examples/s]"
      ]
     },
     "metadata": {},
     "output_type": "display_data"
    }
   ],
   "source": [
    "for key in site_name_dict.keys():\n",
    "    if key == 7:\n",
    "        query = 'SITE==1 or SITE==2 or SITE==3'\n",
    "    elif key == 6:\n",
    "        query = \"SITE==1 or SITE==2\"\n",
    "    else:\n",
    "        query = f'SITE=={key}'\n",
    "\n",
    "    datasets.arrow_dataset.Dataset.from_pandas(\n",
    "        df_train.query(query), preserve_index=False\n",
    "    ).save_to_disk(output_path / f\"TTS/dfcmplt_SITE{key}_Train.arrow\")\n",
    "\n",
    "\n",
    "    datasets.arrow_dataset.Dataset.from_pandas(\n",
    "        df_test.query(query), preserve_index=False\n",
    "    ).save_to_disk(output_path / f\"TTS/dfcmplt_SITE{key}_Test.arrow\")\n",
    "\n",
    "    datasets.arrow_dataset.Dataset.from_pandas(\n",
    "        df_holdout.query(query), preserve_index=False\n",
    "    ).save_to_disk(output_path / f\"TTS/dfcmplt_SITE{key}_Holdout.arrow\")\n",
    "\n",
    "\n",
    "\n",
    "    # Versions with no LongCovid cols\n",
    "    datasets.arrow_dataset.Dataset.from_pandas(\n",
    "        df_train[lColPreLC].query(query), preserve_index=False\n",
    "    ).save_to_disk(output_path / f\"TTS/dfcmpltPreLC_SITE{key}_Train.arrow\")\n",
    "\n",
    "    datasets.arrow_dataset.Dataset.from_pandas(\n",
    "        df_test[lColPreLC].query(query), preserve_index=False\n",
    "    ).save_to_disk(output_path / f\"TTS/dfcmpltPreLC_SITE{key}_Test.arrow\")\n",
    "\n",
    "    datasets.arrow_dataset.Dataset.from_pandas(\n",
    "        df_holdout[lColPreLC].query(query), preserve_index=False\n",
    "    ).save_to_disk(output_path / f\"TTS/dfcmpltPreLC_SITE{key}_Holdout.arrow\")\n",
    "    \n",
    "    # lColPreLC2 = remove mode of diag from prelc cols\n",
    "    datasets.arrow_dataset.Dataset.from_pandas(\n",
    "        df_train[lColPreLC2].query(query), preserve_index=False\n",
    "    ).save_to_disk(output_path / f\"TTS/dfcmpltPreLC2_SITE{key}_Train.arrow\")\n",
    "\n",
    "    datasets.arrow_dataset.Dataset.from_pandas(\n",
    "        df_test[lColPreLC2].query(query), preserve_index=False\n",
    "    ).save_to_disk(output_path / f\"TTS/dfcmpltPreLC2_SITE{key}_Test.arrow\")\n",
    "\n",
    "    datasets.arrow_dataset.Dataset.from_pandas(\n",
    "        df_holdout[lColPreLC2].query(query), preserve_index=False\n",
    "    ).save_to_disk(output_path / f\"TTS/dfcmpltPreLC2_SITE{key}_Holdout.arrow\")\n",
    "    \n",
    "    \n",
    "    #lColPreLC3 = remove problematic patients\n",
    "    datasets.arrow_dataset.Dataset.from_pandas(\n",
    "        df_train_LC3[lColPreLC3].query(query), preserve_index=False\n",
    "    ).save_to_disk(output_path / f\"TTS/dfcmpltPreLC3_SITE{key}_Train.arrow\")\n",
    "\n",
    "    datasets.arrow_dataset.Dataset.from_pandas(\n",
    "        df_test_LC3[lColPreLC3].query(query), preserve_index=False\n",
    "    ).save_to_disk(output_path / f\"TTS/dfcmpltPreLC3_SITE{key}_Test.arrow\")\n",
    "\n",
    "    datasets.arrow_dataset.Dataset.from_pandas(\n",
    "        df_holdout_LC3[lColPreLC3].query(query), preserve_index=False\n",
    "    ).save_to_disk(output_path / f\"TTS/dfcmpltPreLC3_SITE{key}_Holdout.arrow\")\n",
    "    \n",
    "    #lColPreLC3 = remove severity variable\n",
    "    datasets.arrow_dataset.Dataset.from_pandas(\n",
    "        df_train_LC4.query(query), preserve_index=False\n",
    "    ).save_to_disk(output_path / f\"TTS/dfcmpltPreLC4_SITE{key}_Train.arrow\")\n",
    "\n",
    "    datasets.arrow_dataset.Dataset.from_pandas(\n",
    "        df_test_LC4.query(query), preserve_index=False\n",
    "    ).save_to_disk(output_path / f\"TTS/dfcmpltPreLC4_SITE{key}_Test.arrow\")\n",
    "\n",
    "    datasets.arrow_dataset.Dataset.from_pandas(\n",
    "        df_holdout_LC4.query(query), preserve_index=False\n",
    "    ).save_to_disk(output_path / f\"TTS/dfcmpltPreLC4_SITE{key}_Holdout.arrow\")"
   ]
  },
  {
   "cell_type": "code",
   "execution_count": null,
   "metadata": {},
   "outputs": [],
   "source": []
  },
  {
   "cell_type": "markdown",
   "metadata": {},
   "source": [
    "# ---- BELOW ARCHIVED April 30 \n",
    "- based on changes made with filling in data with missing values and assusmptions\n",
    "- Confirmed by emails to team on april 28 and 29\n"
   ]
  },
  {
   "cell_type": "markdown",
   "metadata": {},
   "source": [
    "## Split T81"
   ]
  },
  {
   "cell_type": "code",
   "execution_count": 19,
   "metadata": {},
   "outputs": [],
   "source": [
    "# Create combined variable to stratify on both LC_STATUS and SITE\n",
    "df81[\"LC_STATUS_SITE\"] = df81[\"LC_STATUS\"] + \"_\" + df81[\"SITE\"].astype(str)\n",
    "\n",
    "df_train81, df_test81, df_holdout81 = straify_train_test_holdout(df81, 'LC_STATUS', 'LC_STATUS_SITE', test_size = 0.2, holdout_size = 0.2, random_state = 42)"
   ]
  },
  {
   "cell_type": "markdown",
   "metadata": {},
   "source": [
    "Verfiy stratification accurate"
   ]
  },
  {
   "cell_type": "code",
   "execution_count": 20,
   "metadata": {},
   "outputs": [
    {
     "data": {
      "text/html": [
       "<div>\n",
       "<style scoped>\n",
       "    .dataframe tbody tr th:only-of-type {\n",
       "        vertical-align: middle;\n",
       "    }\n",
       "\n",
       "    .dataframe tbody tr th {\n",
       "        vertical-align: top;\n",
       "    }\n",
       "\n",
       "    .dataframe thead th {\n",
       "        text-align: right;\n",
       "    }\n",
       "</style>\n",
       "<table border=\"1\" class=\"dataframe\">\n",
       "  <thead>\n",
       "    <tr style=\"text-align: right;\">\n",
       "      <th>SITE</th>\n",
       "      <th>1</th>\n",
       "      <th>2</th>\n",
       "      <th>3</th>\n",
       "      <th>4</th>\n",
       "      <th>5</th>\n",
       "    </tr>\n",
       "    <tr>\n",
       "      <th>LC_STATUS</th>\n",
       "      <th></th>\n",
       "      <th></th>\n",
       "      <th></th>\n",
       "      <th></th>\n",
       "      <th></th>\n",
       "    </tr>\n",
       "  </thead>\n",
       "  <tbody>\n",
       "    <tr>\n",
       "      <th>HC</th>\n",
       "      <td>0.133803</td>\n",
       "      <td>0.000000</td>\n",
       "      <td>0.009756</td>\n",
       "      <td>0.0125</td>\n",
       "      <td>0.068966</td>\n",
       "    </tr>\n",
       "    <tr>\n",
       "      <th>LC_NEG</th>\n",
       "      <td>0.725352</td>\n",
       "      <td>0.685355</td>\n",
       "      <td>0.209756</td>\n",
       "      <td>0.0125</td>\n",
       "      <td>0.557994</td>\n",
       "    </tr>\n",
       "    <tr>\n",
       "      <th>LC_POS</th>\n",
       "      <td>0.140845</td>\n",
       "      <td>0.314645</td>\n",
       "      <td>0.780488</td>\n",
       "      <td>0.9750</td>\n",
       "      <td>0.373041</td>\n",
       "    </tr>\n",
       "  </tbody>\n",
       "</table>\n",
       "</div>"
      ],
      "text/plain": [
       "SITE              1         2         3       4         5\n",
       "LC_STATUS                                                \n",
       "HC         0.133803  0.000000  0.009756  0.0125  0.068966\n",
       "LC_NEG     0.725352  0.685355  0.209756  0.0125  0.557994\n",
       "LC_POS     0.140845  0.314645  0.780488  0.9750  0.373041"
      ]
     },
     "execution_count": 20,
     "metadata": {},
     "output_type": "execute_result"
    }
   ],
   "source": [
    "pd.crosstab(df_train81[\"LC_STATUS\"], df_train81[\"SITE\"], normalize=\"columns\")"
   ]
  },
  {
   "cell_type": "code",
   "execution_count": 21,
   "metadata": {},
   "outputs": [
    {
     "data": {
      "text/html": [
       "<div>\n",
       "<style scoped>\n",
       "    .dataframe tbody tr th:only-of-type {\n",
       "        vertical-align: middle;\n",
       "    }\n",
       "\n",
       "    .dataframe tbody tr th {\n",
       "        vertical-align: top;\n",
       "    }\n",
       "\n",
       "    .dataframe thead th {\n",
       "        text-align: right;\n",
       "    }\n",
       "</style>\n",
       "<table border=\"1\" class=\"dataframe\">\n",
       "  <thead>\n",
       "    <tr style=\"text-align: right;\">\n",
       "      <th>SITE</th>\n",
       "      <th>1</th>\n",
       "      <th>2</th>\n",
       "      <th>3</th>\n",
       "      <th>4</th>\n",
       "      <th>5</th>\n",
       "    </tr>\n",
       "    <tr>\n",
       "      <th>LC_STATUS</th>\n",
       "      <th></th>\n",
       "      <th></th>\n",
       "      <th></th>\n",
       "      <th></th>\n",
       "      <th></th>\n",
       "    </tr>\n",
       "  </thead>\n",
       "  <tbody>\n",
       "    <tr>\n",
       "      <th>HC</th>\n",
       "      <td>0.145833</td>\n",
       "      <td>0.000000</td>\n",
       "      <td>0.000000</td>\n",
       "      <td>0.015038</td>\n",
       "      <td>0.074074</td>\n",
       "    </tr>\n",
       "    <tr>\n",
       "      <th>LC_NEG</th>\n",
       "      <td>0.729167</td>\n",
       "      <td>0.685567</td>\n",
       "      <td>0.208955</td>\n",
       "      <td>0.007519</td>\n",
       "      <td>0.555556</td>\n",
       "    </tr>\n",
       "    <tr>\n",
       "      <th>LC_POS</th>\n",
       "      <td>0.125000</td>\n",
       "      <td>0.314433</td>\n",
       "      <td>0.791045</td>\n",
       "      <td>0.977444</td>\n",
       "      <td>0.370370</td>\n",
       "    </tr>\n",
       "  </tbody>\n",
       "</table>\n",
       "</div>"
      ],
      "text/plain": [
       "SITE              1         2         3         4         5\n",
       "LC_STATUS                                                  \n",
       "HC         0.145833  0.000000  0.000000  0.015038  0.074074\n",
       "LC_NEG     0.729167  0.685567  0.208955  0.007519  0.555556\n",
       "LC_POS     0.125000  0.314433  0.791045  0.977444  0.370370"
      ]
     },
     "execution_count": 21,
     "metadata": {},
     "output_type": "execute_result"
    }
   ],
   "source": [
    "pd.crosstab(df_test81[\"LC_STATUS\"], df_test81[\"SITE\"], normalize=\"columns\")"
   ]
  },
  {
   "cell_type": "code",
   "execution_count": 22,
   "metadata": {},
   "outputs": [
    {
     "data": {
      "text/html": [
       "<div>\n",
       "<style scoped>\n",
       "    .dataframe tbody tr th:only-of-type {\n",
       "        vertical-align: middle;\n",
       "    }\n",
       "\n",
       "    .dataframe tbody tr th {\n",
       "        vertical-align: top;\n",
       "    }\n",
       "\n",
       "    .dataframe thead th {\n",
       "        text-align: right;\n",
       "    }\n",
       "</style>\n",
       "<table border=\"1\" class=\"dataframe\">\n",
       "  <thead>\n",
       "    <tr style=\"text-align: right;\">\n",
       "      <th>SITE</th>\n",
       "      <th>1</th>\n",
       "      <th>2</th>\n",
       "      <th>3</th>\n",
       "      <th>4</th>\n",
       "      <th>5</th>\n",
       "    </tr>\n",
       "    <tr>\n",
       "      <th>LC_STATUS</th>\n",
       "      <th></th>\n",
       "      <th></th>\n",
       "      <th></th>\n",
       "      <th></th>\n",
       "      <th></th>\n",
       "    </tr>\n",
       "  </thead>\n",
       "  <tbody>\n",
       "    <tr>\n",
       "      <th>HC</th>\n",
       "      <td>0.127660</td>\n",
       "      <td>0.000000</td>\n",
       "      <td>0.014706</td>\n",
       "      <td>0.015038</td>\n",
       "      <td>0.074074</td>\n",
       "    </tr>\n",
       "    <tr>\n",
       "      <th>LC_NEG</th>\n",
       "      <td>0.723404</td>\n",
       "      <td>0.686106</td>\n",
       "      <td>0.205882</td>\n",
       "      <td>0.007519</td>\n",
       "      <td>0.555556</td>\n",
       "    </tr>\n",
       "    <tr>\n",
       "      <th>LC_POS</th>\n",
       "      <td>0.148936</td>\n",
       "      <td>0.313894</td>\n",
       "      <td>0.779412</td>\n",
       "      <td>0.977444</td>\n",
       "      <td>0.370370</td>\n",
       "    </tr>\n",
       "  </tbody>\n",
       "</table>\n",
       "</div>"
      ],
      "text/plain": [
       "SITE              1         2         3         4         5\n",
       "LC_STATUS                                                  \n",
       "HC         0.127660  0.000000  0.014706  0.015038  0.074074\n",
       "LC_NEG     0.723404  0.686106  0.205882  0.007519  0.555556\n",
       "LC_POS     0.148936  0.313894  0.779412  0.977444  0.370370"
      ]
     },
     "execution_count": 22,
     "metadata": {},
     "output_type": "execute_result"
    }
   ],
   "source": [
    "pd.crosstab(df_holdout81[\"LC_STATUS\"], df_holdout81[\"SITE\"], normalize=\"columns\")"
   ]
  },
  {
   "cell_type": "markdown",
   "metadata": {},
   "source": [
    "## Split T85"
   ]
  },
  {
   "cell_type": "code",
   "execution_count": 23,
   "metadata": {},
   "outputs": [],
   "source": [
    "# Create combined variable to stratify on both LC_STATUS and SITE\n",
    "df85[\"LC_STATUS_SITE\"] = df85[\"LC_STATUS\"] + \"_\" + df85[\"SITE\"].astype(str)\n",
    "\n",
    "df_train85, df_test85, df_holdout85 = straify_train_test_holdout(df85, 'LC_STATUS', 'LC_STATUS_SITE', test_size = 0.2, holdout_size = 0.2, random_state = 42)"
   ]
  },
  {
   "cell_type": "markdown",
   "metadata": {},
   "source": [
    "Verfiy stratification accurate"
   ]
  },
  {
   "cell_type": "code",
   "execution_count": 24,
   "metadata": {},
   "outputs": [
    {
     "data": {
      "text/html": [
       "<div>\n",
       "<style scoped>\n",
       "    .dataframe tbody tr th:only-of-type {\n",
       "        vertical-align: middle;\n",
       "    }\n",
       "\n",
       "    .dataframe tbody tr th {\n",
       "        vertical-align: top;\n",
       "    }\n",
       "\n",
       "    .dataframe thead th {\n",
       "        text-align: right;\n",
       "    }\n",
       "</style>\n",
       "<table border=\"1\" class=\"dataframe\">\n",
       "  <thead>\n",
       "    <tr style=\"text-align: right;\">\n",
       "      <th>SITE</th>\n",
       "      <th>1</th>\n",
       "      <th>2</th>\n",
       "      <th>3</th>\n",
       "      <th>4</th>\n",
       "      <th>5</th>\n",
       "    </tr>\n",
       "    <tr>\n",
       "      <th>LC_STATUS</th>\n",
       "      <th></th>\n",
       "      <th></th>\n",
       "      <th></th>\n",
       "      <th></th>\n",
       "      <th></th>\n",
       "    </tr>\n",
       "  </thead>\n",
       "  <tbody>\n",
       "    <tr>\n",
       "      <th>HC</th>\n",
       "      <td>0.134752</td>\n",
       "      <td>0.000000</td>\n",
       "      <td>0.009756</td>\n",
       "      <td>0.0125</td>\n",
       "      <td>0.029610</td>\n",
       "    </tr>\n",
       "    <tr>\n",
       "      <th>LC_NEG</th>\n",
       "      <td>0.730496</td>\n",
       "      <td>0.685355</td>\n",
       "      <td>0.209756</td>\n",
       "      <td>0.0125</td>\n",
       "      <td>0.753701</td>\n",
       "    </tr>\n",
       "    <tr>\n",
       "      <th>LC_POS</th>\n",
       "      <td>0.134752</td>\n",
       "      <td>0.314645</td>\n",
       "      <td>0.780488</td>\n",
       "      <td>0.9750</td>\n",
       "      <td>0.216689</td>\n",
       "    </tr>\n",
       "  </tbody>\n",
       "</table>\n",
       "</div>"
      ],
      "text/plain": [
       "SITE              1         2         3       4         5\n",
       "LC_STATUS                                                \n",
       "HC         0.134752  0.000000  0.009756  0.0125  0.029610\n",
       "LC_NEG     0.730496  0.685355  0.209756  0.0125  0.753701\n",
       "LC_POS     0.134752  0.314645  0.780488  0.9750  0.216689"
      ]
     },
     "execution_count": 24,
     "metadata": {},
     "output_type": "execute_result"
    }
   ],
   "source": [
    "pd.crosstab(df_train85[\"LC_STATUS\"], df_train85[\"SITE\"], normalize=\"columns\")"
   ]
  },
  {
   "cell_type": "code",
   "execution_count": 25,
   "metadata": {},
   "outputs": [
    {
     "data": {
      "text/html": [
       "<div>\n",
       "<style scoped>\n",
       "    .dataframe tbody tr th:only-of-type {\n",
       "        vertical-align: middle;\n",
       "    }\n",
       "\n",
       "    .dataframe tbody tr th {\n",
       "        vertical-align: top;\n",
       "    }\n",
       "\n",
       "    .dataframe thead th {\n",
       "        text-align: right;\n",
       "    }\n",
       "</style>\n",
       "<table border=\"1\" class=\"dataframe\">\n",
       "  <thead>\n",
       "    <tr style=\"text-align: right;\">\n",
       "      <th>SITE</th>\n",
       "      <th>1</th>\n",
       "      <th>2</th>\n",
       "      <th>3</th>\n",
       "      <th>4</th>\n",
       "      <th>5</th>\n",
       "    </tr>\n",
       "    <tr>\n",
       "      <th>LC_STATUS</th>\n",
       "      <th></th>\n",
       "      <th></th>\n",
       "      <th></th>\n",
       "      <th></th>\n",
       "      <th></th>\n",
       "    </tr>\n",
       "  </thead>\n",
       "  <tbody>\n",
       "    <tr>\n",
       "      <th>HC</th>\n",
       "      <td>0.142857</td>\n",
       "      <td>0.000000</td>\n",
       "      <td>0.000000</td>\n",
       "      <td>0.015038</td>\n",
       "      <td>0.032258</td>\n",
       "    </tr>\n",
       "    <tr>\n",
       "      <th>LC_NEG</th>\n",
       "      <td>0.714286</td>\n",
       "      <td>0.685567</td>\n",
       "      <td>0.208955</td>\n",
       "      <td>0.007519</td>\n",
       "      <td>0.754032</td>\n",
       "    </tr>\n",
       "    <tr>\n",
       "      <th>LC_POS</th>\n",
       "      <td>0.142857</td>\n",
       "      <td>0.314433</td>\n",
       "      <td>0.791045</td>\n",
       "      <td>0.977444</td>\n",
       "      <td>0.213710</td>\n",
       "    </tr>\n",
       "  </tbody>\n",
       "</table>\n",
       "</div>"
      ],
      "text/plain": [
       "SITE              1         2         3         4         5\n",
       "LC_STATUS                                                  \n",
       "HC         0.142857  0.000000  0.000000  0.015038  0.032258\n",
       "LC_NEG     0.714286  0.685567  0.208955  0.007519  0.754032\n",
       "LC_POS     0.142857  0.314433  0.791045  0.977444  0.213710"
      ]
     },
     "execution_count": 25,
     "metadata": {},
     "output_type": "execute_result"
    }
   ],
   "source": [
    "pd.crosstab(df_test85[\"LC_STATUS\"], df_test85[\"SITE\"], normalize=\"columns\")"
   ]
  },
  {
   "cell_type": "code",
   "execution_count": 26,
   "metadata": {},
   "outputs": [
    {
     "data": {
      "text/html": [
       "<div>\n",
       "<style scoped>\n",
       "    .dataframe tbody tr th:only-of-type {\n",
       "        vertical-align: middle;\n",
       "    }\n",
       "\n",
       "    .dataframe tbody tr th {\n",
       "        vertical-align: top;\n",
       "    }\n",
       "\n",
       "    .dataframe thead th {\n",
       "        text-align: right;\n",
       "    }\n",
       "</style>\n",
       "<table border=\"1\" class=\"dataframe\">\n",
       "  <thead>\n",
       "    <tr style=\"text-align: right;\">\n",
       "      <th>SITE</th>\n",
       "      <th>1</th>\n",
       "      <th>2</th>\n",
       "      <th>3</th>\n",
       "      <th>4</th>\n",
       "      <th>5</th>\n",
       "    </tr>\n",
       "    <tr>\n",
       "      <th>LC_STATUS</th>\n",
       "      <th></th>\n",
       "      <th></th>\n",
       "      <th></th>\n",
       "      <th></th>\n",
       "      <th></th>\n",
       "    </tr>\n",
       "  </thead>\n",
       "  <tbody>\n",
       "    <tr>\n",
       "      <th>HC</th>\n",
       "      <td>0.127660</td>\n",
       "      <td>0.000000</td>\n",
       "      <td>0.014706</td>\n",
       "      <td>0.015038</td>\n",
       "      <td>0.032129</td>\n",
       "    </tr>\n",
       "    <tr>\n",
       "      <th>LC_NEG</th>\n",
       "      <td>0.723404</td>\n",
       "      <td>0.686106</td>\n",
       "      <td>0.205882</td>\n",
       "      <td>0.007519</td>\n",
       "      <td>0.751004</td>\n",
       "    </tr>\n",
       "    <tr>\n",
       "      <th>LC_POS</th>\n",
       "      <td>0.148936</td>\n",
       "      <td>0.313894</td>\n",
       "      <td>0.779412</td>\n",
       "      <td>0.977444</td>\n",
       "      <td>0.216867</td>\n",
       "    </tr>\n",
       "  </tbody>\n",
       "</table>\n",
       "</div>"
      ],
      "text/plain": [
       "SITE              1         2         3         4         5\n",
       "LC_STATUS                                                  \n",
       "HC         0.127660  0.000000  0.014706  0.015038  0.032129\n",
       "LC_NEG     0.723404  0.686106  0.205882  0.007519  0.751004\n",
       "LC_POS     0.148936  0.313894  0.779412  0.977444  0.216867"
      ]
     },
     "execution_count": 26,
     "metadata": {},
     "output_type": "execute_result"
    }
   ],
   "source": [
    "pd.crosstab(df_holdout85[\"LC_STATUS\"], df_holdout85[\"SITE\"], normalize=\"columns\")"
   ]
  },
  {
   "cell_type": "markdown",
   "metadata": {},
   "source": [
    "## Split DT"
   ]
  },
  {
   "cell_type": "code",
   "execution_count": 29,
   "metadata": {},
   "outputs": [],
   "source": [
    "# Create combined variable to stratify on both LC_STATUS and SITE\n",
    "dfDT[\"LC_STATUS_SITE\"] = dfDT[\"LC_STATUS\"] + \"_\" + dfDT[\"SITE\"].astype(str)\n",
    "\n",
    "df_trainDT, df_testDT, df_holdoutDT = straify_train_test_holdout(dfDT, 'LC_STATUS', 'LC_STATUS_SITE', test_size = 0.2, holdout_size = 0.2, random_state = 42)"
   ]
  },
  {
   "cell_type": "markdown",
   "metadata": {},
   "source": [
    "Verfiy stratification accurate"
   ]
  },
  {
   "cell_type": "code",
   "execution_count": null,
   "metadata": {},
   "outputs": [
    {
     "data": {
      "text/html": [
       "<div>\n",
       "<style scoped>\n",
       "    .dataframe tbody tr th:only-of-type {\n",
       "        vertical-align: middle;\n",
       "    }\n",
       "\n",
       "    .dataframe tbody tr th {\n",
       "        vertical-align: top;\n",
       "    }\n",
       "\n",
       "    .dataframe thead th {\n",
       "        text-align: right;\n",
       "    }\n",
       "</style>\n",
       "<table border=\"1\" class=\"dataframe\">\n",
       "  <thead>\n",
       "    <tr style=\"text-align: right;\">\n",
       "      <th>SITE</th>\n",
       "      <th>1</th>\n",
       "      <th>2</th>\n",
       "      <th>3</th>\n",
       "      <th>4</th>\n",
       "      <th>5</th>\n",
       "    </tr>\n",
       "    <tr>\n",
       "      <th>LC_STATUS</th>\n",
       "      <th></th>\n",
       "      <th></th>\n",
       "      <th></th>\n",
       "      <th></th>\n",
       "      <th></th>\n",
       "    </tr>\n",
       "  </thead>\n",
       "  <tbody>\n",
       "    <tr>\n",
       "      <th>HC</th>\n",
       "      <td>0.134752</td>\n",
       "      <td>0.000000</td>\n",
       "      <td>0.009756</td>\n",
       "      <td>0.0125</td>\n",
       "      <td>0.029610</td>\n",
       "    </tr>\n",
       "    <tr>\n",
       "      <th>LC_NEG</th>\n",
       "      <td>0.730496</td>\n",
       "      <td>0.685355</td>\n",
       "      <td>0.209756</td>\n",
       "      <td>0.0125</td>\n",
       "      <td>0.753701</td>\n",
       "    </tr>\n",
       "    <tr>\n",
       "      <th>LC_POS</th>\n",
       "      <td>0.134752</td>\n",
       "      <td>0.314645</td>\n",
       "      <td>0.780488</td>\n",
       "      <td>0.9750</td>\n",
       "      <td>0.216689</td>\n",
       "    </tr>\n",
       "  </tbody>\n",
       "</table>\n",
       "</div>"
      ],
      "text/plain": [
       "SITE              1         2         3       4         5\n",
       "LC_STATUS                                                \n",
       "HC         0.134752  0.000000  0.009756  0.0125  0.029610\n",
       "LC_NEG     0.730496  0.685355  0.209756  0.0125  0.753701\n",
       "LC_POS     0.134752  0.314645  0.780488  0.9750  0.216689"
      ]
     },
     "metadata": {},
     "output_type": "display_data"
    }
   ],
   "source": [
    "pd.crosstab(df_trainDT[\"LC_STATUS\"], df_trainDT[\"SITE\"], normalize=\"columns\")"
   ]
  },
  {
   "cell_type": "code",
   "execution_count": 30,
   "metadata": {},
   "outputs": [
    {
     "data": {
      "text/html": [
       "<div>\n",
       "<style scoped>\n",
       "    .dataframe tbody tr th:only-of-type {\n",
       "        vertical-align: middle;\n",
       "    }\n",
       "\n",
       "    .dataframe tbody tr th {\n",
       "        vertical-align: top;\n",
       "    }\n",
       "\n",
       "    .dataframe thead th {\n",
       "        text-align: right;\n",
       "    }\n",
       "</style>\n",
       "<table border=\"1\" class=\"dataframe\">\n",
       "  <thead>\n",
       "    <tr style=\"text-align: right;\">\n",
       "      <th>SITE</th>\n",
       "      <th>1</th>\n",
       "      <th>2</th>\n",
       "      <th>3</th>\n",
       "      <th>4</th>\n",
       "      <th>5</th>\n",
       "    </tr>\n",
       "    <tr>\n",
       "      <th>LC_STATUS</th>\n",
       "      <th></th>\n",
       "      <th></th>\n",
       "      <th></th>\n",
       "      <th></th>\n",
       "      <th></th>\n",
       "    </tr>\n",
       "  </thead>\n",
       "  <tbody>\n",
       "    <tr>\n",
       "      <th>HC</th>\n",
       "      <td>0.176471</td>\n",
       "      <td>0.000000</td>\n",
       "      <td>0.00000</td>\n",
       "      <td>0.014925</td>\n",
       "      <td>0.875</td>\n",
       "    </tr>\n",
       "    <tr>\n",
       "      <th>LC_NEG</th>\n",
       "      <td>0.470588</td>\n",
       "      <td>0.683478</td>\n",
       "      <td>0.19697</td>\n",
       "      <td>0.014925</td>\n",
       "      <td>0.125</td>\n",
       "    </tr>\n",
       "    <tr>\n",
       "      <th>LC_POS</th>\n",
       "      <td>0.352941</td>\n",
       "      <td>0.316522</td>\n",
       "      <td>0.80303</td>\n",
       "      <td>0.970149</td>\n",
       "      <td>0.000</td>\n",
       "    </tr>\n",
       "  </tbody>\n",
       "</table>\n",
       "</div>"
      ],
      "text/plain": [
       "SITE              1         2        3         4      5\n",
       "LC_STATUS                                              \n",
       "HC         0.176471  0.000000  0.00000  0.014925  0.875\n",
       "LC_NEG     0.470588  0.683478  0.19697  0.014925  0.125\n",
       "LC_POS     0.352941  0.316522  0.80303  0.970149  0.000"
      ]
     },
     "execution_count": 30,
     "metadata": {},
     "output_type": "execute_result"
    }
   ],
   "source": [
    "pd.crosstab(df_testDT[\"LC_STATUS\"], df_testDT[\"SITE\"], normalize=\"columns\")"
   ]
  },
  {
   "cell_type": "code",
   "execution_count": 31,
   "metadata": {},
   "outputs": [
    {
     "data": {
      "text/html": [
       "<div>\n",
       "<style scoped>\n",
       "    .dataframe tbody tr th:only-of-type {\n",
       "        vertical-align: middle;\n",
       "    }\n",
       "\n",
       "    .dataframe tbody tr th {\n",
       "        vertical-align: top;\n",
       "    }\n",
       "\n",
       "    .dataframe thead th {\n",
       "        text-align: right;\n",
       "    }\n",
       "</style>\n",
       "<table border=\"1\" class=\"dataframe\">\n",
       "  <thead>\n",
       "    <tr style=\"text-align: right;\">\n",
       "      <th>SITE</th>\n",
       "      <th>1</th>\n",
       "      <th>2</th>\n",
       "      <th>3</th>\n",
       "      <th>4</th>\n",
       "      <th>5</th>\n",
       "    </tr>\n",
       "    <tr>\n",
       "      <th>LC_STATUS</th>\n",
       "      <th></th>\n",
       "      <th></th>\n",
       "      <th></th>\n",
       "      <th></th>\n",
       "      <th></th>\n",
       "    </tr>\n",
       "  </thead>\n",
       "  <tbody>\n",
       "    <tr>\n",
       "      <th>HC</th>\n",
       "      <td>0.176471</td>\n",
       "      <td>0.000000</td>\n",
       "      <td>0.00000</td>\n",
       "      <td>0.015038</td>\n",
       "      <td>0.8</td>\n",
       "    </tr>\n",
       "    <tr>\n",
       "      <th>LC_NEG</th>\n",
       "      <td>0.470588</td>\n",
       "      <td>0.682927</td>\n",
       "      <td>0.19697</td>\n",
       "      <td>0.007519</td>\n",
       "      <td>0.1</td>\n",
       "    </tr>\n",
       "    <tr>\n",
       "      <th>LC_POS</th>\n",
       "      <td>0.352941</td>\n",
       "      <td>0.317073</td>\n",
       "      <td>0.80303</td>\n",
       "      <td>0.977444</td>\n",
       "      <td>0.1</td>\n",
       "    </tr>\n",
       "  </tbody>\n",
       "</table>\n",
       "</div>"
      ],
      "text/plain": [
       "SITE              1         2        3         4    5\n",
       "LC_STATUS                                            \n",
       "HC         0.176471  0.000000  0.00000  0.015038  0.8\n",
       "LC_NEG     0.470588  0.682927  0.19697  0.007519  0.1\n",
       "LC_POS     0.352941  0.317073  0.80303  0.977444  0.1"
      ]
     },
     "execution_count": 31,
     "metadata": {},
     "output_type": "execute_result"
    }
   ],
   "source": [
    "pd.crosstab(df_holdoutDT[\"LC_STATUS\"], df_holdoutDT[\"SITE\"], normalize=\"columns\")"
   ]
  },
  {
   "cell_type": "markdown",
   "metadata": {},
   "source": [
    "## Export"
   ]
  },
  {
   "cell_type": "code",
   "execution_count": 33,
   "metadata": {},
   "outputs": [
    {
     "data": {
      "application/vnd.jupyter.widget-view+json": {
       "model_id": "440bf1ff96884ae9a65f763ba71078ad",
       "version_major": 2,
       "version_minor": 0
      },
      "text/plain": [
       "Saving the dataset (0/1 shards):   0%|          | 0/2814 [00:00<?, ? examples/s]"
      ]
     },
     "metadata": {},
     "output_type": "display_data"
    },
    {
     "data": {
      "application/vnd.jupyter.widget-view+json": {
       "model_id": "3aac83980baa456c92d890aad7fe9855",
       "version_major": 2,
       "version_minor": 0
      },
      "text/plain": [
       "Saving the dataset (0/1 shards):   0%|          | 0/938 [00:00<?, ? examples/s]"
      ]
     },
     "metadata": {},
     "output_type": "display_data"
    },
    {
     "data": {
      "application/vnd.jupyter.widget-view+json": {
       "model_id": "d1a65d7b12534c0d99f77bf980226976",
       "version_major": 2,
       "version_minor": 0
      },
      "text/plain": [
       "Saving the dataset (0/1 shards):   0%|          | 0/939 [00:00<?, ? examples/s]"
      ]
     },
     "metadata": {},
     "output_type": "display_data"
    }
   ],
   "source": [
    "datasets.arrow_dataset.Dataset.from_pandas(df_train81,preserve_index=False).save_to_disk(\n",
    "    \"../Data/DataV2/TTS/T81_Train.arrow\"\n",
    ")\n",
    "datasets.arrow_dataset.Dataset.from_pandas(df_test81,preserve_index=False).save_to_disk(\n",
    "    \"../Data/DataV2/TTS/T81_Test.arrow\"\n",
    ")\n",
    "datasets.arrow_dataset.Dataset.from_pandas(df_holdout81,preserve_index=False).save_to_disk(\n",
    "    \"../Data/DataV2/TTS/T81_Holdout.arrow\"\n",
    ")"
   ]
  },
  {
   "cell_type": "code",
   "execution_count": 34,
   "metadata": {},
   "outputs": [
    {
     "data": {
      "application/vnd.jupyter.widget-view+json": {
       "model_id": "29541f7e966f4452b73a7c4216e3c2c3",
       "version_major": 2,
       "version_minor": 0
      },
      "text/plain": [
       "Saving the dataset (0/1 shards):   0%|          | 0/3237 [00:00<?, ? examples/s]"
      ]
     },
     "metadata": {},
     "output_type": "display_data"
    },
    {
     "data": {
      "application/vnd.jupyter.widget-view+json": {
       "model_id": "4875957f11d04151bec3033c033f5ad9",
       "version_major": 2,
       "version_minor": 0
      },
      "text/plain": [
       "Saving the dataset (0/1 shards):   0%|          | 0/1079 [00:00<?, ? examples/s]"
      ]
     },
     "metadata": {},
     "output_type": "display_data"
    },
    {
     "data": {
      "application/vnd.jupyter.widget-view+json": {
       "model_id": "202dbbe8ef58410da323ea77158e1e40",
       "version_major": 2,
       "version_minor": 0
      },
      "text/plain": [
       "Saving the dataset (0/1 shards):   0%|          | 0/1080 [00:00<?, ? examples/s]"
      ]
     },
     "metadata": {},
     "output_type": "display_data"
    }
   ],
   "source": [
    "datasets.arrow_dataset.Dataset.from_pandas(\n",
    "    df_train85, preserve_index=False\n",
    ").save_to_disk(\"../Data/DataV2/TTS/T85_Train.arrow\")\n",
    "datasets.arrow_dataset.Dataset.from_pandas(\n",
    "    df_test85, preserve_index=False\n",
    ").save_to_disk(\"../Data/DataV2/TTS/T85_Test.arrow\")\n",
    "datasets.arrow_dataset.Dataset.from_pandas(\n",
    "    df_holdout85, preserve_index=False\n",
    ").save_to_disk(\"../Data/DataV2/TTS/T85_Holdout.arrow\")"
   ]
  },
  {
   "cell_type": "code",
   "execution_count": 35,
   "metadata": {},
   "outputs": [
    {
     "data": {
      "application/vnd.jupyter.widget-view+json": {
       "model_id": "890093aed46c4bb5a7c0d379919d1e9f",
       "version_major": 2,
       "version_minor": 0
      },
      "text/plain": [
       "Saving the dataset (0/1 shards):   0%|          | 0/2400 [00:00<?, ? examples/s]"
      ]
     },
     "metadata": {},
     "output_type": "display_data"
    },
    {
     "data": {
      "application/vnd.jupyter.widget-view+json": {
       "model_id": "2097eb9f74fa483b9588b77cf7a41a49",
       "version_major": 2,
       "version_minor": 0
      },
      "text/plain": [
       "Saving the dataset (0/1 shards):   0%|          | 0/800 [00:00<?, ? examples/s]"
      ]
     },
     "metadata": {},
     "output_type": "display_data"
    },
    {
     "data": {
      "application/vnd.jupyter.widget-view+json": {
       "model_id": "e9a79adc6d8e45888dbaf8fa75c1db60",
       "version_major": 2,
       "version_minor": 0
      },
      "text/plain": [
       "Saving the dataset (0/1 shards):   0%|          | 0/800 [00:00<?, ? examples/s]"
      ]
     },
     "metadata": {},
     "output_type": "display_data"
    }
   ],
   "source": [
    "datasets.arrow_dataset.Dataset.from_pandas(\n",
    "    df_trainDT, preserve_index=False\n",
    ").save_to_disk(\"../Data/DataV2/TTS/DT_Train.arrow\")\n",
    "datasets.arrow_dataset.Dataset.from_pandas(\n",
    "    df_testDT, preserve_index=False\n",
    ").save_to_disk(\"../Data/DataV2/TTS/DT_Test.arrow\")\n",
    "datasets.arrow_dataset.Dataset.from_pandas(\n",
    "    df_holdoutDT, preserve_index=False\n",
    ").save_to_disk(\"../Data/DataV2/TTS/DT_Holdout.arrow\")"
   ]
  }
 ],
 "metadata": {
  "kernelspec": {
   "display_name": "R2024_LCO",
   "language": "python",
   "name": "python3"
  },
  "language_info": {
   "codemirror_mode": {
    "name": "ipython",
    "version": 3
   },
   "file_extension": ".py",
   "mimetype": "text/x-python",
   "name": "python",
   "nbconvert_exporter": "python",
   "pygments_lexer": "ipython3",
   "version": "3.11.8"
  }
 },
 "nbformat": 4,
 "nbformat_minor": 2
}
