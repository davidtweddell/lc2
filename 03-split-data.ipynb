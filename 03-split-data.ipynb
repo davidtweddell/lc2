{
 "cells": [
  {
   "cell_type": "code",
   "execution_count": 18,
   "metadata": {},
   "outputs": [
    {
     "name": "stdout",
     "output_type": "stream",
     "text": [
      "The autoreload extension is already loaded. To reload it, use:\n",
      "  %reload_ext autoreload\n"
     ]
    }
   ],
   "source": [
    "# reload magics\n",
    "%load_ext autoreload\n",
    "%autoreload 2\n",
    "\n",
    "import pandas as pd\n",
    "import numpy as np\n",
    "import matplotlib.pyplot as plt\n",
    "import seaborn as sns\n",
    "import datasets\n",
    "from project_modules.io import load_dataset_to_df\n",
    "\n",
    "from sklearn.model_selection import train_test_split\n",
    "\n",
    "# from project_modules.utils import get_logger\n",
    "# logger = get_logger(\"log-data-combine-split.log\")\n",
    "# # read the parameter file\n",
    "\n",
    "# from project_modules.utils import read_parameters\n",
    "# parms = read_parameters(\"/Users/david/projects/lc-project-data/project.yaml\")"
   ]
  },
  {
   "cell_type": "code",
   "execution_count": 19,
   "metadata": {},
   "outputs": [],
   "source": [
    "# from pathlib import Path\n",
    "# input_dir = Path(parms[\"dir_proc_data\"])\n",
    "# ipath = Path(input_dir / \"SYNTHETIC_dataset_dict\")\n",
    "# ipath"
   ]
  },
  {
   "cell_type": "code",
   "execution_count": 20,
   "metadata": {},
   "outputs": [],
   "source": [
    "df81 = load_dataset_to_df('../Data/DataV1/featuresThresAll81.arrow', verbose = True)\n",
    "df83 = load_dataset_to_df('../Data/DataV1/featuresThresAll83.arrow', verbose = True)\n",
    "df = load_dataset_to_df(\"../Data/DataV1/features.arrow\", verbose=True)"
   ]
  },
  {
   "cell_type": "markdown",
   "metadata": {},
   "source": [
    "### Do train-test-holdout split here and save as a new dataset"
   ]
  },
  {
   "cell_type": "code",
   "execution_count": 21,
   "metadata": {},
   "outputs": [
    {
     "data": {
      "text/html": [
       "<div>\n",
       "<style scoped>\n",
       "    .dataframe tbody tr th:only-of-type {\n",
       "        vertical-align: middle;\n",
       "    }\n",
       "\n",
       "    .dataframe tbody tr th {\n",
       "        vertical-align: top;\n",
       "    }\n",
       "\n",
       "    .dataframe thead th {\n",
       "        text-align: right;\n",
       "    }\n",
       "</style>\n",
       "<table border=\"1\" class=\"dataframe\">\n",
       "  <thead>\n",
       "    <tr style=\"text-align: right;\">\n",
       "      <th>dag</th>\n",
       "      <th>1</th>\n",
       "      <th>2</th>\n",
       "      <th>3</th>\n",
       "      <th>4</th>\n",
       "      <th>5</th>\n",
       "    </tr>\n",
       "    <tr>\n",
       "      <th>LC_STATUS</th>\n",
       "      <th></th>\n",
       "      <th></th>\n",
       "      <th></th>\n",
       "      <th></th>\n",
       "      <th></th>\n",
       "    </tr>\n",
       "  </thead>\n",
       "  <tbody>\n",
       "    <tr>\n",
       "      <th>HC</th>\n",
       "      <td>0.130802</td>\n",
       "      <td>0.000000</td>\n",
       "      <td>0.009967</td>\n",
       "      <td>0.013373</td>\n",
       "      <td>0.061889</td>\n",
       "    </tr>\n",
       "    <tr>\n",
       "      <th>LC_NEG</th>\n",
       "      <td>0.729958</td>\n",
       "      <td>0.685548</td>\n",
       "      <td>0.235880</td>\n",
       "      <td>0.010401</td>\n",
       "      <td>0.408795</td>\n",
       "    </tr>\n",
       "    <tr>\n",
       "      <th>LC_POS</th>\n",
       "      <td>0.139241</td>\n",
       "      <td>0.314452</td>\n",
       "      <td>0.754153</td>\n",
       "      <td>0.976226</td>\n",
       "      <td>0.529316</td>\n",
       "    </tr>\n",
       "  </tbody>\n",
       "</table>\n",
       "</div>"
      ],
      "text/plain": [
       "dag               1         2         3         4         5\n",
       "LC_STATUS                                                  \n",
       "HC         0.130802  0.000000  0.009967  0.013373  0.061889\n",
       "LC_NEG     0.729958  0.685548  0.235880  0.010401  0.408795\n",
       "LC_POS     0.139241  0.314452  0.754153  0.976226  0.529316"
      ]
     },
     "execution_count": 21,
     "metadata": {},
     "output_type": "execute_result"
    }
   ],
   "source": [
    "pd.crosstab(df81['LC_STATUS'], df81['dag'], normalize='columns')"
   ]
  },
  {
   "cell_type": "code",
   "execution_count": 22,
   "metadata": {},
   "outputs": [
    {
     "data": {
      "text/html": [
       "<div>\n",
       "<style scoped>\n",
       "    .dataframe tbody tr th:only-of-type {\n",
       "        vertical-align: middle;\n",
       "    }\n",
       "\n",
       "    .dataframe tbody tr th {\n",
       "        vertical-align: top;\n",
       "    }\n",
       "\n",
       "    .dataframe thead th {\n",
       "        text-align: right;\n",
       "    }\n",
       "</style>\n",
       "<table border=\"1\" class=\"dataframe\">\n",
       "  <thead>\n",
       "    <tr style=\"text-align: right;\">\n",
       "      <th>dag</th>\n",
       "      <th>1</th>\n",
       "      <th>2</th>\n",
       "      <th>3</th>\n",
       "      <th>4</th>\n",
       "      <th>5</th>\n",
       "    </tr>\n",
       "    <tr>\n",
       "      <th>LC_STATUS</th>\n",
       "      <th></th>\n",
       "      <th></th>\n",
       "      <th></th>\n",
       "      <th></th>\n",
       "      <th></th>\n",
       "    </tr>\n",
       "  </thead>\n",
       "  <tbody>\n",
       "    <tr>\n",
       "      <th>HC</th>\n",
       "      <td>0.130802</td>\n",
       "      <td>0.000000</td>\n",
       "      <td>0.009967</td>\n",
       "      <td>0.013373</td>\n",
       "      <td>0.027104</td>\n",
       "    </tr>\n",
       "    <tr>\n",
       "      <th>LC_NEG</th>\n",
       "      <td>0.729958</td>\n",
       "      <td>0.685548</td>\n",
       "      <td>0.235880</td>\n",
       "      <td>0.010401</td>\n",
       "      <td>0.589158</td>\n",
       "    </tr>\n",
       "    <tr>\n",
       "      <th>LC_POS</th>\n",
       "      <td>0.139241</td>\n",
       "      <td>0.314452</td>\n",
       "      <td>0.754153</td>\n",
       "      <td>0.976226</td>\n",
       "      <td>0.383738</td>\n",
       "    </tr>\n",
       "  </tbody>\n",
       "</table>\n",
       "</div>"
      ],
      "text/plain": [
       "dag               1         2         3         4         5\n",
       "LC_STATUS                                                  \n",
       "HC         0.130802  0.000000  0.009967  0.013373  0.027104\n",
       "LC_NEG     0.729958  0.685548  0.235880  0.010401  0.589158\n",
       "LC_POS     0.139241  0.314452  0.754153  0.976226  0.383738"
      ]
     },
     "execution_count": 22,
     "metadata": {},
     "output_type": "execute_result"
    }
   ],
   "source": [
    "pd.crosstab(df83[\"LC_STATUS\"], df83[\"dag\"], normalize=\"columns\")"
   ]
  },
  {
   "cell_type": "code",
   "execution_count": 23,
   "metadata": {},
   "outputs": [
    {
     "data": {
      "text/html": [
       "<div>\n",
       "<style scoped>\n",
       "    .dataframe tbody tr th:only-of-type {\n",
       "        vertical-align: middle;\n",
       "    }\n",
       "\n",
       "    .dataframe tbody tr th {\n",
       "        vertical-align: top;\n",
       "    }\n",
       "\n",
       "    .dataframe thead th {\n",
       "        text-align: right;\n",
       "    }\n",
       "</style>\n",
       "<table border=\"1\" class=\"dataframe\">\n",
       "  <thead>\n",
       "    <tr style=\"text-align: right;\">\n",
       "      <th>dag</th>\n",
       "      <th>1</th>\n",
       "      <th>2</th>\n",
       "      <th>3</th>\n",
       "      <th>4</th>\n",
       "      <th>5</th>\n",
       "    </tr>\n",
       "    <tr>\n",
       "      <th>LC_STATUS</th>\n",
       "      <th></th>\n",
       "      <th></th>\n",
       "      <th></th>\n",
       "      <th></th>\n",
       "      <th></th>\n",
       "    </tr>\n",
       "  </thead>\n",
       "  <tbody>\n",
       "    <tr>\n",
       "      <th>HC</th>\n",
       "      <td>0.097179</td>\n",
       "      <td>0.000000</td>\n",
       "      <td>0.009967</td>\n",
       "      <td>0.011307</td>\n",
       "      <td>0.025798</td>\n",
       "    </tr>\n",
       "    <tr>\n",
       "      <th>LC_NEG</th>\n",
       "      <td>0.557994</td>\n",
       "      <td>0.685548</td>\n",
       "      <td>0.235880</td>\n",
       "      <td>0.160804</td>\n",
       "      <td>0.601494</td>\n",
       "    </tr>\n",
       "    <tr>\n",
       "      <th>LC_POS</th>\n",
       "      <td>0.344828</td>\n",
       "      <td>0.314452</td>\n",
       "      <td>0.754153</td>\n",
       "      <td>0.827889</td>\n",
       "      <td>0.372709</td>\n",
       "    </tr>\n",
       "  </tbody>\n",
       "</table>\n",
       "</div>"
      ],
      "text/plain": [
       "dag               1         2         3         4         5\n",
       "LC_STATUS                                                  \n",
       "HC         0.097179  0.000000  0.009967  0.011307  0.025798\n",
       "LC_NEG     0.557994  0.685548  0.235880  0.160804  0.601494\n",
       "LC_POS     0.344828  0.314452  0.754153  0.827889  0.372709"
      ]
     },
     "execution_count": 23,
     "metadata": {},
     "output_type": "execute_result"
    }
   ],
   "source": [
    "pd.crosstab(df[\"LC_STATUS\"], df[\"dag\"], normalize=\"columns\")"
   ]
  },
  {
   "cell_type": "markdown",
   "metadata": {},
   "source": [
    "Note: Proprotion of LC_STATUS retained by T81 and T83 are different from original groups"
   ]
  },
  {
   "cell_type": "code",
   "execution_count": 24,
   "metadata": {},
   "outputs": [],
   "source": [
    "def straify_train_test_holdout(df, labelVar, stratifyCol, test_size = 0.2, holdout_size = 0.2, random_state = 42 ):\n",
    "    from sklearn.model_selection import train_test_split\n",
    "    df_train, df_holdout = train_test_split(df, test_size = holdout_size, random_state = random_state, stratify = df['LC_STATUS'])\n",
    "    # Split the data into training and holdout sets\n",
    "    df_train, df_holdout = train_test_split(\n",
    "        df,\n",
    "        test_size=holdout_size,\n",
    "        stratify=df[stratifyCol],\n",
    "        random_state=42,\n",
    "    )\n",
    "\n",
    "    df_train, df_test = train_test_split(\n",
    "        df_train,\n",
    "        test_size=test_size / (1 - holdout_size),\n",
    "        random_state=random_state,\n",
    "        stratify=df_train[stratifyCol],\n",
    "    )\n",
    "    return df_train, df_test, df_holdout"
   ]
  },
  {
   "cell_type": "markdown",
   "metadata": {},
   "source": [
    "## Split T81"
   ]
  },
  {
   "cell_type": "code",
   "execution_count": 25,
   "metadata": {},
   "outputs": [],
   "source": [
    "# Create combined variable to stratify on both LC_STATUS and dag\n",
    "df81[\"LC_STATUS_DAG\"] = df81[\"LC_STATUS\"] + \"_\" + df81[\"dag\"].astype(str)\n",
    "\n",
    "df_train81, df_test81, df_holdout81 = straify_train_test_holdout(df81, 'LC_STATUS', 'LC_STATUS_DAG', test_size = 0.2, holdout_size = 0.2, random_state = 42)"
   ]
  },
  {
   "cell_type": "markdown",
   "metadata": {},
   "source": [
    "Verfiy stratification accurate"
   ]
  },
  {
   "cell_type": "code",
   "execution_count": 26,
   "metadata": {},
   "outputs": [
    {
     "data": {
      "text/html": [
       "<div>\n",
       "<style scoped>\n",
       "    .dataframe tbody tr th:only-of-type {\n",
       "        vertical-align: middle;\n",
       "    }\n",
       "\n",
       "    .dataframe tbody tr th {\n",
       "        vertical-align: top;\n",
       "    }\n",
       "\n",
       "    .dataframe thead th {\n",
       "        text-align: right;\n",
       "    }\n",
       "</style>\n",
       "<table border=\"1\" class=\"dataframe\">\n",
       "  <thead>\n",
       "    <tr style=\"text-align: right;\">\n",
       "      <th>dag</th>\n",
       "      <th>1</th>\n",
       "      <th>2</th>\n",
       "      <th>3</th>\n",
       "      <th>4</th>\n",
       "      <th>5</th>\n",
       "    </tr>\n",
       "    <tr>\n",
       "      <th>LC_STATUS</th>\n",
       "      <th></th>\n",
       "      <th></th>\n",
       "      <th></th>\n",
       "      <th></th>\n",
       "      <th></th>\n",
       "    </tr>\n",
       "  </thead>\n",
       "  <tbody>\n",
       "    <tr>\n",
       "      <th>HC</th>\n",
       "      <td>0.134752</td>\n",
       "      <td>0.000000</td>\n",
       "      <td>0.011050</td>\n",
       "      <td>0.012376</td>\n",
       "      <td>0.059783</td>\n",
       "    </tr>\n",
       "    <tr>\n",
       "      <th>LC_NEG</th>\n",
       "      <td>0.730496</td>\n",
       "      <td>0.685355</td>\n",
       "      <td>0.237569</td>\n",
       "      <td>0.012376</td>\n",
       "      <td>0.410326</td>\n",
       "    </tr>\n",
       "    <tr>\n",
       "      <th>LC_POS</th>\n",
       "      <td>0.134752</td>\n",
       "      <td>0.314645</td>\n",
       "      <td>0.751381</td>\n",
       "      <td>0.975248</td>\n",
       "      <td>0.529891</td>\n",
       "    </tr>\n",
       "  </tbody>\n",
       "</table>\n",
       "</div>"
      ],
      "text/plain": [
       "dag               1         2         3         4         5\n",
       "LC_STATUS                                                  \n",
       "HC         0.134752  0.000000  0.011050  0.012376  0.059783\n",
       "LC_NEG     0.730496  0.685355  0.237569  0.012376  0.410326\n",
       "LC_POS     0.134752  0.314645  0.751381  0.975248  0.529891"
      ]
     },
     "execution_count": 26,
     "metadata": {},
     "output_type": "execute_result"
    }
   ],
   "source": [
    "pd.crosstab(df_train81[\"LC_STATUS\"], df_train81[\"dag\"], normalize=\"columns\")"
   ]
  },
  {
   "cell_type": "code",
   "execution_count": 27,
   "metadata": {},
   "outputs": [
    {
     "data": {
      "text/html": [
       "<div>\n",
       "<style scoped>\n",
       "    .dataframe tbody tr th:only-of-type {\n",
       "        vertical-align: middle;\n",
       "    }\n",
       "\n",
       "    .dataframe tbody tr th {\n",
       "        vertical-align: top;\n",
       "    }\n",
       "\n",
       "    .dataframe thead th {\n",
       "        text-align: right;\n",
       "    }\n",
       "</style>\n",
       "<table border=\"1\" class=\"dataframe\">\n",
       "  <thead>\n",
       "    <tr style=\"text-align: right;\">\n",
       "      <th>dag</th>\n",
       "      <th>1</th>\n",
       "      <th>2</th>\n",
       "      <th>3</th>\n",
       "      <th>4</th>\n",
       "      <th>5</th>\n",
       "    </tr>\n",
       "    <tr>\n",
       "      <th>LC_STATUS</th>\n",
       "      <th></th>\n",
       "      <th></th>\n",
       "      <th></th>\n",
       "      <th></th>\n",
       "      <th></th>\n",
       "    </tr>\n",
       "  </thead>\n",
       "  <tbody>\n",
       "    <tr>\n",
       "      <th>HC</th>\n",
       "      <td>0.125000</td>\n",
       "      <td>0.000000</td>\n",
       "      <td>0.000000</td>\n",
       "      <td>0.014815</td>\n",
       "      <td>0.065041</td>\n",
       "    </tr>\n",
       "    <tr>\n",
       "      <th>LC_NEG</th>\n",
       "      <td>0.729167</td>\n",
       "      <td>0.685567</td>\n",
       "      <td>0.233333</td>\n",
       "      <td>0.007407</td>\n",
       "      <td>0.406504</td>\n",
       "    </tr>\n",
       "    <tr>\n",
       "      <th>LC_POS</th>\n",
       "      <td>0.145833</td>\n",
       "      <td>0.314433</td>\n",
       "      <td>0.766667</td>\n",
       "      <td>0.977778</td>\n",
       "      <td>0.528455</td>\n",
       "    </tr>\n",
       "  </tbody>\n",
       "</table>\n",
       "</div>"
      ],
      "text/plain": [
       "dag               1         2         3         4         5\n",
       "LC_STATUS                                                  \n",
       "HC         0.125000  0.000000  0.000000  0.014815  0.065041\n",
       "LC_NEG     0.729167  0.685567  0.233333  0.007407  0.406504\n",
       "LC_POS     0.145833  0.314433  0.766667  0.977778  0.528455"
      ]
     },
     "execution_count": 27,
     "metadata": {},
     "output_type": "execute_result"
    }
   ],
   "source": [
    "pd.crosstab(df_test81[\"LC_STATUS\"], df_test81[\"dag\"], normalize=\"columns\")"
   ]
  },
  {
   "cell_type": "code",
   "execution_count": 28,
   "metadata": {},
   "outputs": [
    {
     "data": {
      "text/html": [
       "<div>\n",
       "<style scoped>\n",
       "    .dataframe tbody tr th:only-of-type {\n",
       "        vertical-align: middle;\n",
       "    }\n",
       "\n",
       "    .dataframe tbody tr th {\n",
       "        vertical-align: top;\n",
       "    }\n",
       "\n",
       "    .dataframe thead th {\n",
       "        text-align: right;\n",
       "    }\n",
       "</style>\n",
       "<table border=\"1\" class=\"dataframe\">\n",
       "  <thead>\n",
       "    <tr style=\"text-align: right;\">\n",
       "      <th>dag</th>\n",
       "      <th>1</th>\n",
       "      <th>2</th>\n",
       "      <th>3</th>\n",
       "      <th>4</th>\n",
       "      <th>5</th>\n",
       "    </tr>\n",
       "    <tr>\n",
       "      <th>LC_STATUS</th>\n",
       "      <th></th>\n",
       "      <th></th>\n",
       "      <th></th>\n",
       "      <th></th>\n",
       "      <th></th>\n",
       "    </tr>\n",
       "  </thead>\n",
       "  <tbody>\n",
       "    <tr>\n",
       "      <th>HC</th>\n",
       "      <td>0.125000</td>\n",
       "      <td>0.000000</td>\n",
       "      <td>0.016667</td>\n",
       "      <td>0.014925</td>\n",
       "      <td>0.065041</td>\n",
       "    </tr>\n",
       "    <tr>\n",
       "      <th>LC_NEG</th>\n",
       "      <td>0.729167</td>\n",
       "      <td>0.686106</td>\n",
       "      <td>0.233333</td>\n",
       "      <td>0.007463</td>\n",
       "      <td>0.406504</td>\n",
       "    </tr>\n",
       "    <tr>\n",
       "      <th>LC_POS</th>\n",
       "      <td>0.145833</td>\n",
       "      <td>0.313894</td>\n",
       "      <td>0.750000</td>\n",
       "      <td>0.977612</td>\n",
       "      <td>0.528455</td>\n",
       "    </tr>\n",
       "  </tbody>\n",
       "</table>\n",
       "</div>"
      ],
      "text/plain": [
       "dag               1         2         3         4         5\n",
       "LC_STATUS                                                  \n",
       "HC         0.125000  0.000000  0.016667  0.014925  0.065041\n",
       "LC_NEG     0.729167  0.686106  0.233333  0.007463  0.406504\n",
       "LC_POS     0.145833  0.313894  0.750000  0.977612  0.528455"
      ]
     },
     "execution_count": 28,
     "metadata": {},
     "output_type": "execute_result"
    }
   ],
   "source": [
    "pd.crosstab(df_holdout81[\"LC_STATUS\"], df_holdout81[\"dag\"], normalize=\"columns\")"
   ]
  },
  {
   "cell_type": "markdown",
   "metadata": {},
   "source": [
    "## Split T83"
   ]
  },
  {
   "cell_type": "code",
   "execution_count": 29,
   "metadata": {},
   "outputs": [],
   "source": [
    "# Create combined variable to stratify on both LC_STATUS and dag\n",
    "df83[\"LC_STATUS_DAG\"] = df83[\"LC_STATUS\"] + \"_\" + df83[\"dag\"].astype(str)\n",
    "\n",
    "df_train83, df_test83, df_holdout83 = straify_train_test_holdout(df83, 'LC_STATUS', 'LC_STATUS_DAG', test_size = 0.2, holdout_size = 0.2, random_state = 42)"
   ]
  },
  {
   "cell_type": "markdown",
   "metadata": {},
   "source": [
    "Verfiy stratification accurate"
   ]
  },
  {
   "cell_type": "code",
   "execution_count": 30,
   "metadata": {},
   "outputs": [
    {
     "data": {
      "text/html": [
       "<div>\n",
       "<style scoped>\n",
       "    .dataframe tbody tr th:only-of-type {\n",
       "        vertical-align: middle;\n",
       "    }\n",
       "\n",
       "    .dataframe tbody tr th {\n",
       "        vertical-align: top;\n",
       "    }\n",
       "\n",
       "    .dataframe thead th {\n",
       "        text-align: right;\n",
       "    }\n",
       "</style>\n",
       "<table border=\"1\" class=\"dataframe\">\n",
       "  <thead>\n",
       "    <tr style=\"text-align: right;\">\n",
       "      <th>dag</th>\n",
       "      <th>1</th>\n",
       "      <th>2</th>\n",
       "      <th>3</th>\n",
       "      <th>4</th>\n",
       "      <th>5</th>\n",
       "    </tr>\n",
       "    <tr>\n",
       "      <th>LC_STATUS</th>\n",
       "      <th></th>\n",
       "      <th></th>\n",
       "      <th></th>\n",
       "      <th></th>\n",
       "      <th></th>\n",
       "    </tr>\n",
       "  </thead>\n",
       "  <tbody>\n",
       "    <tr>\n",
       "      <th>HC</th>\n",
       "      <td>0.134752</td>\n",
       "      <td>0.000000</td>\n",
       "      <td>0.010989</td>\n",
       "      <td>0.012376</td>\n",
       "      <td>0.026190</td>\n",
       "    </tr>\n",
       "    <tr>\n",
       "      <th>LC_NEG</th>\n",
       "      <td>0.730496</td>\n",
       "      <td>0.685355</td>\n",
       "      <td>0.236264</td>\n",
       "      <td>0.012376</td>\n",
       "      <td>0.590476</td>\n",
       "    </tr>\n",
       "    <tr>\n",
       "      <th>LC_POS</th>\n",
       "      <td>0.134752</td>\n",
       "      <td>0.314645</td>\n",
       "      <td>0.752747</td>\n",
       "      <td>0.975248</td>\n",
       "      <td>0.383333</td>\n",
       "    </tr>\n",
       "  </tbody>\n",
       "</table>\n",
       "</div>"
      ],
      "text/plain": [
       "dag               1         2         3         4         5\n",
       "LC_STATUS                                                  \n",
       "HC         0.134752  0.000000  0.010989  0.012376  0.026190\n",
       "LC_NEG     0.730496  0.685355  0.236264  0.012376  0.590476\n",
       "LC_POS     0.134752  0.314645  0.752747  0.975248  0.383333"
      ]
     },
     "execution_count": 30,
     "metadata": {},
     "output_type": "execute_result"
    }
   ],
   "source": [
    "pd.crosstab(df_train83[\"LC_STATUS\"], df_train83[\"dag\"], normalize=\"columns\")"
   ]
  },
  {
   "cell_type": "code",
   "execution_count": 31,
   "metadata": {},
   "outputs": [
    {
     "data": {
      "text/html": [
       "<div>\n",
       "<style scoped>\n",
       "    .dataframe tbody tr th:only-of-type {\n",
       "        vertical-align: middle;\n",
       "    }\n",
       "\n",
       "    .dataframe tbody tr th {\n",
       "        vertical-align: top;\n",
       "    }\n",
       "\n",
       "    .dataframe thead th {\n",
       "        text-align: right;\n",
       "    }\n",
       "</style>\n",
       "<table border=\"1\" class=\"dataframe\">\n",
       "  <thead>\n",
       "    <tr style=\"text-align: right;\">\n",
       "      <th>dag</th>\n",
       "      <th>1</th>\n",
       "      <th>2</th>\n",
       "      <th>3</th>\n",
       "      <th>4</th>\n",
       "      <th>5</th>\n",
       "    </tr>\n",
       "    <tr>\n",
       "      <th>LC_STATUS</th>\n",
       "      <th></th>\n",
       "      <th></th>\n",
       "      <th></th>\n",
       "      <th></th>\n",
       "      <th></th>\n",
       "    </tr>\n",
       "  </thead>\n",
       "  <tbody>\n",
       "    <tr>\n",
       "      <th>HC</th>\n",
       "      <td>0.125000</td>\n",
       "      <td>0.000000</td>\n",
       "      <td>0.000000</td>\n",
       "      <td>0.014815</td>\n",
       "      <td>0.028470</td>\n",
       "    </tr>\n",
       "    <tr>\n",
       "      <th>LC_NEG</th>\n",
       "      <td>0.729167</td>\n",
       "      <td>0.685567</td>\n",
       "      <td>0.237288</td>\n",
       "      <td>0.007407</td>\n",
       "      <td>0.587189</td>\n",
       "    </tr>\n",
       "    <tr>\n",
       "      <th>LC_POS</th>\n",
       "      <td>0.145833</td>\n",
       "      <td>0.314433</td>\n",
       "      <td>0.762712</td>\n",
       "      <td>0.977778</td>\n",
       "      <td>0.384342</td>\n",
       "    </tr>\n",
       "  </tbody>\n",
       "</table>\n",
       "</div>"
      ],
      "text/plain": [
       "dag               1         2         3         4         5\n",
       "LC_STATUS                                                  \n",
       "HC         0.125000  0.000000  0.000000  0.014815  0.028470\n",
       "LC_NEG     0.729167  0.685567  0.237288  0.007407  0.587189\n",
       "LC_POS     0.145833  0.314433  0.762712  0.977778  0.384342"
      ]
     },
     "execution_count": 31,
     "metadata": {},
     "output_type": "execute_result"
    }
   ],
   "source": [
    "pd.crosstab(df_test83[\"LC_STATUS\"], df_test83[\"dag\"], normalize=\"columns\")"
   ]
  },
  {
   "cell_type": "code",
   "execution_count": 32,
   "metadata": {},
   "outputs": [
    {
     "data": {
      "text/html": [
       "<div>\n",
       "<style scoped>\n",
       "    .dataframe tbody tr th:only-of-type {\n",
       "        vertical-align: middle;\n",
       "    }\n",
       "\n",
       "    .dataframe tbody tr th {\n",
       "        vertical-align: top;\n",
       "    }\n",
       "\n",
       "    .dataframe thead th {\n",
       "        text-align: right;\n",
       "    }\n",
       "</style>\n",
       "<table border=\"1\" class=\"dataframe\">\n",
       "  <thead>\n",
       "    <tr style=\"text-align: right;\">\n",
       "      <th>dag</th>\n",
       "      <th>1</th>\n",
       "      <th>2</th>\n",
       "      <th>3</th>\n",
       "      <th>4</th>\n",
       "      <th>5</th>\n",
       "    </tr>\n",
       "    <tr>\n",
       "      <th>LC_STATUS</th>\n",
       "      <th></th>\n",
       "      <th></th>\n",
       "      <th></th>\n",
       "      <th></th>\n",
       "      <th></th>\n",
       "    </tr>\n",
       "  </thead>\n",
       "  <tbody>\n",
       "    <tr>\n",
       "      <th>HC</th>\n",
       "      <td>0.125000</td>\n",
       "      <td>0.000000</td>\n",
       "      <td>0.016667</td>\n",
       "      <td>0.014925</td>\n",
       "      <td>0.028470</td>\n",
       "    </tr>\n",
       "    <tr>\n",
       "      <th>LC_NEG</th>\n",
       "      <td>0.729167</td>\n",
       "      <td>0.686106</td>\n",
       "      <td>0.233333</td>\n",
       "      <td>0.007463</td>\n",
       "      <td>0.587189</td>\n",
       "    </tr>\n",
       "    <tr>\n",
       "      <th>LC_POS</th>\n",
       "      <td>0.145833</td>\n",
       "      <td>0.313894</td>\n",
       "      <td>0.750000</td>\n",
       "      <td>0.977612</td>\n",
       "      <td>0.384342</td>\n",
       "    </tr>\n",
       "  </tbody>\n",
       "</table>\n",
       "</div>"
      ],
      "text/plain": [
       "dag               1         2         3         4         5\n",
       "LC_STATUS                                                  \n",
       "HC         0.125000  0.000000  0.016667  0.014925  0.028470\n",
       "LC_NEG     0.729167  0.686106  0.233333  0.007463  0.587189\n",
       "LC_POS     0.145833  0.313894  0.750000  0.977612  0.384342"
      ]
     },
     "execution_count": 32,
     "metadata": {},
     "output_type": "execute_result"
    }
   ],
   "source": [
    "pd.crosstab(df_holdout83[\"LC_STATUS\"], df_holdout83[\"dag\"], normalize=\"columns\")"
   ]
  },
  {
   "cell_type": "markdown",
   "metadata": {},
   "source": [
    "## Export T81"
   ]
  },
  {
   "cell_type": "code",
   "execution_count": 36,
   "metadata": {},
   "outputs": [
    {
     "data": {
      "application/vnd.jupyter.widget-view+json": {
       "model_id": "9d3ee2059bda4fd2bd6c470c44a68844",
       "version_major": 2,
       "version_minor": 0
      },
      "text/plain": [
       "Saving the dataset (0/1 shards):   0%|          | 0/2842 [00:00<?, ? examples/s]"
      ]
     },
     "metadata": {},
     "output_type": "display_data"
    },
    {
     "data": {
      "application/vnd.jupyter.widget-view+json": {
       "model_id": "17f96cfe17384a308641cd8cf1930ed5",
       "version_major": 2,
       "version_minor": 0
      },
      "text/plain": [
       "Saving the dataset (0/1 shards):   0%|          | 0/948 [00:00<?, ? examples/s]"
      ]
     },
     "metadata": {},
     "output_type": "display_data"
    },
    {
     "data": {
      "application/vnd.jupyter.widget-view+json": {
       "model_id": "1707ec49fc9b4f2aaa03e2811b6d1f87",
       "version_major": 2,
       "version_minor": 0
      },
      "text/plain": [
       "Saving the dataset (0/1 shards):   0%|          | 0/948 [00:00<?, ? examples/s]"
      ]
     },
     "metadata": {},
     "output_type": "display_data"
    }
   ],
   "source": [
    "datasets.arrow_dataset.Dataset.from_pandas(df_train81,preserve_index=False).save_to_disk(\n",
    "    \"../Data/DataV1/TTS/T81_Train.arrow\"\n",
    ")\n",
    "datasets.arrow_dataset.Dataset.from_pandas(df_test81,preserve_index=False).save_to_disk(\n",
    "    \"../Data/DataV1/TTS/T81_Test.arrow\"\n",
    ")\n",
    "datasets.arrow_dataset.Dataset.from_pandas(df_holdout81,preserve_index=False).save_to_disk(\n",
    "    \"../Data/DataV1/TTS/T81_Holdout.arrow\"\n",
    ")"
   ]
  },
  {
   "cell_type": "code",
   "execution_count": 37,
   "metadata": {},
   "outputs": [
    {
     "data": {
      "application/vnd.jupyter.widget-view+json": {
       "model_id": "d7d4ccf02ab74fc8be5361285e1fdff2",
       "version_major": 2,
       "version_minor": 0
      },
      "text/plain": [
       "Saving the dataset (0/1 shards):   0%|          | 0/3315 [00:00<?, ? examples/s]"
      ]
     },
     "metadata": {},
     "output_type": "display_data"
    },
    {
     "data": {
      "application/vnd.jupyter.widget-view+json": {
       "model_id": "673fe4a8b80646ccafe1ca226db1cbac",
       "version_major": 2,
       "version_minor": 0
      },
      "text/plain": [
       "Saving the dataset (0/1 shards):   0%|          | 0/1105 [00:00<?, ? examples/s]"
      ]
     },
     "metadata": {},
     "output_type": "display_data"
    },
    {
     "data": {
      "application/vnd.jupyter.widget-view+json": {
       "model_id": "feeb8001163e42ca9cf6c590372da7d0",
       "version_major": 2,
       "version_minor": 0
      },
      "text/plain": [
       "Saving the dataset (0/1 shards):   0%|          | 0/1106 [00:00<?, ? examples/s]"
      ]
     },
     "metadata": {},
     "output_type": "display_data"
    }
   ],
   "source": [
    "datasets.arrow_dataset.Dataset.from_pandas(\n",
    "    df_train83, preserve_index=False\n",
    ").save_to_disk(\"../Data/DataV1/TTS/T83_Train.arrow\")\n",
    "datasets.arrow_dataset.Dataset.from_pandas(\n",
    "    df_test83, preserve_index=False\n",
    ").save_to_disk(\"../Data/DataV1/TTS/T83_Test.arrow\")\n",
    "datasets.arrow_dataset.Dataset.from_pandas(\n",
    "    df_holdout83, preserve_index=False\n",
    ").save_to_disk(\"../Data/DataV1/TTS/T83_Holdout.arrow\")"
   ]
  },
  {
   "cell_type": "markdown",
   "metadata": {},
   "source": []
  }
 ],
 "metadata": {
  "kernelspec": {
   "display_name": "lm2",
   "language": "python",
   "name": "python3"
  },
  "language_info": {
   "codemirror_mode": {
    "name": "ipython",
    "version": 3
   },
   "file_extension": ".py",
   "mimetype": "text/x-python",
   "name": "python",
   "nbconvert_exporter": "python",
   "pygments_lexer": "ipython3",
   "version": "3.11.8"
  }
 },
 "nbformat": 4,
 "nbformat_minor": 2
}
