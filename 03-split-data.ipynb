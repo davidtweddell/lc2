{
 "cells": [
  {
   "cell_type": "code",
   "execution_count": 1,
   "metadata": {},
   "outputs": [],
   "source": [
    "# reload magics\n",
    "%load_ext autoreload\n",
    "%autoreload 2\n",
    "\n",
    "import pandas as pd\n",
    "import numpy as np\n",
    "import matplotlib.pyplot as plt\n",
    "import seaborn as sns\n",
    "import datasets\n",
    "from project_modules.io import load_dataset_to_df\n",
    "\n",
    "from sklearn.model_selection import train_test_split\n",
    "from copy import deepcopy\n",
    "\n",
    "\n",
    "# from project_modules.utils import get_logger\n",
    "\n",
    "# logger = get_logger(\"log-data-combine-split.log\")\n",
    "# # read the parameter file\n",
    "\n",
    "# from project_modules.utils import read_parameters\n",
    "# parms = read_parameters(\"/Users/david/projects/lc-project-data/project.yaml\")"
   ]
  },
  {
   "cell_type": "code",
   "execution_count": 2,
   "metadata": {},
   "outputs": [],
   "source": [
    "from pathlib import Path\n",
    "\n",
    "# input_path = Path(\"../lc-project-data\")\n",
    "# output_path = Path(\"../lc-project-data\")\n",
    "\n",
    "# for MP,\n",
    "input_path = Path(\"../Data/DataV3\")\n",
    "output_path = Path(\"../Data/DataV3\")"
   ]
  },
  {
   "cell_type": "code",
   "execution_count": 3,
   "metadata": {},
   "outputs": [],
   "source": [
    "site_name_dict = {1: \"LDN\", 2: \"MTL\", 3: \"SAN\", 4: \"RIO\", 5: \"LUS\", 6: \"CA\", 7: \"NA\"}\n",
    "status_name_dict = {\n",
    "    0:'HC',\n",
    "    1:'LC_NEG',\n",
    "    2:'LC_POS'\n",
    "}"
   ]
  },
  {
   "cell_type": "code",
   "execution_count": 4,
   "metadata": {},
   "outputs": [],
   "source": [
    "# df81 = load_dataset_to_df('../Data/DataV2/featuresThresAll81.arrow', verbose = True)\n",
    "# df85 = load_dataset_to_df('../Data/DataV2/featuresThresAll85.arrow', verbose = True)\n",
    "# dfDT = load_dataset_to_df(\"../Data/DataV2/featuresDT.arrow\", verbose=True)\n",
    "\n",
    "df = load_dataset_to_df(input_path/\"2024-04-30-features-cmplt.arrow\", verbose=True)"
   ]
  },
  {
   "cell_type": "code",
   "execution_count": 5,
   "metadata": {},
   "outputs": [],
   "source": [
    "import json\n",
    "\n",
    "with open('JSON/dict-preLongCovid.json', 'r') as file:\n",
    "    lColPreLC = json.load(file)"
   ]
  },
  {
   "cell_type": "code",
   "execution_count": 6,
   "metadata": {},
   "outputs": [],
   "source": [
    "lColPreLC2 = deepcopy(lColPreLC)"
   ]
  },
  {
   "cell_type": "code",
   "execution_count": 7,
   "metadata": {},
   "outputs": [],
   "source": [
    "lColPreLC2.remove('CD-mode_of_diag')"
   ]
  },
  {
   "cell_type": "markdown",
   "metadata": {},
   "source": [
    "### Do train-test-holdout split here and save as a new dataset"
   ]
  },
  {
   "cell_type": "code",
   "execution_count": 8,
   "metadata": {},
   "outputs": [
    {
     "name": "stdout",
     "output_type": "stream",
     "text": [
      "% of patiens from each site in cmplt\n"
     ]
    },
    {
     "data": {
      "text/html": [
       "<div>\n",
       "<style scoped>\n",
       "    .dataframe tbody tr th:only-of-type {\n",
       "        vertical-align: middle;\n",
       "    }\n",
       "\n",
       "    .dataframe tbody tr th {\n",
       "        vertical-align: top;\n",
       "    }\n",
       "\n",
       "    .dataframe thead th {\n",
       "        text-align: right;\n",
       "    }\n",
       "</style>\n",
       "<table border=\"1\" class=\"dataframe\">\n",
       "  <thead>\n",
       "    <tr style=\"text-align: right;\">\n",
       "      <th>SITE</th>\n",
       "      <th>LDN</th>\n",
       "      <th>LUS</th>\n",
       "      <th>MTL</th>\n",
       "      <th>RIO</th>\n",
       "      <th>SAN</th>\n",
       "    </tr>\n",
       "    <tr>\n",
       "      <th>LC_STATUS</th>\n",
       "      <th></th>\n",
       "      <th></th>\n",
       "      <th></th>\n",
       "      <th></th>\n",
       "      <th></th>\n",
       "    </tr>\n",
       "  </thead>\n",
       "  <tbody>\n",
       "    <tr>\n",
       "      <th>HC</th>\n",
       "      <td>0.55</td>\n",
       "      <td>0.75</td>\n",
       "      <td>0.69</td>\n",
       "      <td>0.16</td>\n",
       "      <td>0.21</td>\n",
       "    </tr>\n",
       "    <tr>\n",
       "      <th>LC_NEG</th>\n",
       "      <td>0.35</td>\n",
       "      <td>0.22</td>\n",
       "      <td>0.31</td>\n",
       "      <td>0.83</td>\n",
       "      <td>0.78</td>\n",
       "    </tr>\n",
       "    <tr>\n",
       "      <th>LC_POS</th>\n",
       "      <td>0.10</td>\n",
       "      <td>0.03</td>\n",
       "      <td>0.00</td>\n",
       "      <td>0.01</td>\n",
       "      <td>0.01</td>\n",
       "    </tr>\n",
       "  </tbody>\n",
       "</table>\n",
       "</div>"
      ],
      "text/plain": [
       "SITE        LDN   LUS   MTL   RIO   SAN\n",
       "LC_STATUS                              \n",
       "HC         0.55  0.75  0.69  0.16  0.21\n",
       "LC_NEG     0.35  0.22  0.31  0.83  0.78\n",
       "LC_POS     0.10  0.03  0.00  0.01  0.01"
      ]
     },
     "execution_count": 8,
     "metadata": {},
     "output_type": "execute_result"
    }
   ],
   "source": [
    "print('% of patiens from each site in cmplt')\n",
    "pd.crosstab(df[\"LC_STATUS\"].map(status_name_dict), df[\"SITE\"].map(site_name_dict), normalize=\"columns\").round(2)"
   ]
  },
  {
   "cell_type": "code",
   "execution_count": 9,
   "metadata": {},
   "outputs": [
    {
     "name": "stdout",
     "output_type": "stream",
     "text": [
      "# of patiens from each site in cmplt\n"
     ]
    },
    {
     "data": {
      "text/html": [
       "<div>\n",
       "<style scoped>\n",
       "    .dataframe tbody tr th:only-of-type {\n",
       "        vertical-align: middle;\n",
       "    }\n",
       "\n",
       "    .dataframe tbody tr th {\n",
       "        vertical-align: top;\n",
       "    }\n",
       "\n",
       "    .dataframe thead th {\n",
       "        text-align: right;\n",
       "    }\n",
       "</style>\n",
       "<table border=\"1\" class=\"dataframe\">\n",
       "  <thead>\n",
       "    <tr style=\"text-align: right;\">\n",
       "      <th>SITE</th>\n",
       "      <th>LDN</th>\n",
       "      <th>LUS</th>\n",
       "      <th>MTL</th>\n",
       "      <th>RIO</th>\n",
       "      <th>SAN</th>\n",
       "    </tr>\n",
       "    <tr>\n",
       "      <th>LC_STATUS</th>\n",
       "      <th></th>\n",
       "      <th></th>\n",
       "      <th></th>\n",
       "      <th></th>\n",
       "      <th></th>\n",
       "    </tr>\n",
       "  </thead>\n",
       "  <tbody>\n",
       "    <tr>\n",
       "      <th>HC</th>\n",
       "      <td>176</td>\n",
       "      <td>934</td>\n",
       "      <td>1997</td>\n",
       "      <td>128</td>\n",
       "      <td>71</td>\n",
       "    </tr>\n",
       "    <tr>\n",
       "      <th>LC_NEG</th>\n",
       "      <td>110</td>\n",
       "      <td>268</td>\n",
       "      <td>916</td>\n",
       "      <td>650</td>\n",
       "      <td>266</td>\n",
       "    </tr>\n",
       "    <tr>\n",
       "      <th>LC_POS</th>\n",
       "      <td>32</td>\n",
       "      <td>38</td>\n",
       "      <td>0</td>\n",
       "      <td>9</td>\n",
       "      <td>3</td>\n",
       "    </tr>\n",
       "  </tbody>\n",
       "</table>\n",
       "</div>"
      ],
      "text/plain": [
       "SITE       LDN  LUS   MTL  RIO  SAN\n",
       "LC_STATUS                          \n",
       "HC         176  934  1997  128   71\n",
       "LC_NEG     110  268   916  650  266\n",
       "LC_POS      32   38     0    9    3"
      ]
     },
     "execution_count": 9,
     "metadata": {},
     "output_type": "execute_result"
    }
   ],
   "source": [
    "print(\"# of patiens from each site in cmplt\")\n",
    "\n",
    "pd.crosstab(df[\"LC_STATUS\"].map(status_name_dict), df[\"SITE\"].map(site_name_dict))"
   ]
  },
  {
   "cell_type": "code",
   "execution_count": 10,
   "metadata": {},
   "outputs": [],
   "source": [
    "def straify_train_test_holdout(df, labelVar, stratifyCol, test_size = 0.2, holdout_size = 0.2, random_state = 42 ):\n",
    "    from sklearn.model_selection import train_test_split\n",
    "    df_train, df_holdout = train_test_split(df, test_size = holdout_size, random_state = random_state, stratify = df['LC_STATUS'])\n",
    "    # Split the data into training and holdout sets\n",
    "    df_train, df_holdout = train_test_split(\n",
    "        df,\n",
    "        test_size=holdout_size,\n",
    "        stratify=df[stratifyCol],\n",
    "        random_state=42,\n",
    "    )\n",
    "\n",
    "    df_train, df_test = train_test_split(\n",
    "        df_train,\n",
    "        test_size=test_size / (1 - holdout_size),\n",
    "        random_state=random_state,\n",
    "        stratify=df_train[stratifyCol],\n",
    "    )\n",
    "    return df_train, df_test, df_holdout"
   ]
  },
  {
   "cell_type": "code",
   "execution_count": 11,
   "metadata": {},
   "outputs": [],
   "source": [
    "# Create combined variable to stratify on both LC_STATUS and SITE\n",
    "df[\"LC_STATUS_SITE\"] = df[\"LC_STATUS\"].astype(str) + \"_\" + df[\"SITE\"].astype(str)\n",
    "\n",
    "df_train, df_test, df_holdout = straify_train_test_holdout(\n",
    "    df,\n",
    "    \"LC_STATUS\",\n",
    "    \"LC_STATUS_SITE\",\n",
    "    test_size=0.2,\n",
    "    holdout_size=0.2,\n",
    "    random_state=42,\n",
    ")"
   ]
  },
  {
   "cell_type": "markdown",
   "metadata": {},
   "source": [
    "Verfiy stratification accurate"
   ]
  },
  {
   "cell_type": "code",
   "execution_count": 12,
   "metadata": {},
   "outputs": [
    {
     "data": {
      "text/html": [
       "<div>\n",
       "<style scoped>\n",
       "    .dataframe tbody tr th:only-of-type {\n",
       "        vertical-align: middle;\n",
       "    }\n",
       "\n",
       "    .dataframe tbody tr th {\n",
       "        vertical-align: top;\n",
       "    }\n",
       "\n",
       "    .dataframe thead th {\n",
       "        text-align: right;\n",
       "    }\n",
       "</style>\n",
       "<table border=\"1\" class=\"dataframe\">\n",
       "  <thead>\n",
       "    <tr style=\"text-align: right;\">\n",
       "      <th>SITE</th>\n",
       "      <th>1</th>\n",
       "      <th>2</th>\n",
       "      <th>3</th>\n",
       "      <th>4</th>\n",
       "      <th>5</th>\n",
       "    </tr>\n",
       "    <tr>\n",
       "      <th>LC_STATUS</th>\n",
       "      <th></th>\n",
       "      <th></th>\n",
       "      <th></th>\n",
       "      <th></th>\n",
       "      <th></th>\n",
       "    </tr>\n",
       "  </thead>\n",
       "  <tbody>\n",
       "    <tr>\n",
       "      <th>0</th>\n",
       "      <td>0.552083</td>\n",
       "      <td>0.685355</td>\n",
       "      <td>0.209756</td>\n",
       "      <td>0.161359</td>\n",
       "      <td>0.754717</td>\n",
       "    </tr>\n",
       "    <tr>\n",
       "      <th>1</th>\n",
       "      <td>0.343750</td>\n",
       "      <td>0.314645</td>\n",
       "      <td>0.780488</td>\n",
       "      <td>0.828025</td>\n",
       "      <td>0.215633</td>\n",
       "    </tr>\n",
       "    <tr>\n",
       "      <th>2</th>\n",
       "      <td>0.104167</td>\n",
       "      <td>0.000000</td>\n",
       "      <td>0.009756</td>\n",
       "      <td>0.010616</td>\n",
       "      <td>0.029650</td>\n",
       "    </tr>\n",
       "  </tbody>\n",
       "</table>\n",
       "</div>"
      ],
      "text/plain": [
       "SITE              1         2         3         4         5\n",
       "LC_STATUS                                                  \n",
       "0          0.552083  0.685355  0.209756  0.161359  0.754717\n",
       "1          0.343750  0.314645  0.780488  0.828025  0.215633\n",
       "2          0.104167  0.000000  0.009756  0.010616  0.029650"
      ]
     },
     "execution_count": 12,
     "metadata": {},
     "output_type": "execute_result"
    }
   ],
   "source": [
    "pd.crosstab(df_train[\"LC_STATUS\"], df_train[\"SITE\"], normalize=\"columns\")"
   ]
  },
  {
   "cell_type": "code",
   "execution_count": 13,
   "metadata": {},
   "outputs": [
    {
     "data": {
      "text/html": [
       "<div>\n",
       "<style scoped>\n",
       "    .dataframe tbody tr th:only-of-type {\n",
       "        vertical-align: middle;\n",
       "    }\n",
       "\n",
       "    .dataframe tbody tr th {\n",
       "        vertical-align: top;\n",
       "    }\n",
       "\n",
       "    .dataframe thead th {\n",
       "        text-align: right;\n",
       "    }\n",
       "</style>\n",
       "<table border=\"1\" class=\"dataframe\">\n",
       "  <thead>\n",
       "    <tr style=\"text-align: right;\">\n",
       "      <th>SITE</th>\n",
       "      <th>1</th>\n",
       "      <th>2</th>\n",
       "      <th>3</th>\n",
       "      <th>4</th>\n",
       "      <th>5</th>\n",
       "    </tr>\n",
       "    <tr>\n",
       "      <th>LC_STATUS</th>\n",
       "      <th></th>\n",
       "      <th></th>\n",
       "      <th></th>\n",
       "      <th></th>\n",
       "      <th></th>\n",
       "    </tr>\n",
       "  </thead>\n",
       "  <tbody>\n",
       "    <tr>\n",
       "      <th>0</th>\n",
       "      <td>0.555556</td>\n",
       "      <td>0.686106</td>\n",
       "      <td>0.208955</td>\n",
       "      <td>0.164557</td>\n",
       "      <td>0.751004</td>\n",
       "    </tr>\n",
       "    <tr>\n",
       "      <th>1</th>\n",
       "      <td>0.349206</td>\n",
       "      <td>0.313894</td>\n",
       "      <td>0.791045</td>\n",
       "      <td>0.822785</td>\n",
       "      <td>0.216867</td>\n",
       "    </tr>\n",
       "    <tr>\n",
       "      <th>2</th>\n",
       "      <td>0.095238</td>\n",
       "      <td>0.000000</td>\n",
       "      <td>0.000000</td>\n",
       "      <td>0.012658</td>\n",
       "      <td>0.032129</td>\n",
       "    </tr>\n",
       "  </tbody>\n",
       "</table>\n",
       "</div>"
      ],
      "text/plain": [
       "SITE              1         2         3         4         5\n",
       "LC_STATUS                                                  \n",
       "0          0.555556  0.686106  0.208955  0.164557  0.751004\n",
       "1          0.349206  0.313894  0.791045  0.822785  0.216867\n",
       "2          0.095238  0.000000  0.000000  0.012658  0.032129"
      ]
     },
     "execution_count": 13,
     "metadata": {},
     "output_type": "execute_result"
    }
   ],
   "source": [
    "pd.crosstab(df_test[\"LC_STATUS\"], df_test[\"SITE\"], normalize=\"columns\")"
   ]
  },
  {
   "cell_type": "code",
   "execution_count": 14,
   "metadata": {},
   "outputs": [
    {
     "data": {
      "text/html": [
       "<div>\n",
       "<style scoped>\n",
       "    .dataframe tbody tr th:only-of-type {\n",
       "        vertical-align: middle;\n",
       "    }\n",
       "\n",
       "    .dataframe tbody tr th {\n",
       "        vertical-align: top;\n",
       "    }\n",
       "\n",
       "    .dataframe thead th {\n",
       "        text-align: right;\n",
       "    }\n",
       "</style>\n",
       "<table border=\"1\" class=\"dataframe\">\n",
       "  <thead>\n",
       "    <tr style=\"text-align: right;\">\n",
       "      <th>SITE</th>\n",
       "      <th>1</th>\n",
       "      <th>2</th>\n",
       "      <th>3</th>\n",
       "      <th>4</th>\n",
       "      <th>5</th>\n",
       "    </tr>\n",
       "    <tr>\n",
       "      <th>LC_STATUS</th>\n",
       "      <th></th>\n",
       "      <th></th>\n",
       "      <th></th>\n",
       "      <th></th>\n",
       "      <th></th>\n",
       "    </tr>\n",
       "  </thead>\n",
       "  <tbody>\n",
       "    <tr>\n",
       "      <th>0</th>\n",
       "      <td>0.555556</td>\n",
       "      <td>0.685567</td>\n",
       "      <td>0.205882</td>\n",
       "      <td>0.164557</td>\n",
       "      <td>0.751004</td>\n",
       "    </tr>\n",
       "    <tr>\n",
       "      <th>1</th>\n",
       "      <td>0.349206</td>\n",
       "      <td>0.314433</td>\n",
       "      <td>0.779412</td>\n",
       "      <td>0.822785</td>\n",
       "      <td>0.216867</td>\n",
       "    </tr>\n",
       "    <tr>\n",
       "      <th>2</th>\n",
       "      <td>0.095238</td>\n",
       "      <td>0.000000</td>\n",
       "      <td>0.014706</td>\n",
       "      <td>0.012658</td>\n",
       "      <td>0.032129</td>\n",
       "    </tr>\n",
       "  </tbody>\n",
       "</table>\n",
       "</div>"
      ],
      "text/plain": [
       "SITE              1         2         3         4         5\n",
       "LC_STATUS                                                  \n",
       "0          0.555556  0.685567  0.205882  0.164557  0.751004\n",
       "1          0.349206  0.314433  0.779412  0.822785  0.216867\n",
       "2          0.095238  0.000000  0.014706  0.012658  0.032129"
      ]
     },
     "execution_count": 14,
     "metadata": {},
     "output_type": "execute_result"
    }
   ],
   "source": [
    "pd.crosstab(df_holdout[\"LC_STATUS\"], df_holdout[\"SITE\"], normalize=\"columns\")"
   ]
  },
  {
   "cell_type": "code",
   "execution_count": 15,
   "metadata": {},
   "outputs": [
    {
     "data": {
      "text/html": [
       "<div>\n",
       "<style scoped>\n",
       "    .dataframe tbody tr th:only-of-type {\n",
       "        vertical-align: middle;\n",
       "    }\n",
       "\n",
       "    .dataframe tbody tr th {\n",
       "        vertical-align: top;\n",
       "    }\n",
       "\n",
       "    .dataframe thead th {\n",
       "        text-align: right;\n",
       "    }\n",
       "</style>\n",
       "<table border=\"1\" class=\"dataframe\">\n",
       "  <thead>\n",
       "    <tr style=\"text-align: right;\">\n",
       "      <th></th>\n",
       "      <th>__index_level_0__</th>\n",
       "      <th>SITE</th>\n",
       "      <th>LC_STATUS</th>\n",
       "      <th>sex</th>\n",
       "      <th>age</th>\n",
       "      <th>MED-Analgesics</th>\n",
       "      <th>MED-Anesthetics</th>\n",
       "      <th>MED-Antibacterials</th>\n",
       "      <th>MED-Anticonvulsants</th>\n",
       "      <th>MED-Antidepressants</th>\n",
       "      <th>...</th>\n",
       "      <th>LABS-IND-sodium</th>\n",
       "      <th>LABS-IND-triglycerides</th>\n",
       "      <th>LABS-IND-urea</th>\n",
       "      <th>LABS-IND-wbc</th>\n",
       "      <th>SUBST-1</th>\n",
       "      <th>SUBST-2</th>\n",
       "      <th>SUBST-3</th>\n",
       "      <th>SUBST-4</th>\n",
       "      <th>SUBST-5</th>\n",
       "      <th>LC_STATUS_SITE</th>\n",
       "    </tr>\n",
       "  </thead>\n",
       "  <tbody>\n",
       "    <tr>\n",
       "      <th>0</th>\n",
       "      <td>0</td>\n",
       "      <td>2</td>\n",
       "      <td>1</td>\n",
       "      <td>2.0</td>\n",
       "      <td>30.0</td>\n",
       "      <td>0</td>\n",
       "      <td>0</td>\n",
       "      <td>0</td>\n",
       "      <td>0</td>\n",
       "      <td>0</td>\n",
       "      <td>...</td>\n",
       "      <td>0.0</td>\n",
       "      <td>0.0</td>\n",
       "      <td>0.0</td>\n",
       "      <td>0.0</td>\n",
       "      <td>0.0</td>\n",
       "      <td>0.0</td>\n",
       "      <td>0.0</td>\n",
       "      <td>0.0</td>\n",
       "      <td>0.0</td>\n",
       "      <td>1_2</td>\n",
       "    </tr>\n",
       "    <tr>\n",
       "      <th>1</th>\n",
       "      <td>1</td>\n",
       "      <td>2</td>\n",
       "      <td>1</td>\n",
       "      <td>1.0</td>\n",
       "      <td>33.0</td>\n",
       "      <td>0</td>\n",
       "      <td>0</td>\n",
       "      <td>0</td>\n",
       "      <td>0</td>\n",
       "      <td>0</td>\n",
       "      <td>...</td>\n",
       "      <td>0.0</td>\n",
       "      <td>0.0</td>\n",
       "      <td>0.0</td>\n",
       "      <td>0.0</td>\n",
       "      <td>0.0</td>\n",
       "      <td>0.0</td>\n",
       "      <td>0.0</td>\n",
       "      <td>0.0</td>\n",
       "      <td>0.0</td>\n",
       "      <td>1_2</td>\n",
       "    </tr>\n",
       "    <tr>\n",
       "      <th>2</th>\n",
       "      <td>2</td>\n",
       "      <td>2</td>\n",
       "      <td>1</td>\n",
       "      <td>2.0</td>\n",
       "      <td>36.0</td>\n",
       "      <td>0</td>\n",
       "      <td>0</td>\n",
       "      <td>0</td>\n",
       "      <td>0</td>\n",
       "      <td>0</td>\n",
       "      <td>...</td>\n",
       "      <td>0.0</td>\n",
       "      <td>0.0</td>\n",
       "      <td>0.0</td>\n",
       "      <td>0.0</td>\n",
       "      <td>0.0</td>\n",
       "      <td>0.0</td>\n",
       "      <td>0.0</td>\n",
       "      <td>0.0</td>\n",
       "      <td>0.0</td>\n",
       "      <td>1_2</td>\n",
       "    </tr>\n",
       "    <tr>\n",
       "      <th>3</th>\n",
       "      <td>3</td>\n",
       "      <td>2</td>\n",
       "      <td>1</td>\n",
       "      <td>2.0</td>\n",
       "      <td>50.0</td>\n",
       "      <td>0</td>\n",
       "      <td>0</td>\n",
       "      <td>0</td>\n",
       "      <td>0</td>\n",
       "      <td>0</td>\n",
       "      <td>...</td>\n",
       "      <td>0.0</td>\n",
       "      <td>0.0</td>\n",
       "      <td>0.0</td>\n",
       "      <td>0.0</td>\n",
       "      <td>1.0</td>\n",
       "      <td>0.0</td>\n",
       "      <td>0.0</td>\n",
       "      <td>0.0</td>\n",
       "      <td>0.0</td>\n",
       "      <td>1_2</td>\n",
       "    </tr>\n",
       "    <tr>\n",
       "      <th>4</th>\n",
       "      <td>4</td>\n",
       "      <td>2</td>\n",
       "      <td>1</td>\n",
       "      <td>1.0</td>\n",
       "      <td>40.0</td>\n",
       "      <td>0</td>\n",
       "      <td>0</td>\n",
       "      <td>0</td>\n",
       "      <td>0</td>\n",
       "      <td>0</td>\n",
       "      <td>...</td>\n",
       "      <td>0.0</td>\n",
       "      <td>0.0</td>\n",
       "      <td>0.0</td>\n",
       "      <td>0.0</td>\n",
       "      <td>0.0</td>\n",
       "      <td>0.0</td>\n",
       "      <td>0.0</td>\n",
       "      <td>0.0</td>\n",
       "      <td>0.0</td>\n",
       "      <td>1_2</td>\n",
       "    </tr>\n",
       "    <tr>\n",
       "      <th>...</th>\n",
       "      <td>...</td>\n",
       "      <td>...</td>\n",
       "      <td>...</td>\n",
       "      <td>...</td>\n",
       "      <td>...</td>\n",
       "      <td>...</td>\n",
       "      <td>...</td>\n",
       "      <td>...</td>\n",
       "      <td>...</td>\n",
       "      <td>...</td>\n",
       "      <td>...</td>\n",
       "      <td>...</td>\n",
       "      <td>...</td>\n",
       "      <td>...</td>\n",
       "      <td>...</td>\n",
       "      <td>...</td>\n",
       "      <td>...</td>\n",
       "      <td>...</td>\n",
       "      <td>...</td>\n",
       "      <td>...</td>\n",
       "      <td>...</td>\n",
       "    </tr>\n",
       "    <tr>\n",
       "      <th>5593</th>\n",
       "      <td>5659</td>\n",
       "      <td>3</td>\n",
       "      <td>1</td>\n",
       "      <td>1.0</td>\n",
       "      <td>48.0</td>\n",
       "      <td>0</td>\n",
       "      <td>0</td>\n",
       "      <td>0</td>\n",
       "      <td>0</td>\n",
       "      <td>0</td>\n",
       "      <td>...</td>\n",
       "      <td>1.0</td>\n",
       "      <td>1.0</td>\n",
       "      <td>1.0</td>\n",
       "      <td>0.0</td>\n",
       "      <td>0.0</td>\n",
       "      <td>0.0</td>\n",
       "      <td>1.0</td>\n",
       "      <td>0.0</td>\n",
       "      <td>0.0</td>\n",
       "      <td>1_3</td>\n",
       "    </tr>\n",
       "    <tr>\n",
       "      <th>5594</th>\n",
       "      <td>5660</td>\n",
       "      <td>3</td>\n",
       "      <td>1</td>\n",
       "      <td>2.0</td>\n",
       "      <td>42.0</td>\n",
       "      <td>0</td>\n",
       "      <td>0</td>\n",
       "      <td>0</td>\n",
       "      <td>0</td>\n",
       "      <td>0</td>\n",
       "      <td>...</td>\n",
       "      <td>1.0</td>\n",
       "      <td>0.0</td>\n",
       "      <td>1.0</td>\n",
       "      <td>1.0</td>\n",
       "      <td>0.0</td>\n",
       "      <td>0.0</td>\n",
       "      <td>0.0</td>\n",
       "      <td>0.0</td>\n",
       "      <td>0.0</td>\n",
       "      <td>1_3</td>\n",
       "    </tr>\n",
       "    <tr>\n",
       "      <th>5595</th>\n",
       "      <td>5661</td>\n",
       "      <td>3</td>\n",
       "      <td>1</td>\n",
       "      <td>1.0</td>\n",
       "      <td>23.0</td>\n",
       "      <td>0</td>\n",
       "      <td>0</td>\n",
       "      <td>0</td>\n",
       "      <td>0</td>\n",
       "      <td>0</td>\n",
       "      <td>...</td>\n",
       "      <td>0.0</td>\n",
       "      <td>1.0</td>\n",
       "      <td>0.0</td>\n",
       "      <td>0.0</td>\n",
       "      <td>0.0</td>\n",
       "      <td>0.0</td>\n",
       "      <td>1.0</td>\n",
       "      <td>1.0</td>\n",
       "      <td>0.0</td>\n",
       "      <td>1_3</td>\n",
       "    </tr>\n",
       "    <tr>\n",
       "      <th>5596</th>\n",
       "      <td>5662</td>\n",
       "      <td>3</td>\n",
       "      <td>1</td>\n",
       "      <td>1.0</td>\n",
       "      <td>71.0</td>\n",
       "      <td>0</td>\n",
       "      <td>0</td>\n",
       "      <td>0</td>\n",
       "      <td>0</td>\n",
       "      <td>0</td>\n",
       "      <td>...</td>\n",
       "      <td>1.0</td>\n",
       "      <td>0.0</td>\n",
       "      <td>1.0</td>\n",
       "      <td>0.0</td>\n",
       "      <td>0.0</td>\n",
       "      <td>0.0</td>\n",
       "      <td>0.0</td>\n",
       "      <td>0.0</td>\n",
       "      <td>0.0</td>\n",
       "      <td>1_3</td>\n",
       "    </tr>\n",
       "    <tr>\n",
       "      <th>5597</th>\n",
       "      <td>5663</td>\n",
       "      <td>3</td>\n",
       "      <td>1</td>\n",
       "      <td>2.0</td>\n",
       "      <td>58.0</td>\n",
       "      <td>0</td>\n",
       "      <td>0</td>\n",
       "      <td>0</td>\n",
       "      <td>0</td>\n",
       "      <td>0</td>\n",
       "      <td>...</td>\n",
       "      <td>1.0</td>\n",
       "      <td>1.0</td>\n",
       "      <td>1.0</td>\n",
       "      <td>1.0</td>\n",
       "      <td>0.0</td>\n",
       "      <td>0.0</td>\n",
       "      <td>0.0</td>\n",
       "      <td>0.0</td>\n",
       "      <td>0.0</td>\n",
       "      <td>1_3</td>\n",
       "    </tr>\n",
       "  </tbody>\n",
       "</table>\n",
       "<p>5598 rows × 438 columns</p>\n",
       "</div>"
      ],
      "text/plain": [
       "      __index_level_0__  SITE  LC_STATUS  sex   age  MED-Analgesics  \\\n",
       "0                     0     2          1  2.0  30.0               0   \n",
       "1                     1     2          1  1.0  33.0               0   \n",
       "2                     2     2          1  2.0  36.0               0   \n",
       "3                     3     2          1  2.0  50.0               0   \n",
       "4                     4     2          1  1.0  40.0               0   \n",
       "...                 ...   ...        ...  ...   ...             ...   \n",
       "5593               5659     3          1  1.0  48.0               0   \n",
       "5594               5660     3          1  2.0  42.0               0   \n",
       "5595               5661     3          1  1.0  23.0               0   \n",
       "5596               5662     3          1  1.0  71.0               0   \n",
       "5597               5663     3          1  2.0  58.0               0   \n",
       "\n",
       "      MED-Anesthetics  MED-Antibacterials  MED-Anticonvulsants  \\\n",
       "0                   0                   0                    0   \n",
       "1                   0                   0                    0   \n",
       "2                   0                   0                    0   \n",
       "3                   0                   0                    0   \n",
       "4                   0                   0                    0   \n",
       "...               ...                 ...                  ...   \n",
       "5593                0                   0                    0   \n",
       "5594                0                   0                    0   \n",
       "5595                0                   0                    0   \n",
       "5596                0                   0                    0   \n",
       "5597                0                   0                    0   \n",
       "\n",
       "      MED-Antidepressants  ...  LABS-IND-sodium  LABS-IND-triglycerides  \\\n",
       "0                       0  ...              0.0                     0.0   \n",
       "1                       0  ...              0.0                     0.0   \n",
       "2                       0  ...              0.0                     0.0   \n",
       "3                       0  ...              0.0                     0.0   \n",
       "4                       0  ...              0.0                     0.0   \n",
       "...                   ...  ...              ...                     ...   \n",
       "5593                    0  ...              1.0                     1.0   \n",
       "5594                    0  ...              1.0                     0.0   \n",
       "5595                    0  ...              0.0                     1.0   \n",
       "5596                    0  ...              1.0                     0.0   \n",
       "5597                    0  ...              1.0                     1.0   \n",
       "\n",
       "      LABS-IND-urea  LABS-IND-wbc  SUBST-1  SUBST-2  SUBST-3  SUBST-4  \\\n",
       "0               0.0           0.0      0.0      0.0      0.0      0.0   \n",
       "1               0.0           0.0      0.0      0.0      0.0      0.0   \n",
       "2               0.0           0.0      0.0      0.0      0.0      0.0   \n",
       "3               0.0           0.0      1.0      0.0      0.0      0.0   \n",
       "4               0.0           0.0      0.0      0.0      0.0      0.0   \n",
       "...             ...           ...      ...      ...      ...      ...   \n",
       "5593            1.0           0.0      0.0      0.0      1.0      0.0   \n",
       "5594            1.0           1.0      0.0      0.0      0.0      0.0   \n",
       "5595            0.0           0.0      0.0      0.0      1.0      1.0   \n",
       "5596            1.0           0.0      0.0      0.0      0.0      0.0   \n",
       "5597            1.0           1.0      0.0      0.0      0.0      0.0   \n",
       "\n",
       "      SUBST-5  LC_STATUS_SITE  \n",
       "0         0.0             1_2  \n",
       "1         0.0             1_2  \n",
       "2         0.0             1_2  \n",
       "3         0.0             1_2  \n",
       "4         0.0             1_2  \n",
       "...       ...             ...  \n",
       "5593      0.0             1_3  \n",
       "5594      0.0             1_3  \n",
       "5595      0.0             1_3  \n",
       "5596      0.0             1_3  \n",
       "5597      0.0             1_3  \n",
       "\n",
       "[5598 rows x 438 columns]"
      ]
     },
     "execution_count": 15,
     "metadata": {},
     "output_type": "execute_result"
    }
   ],
   "source": [
    "df"
   ]
  },
  {
   "cell_type": "code",
   "execution_count": 16,
   "metadata": {},
   "outputs": [
    {
     "data": {
      "application/vnd.jupyter.widget-view+json": {
       "model_id": "b04648abaca84a769a48050e61a6357f",
       "version_major": 2,
       "version_minor": 0
      },
      "text/plain": [
       "Saving the dataset (0/1 shards):   0%|          | 0/3358 [00:00<?, ? examples/s]"
      ]
     },
     "metadata": {},
     "output_type": "display_data"
    },
    {
     "data": {
      "application/vnd.jupyter.widget-view+json": {
       "model_id": "1fc295037ac949e4b0d51865c3c98f00",
       "version_major": 2,
       "version_minor": 0
      },
      "text/plain": [
       "Saving the dataset (0/1 shards):   0%|          | 0/1120 [00:00<?, ? examples/s]"
      ]
     },
     "metadata": {},
     "output_type": "display_data"
    },
    {
     "data": {
      "application/vnd.jupyter.widget-view+json": {
       "model_id": "311bf102b3174780b32580b5b9b1c20f",
       "version_major": 2,
       "version_minor": 0
      },
      "text/plain": [
       "Saving the dataset (0/1 shards):   0%|          | 0/1120 [00:00<?, ? examples/s]"
      ]
     },
     "metadata": {},
     "output_type": "display_data"
    }
   ],
   "source": [
    "datasets.arrow_dataset.Dataset.from_pandas(df_train,preserve_index=False).save_to_disk(\n",
    "    output_path/\"TTS/dfcmplt_Train.arrow\"\n",
    ")\n",
    "datasets.arrow_dataset.Dataset.from_pandas(df_test, preserve_index=False).save_to_disk(\n",
    "    output_path / \"TTS/dfcmplt_Test.arrow\"\n",
    ")\n",
    "datasets.arrow_dataset.Dataset.from_pandas(\n",
    "    df_holdout, preserve_index=False\n",
    ").save_to_disk(output_path / \"TTS/dfcmplt_Holdout.arrow\")"
   ]
  },
  {
   "cell_type": "code",
   "execution_count": 17,
   "metadata": {},
   "outputs": [
    {
     "data": {
      "application/vnd.jupyter.widget-view+json": {
       "model_id": "6dc7b2fde869472fb9698e50e0f5a4ab",
       "version_major": 2,
       "version_minor": 0
      },
      "text/plain": [
       "Saving the dataset (0/1 shards):   0%|          | 0/3358 [00:00<?, ? examples/s]"
      ]
     },
     "metadata": {},
     "output_type": "display_data"
    },
    {
     "data": {
      "application/vnd.jupyter.widget-view+json": {
       "model_id": "d8314fa89bb34828811b6405346e0dd8",
       "version_major": 2,
       "version_minor": 0
      },
      "text/plain": [
       "Saving the dataset (0/1 shards):   0%|          | 0/1120 [00:00<?, ? examples/s]"
      ]
     },
     "metadata": {},
     "output_type": "display_data"
    },
    {
     "data": {
      "application/vnd.jupyter.widget-view+json": {
       "model_id": "16f890e82ce14a7bb7d6f58367067546",
       "version_major": 2,
       "version_minor": 0
      },
      "text/plain": [
       "Saving the dataset (0/1 shards):   0%|          | 0/1120 [00:00<?, ? examples/s]"
      ]
     },
     "metadata": {},
     "output_type": "display_data"
    }
   ],
   "source": [
    "datasets.arrow_dataset.Dataset.from_pandas(df_train[lColPreLC],preserve_index=False).save_to_disk(\n",
    "    output_path/\"TTS/dfcmpltPreLC_Train.arrow\"\n",
    ")\n",
    "datasets.arrow_dataset.Dataset.from_pandas(df_test[lColPreLC], preserve_index=False).save_to_disk(\n",
    "    output_path / \"TTS/dfcmpltPreLC_Test.arrow\"\n",
    ")\n",
    "datasets.arrow_dataset.Dataset.from_pandas(\n",
    "    df_holdout[lColPreLC], preserve_index=False\n",
    ").save_to_disk(output_path / \"TTS/dfcmpltPreLC_Holdout.arrow\")"
   ]
  },
  {
   "cell_type": "code",
   "execution_count": 18,
   "metadata": {},
   "outputs": [
    {
     "data": {
      "application/vnd.jupyter.widget-view+json": {
       "model_id": "73009e0c15eb4fba9590d7d47222f6b8",
       "version_major": 2,
       "version_minor": 0
      },
      "text/plain": [
       "Saving the dataset (0/1 shards):   0%|          | 0/3358 [00:00<?, ? examples/s]"
      ]
     },
     "metadata": {},
     "output_type": "display_data"
    },
    {
     "data": {
      "application/vnd.jupyter.widget-view+json": {
       "model_id": "e7badd8712e54e52b43f0746ba29ec45",
       "version_major": 2,
       "version_minor": 0
      },
      "text/plain": [
       "Saving the dataset (0/1 shards):   0%|          | 0/1120 [00:00<?, ? examples/s]"
      ]
     },
     "metadata": {},
     "output_type": "display_data"
    },
    {
     "data": {
      "application/vnd.jupyter.widget-view+json": {
       "model_id": "d159c72a7c064ceb99c6121948315509",
       "version_major": 2,
       "version_minor": 0
      },
      "text/plain": [
       "Saving the dataset (0/1 shards):   0%|          | 0/1120 [00:00<?, ? examples/s]"
      ]
     },
     "metadata": {},
     "output_type": "display_data"
    }
   ],
   "source": [
    "# lColPreLC2 = remove mode of diag from prelc cols\n",
    "datasets.arrow_dataset.Dataset.from_pandas(df_train[lColPreLC2],preserve_index=False).save_to_disk(\n",
    "    output_path/\"TTS/dfcmpltPreLC2_Train.arrow\"\n",
    ")\n",
    "datasets.arrow_dataset.Dataset.from_pandas(df_test[lColPreLC2], preserve_index=False).save_to_disk(\n",
    "    output_path / \"TTS/dfcmpltPreLC2_Test.arrow\"\n",
    ")\n",
    "datasets.arrow_dataset.Dataset.from_pandas(\n",
    "    df_holdout[lColPreLC2], preserve_index=False\n",
    ").save_to_disk(output_path / \"TTS/dfcmpltPreLC2_Holdout.arrow\")"
   ]
  },
  {
   "cell_type": "code",
   "execution_count": 19,
   "metadata": {},
   "outputs": [
    {
     "data": {
      "application/vnd.jupyter.widget-view+json": {
       "model_id": "94e84a40c1854bcda6890c45eb739136",
       "version_major": 2,
       "version_minor": 0
      },
      "text/plain": [
       "Saving the dataset (0/1 shards):   0%|          | 0/3348 [00:00<?, ? examples/s]"
      ]
     },
     "metadata": {},
     "output_type": "display_data"
    },
    {
     "data": {
      "application/vnd.jupyter.widget-view+json": {
       "model_id": "c0d13389d5814152a4bea414061d6e9c",
       "version_major": 2,
       "version_minor": 0
      },
      "text/plain": [
       "Saving the dataset (0/1 shards):   0%|          | 0/1114 [00:00<?, ? examples/s]"
      ]
     },
     "metadata": {},
     "output_type": "display_data"
    },
    {
     "data": {
      "application/vnd.jupyter.widget-view+json": {
       "model_id": "090ca94ef2ab4ab4816e404c6da32c8e",
       "version_major": 2,
       "version_minor": 0
      },
      "text/plain": [
       "Saving the dataset (0/1 shards):   0%|          | 0/1115 [00:00<?, ? examples/s]"
      ]
     },
     "metadata": {},
     "output_type": "display_data"
    }
   ],
   "source": [
    "# lColPreLC3 = remove 21 patietnst that were incorectly included - May 2/3\n",
    "\n",
    "# reimport original data\n",
    "from pathlib import Path\n",
    "input_path = Path(\"../Data/Original Data/2024_04_26\")\n",
    "\n",
    "\n",
    "dfOrg = pd.read_excel(input_path / \"FINAL-CORRECTED-DATA-2024-04-26.xlsx\")\n",
    "\n",
    "#records to remove\n",
    "recRemove = ['353','363','400','1020','1147','1154','1159','1164','1171','1173','1228','1242','1272','1300','1325','1344','1345','1346','1348','1349','1380']\n",
    "recRemove = [int(x) for x in recRemove]\n",
    "indexOrg = dfOrg[~dfOrg['record_id'].isin(recRemove)].index\n",
    "recRemove = [int(x) for x in recRemove]\n",
    "# dfOrg[['record_id','__index_']]\n",
    "\n",
    "\n",
    "\n",
    "df_train_LC3 = df_train[df_train['__index_level_0__'].isin(indexOrg)]\n",
    "df_test_LC3 = df_test[df_test['__index_level_0__'].isin(indexOrg)]\n",
    "df_holdout_LC3 = df_holdout[df_holdout['__index_level_0__'].isin(indexOrg)]\n",
    "\n",
    "lColPreLC3 = [x for x in lColPreLC2 if 'covid_test' not in  x.lower()]\n",
    "\n",
    "\n",
    "\n",
    "datasets.arrow_dataset.Dataset.from_pandas(df_train_LC3[lColPreLC3],preserve_index=False).save_to_disk(\n",
    "    output_path/\"TTS/dfcmpltPreLC3_Train.arrow\"\n",
    ")\n",
    "datasets.arrow_dataset.Dataset.from_pandas(df_test_LC3[lColPreLC3], preserve_index=False).save_to_disk(\n",
    "    output_path / \"TTS/dfcmpltPreLC3_Test.arrow\"\n",
    ")\n",
    "datasets.arrow_dataset.Dataset.from_pandas(\n",
    "    df_holdout_LC3[lColPreLC3], preserve_index=False\n",
    ").save_to_disk(output_path / \"TTS/dfcmpltPreLC3_Holdout.arrow\")\n"
   ]
  },
  {
   "cell_type": "code",
   "execution_count": 20,
   "metadata": {},
   "outputs": [
    {
     "data": {
      "text/plain": [
       "['__index_level_0__',\n",
       " 'SITE',\n",
       " 'LC_STATUS',\n",
       " 'sex',\n",
       " 'age',\n",
       " 'VAX-vaccinated',\n",
       " 'CD-hospitalized',\n",
       " 'CD-required_oxygen',\n",
       " 'MED-Analgesics',\n",
       " 'MED-Anesthetics',\n",
       " 'MED-Antibacterials',\n",
       " 'MED-Anticonvulsants',\n",
       " 'MED-Antidepressants',\n",
       " 'MED-Antifungals',\n",
       " 'MED-Antimigraine-agents',\n",
       " 'MED-Antiparasitics',\n",
       " 'MED-Antiparkinson-agents',\n",
       " 'MED-Antipsychotics',\n",
       " 'MED-Antispasticity-agents',\n",
       " 'MED-Antivirals',\n",
       " 'MED-Blood-glucose-regulators',\n",
       " 'MED-Blood-products',\n",
       " 'MED-Cardiovascular-agents',\n",
       " 'MED-Dental-and-oral-agents',\n",
       " 'MED-Dermatological-agents',\n",
       " 'MED-Gastrointestinal-agents',\n",
       " 'MED-Hormonal-agents-(adrenal)',\n",
       " 'MED-Hormonal-agents-(sex-hormones)',\n",
       " 'MED-Hormonal-agents-(thyroid)',\n",
       " 'MED-Hormone-suppressant-(thyroid)',\n",
       " 'MED-Immunological-agents',\n",
       " 'MED-Inflammatory-bowel-disease-agents',\n",
       " 'MED-Metabolic-bone-disease-agents',\n",
       " 'MED-Ophthalmic-agents',\n",
       " 'MED-Respiratory-tract-agents',\n",
       " 'MED-Skeletal-muscle-relaxants',\n",
       " 'SYMPT-abdominal_pain___1',\n",
       " 'SYMPT-chest_pain___1',\n",
       " 'SYMPT-confusion_altered_mental_s___1',\n",
       " 'SYMPT-cough___1',\n",
       " 'SYMPT-diarrhea___1',\n",
       " 'SYMPT-dizziness___1',\n",
       " 'SYMPT-ear_pain___1',\n",
       " 'SYMPT-extremity_weakness_or_numb___1',\n",
       " 'SYMPT-fatigue___1',\n",
       " 'SYMPT-fever_38_0oc___1',\n",
       " 'SYMPT-headache___1',\n",
       " 'SYMPT-hemoptysis_bloody_sputum___1',\n",
       " 'SYMPT-joint_pain_arthralgia___1',\n",
       " 'SYMPT-leg_swelling_edema___1',\n",
       " 'SYMPT-loss_of_appetite___1',\n",
       " 'SYMPT-loss_of_taste_lost_of_smel___1',\n",
       " 'SYMPT-muscle_aches_myalgia___1',\n",
       " 'SYMPT-nausea_vomiting___1',\n",
       " 'SYMPT-night_sweats___1',\n",
       " 'SYMPT-red_eye_conjunctivitis___1',\n",
       " 'SYMPT-runny_nose_rhinorrhea___1',\n",
       " 'SYMPT-seizure___1',\n",
       " 'SYMPT-shortness_of_breath_dyspne___1',\n",
       " 'SYMPT-skin_rash___1',\n",
       " 'SYMPT-sore_throat___1',\n",
       " 'SYMPT-trouble_speaking_aphasia_d___1',\n",
       " 'SYMPT-weight_loss___1',\n",
       " 'SYMPT-wheezing_or_stridor___1',\n",
       " 'HHX-Arterial Hypertension',\n",
       " 'HHX-Asthma',\n",
       " 'HHX-Atrial fibrillation or flutter',\n",
       " 'HHX-COPD (emphysema',\n",
       " 'HHX-Cancer',\n",
       " 'HHX-Cardiovascular disease',\n",
       " 'HHX-Chronic hematologic disease',\n",
       " 'HHX-Chronic kidney disease',\n",
       " 'HHX-Chronic liver disease',\n",
       " 'HHX-Chronic lung disease',\n",
       " 'HHX-Chronic neurological disorder (other than stroke/TIA)',\n",
       " 'HHX-Coronary artery disease',\n",
       " 'HHX-Dementia',\n",
       " 'HHX-Diabetes',\n",
       " 'HHX-Dialysis',\n",
       " 'HHX-HIV or AIDS',\n",
       " 'HHX-Heart failure',\n",
       " 'HHX-Immunosuppression',\n",
       " 'HHX-Malnutrition',\n",
       " 'HHX-Obesity',\n",
       " 'HHX-Other',\n",
       " 'HHX-Past tuberculosis infection',\n",
       " 'HHX-Pregnant',\n",
       " 'HHX-Prior myocardial infarction',\n",
       " 'HHX-Psychiatric disease',\n",
       " 'HHX-Pulmonary hypertension',\n",
       " 'HHX-Rheumatologic disease',\n",
       " 'HHX-Stroke',\n",
       " 'HHX-Transient ischemic attack (TIA)',\n",
       " 'HHX-OTHER-AAA',\n",
       " 'HHX-OTHER-Anemia',\n",
       " 'HHX-OTHER-BPH',\n",
       " 'HHX-OTHER-Celiac',\n",
       " \"HHX-OTHER-Crohn's-disease\",\n",
       " 'HHX-OTHER-DVT',\n",
       " 'HHX-OTHER-Derm',\n",
       " 'HHX-OTHER-GERD',\n",
       " 'HHX-OTHER-GI',\n",
       " 'HHX-OTHER-IBS',\n",
       " 'HHX-OTHER-MSK',\n",
       " 'HHX-OTHER-OB',\n",
       " 'HHX-OTHER-Sleep-disorder',\n",
       " 'HHX-OTHER-UNSPECIFIED',\n",
       " 'HHX-OTHER-chagas',\n",
       " 'HHX-OTHER-concussion',\n",
       " 'HHX-OTHER-diverticulitis',\n",
       " 'HHX-OTHER-fatigue',\n",
       " 'HHX-OTHER-genetic-disorder',\n",
       " 'HHX-OTHER-hyper',\n",
       " 'HHX-OTHER-hypo',\n",
       " 'HHX-OTHER-resp',\n",
       " 'HHX-OTHER-sickle-cell-anemia',\n",
       " 'HHX-OTHER-surgery',\n",
       " 'HHX-OTHER-ulcerative-colitis',\n",
       " 'CD-acute_kidney_injury___3',\n",
       " 'CD-acute_kidney_injury___4',\n",
       " 'CD-acute_respiratory_distress___3',\n",
       " 'CD-acute_respiratory_distress___4',\n",
       " 'CD-adjunctive___1',\n",
       " 'CD-anemia___3',\n",
       " 'CD-anemia___4',\n",
       " 'CD-anxiety___3',\n",
       " 'CD-anxiety___4',\n",
       " 'CD-asthma___3',\n",
       " 'CD-asthma___4',\n",
       " 'CD-bacterial_viral_or_cryptog___3',\n",
       " 'CD-bacterial_viral_or_cryptog___4',\n",
       " 'CD-bacteriemia___3',\n",
       " 'CD-bacteriemia___4',\n",
       " 'CD-brain_fog___3',\n",
       " 'CD-brain_fog___4',\n",
       " 'CD-bronchiolitis___3',\n",
       " 'CD-bronchiolitis___4',\n",
       " 'CD-cardiac_arrest___3',\n",
       " 'CD-cardiac_arrest___4',\n",
       " 'CD-cardiovascular-other-3',\n",
       " 'CD-cardiovascular-other-4',\n",
       " 'CD-copd___3',\n",
       " 'CD-copd___4',\n",
       " 'CD-decompensated_heart_failur___3',\n",
       " 'CD-decompensated_heart_failur___4',\n",
       " 'CD-deep_vein_thrombosis_dvt___3',\n",
       " 'CD-deep_vein_thrombosis_dvt___4',\n",
       " 'CD-depression___3',\n",
       " 'CD-depression___4',\n",
       " 'CD-difficulty_with_concentrat___3',\n",
       " 'CD-difficulty_with_concentrat___4',\n",
       " 'CD-disseminated_intravascular___3',\n",
       " 'CD-disseminated_intravascular___4',\n",
       " 'CD-encephalitis___3',\n",
       " 'CD-encephalitis___4',\n",
       " 'CD-endocarditis___3',\n",
       " 'CD-endocarditis___4',\n",
       " 'CD-endocrine-other-3',\n",
       " 'CD-endocrine-other-4',\n",
       " 'CD-gastrointestinal-other-3',\n",
       " 'CD-gastrointestinal-other-4',\n",
       " 'CD-gastrointestinal_haemorrha___3',\n",
       " 'CD-gastrointestinal_haemorrha___4',\n",
       " 'CD-hyperglycemia___3',\n",
       " 'CD-hyperglycemia___4',\n",
       " 'CD-hypoglycemia___3',\n",
       " 'CD-hypoglycemia___4',\n",
       " 'CD-insomnia___3',\n",
       " 'CD-insomnia___4',\n",
       " 'CD-interstitial_lung_disease___3',\n",
       " 'CD-interstitial_lung_disease___4',\n",
       " 'CD-left_ventricular_function___3',\n",
       " 'CD-left_ventricular_function___4',\n",
       " 'CD-liver_dysfunction___3',\n",
       " 'CD-liver_dysfunction___4',\n",
       " 'CD-medication_received___1',\n",
       " 'CD-medication_received___2',\n",
       " 'CD-medication_received___3',\n",
       " 'CD-medication_received___4',\n",
       " 'CD-medication_received___5',\n",
       " 'CD-medication_received___6',\n",
       " 'CD-memory_problems___3',\n",
       " 'CD-memory_problems___4',\n",
       " 'CD-meningitis___3',\n",
       " 'CD-meningitis___4',\n",
       " 'CD-mood_change___3',\n",
       " 'CD-mood_change___4',\n",
       " 'CD-myocardial_infarction_stem___3',\n",
       " 'CD-myocardial_infarction_stem___4',\n",
       " 'CD-myocarditis___3',\n",
       " 'CD-myocarditis___4',\n",
       " 'CD-myositis___3',\n",
       " 'CD-myositis___4',\n",
       " 'CD-neurologic-other-3',\n",
       " 'CD-neurologic-other-4',\n",
       " 'CD-new_atrial_fibrillation_or___3',\n",
       " 'CD-new_atrial_fibrillation_or___4',\n",
       " 'CD-non_st_elevation_myocardia___3',\n",
       " 'CD-non_st_elevation_myocardia___4',\n",
       " 'CD-other_cardiac_arrhythmia___3',\n",
       " 'CD-other_cardiac_arrhythmia___4',\n",
       " 'CD-pancreatitis___3',\n",
       " 'CD-pancreatitis___4',\n",
       " 'CD-pericarditis___3',\n",
       " 'CD-pericarditis___4',\n",
       " 'CD-pleural_effusion___3',\n",
       " 'CD-pleural_effusion___4',\n",
       " 'CD-pneumothorax___3',\n",
       " 'CD-pneumothorax___4',\n",
       " 'CD-psychiatric-other-3',\n",
       " 'CD-psychiatric-other-4',\n",
       " 'CD-pulmonary_embolism_pe___3',\n",
       " 'CD-pulmonary_embolism_pe___4',\n",
       " 'CD-renal-other-3',\n",
       " 'CD-renal-other-4',\n",
       " 'CD-respiratory-other-3',\n",
       " 'CD-respiratory-other-4',\n",
       " 'CD-rhabdomyolysis___3',\n",
       " 'CD-rhabdomyolysis___4',\n",
       " 'CD-st_elevation___3',\n",
       " 'CD-st_elevation___4',\n",
       " 'CD-stroke___3',\n",
       " 'CD-stroke___4',\n",
       " 'CD-tia___3',\n",
       " 'CD-tia___4',\n",
       " 'CD-type_of_care___1',\n",
       " 'CD-type_of_care___2',\n",
       " 'CD-ventilatory_support_type___1',\n",
       " 'CD-ventilatory_support_type___2',\n",
       " 'CD-ventilatory_support_type___3',\n",
       " 'CD-ventilatory_support_type___4',\n",
       " 'CD-ventricular_tachycardia_or___3',\n",
       " 'CD-ventricular_tachycardia_or___4',\n",
       " 'CD-severity_level___0',\n",
       " 'CD-severity_level___1',\n",
       " 'CD-severity_level___2',\n",
       " 'CD-severity_level___3',\n",
       " 'SUBST-1',\n",
       " 'SUBST-2',\n",
       " 'SUBST-3',\n",
       " 'SUBST-4',\n",
       " 'SUBST-5']"
      ]
     },
     "execution_count": 20,
     "metadata": {},
     "output_type": "execute_result"
    }
   ],
   "source": [
    "lColPreLC3"
   ]
  },
  {
   "cell_type": "code",
   "execution_count": 21,
   "metadata": {},
   "outputs": [
    {
     "data": {
      "application/vnd.jupyter.widget-view+json": {
       "model_id": "481f41322cf648b783aee118d84f1da5",
       "version_major": 2,
       "version_minor": 0
      },
      "text/plain": [
       "Saving the dataset (0/1 shards):   0%|          | 0/3348 [00:00<?, ? examples/s]"
      ]
     },
     "metadata": {},
     "output_type": "display_data"
    },
    {
     "data": {
      "application/vnd.jupyter.widget-view+json": {
       "model_id": "f9fe3a23437e4180b0614a3ab43a964d",
       "version_major": 2,
       "version_minor": 0
      },
      "text/plain": [
       "Saving the dataset (0/1 shards):   0%|          | 0/1114 [00:00<?, ? examples/s]"
      ]
     },
     "metadata": {},
     "output_type": "display_data"
    },
    {
     "data": {
      "application/vnd.jupyter.widget-view+json": {
       "model_id": "218c501ec5d44065983818a9c29c72f6",
       "version_major": 2,
       "version_minor": 0
      },
      "text/plain": [
       "Saving the dataset (0/1 shards):   0%|          | 0/1115 [00:00<?, ? examples/s]"
      ]
     },
     "metadata": {},
     "output_type": "display_data"
    }
   ],
   "source": [
    "# lColPreLC4 = remove severity variable bc Issue #8 - The severity level variable can likely be omitted. It was only collected by a few sites for a few patients and i suspect that the zeros within it are in fact missing data. - May 6\n",
    "\n",
    "lColPreLC4 = deepcopy(lColPreLC3)\n",
    "lColPreLC4.remove('CD-severity_level___0')\n",
    "lColPreLC4.remove('CD-severity_level___1')\n",
    "lColPreLC4.remove('CD-severity_level___2')\n",
    "lColPreLC4.remove('CD-severity_level___3')\n",
    "\n",
    "\n",
    "df_train_LC4 = deepcopy(df_train_LC3[lColPreLC3])[lColPreLC4]\n",
    "df_test_LC4 = deepcopy(df_test_LC3[lColPreLC3])[lColPreLC4]\n",
    "df_holdout_LC4 = deepcopy(df_holdout_LC3[lColPreLC3])[lColPreLC4]\n",
    "\n",
    "datasets.arrow_dataset.Dataset.from_pandas(df_train_LC4,preserve_index=False).save_to_disk(\n",
    "    output_path/\"TTS/dfcmpltPreLC4_Train.arrow\"\n",
    ")\n",
    "datasets.arrow_dataset.Dataset.from_pandas(df_test_LC4, preserve_index=False).save_to_disk(\n",
    "    output_path / \"TTS/dfcmpltPreLC4_Test.arrow\"\n",
    ")\n",
    "datasets.arrow_dataset.Dataset.from_pandas(df_holdout_LC4, preserve_index=False\n",
    ").save_to_disk(output_path / \"TTS/dfcmpltPreLC4_Holdout.arrow\")\n"
   ]
  },
  {
   "cell_type": "code",
   "execution_count": 22,
   "metadata": {},
   "outputs": [
    {
     "data": {
      "application/vnd.jupyter.widget-view+json": {
       "model_id": "a31000c48ac44ca98e72a48b963a0190",
       "version_major": 2,
       "version_minor": 0
      },
      "text/plain": [
       "Saving the dataset (0/1 shards):   0%|          | 0/192 [00:00<?, ? examples/s]"
      ]
     },
     "metadata": {},
     "output_type": "display_data"
    },
    {
     "data": {
      "application/vnd.jupyter.widget-view+json": {
       "model_id": "621327cad3e947b48cebc100717e75b9",
       "version_major": 2,
       "version_minor": 0
      },
      "text/plain": [
       "Saving the dataset (0/1 shards):   0%|          | 0/63 [00:00<?, ? examples/s]"
      ]
     },
     "metadata": {},
     "output_type": "display_data"
    },
    {
     "data": {
      "application/vnd.jupyter.widget-view+json": {
       "model_id": "c91223217e8c4c818dfbfd9791e0dec6",
       "version_major": 2,
       "version_minor": 0
      },
      "text/plain": [
       "Saving the dataset (0/1 shards):   0%|          | 0/63 [00:00<?, ? examples/s]"
      ]
     },
     "metadata": {},
     "output_type": "display_data"
    },
    {
     "data": {
      "application/vnd.jupyter.widget-view+json": {
       "model_id": "e6e2eb3d81344c0fb2e35fc993ad855b",
       "version_major": 2,
       "version_minor": 0
      },
      "text/plain": [
       "Saving the dataset (0/1 shards):   0%|          | 0/192 [00:00<?, ? examples/s]"
      ]
     },
     "metadata": {},
     "output_type": "display_data"
    },
    {
     "data": {
      "application/vnd.jupyter.widget-view+json": {
       "model_id": "6f9aeffdba8d413baa8eacb32a2d255d",
       "version_major": 2,
       "version_minor": 0
      },
      "text/plain": [
       "Saving the dataset (0/1 shards):   0%|          | 0/63 [00:00<?, ? examples/s]"
      ]
     },
     "metadata": {},
     "output_type": "display_data"
    },
    {
     "data": {
      "application/vnd.jupyter.widget-view+json": {
       "model_id": "fe32bc63ad5b42659bc41d6b8faf5be4",
       "version_major": 2,
       "version_minor": 0
      },
      "text/plain": [
       "Saving the dataset (0/1 shards):   0%|          | 0/63 [00:00<?, ? examples/s]"
      ]
     },
     "metadata": {},
     "output_type": "display_data"
    },
    {
     "data": {
      "application/vnd.jupyter.widget-view+json": {
       "model_id": "2caefb11af514ba3b3e54d90f23a4d53",
       "version_major": 2,
       "version_minor": 0
      },
      "text/plain": [
       "Saving the dataset (0/1 shards):   0%|          | 0/192 [00:00<?, ? examples/s]"
      ]
     },
     "metadata": {},
     "output_type": "display_data"
    },
    {
     "data": {
      "application/vnd.jupyter.widget-view+json": {
       "model_id": "6b8291b3a2014ea6b512bee4cc358e60",
       "version_major": 2,
       "version_minor": 0
      },
      "text/plain": [
       "Saving the dataset (0/1 shards):   0%|          | 0/63 [00:00<?, ? examples/s]"
      ]
     },
     "metadata": {},
     "output_type": "display_data"
    },
    {
     "data": {
      "application/vnd.jupyter.widget-view+json": {
       "model_id": "3699b3d65fa44d6fa65c7b51a31f7938",
       "version_major": 2,
       "version_minor": 0
      },
      "text/plain": [
       "Saving the dataset (0/1 shards):   0%|          | 0/63 [00:00<?, ? examples/s]"
      ]
     },
     "metadata": {},
     "output_type": "display_data"
    },
    {
     "data": {
      "application/vnd.jupyter.widget-view+json": {
       "model_id": "d745d8ba40914f7c9d54c1a2755b13ce",
       "version_major": 2,
       "version_minor": 0
      },
      "text/plain": [
       "Saving the dataset (0/1 shards):   0%|          | 0/192 [00:00<?, ? examples/s]"
      ]
     },
     "metadata": {},
     "output_type": "display_data"
    },
    {
     "data": {
      "application/vnd.jupyter.widget-view+json": {
       "model_id": "6c51c84347084eeea4454b37b28481c8",
       "version_major": 2,
       "version_minor": 0
      },
      "text/plain": [
       "Saving the dataset (0/1 shards):   0%|          | 0/63 [00:00<?, ? examples/s]"
      ]
     },
     "metadata": {},
     "output_type": "display_data"
    },
    {
     "data": {
      "application/vnd.jupyter.widget-view+json": {
       "model_id": "c339deef390648fabd8d0bea8f5202d6",
       "version_major": 2,
       "version_minor": 0
      },
      "text/plain": [
       "Saving the dataset (0/1 shards):   0%|          | 0/63 [00:00<?, ? examples/s]"
      ]
     },
     "metadata": {},
     "output_type": "display_data"
    },
    {
     "data": {
      "application/vnd.jupyter.widget-view+json": {
       "model_id": "7c3dd8f2a2284a91ada6809f7c643378",
       "version_major": 2,
       "version_minor": 0
      },
      "text/plain": [
       "Saving the dataset (0/1 shards):   0%|          | 0/192 [00:00<?, ? examples/s]"
      ]
     },
     "metadata": {},
     "output_type": "display_data"
    },
    {
     "data": {
      "application/vnd.jupyter.widget-view+json": {
       "model_id": "7bd9f27646b04b85a91e58fc373d4a04",
       "version_major": 2,
       "version_minor": 0
      },
      "text/plain": [
       "Saving the dataset (0/1 shards):   0%|          | 0/63 [00:00<?, ? examples/s]"
      ]
     },
     "metadata": {},
     "output_type": "display_data"
    },
    {
     "data": {
      "application/vnd.jupyter.widget-view+json": {
       "model_id": "3d806024f6c54ce582b6c2a44bb8b0b5",
       "version_major": 2,
       "version_minor": 0
      },
      "text/plain": [
       "Saving the dataset (0/1 shards):   0%|          | 0/63 [00:00<?, ? examples/s]"
      ]
     },
     "metadata": {},
     "output_type": "display_data"
    },
    {
     "data": {
      "application/vnd.jupyter.widget-view+json": {
       "model_id": "5ee7278eccc246e0bb9b9a82c4433180",
       "version_major": 2,
       "version_minor": 0
      },
      "text/plain": [
       "Saving the dataset (0/1 shards):   0%|          | 0/1748 [00:00<?, ? examples/s]"
      ]
     },
     "metadata": {},
     "output_type": "display_data"
    },
    {
     "data": {
      "application/vnd.jupyter.widget-view+json": {
       "model_id": "3d31caed787847e89971898f7206f3e0",
       "version_major": 2,
       "version_minor": 0
      },
      "text/plain": [
       "Saving the dataset (0/1 shards):   0%|          | 0/583 [00:00<?, ? examples/s]"
      ]
     },
     "metadata": {},
     "output_type": "display_data"
    },
    {
     "data": {
      "application/vnd.jupyter.widget-view+json": {
       "model_id": "d4fefcc1554548278f2d833b1fca2134",
       "version_major": 2,
       "version_minor": 0
      },
      "text/plain": [
       "Saving the dataset (0/1 shards):   0%|          | 0/582 [00:00<?, ? examples/s]"
      ]
     },
     "metadata": {},
     "output_type": "display_data"
    },
    {
     "data": {
      "application/vnd.jupyter.widget-view+json": {
       "model_id": "89627736e7c441e399a675292805ff80",
       "version_major": 2,
       "version_minor": 0
      },
      "text/plain": [
       "Saving the dataset (0/1 shards):   0%|          | 0/1748 [00:00<?, ? examples/s]"
      ]
     },
     "metadata": {},
     "output_type": "display_data"
    },
    {
     "data": {
      "application/vnd.jupyter.widget-view+json": {
       "model_id": "a3eea76a3faf4a9888e1b52d33172e9e",
       "version_major": 2,
       "version_minor": 0
      },
      "text/plain": [
       "Saving the dataset (0/1 shards):   0%|          | 0/583 [00:00<?, ? examples/s]"
      ]
     },
     "metadata": {},
     "output_type": "display_data"
    },
    {
     "data": {
      "application/vnd.jupyter.widget-view+json": {
       "model_id": "308ac5251f7d44ecb20f808f7ddd5c1d",
       "version_major": 2,
       "version_minor": 0
      },
      "text/plain": [
       "Saving the dataset (0/1 shards):   0%|          | 0/582 [00:00<?, ? examples/s]"
      ]
     },
     "metadata": {},
     "output_type": "display_data"
    },
    {
     "data": {
      "application/vnd.jupyter.widget-view+json": {
       "model_id": "b0346e283d25482db0c70da32c881166",
       "version_major": 2,
       "version_minor": 0
      },
      "text/plain": [
       "Saving the dataset (0/1 shards):   0%|          | 0/1748 [00:00<?, ? examples/s]"
      ]
     },
     "metadata": {},
     "output_type": "display_data"
    },
    {
     "data": {
      "application/vnd.jupyter.widget-view+json": {
       "model_id": "7b71da3db52449218a078b3152497027",
       "version_major": 2,
       "version_minor": 0
      },
      "text/plain": [
       "Saving the dataset (0/1 shards):   0%|          | 0/583 [00:00<?, ? examples/s]"
      ]
     },
     "metadata": {},
     "output_type": "display_data"
    },
    {
     "data": {
      "application/vnd.jupyter.widget-view+json": {
       "model_id": "cd705490ed19491094bf9fe9067fc14c",
       "version_major": 2,
       "version_minor": 0
      },
      "text/plain": [
       "Saving the dataset (0/1 shards):   0%|          | 0/582 [00:00<?, ? examples/s]"
      ]
     },
     "metadata": {},
     "output_type": "display_data"
    },
    {
     "data": {
      "application/vnd.jupyter.widget-view+json": {
       "model_id": "eb96ac93986d45a5a83f4a060fa54ce2",
       "version_major": 2,
       "version_minor": 0
      },
      "text/plain": [
       "Saving the dataset (0/1 shards):   0%|          | 0/1738 [00:00<?, ? examples/s]"
      ]
     },
     "metadata": {},
     "output_type": "display_data"
    },
    {
     "data": {
      "application/vnd.jupyter.widget-view+json": {
       "model_id": "e7bdd24f654b46f987f58c56db51f721",
       "version_major": 2,
       "version_minor": 0
      },
      "text/plain": [
       "Saving the dataset (0/1 shards):   0%|          | 0/577 [00:00<?, ? examples/s]"
      ]
     },
     "metadata": {},
     "output_type": "display_data"
    },
    {
     "data": {
      "application/vnd.jupyter.widget-view+json": {
       "model_id": "db0849b64b8d4c848f87804632357a5b",
       "version_major": 2,
       "version_minor": 0
      },
      "text/plain": [
       "Saving the dataset (0/1 shards):   0%|          | 0/577 [00:00<?, ? examples/s]"
      ]
     },
     "metadata": {},
     "output_type": "display_data"
    },
    {
     "data": {
      "application/vnd.jupyter.widget-view+json": {
       "model_id": "50ebdb07765f468cb8846c4877a2a177",
       "version_major": 2,
       "version_minor": 0
      },
      "text/plain": [
       "Saving the dataset (0/1 shards):   0%|          | 0/1738 [00:00<?, ? examples/s]"
      ]
     },
     "metadata": {},
     "output_type": "display_data"
    },
    {
     "data": {
      "application/vnd.jupyter.widget-view+json": {
       "model_id": "7ccb09fabc5d4da4a876c2b45565cf03",
       "version_major": 2,
       "version_minor": 0
      },
      "text/plain": [
       "Saving the dataset (0/1 shards):   0%|          | 0/577 [00:00<?, ? examples/s]"
      ]
     },
     "metadata": {},
     "output_type": "display_data"
    },
    {
     "data": {
      "application/vnd.jupyter.widget-view+json": {
       "model_id": "246baf9e7804459bbaf67ad39b31d445",
       "version_major": 2,
       "version_minor": 0
      },
      "text/plain": [
       "Saving the dataset (0/1 shards):   0%|          | 0/577 [00:00<?, ? examples/s]"
      ]
     },
     "metadata": {},
     "output_type": "display_data"
    },
    {
     "data": {
      "application/vnd.jupyter.widget-view+json": {
       "model_id": "058f9005c98c481e94edb6ecddfa2b60",
       "version_major": 2,
       "version_minor": 0
      },
      "text/plain": [
       "Saving the dataset (0/1 shards):   0%|          | 0/205 [00:00<?, ? examples/s]"
      ]
     },
     "metadata": {},
     "output_type": "display_data"
    },
    {
     "data": {
      "application/vnd.jupyter.widget-view+json": {
       "model_id": "04c41effab6a44b383ba75fcdf6d9e87",
       "version_major": 2,
       "version_minor": 0
      },
      "text/plain": [
       "Saving the dataset (0/1 shards):   0%|          | 0/67 [00:00<?, ? examples/s]"
      ]
     },
     "metadata": {},
     "output_type": "display_data"
    },
    {
     "data": {
      "application/vnd.jupyter.widget-view+json": {
       "model_id": "4b69cf8d617745bd9bade44b805f0de1",
       "version_major": 2,
       "version_minor": 0
      },
      "text/plain": [
       "Saving the dataset (0/1 shards):   0%|          | 0/68 [00:00<?, ? examples/s]"
      ]
     },
     "metadata": {},
     "output_type": "display_data"
    },
    {
     "data": {
      "application/vnd.jupyter.widget-view+json": {
       "model_id": "586335860f2e46ec98e9ac9d3ec6b7e7",
       "version_major": 2,
       "version_minor": 0
      },
      "text/plain": [
       "Saving the dataset (0/1 shards):   0%|          | 0/205 [00:00<?, ? examples/s]"
      ]
     },
     "metadata": {},
     "output_type": "display_data"
    },
    {
     "data": {
      "application/vnd.jupyter.widget-view+json": {
       "model_id": "e1f59bcaed8048fbaaa4ed736ec3867d",
       "version_major": 2,
       "version_minor": 0
      },
      "text/plain": [
       "Saving the dataset (0/1 shards):   0%|          | 0/67 [00:00<?, ? examples/s]"
      ]
     },
     "metadata": {},
     "output_type": "display_data"
    },
    {
     "data": {
      "application/vnd.jupyter.widget-view+json": {
       "model_id": "d84dae6391344f1bbcd177611bed2bff",
       "version_major": 2,
       "version_minor": 0
      },
      "text/plain": [
       "Saving the dataset (0/1 shards):   0%|          | 0/68 [00:00<?, ? examples/s]"
      ]
     },
     "metadata": {},
     "output_type": "display_data"
    },
    {
     "data": {
      "application/vnd.jupyter.widget-view+json": {
       "model_id": "1692b6c9c9a44fba84ff86dcf3817e8c",
       "version_major": 2,
       "version_minor": 0
      },
      "text/plain": [
       "Saving the dataset (0/1 shards):   0%|          | 0/205 [00:00<?, ? examples/s]"
      ]
     },
     "metadata": {},
     "output_type": "display_data"
    },
    {
     "data": {
      "application/vnd.jupyter.widget-view+json": {
       "model_id": "a530e9bfc5ca4e608e6945b16d4f1106",
       "version_major": 2,
       "version_minor": 0
      },
      "text/plain": [
       "Saving the dataset (0/1 shards):   0%|          | 0/67 [00:00<?, ? examples/s]"
      ]
     },
     "metadata": {},
     "output_type": "display_data"
    },
    {
     "data": {
      "application/vnd.jupyter.widget-view+json": {
       "model_id": "572e9363e4694537af7792b304b66670",
       "version_major": 2,
       "version_minor": 0
      },
      "text/plain": [
       "Saving the dataset (0/1 shards):   0%|          | 0/68 [00:00<?, ? examples/s]"
      ]
     },
     "metadata": {},
     "output_type": "display_data"
    },
    {
     "data": {
      "application/vnd.jupyter.widget-view+json": {
       "model_id": "f8386ef41cfa4de4aa4bc962dc0f806b",
       "version_major": 2,
       "version_minor": 0
      },
      "text/plain": [
       "Saving the dataset (0/1 shards):   0%|          | 0/205 [00:00<?, ? examples/s]"
      ]
     },
     "metadata": {},
     "output_type": "display_data"
    },
    {
     "data": {
      "application/vnd.jupyter.widget-view+json": {
       "model_id": "5252ea38407f45aa88dd25bef10e7aed",
       "version_major": 2,
       "version_minor": 0
      },
      "text/plain": [
       "Saving the dataset (0/1 shards):   0%|          | 0/67 [00:00<?, ? examples/s]"
      ]
     },
     "metadata": {},
     "output_type": "display_data"
    },
    {
     "data": {
      "application/vnd.jupyter.widget-view+json": {
       "model_id": "a4c3832435ff47b5a195c0df1eb4e906",
       "version_major": 2,
       "version_minor": 0
      },
      "text/plain": [
       "Saving the dataset (0/1 shards):   0%|          | 0/68 [00:00<?, ? examples/s]"
      ]
     },
     "metadata": {},
     "output_type": "display_data"
    },
    {
     "data": {
      "application/vnd.jupyter.widget-view+json": {
       "model_id": "0510385d4460418b8ebc91d27b65b3cf",
       "version_major": 2,
       "version_minor": 0
      },
      "text/plain": [
       "Saving the dataset (0/1 shards):   0%|          | 0/205 [00:00<?, ? examples/s]"
      ]
     },
     "metadata": {},
     "output_type": "display_data"
    },
    {
     "data": {
      "application/vnd.jupyter.widget-view+json": {
       "model_id": "319fc77f7f424f9d8d081b2bdfc0542e",
       "version_major": 2,
       "version_minor": 0
      },
      "text/plain": [
       "Saving the dataset (0/1 shards):   0%|          | 0/67 [00:00<?, ? examples/s]"
      ]
     },
     "metadata": {},
     "output_type": "display_data"
    },
    {
     "data": {
      "application/vnd.jupyter.widget-view+json": {
       "model_id": "6ba8d13ebad54816bca53b51a13c42d9",
       "version_major": 2,
       "version_minor": 0
      },
      "text/plain": [
       "Saving the dataset (0/1 shards):   0%|          | 0/68 [00:00<?, ? examples/s]"
      ]
     },
     "metadata": {},
     "output_type": "display_data"
    },
    {
     "data": {
      "application/vnd.jupyter.widget-view+json": {
       "model_id": "5cca82ca2423434681209c357af7ab78",
       "version_major": 2,
       "version_minor": 0
      },
      "text/plain": [
       "Saving the dataset (0/1 shards):   0%|          | 0/471 [00:00<?, ? examples/s]"
      ]
     },
     "metadata": {},
     "output_type": "display_data"
    },
    {
     "data": {
      "application/vnd.jupyter.widget-view+json": {
       "model_id": "1563ef17178d469a8306ff3a3474791c",
       "version_major": 2,
       "version_minor": 0
      },
      "text/plain": [
       "Saving the dataset (0/1 shards):   0%|          | 0/158 [00:00<?, ? examples/s]"
      ]
     },
     "metadata": {},
     "output_type": "display_data"
    },
    {
     "data": {
      "application/vnd.jupyter.widget-view+json": {
       "model_id": "181f2bc1fa1b4d59868632656dc29754",
       "version_major": 2,
       "version_minor": 0
      },
      "text/plain": [
       "Saving the dataset (0/1 shards):   0%|          | 0/158 [00:00<?, ? examples/s]"
      ]
     },
     "metadata": {},
     "output_type": "display_data"
    },
    {
     "data": {
      "application/vnd.jupyter.widget-view+json": {
       "model_id": "451d79b7c69f4ac1992af3eff9e04297",
       "version_major": 2,
       "version_minor": 0
      },
      "text/plain": [
       "Saving the dataset (0/1 shards):   0%|          | 0/471 [00:00<?, ? examples/s]"
      ]
     },
     "metadata": {},
     "output_type": "display_data"
    },
    {
     "data": {
      "application/vnd.jupyter.widget-view+json": {
       "model_id": "fe65057cf39e44c1ac52497bbb542d38",
       "version_major": 2,
       "version_minor": 0
      },
      "text/plain": [
       "Saving the dataset (0/1 shards):   0%|          | 0/158 [00:00<?, ? examples/s]"
      ]
     },
     "metadata": {},
     "output_type": "display_data"
    },
    {
     "data": {
      "application/vnd.jupyter.widget-view+json": {
       "model_id": "8b34f767041e4edfb8b8a5e97e80d9ee",
       "version_major": 2,
       "version_minor": 0
      },
      "text/plain": [
       "Saving the dataset (0/1 shards):   0%|          | 0/158 [00:00<?, ? examples/s]"
      ]
     },
     "metadata": {},
     "output_type": "display_data"
    },
    {
     "data": {
      "application/vnd.jupyter.widget-view+json": {
       "model_id": "a128d31915094f63bdee626ec07ff5b4",
       "version_major": 2,
       "version_minor": 0
      },
      "text/plain": [
       "Saving the dataset (0/1 shards):   0%|          | 0/471 [00:00<?, ? examples/s]"
      ]
     },
     "metadata": {},
     "output_type": "display_data"
    },
    {
     "data": {
      "application/vnd.jupyter.widget-view+json": {
       "model_id": "1db58cf32cec4553a7323bef9c9a6593",
       "version_major": 2,
       "version_minor": 0
      },
      "text/plain": [
       "Saving the dataset (0/1 shards):   0%|          | 0/158 [00:00<?, ? examples/s]"
      ]
     },
     "metadata": {},
     "output_type": "display_data"
    },
    {
     "data": {
      "application/vnd.jupyter.widget-view+json": {
       "model_id": "14351b7d15e7486990a3339dc6b96981",
       "version_major": 2,
       "version_minor": 0
      },
      "text/plain": [
       "Saving the dataset (0/1 shards):   0%|          | 0/158 [00:00<?, ? examples/s]"
      ]
     },
     "metadata": {},
     "output_type": "display_data"
    },
    {
     "data": {
      "application/vnd.jupyter.widget-view+json": {
       "model_id": "54158a49fd134d2c88d458774d704de1",
       "version_major": 2,
       "version_minor": 0
      },
      "text/plain": [
       "Saving the dataset (0/1 shards):   0%|          | 0/471 [00:00<?, ? examples/s]"
      ]
     },
     "metadata": {},
     "output_type": "display_data"
    },
    {
     "data": {
      "application/vnd.jupyter.widget-view+json": {
       "model_id": "8dd1ded33e464bd084303a9df08d5baa",
       "version_major": 2,
       "version_minor": 0
      },
      "text/plain": [
       "Saving the dataset (0/1 shards):   0%|          | 0/158 [00:00<?, ? examples/s]"
      ]
     },
     "metadata": {},
     "output_type": "display_data"
    },
    {
     "data": {
      "application/vnd.jupyter.widget-view+json": {
       "model_id": "4ca6c43b37ba4eb3b7384a0610d70044",
       "version_major": 2,
       "version_minor": 0
      },
      "text/plain": [
       "Saving the dataset (0/1 shards):   0%|          | 0/158 [00:00<?, ? examples/s]"
      ]
     },
     "metadata": {},
     "output_type": "display_data"
    },
    {
     "data": {
      "application/vnd.jupyter.widget-view+json": {
       "model_id": "37c02a81cae24b419a15f1a2487c47fa",
       "version_major": 2,
       "version_minor": 0
      },
      "text/plain": [
       "Saving the dataset (0/1 shards):   0%|          | 0/471 [00:00<?, ? examples/s]"
      ]
     },
     "metadata": {},
     "output_type": "display_data"
    },
    {
     "data": {
      "application/vnd.jupyter.widget-view+json": {
       "model_id": "87ca8287581844b08cab843b1a7d1146",
       "version_major": 2,
       "version_minor": 0
      },
      "text/plain": [
       "Saving the dataset (0/1 shards):   0%|          | 0/158 [00:00<?, ? examples/s]"
      ]
     },
     "metadata": {},
     "output_type": "display_data"
    },
    {
     "data": {
      "application/vnd.jupyter.widget-view+json": {
       "model_id": "cec710404ecb4967a9d4c3ddc4dc8054",
       "version_major": 2,
       "version_minor": 0
      },
      "text/plain": [
       "Saving the dataset (0/1 shards):   0%|          | 0/158 [00:00<?, ? examples/s]"
      ]
     },
     "metadata": {},
     "output_type": "display_data"
    },
    {
     "data": {
      "application/vnd.jupyter.widget-view+json": {
       "model_id": "a00b54a53b9f44d299ad319d88557b96",
       "version_major": 2,
       "version_minor": 0
      },
      "text/plain": [
       "Saving the dataset (0/1 shards):   0%|          | 0/742 [00:00<?, ? examples/s]"
      ]
     },
     "metadata": {},
     "output_type": "display_data"
    },
    {
     "data": {
      "application/vnd.jupyter.widget-view+json": {
       "model_id": "9f0a9f9cdcff4ab8b697e694003c4a15",
       "version_major": 2,
       "version_minor": 0
      },
      "text/plain": [
       "Saving the dataset (0/1 shards):   0%|          | 0/249 [00:00<?, ? examples/s]"
      ]
     },
     "metadata": {},
     "output_type": "display_data"
    },
    {
     "data": {
      "application/vnd.jupyter.widget-view+json": {
       "model_id": "551958641d5c4f53ba954ef9bd9753e1",
       "version_major": 2,
       "version_minor": 0
      },
      "text/plain": [
       "Saving the dataset (0/1 shards):   0%|          | 0/249 [00:00<?, ? examples/s]"
      ]
     },
     "metadata": {},
     "output_type": "display_data"
    },
    {
     "data": {
      "application/vnd.jupyter.widget-view+json": {
       "model_id": "73e3fce1a20f4cbcb56070594d03b93d",
       "version_major": 2,
       "version_minor": 0
      },
      "text/plain": [
       "Saving the dataset (0/1 shards):   0%|          | 0/742 [00:00<?, ? examples/s]"
      ]
     },
     "metadata": {},
     "output_type": "display_data"
    },
    {
     "data": {
      "application/vnd.jupyter.widget-view+json": {
       "model_id": "2a8cd13c7b0149528bd33354094a9b1a",
       "version_major": 2,
       "version_minor": 0
      },
      "text/plain": [
       "Saving the dataset (0/1 shards):   0%|          | 0/249 [00:00<?, ? examples/s]"
      ]
     },
     "metadata": {},
     "output_type": "display_data"
    },
    {
     "data": {
      "application/vnd.jupyter.widget-view+json": {
       "model_id": "c40a37ed84154feb8616579e906e15f5",
       "version_major": 2,
       "version_minor": 0
      },
      "text/plain": [
       "Saving the dataset (0/1 shards):   0%|          | 0/249 [00:00<?, ? examples/s]"
      ]
     },
     "metadata": {},
     "output_type": "display_data"
    },
    {
     "data": {
      "application/vnd.jupyter.widget-view+json": {
       "model_id": "be096bf577c749a2a29c3bdeee2159f6",
       "version_major": 2,
       "version_minor": 0
      },
      "text/plain": [
       "Saving the dataset (0/1 shards):   0%|          | 0/742 [00:00<?, ? examples/s]"
      ]
     },
     "metadata": {},
     "output_type": "display_data"
    },
    {
     "data": {
      "application/vnd.jupyter.widget-view+json": {
       "model_id": "22198400385b4d4e82b747858a2d99b3",
       "version_major": 2,
       "version_minor": 0
      },
      "text/plain": [
       "Saving the dataset (0/1 shards):   0%|          | 0/249 [00:00<?, ? examples/s]"
      ]
     },
     "metadata": {},
     "output_type": "display_data"
    },
    {
     "data": {
      "application/vnd.jupyter.widget-view+json": {
       "model_id": "b1ed054b66704ad796bb7db19d85c296",
       "version_major": 2,
       "version_minor": 0
      },
      "text/plain": [
       "Saving the dataset (0/1 shards):   0%|          | 0/249 [00:00<?, ? examples/s]"
      ]
     },
     "metadata": {},
     "output_type": "display_data"
    },
    {
     "data": {
      "application/vnd.jupyter.widget-view+json": {
       "model_id": "fa902c71dd894bde87cc0b36b248b5e4",
       "version_major": 2,
       "version_minor": 0
      },
      "text/plain": [
       "Saving the dataset (0/1 shards):   0%|          | 0/742 [00:00<?, ? examples/s]"
      ]
     },
     "metadata": {},
     "output_type": "display_data"
    },
    {
     "data": {
      "application/vnd.jupyter.widget-view+json": {
       "model_id": "fa5435ac55714365b70451bfca34f9a7",
       "version_major": 2,
       "version_minor": 0
      },
      "text/plain": [
       "Saving the dataset (0/1 shards):   0%|          | 0/249 [00:00<?, ? examples/s]"
      ]
     },
     "metadata": {},
     "output_type": "display_data"
    },
    {
     "data": {
      "application/vnd.jupyter.widget-view+json": {
       "model_id": "32a8d944f2f147ffae370ffea7e59ea9",
       "version_major": 2,
       "version_minor": 0
      },
      "text/plain": [
       "Saving the dataset (0/1 shards):   0%|          | 0/249 [00:00<?, ? examples/s]"
      ]
     },
     "metadata": {},
     "output_type": "display_data"
    },
    {
     "data": {
      "application/vnd.jupyter.widget-view+json": {
       "model_id": "c657bf0a141b4346bf78b16f2fa21089",
       "version_major": 2,
       "version_minor": 0
      },
      "text/plain": [
       "Saving the dataset (0/1 shards):   0%|          | 0/742 [00:00<?, ? examples/s]"
      ]
     },
     "metadata": {},
     "output_type": "display_data"
    },
    {
     "data": {
      "application/vnd.jupyter.widget-view+json": {
       "model_id": "4e1c43b120b7407783b579d416d27288",
       "version_major": 2,
       "version_minor": 0
      },
      "text/plain": [
       "Saving the dataset (0/1 shards):   0%|          | 0/249 [00:00<?, ? examples/s]"
      ]
     },
     "metadata": {},
     "output_type": "display_data"
    },
    {
     "data": {
      "application/vnd.jupyter.widget-view+json": {
       "model_id": "151c0d168ef24fb6a425ef034ff3c183",
       "version_major": 2,
       "version_minor": 0
      },
      "text/plain": [
       "Saving the dataset (0/1 shards):   0%|          | 0/249 [00:00<?, ? examples/s]"
      ]
     },
     "metadata": {},
     "output_type": "display_data"
    },
    {
     "data": {
      "application/vnd.jupyter.widget-view+json": {
       "model_id": "4ae534ce85e54aab81d59db423e316b2",
       "version_major": 2,
       "version_minor": 0
      },
      "text/plain": [
       "Saving the dataset (0/1 shards):   0%|          | 0/1940 [00:00<?, ? examples/s]"
      ]
     },
     "metadata": {},
     "output_type": "display_data"
    },
    {
     "data": {
      "application/vnd.jupyter.widget-view+json": {
       "model_id": "6915871ede924f628663f7e429465406",
       "version_major": 2,
       "version_minor": 0
      },
      "text/plain": [
       "Saving the dataset (0/1 shards):   0%|          | 0/646 [00:00<?, ? examples/s]"
      ]
     },
     "metadata": {},
     "output_type": "display_data"
    },
    {
     "data": {
      "application/vnd.jupyter.widget-view+json": {
       "model_id": "9271de63840f40678e0c372ac53fd613",
       "version_major": 2,
       "version_minor": 0
      },
      "text/plain": [
       "Saving the dataset (0/1 shards):   0%|          | 0/645 [00:00<?, ? examples/s]"
      ]
     },
     "metadata": {},
     "output_type": "display_data"
    },
    {
     "data": {
      "application/vnd.jupyter.widget-view+json": {
       "model_id": "3e8133500bf348ca809e84280a34ea09",
       "version_major": 2,
       "version_minor": 0
      },
      "text/plain": [
       "Saving the dataset (0/1 shards):   0%|          | 0/1940 [00:00<?, ? examples/s]"
      ]
     },
     "metadata": {},
     "output_type": "display_data"
    },
    {
     "data": {
      "application/vnd.jupyter.widget-view+json": {
       "model_id": "4a9c5d2e0a3a41769fba383549f03713",
       "version_major": 2,
       "version_minor": 0
      },
      "text/plain": [
       "Saving the dataset (0/1 shards):   0%|          | 0/646 [00:00<?, ? examples/s]"
      ]
     },
     "metadata": {},
     "output_type": "display_data"
    },
    {
     "data": {
      "application/vnd.jupyter.widget-view+json": {
       "model_id": "f7d8c51b4f244203a1bd0fa674fb6bcd",
       "version_major": 2,
       "version_minor": 0
      },
      "text/plain": [
       "Saving the dataset (0/1 shards):   0%|          | 0/645 [00:00<?, ? examples/s]"
      ]
     },
     "metadata": {},
     "output_type": "display_data"
    },
    {
     "data": {
      "application/vnd.jupyter.widget-view+json": {
       "model_id": "ee967322abdf47c09516f0279e4c2e4b",
       "version_major": 2,
       "version_minor": 0
      },
      "text/plain": [
       "Saving the dataset (0/1 shards):   0%|          | 0/1940 [00:00<?, ? examples/s]"
      ]
     },
     "metadata": {},
     "output_type": "display_data"
    },
    {
     "data": {
      "application/vnd.jupyter.widget-view+json": {
       "model_id": "a81ab9a6c820448b994d5657c92d43ff",
       "version_major": 2,
       "version_minor": 0
      },
      "text/plain": [
       "Saving the dataset (0/1 shards):   0%|          | 0/646 [00:00<?, ? examples/s]"
      ]
     },
     "metadata": {},
     "output_type": "display_data"
    },
    {
     "data": {
      "application/vnd.jupyter.widget-view+json": {
       "model_id": "8713d713b54648b0b0d8633b448028ea",
       "version_major": 2,
       "version_minor": 0
      },
      "text/plain": [
       "Saving the dataset (0/1 shards):   0%|          | 0/645 [00:00<?, ? examples/s]"
      ]
     },
     "metadata": {},
     "output_type": "display_data"
    },
    {
     "data": {
      "application/vnd.jupyter.widget-view+json": {
       "model_id": "3fb8905d997e4cbaae0280a561ab6914",
       "version_major": 2,
       "version_minor": 0
      },
      "text/plain": [
       "Saving the dataset (0/1 shards):   0%|          | 0/1930 [00:00<?, ? examples/s]"
      ]
     },
     "metadata": {},
     "output_type": "display_data"
    },
    {
     "data": {
      "application/vnd.jupyter.widget-view+json": {
       "model_id": "f9ebbed19c764972a4d95487a6cc67cd",
       "version_major": 2,
       "version_minor": 0
      },
      "text/plain": [
       "Saving the dataset (0/1 shards):   0%|          | 0/640 [00:00<?, ? examples/s]"
      ]
     },
     "metadata": {},
     "output_type": "display_data"
    },
    {
     "data": {
      "application/vnd.jupyter.widget-view+json": {
       "model_id": "ca6d4b7be3f347619654b9d2b1d1b0fb",
       "version_major": 2,
       "version_minor": 0
      },
      "text/plain": [
       "Saving the dataset (0/1 shards):   0%|          | 0/640 [00:00<?, ? examples/s]"
      ]
     },
     "metadata": {},
     "output_type": "display_data"
    },
    {
     "data": {
      "application/vnd.jupyter.widget-view+json": {
       "model_id": "21b96ead359a491e9060ca788fd6a05a",
       "version_major": 2,
       "version_minor": 0
      },
      "text/plain": [
       "Saving the dataset (0/1 shards):   0%|          | 0/1930 [00:00<?, ? examples/s]"
      ]
     },
     "metadata": {},
     "output_type": "display_data"
    },
    {
     "data": {
      "application/vnd.jupyter.widget-view+json": {
       "model_id": "f91bb193ed8b4496a8b82f1f7408e510",
       "version_major": 2,
       "version_minor": 0
      },
      "text/plain": [
       "Saving the dataset (0/1 shards):   0%|          | 0/640 [00:00<?, ? examples/s]"
      ]
     },
     "metadata": {},
     "output_type": "display_data"
    },
    {
     "data": {
      "application/vnd.jupyter.widget-view+json": {
       "model_id": "a07e96bf0ff342e2b0869c6f426bb76c",
       "version_major": 2,
       "version_minor": 0
      },
      "text/plain": [
       "Saving the dataset (0/1 shards):   0%|          | 0/640 [00:00<?, ? examples/s]"
      ]
     },
     "metadata": {},
     "output_type": "display_data"
    },
    {
     "data": {
      "application/vnd.jupyter.widget-view+json": {
       "model_id": "4361b7ddd3ef4beba1669d5bc40bb5b6",
       "version_major": 2,
       "version_minor": 0
      },
      "text/plain": [
       "Saving the dataset (0/1 shards):   0%|          | 0/2145 [00:00<?, ? examples/s]"
      ]
     },
     "metadata": {},
     "output_type": "display_data"
    },
    {
     "data": {
      "application/vnd.jupyter.widget-view+json": {
       "model_id": "f862dcbf68a248adaf08985979b4cfb8",
       "version_major": 2,
       "version_minor": 0
      },
      "text/plain": [
       "Saving the dataset (0/1 shards):   0%|          | 0/713 [00:00<?, ? examples/s]"
      ]
     },
     "metadata": {},
     "output_type": "display_data"
    },
    {
     "data": {
      "application/vnd.jupyter.widget-view+json": {
       "model_id": "6ed3d5f9de9b4638a694eace7dc6dffa",
       "version_major": 2,
       "version_minor": 0
      },
      "text/plain": [
       "Saving the dataset (0/1 shards):   0%|          | 0/713 [00:00<?, ? examples/s]"
      ]
     },
     "metadata": {},
     "output_type": "display_data"
    },
    {
     "data": {
      "application/vnd.jupyter.widget-view+json": {
       "model_id": "c5c009477d0649c38b0b9e40ea556f7f",
       "version_major": 2,
       "version_minor": 0
      },
      "text/plain": [
       "Saving the dataset (0/1 shards):   0%|          | 0/2145 [00:00<?, ? examples/s]"
      ]
     },
     "metadata": {},
     "output_type": "display_data"
    },
    {
     "data": {
      "application/vnd.jupyter.widget-view+json": {
       "model_id": "e6ea415256ef4fda99e88d668309c002",
       "version_major": 2,
       "version_minor": 0
      },
      "text/plain": [
       "Saving the dataset (0/1 shards):   0%|          | 0/713 [00:00<?, ? examples/s]"
      ]
     },
     "metadata": {},
     "output_type": "display_data"
    },
    {
     "data": {
      "application/vnd.jupyter.widget-view+json": {
       "model_id": "338cd697647e4fe6b1b9abaf8ba37e39",
       "version_major": 2,
       "version_minor": 0
      },
      "text/plain": [
       "Saving the dataset (0/1 shards):   0%|          | 0/713 [00:00<?, ? examples/s]"
      ]
     },
     "metadata": {},
     "output_type": "display_data"
    },
    {
     "data": {
      "application/vnd.jupyter.widget-view+json": {
       "model_id": "0baa22653bfe431cb3e9d37d30a7f803",
       "version_major": 2,
       "version_minor": 0
      },
      "text/plain": [
       "Saving the dataset (0/1 shards):   0%|          | 0/2145 [00:00<?, ? examples/s]"
      ]
     },
     "metadata": {},
     "output_type": "display_data"
    },
    {
     "data": {
      "application/vnd.jupyter.widget-view+json": {
       "model_id": "2f65e9bae3d444c6984402493431d219",
       "version_major": 2,
       "version_minor": 0
      },
      "text/plain": [
       "Saving the dataset (0/1 shards):   0%|          | 0/713 [00:00<?, ? examples/s]"
      ]
     },
     "metadata": {},
     "output_type": "display_data"
    },
    {
     "data": {
      "application/vnd.jupyter.widget-view+json": {
       "model_id": "822ccb23051f492baae6b3af86d7d5ef",
       "version_major": 2,
       "version_minor": 0
      },
      "text/plain": [
       "Saving the dataset (0/1 shards):   0%|          | 0/713 [00:00<?, ? examples/s]"
      ]
     },
     "metadata": {},
     "output_type": "display_data"
    },
    {
     "data": {
      "application/vnd.jupyter.widget-view+json": {
       "model_id": "fa22a88bc36d4827b3145dd8887dc7d0",
       "version_major": 2,
       "version_minor": 0
      },
      "text/plain": [
       "Saving the dataset (0/1 shards):   0%|          | 0/2135 [00:00<?, ? examples/s]"
      ]
     },
     "metadata": {},
     "output_type": "display_data"
    },
    {
     "data": {
      "application/vnd.jupyter.widget-view+json": {
       "model_id": "d662773aed564777952bbccc7e1d475b",
       "version_major": 2,
       "version_minor": 0
      },
      "text/plain": [
       "Saving the dataset (0/1 shards):   0%|          | 0/707 [00:00<?, ? examples/s]"
      ]
     },
     "metadata": {},
     "output_type": "display_data"
    },
    {
     "data": {
      "application/vnd.jupyter.widget-view+json": {
       "model_id": "9f2011ca95ee4f3383ebf8814bfcc6d9",
       "version_major": 2,
       "version_minor": 0
      },
      "text/plain": [
       "Saving the dataset (0/1 shards):   0%|          | 0/708 [00:00<?, ? examples/s]"
      ]
     },
     "metadata": {},
     "output_type": "display_data"
    },
    {
     "data": {
      "application/vnd.jupyter.widget-view+json": {
       "model_id": "ac80568493434f9bb5631e79f626472d",
       "version_major": 2,
       "version_minor": 0
      },
      "text/plain": [
       "Saving the dataset (0/1 shards):   0%|          | 0/2135 [00:00<?, ? examples/s]"
      ]
     },
     "metadata": {},
     "output_type": "display_data"
    },
    {
     "data": {
      "application/vnd.jupyter.widget-view+json": {
       "model_id": "d1abe347ced540aa855a204c21681f77",
       "version_major": 2,
       "version_minor": 0
      },
      "text/plain": [
       "Saving the dataset (0/1 shards):   0%|          | 0/707 [00:00<?, ? examples/s]"
      ]
     },
     "metadata": {},
     "output_type": "display_data"
    },
    {
     "data": {
      "application/vnd.jupyter.widget-view+json": {
       "model_id": "1a2362eecb514375bf9a6d4cd91bf5b2",
       "version_major": 2,
       "version_minor": 0
      },
      "text/plain": [
       "Saving the dataset (0/1 shards):   0%|          | 0/708 [00:00<?, ? examples/s]"
      ]
     },
     "metadata": {},
     "output_type": "display_data"
    }
   ],
   "source": [
    "for key in site_name_dict.keys():\n",
    "    if key == 7:\n",
    "        query = 'SITE==1 or SITE==2 or SITE==3'\n",
    "    elif key == 6:\n",
    "        query = \"SITE==1 or SITE==2\"\n",
    "    else:\n",
    "        query = f'SITE=={key}'\n",
    "\n",
    "    datasets.arrow_dataset.Dataset.from_pandas(\n",
    "        df_train.query(query), preserve_index=False\n",
    "    ).save_to_disk(output_path / f\"TTS/dfcmplt_SITE{key}_Train.arrow\")\n",
    "\n",
    "\n",
    "    datasets.arrow_dataset.Dataset.from_pandas(\n",
    "        df_test.query(query), preserve_index=False\n",
    "    ).save_to_disk(output_path / f\"TTS/dfcmplt_SITE{key}_Test.arrow\")\n",
    "\n",
    "    datasets.arrow_dataset.Dataset.from_pandas(\n",
    "        df_holdout.query(query), preserve_index=False\n",
    "    ).save_to_disk(output_path / f\"TTS/dfcmplt_SITE{key}_Holdout.arrow\")\n",
    "\n",
    "\n",
    "\n",
    "    # Versions with no LongCovid cols\n",
    "    datasets.arrow_dataset.Dataset.from_pandas(\n",
    "        df_train[lColPreLC].query(query), preserve_index=False\n",
    "    ).save_to_disk(output_path / f\"TTS/dfcmpltPreLC_SITE{key}_Train.arrow\")\n",
    "\n",
    "    datasets.arrow_dataset.Dataset.from_pandas(\n",
    "        df_test[lColPreLC].query(query), preserve_index=False\n",
    "    ).save_to_disk(output_path / f\"TTS/dfcmpltPreLC_SITE{key}_Test.arrow\")\n",
    "\n",
    "    datasets.arrow_dataset.Dataset.from_pandas(\n",
    "        df_holdout[lColPreLC].query(query), preserve_index=False\n",
    "    ).save_to_disk(output_path / f\"TTS/dfcmpltPreLC_SITE{key}_Holdout.arrow\")\n",
    "    \n",
    "    # lColPreLC2 = remove mode of diag from prelc cols\n",
    "    datasets.arrow_dataset.Dataset.from_pandas(\n",
    "        df_train[lColPreLC2].query(query), preserve_index=False\n",
    "    ).save_to_disk(output_path / f\"TTS/dfcmpltPreLC2_SITE{key}_Train.arrow\")\n",
    "\n",
    "    datasets.arrow_dataset.Dataset.from_pandas(\n",
    "        df_test[lColPreLC2].query(query), preserve_index=False\n",
    "    ).save_to_disk(output_path / f\"TTS/dfcmpltPreLC2_SITE{key}_Test.arrow\")\n",
    "\n",
    "    datasets.arrow_dataset.Dataset.from_pandas(\n",
    "        df_holdout[lColPreLC2].query(query), preserve_index=False\n",
    "    ).save_to_disk(output_path / f\"TTS/dfcmpltPreLC2_SITE{key}_Holdout.arrow\")\n",
    "    \n",
    "    \n",
    "    #lColPreLC3 = remove problematic patients\n",
    "    datasets.arrow_dataset.Dataset.from_pandas(\n",
    "        df_train_LC3[lColPreLC3].query(query), preserve_index=False\n",
    "    ).save_to_disk(output_path / f\"TTS/dfcmpltPreLC3_SITE{key}_Train.arrow\")\n",
    "\n",
    "    datasets.arrow_dataset.Dataset.from_pandas(\n",
    "        df_test_LC3[lColPreLC3].query(query), preserve_index=False\n",
    "    ).save_to_disk(output_path / f\"TTS/dfcmpltPreLC3_SITE{key}_Test.arrow\")\n",
    "\n",
    "    datasets.arrow_dataset.Dataset.from_pandas(\n",
    "        df_holdout_LC3[lColPreLC3].query(query), preserve_index=False\n",
    "    ).save_to_disk(output_path / f\"TTS/dfcmpltPreLC3_SITE{key}_Holdout.arrow\")\n",
    "    \n",
    "    #lColPreLC3 = remove severity variable\n",
    "    datasets.arrow_dataset.Dataset.from_pandas(\n",
    "        df_train_LC4.query(query), preserve_index=False\n",
    "    ).save_to_disk(output_path / f\"TTS/dfcmpltPreLC4_SITE{key}_Train.arrow\")\n",
    "\n",
    "    datasets.arrow_dataset.Dataset.from_pandas(\n",
    "        df_test_LC4.query(query), preserve_index=False\n",
    "    ).save_to_disk(output_path / f\"TTS/dfcmpltPreLC4_SITE{key}_Test.arrow\")\n",
    "\n",
    "    datasets.arrow_dataset.Dataset.from_pandas(\n",
    "        df_holdout_LC4.query(query), preserve_index=False\n",
    "    ).save_to_disk(output_path / f\"TTS/dfcmpltPreLC4_SITE{key}_Holdout.arrow\")"
   ]
  },
  {
   "cell_type": "code",
   "execution_count": null,
   "metadata": {},
   "outputs": [],
   "source": []
  },
  {
   "cell_type": "markdown",
   "metadata": {},
   "source": [
    "# ---- BELOW ARCHIVED April 30 \n",
    "- based on changes made with filling in data with missing values and assusmptions\n",
    "- Confirmed by emails to team on april 28 and 29\n"
   ]
  },
  {
   "cell_type": "markdown",
   "metadata": {},
   "source": [
    "## Split T81"
   ]
  },
  {
   "cell_type": "code",
   "execution_count": 19,
   "metadata": {},
   "outputs": [],
   "source": [
    "# Create combined variable to stratify on both LC_STATUS and SITE\n",
    "df81[\"LC_STATUS_SITE\"] = df81[\"LC_STATUS\"] + \"_\" + df81[\"SITE\"].astype(str)\n",
    "\n",
    "df_train81, df_test81, df_holdout81 = straify_train_test_holdout(df81, 'LC_STATUS', 'LC_STATUS_SITE', test_size = 0.2, holdout_size = 0.2, random_state = 42)"
   ]
  },
  {
   "cell_type": "markdown",
   "metadata": {},
   "source": [
    "Verfiy stratification accurate"
   ]
  },
  {
   "cell_type": "code",
   "execution_count": 20,
   "metadata": {},
   "outputs": [
    {
     "data": {
      "text/html": [
       "<div>\n",
       "<style scoped>\n",
       "    .dataframe tbody tr th:only-of-type {\n",
       "        vertical-align: middle;\n",
       "    }\n",
       "\n",
       "    .dataframe tbody tr th {\n",
       "        vertical-align: top;\n",
       "    }\n",
       "\n",
       "    .dataframe thead th {\n",
       "        text-align: right;\n",
       "    }\n",
       "</style>\n",
       "<table border=\"1\" class=\"dataframe\">\n",
       "  <thead>\n",
       "    <tr style=\"text-align: right;\">\n",
       "      <th>SITE</th>\n",
       "      <th>1</th>\n",
       "      <th>2</th>\n",
       "      <th>3</th>\n",
       "      <th>4</th>\n",
       "      <th>5</th>\n",
       "    </tr>\n",
       "    <tr>\n",
       "      <th>LC_STATUS</th>\n",
       "      <th></th>\n",
       "      <th></th>\n",
       "      <th></th>\n",
       "      <th></th>\n",
       "      <th></th>\n",
       "    </tr>\n",
       "  </thead>\n",
       "  <tbody>\n",
       "    <tr>\n",
       "      <th>HC</th>\n",
       "      <td>0.133803</td>\n",
       "      <td>0.000000</td>\n",
       "      <td>0.009756</td>\n",
       "      <td>0.0125</td>\n",
       "      <td>0.068966</td>\n",
       "    </tr>\n",
       "    <tr>\n",
       "      <th>LC_NEG</th>\n",
       "      <td>0.725352</td>\n",
       "      <td>0.685355</td>\n",
       "      <td>0.209756</td>\n",
       "      <td>0.0125</td>\n",
       "      <td>0.557994</td>\n",
       "    </tr>\n",
       "    <tr>\n",
       "      <th>LC_POS</th>\n",
       "      <td>0.140845</td>\n",
       "      <td>0.314645</td>\n",
       "      <td>0.780488</td>\n",
       "      <td>0.9750</td>\n",
       "      <td>0.373041</td>\n",
       "    </tr>\n",
       "  </tbody>\n",
       "</table>\n",
       "</div>"
      ],
      "text/plain": [
       "SITE              1         2         3       4         5\n",
       "LC_STATUS                                                \n",
       "HC         0.133803  0.000000  0.009756  0.0125  0.068966\n",
       "LC_NEG     0.725352  0.685355  0.209756  0.0125  0.557994\n",
       "LC_POS     0.140845  0.314645  0.780488  0.9750  0.373041"
      ]
     },
     "execution_count": 20,
     "metadata": {},
     "output_type": "execute_result"
    }
   ],
   "source": [
    "pd.crosstab(df_train81[\"LC_STATUS\"], df_train81[\"SITE\"], normalize=\"columns\")"
   ]
  },
  {
   "cell_type": "code",
   "execution_count": 21,
   "metadata": {},
   "outputs": [
    {
     "data": {
      "text/html": [
       "<div>\n",
       "<style scoped>\n",
       "    .dataframe tbody tr th:only-of-type {\n",
       "        vertical-align: middle;\n",
       "    }\n",
       "\n",
       "    .dataframe tbody tr th {\n",
       "        vertical-align: top;\n",
       "    }\n",
       "\n",
       "    .dataframe thead th {\n",
       "        text-align: right;\n",
       "    }\n",
       "</style>\n",
       "<table border=\"1\" class=\"dataframe\">\n",
       "  <thead>\n",
       "    <tr style=\"text-align: right;\">\n",
       "      <th>SITE</th>\n",
       "      <th>1</th>\n",
       "      <th>2</th>\n",
       "      <th>3</th>\n",
       "      <th>4</th>\n",
       "      <th>5</th>\n",
       "    </tr>\n",
       "    <tr>\n",
       "      <th>LC_STATUS</th>\n",
       "      <th></th>\n",
       "      <th></th>\n",
       "      <th></th>\n",
       "      <th></th>\n",
       "      <th></th>\n",
       "    </tr>\n",
       "  </thead>\n",
       "  <tbody>\n",
       "    <tr>\n",
       "      <th>HC</th>\n",
       "      <td>0.145833</td>\n",
       "      <td>0.000000</td>\n",
       "      <td>0.000000</td>\n",
       "      <td>0.015038</td>\n",
       "      <td>0.074074</td>\n",
       "    </tr>\n",
       "    <tr>\n",
       "      <th>LC_NEG</th>\n",
       "      <td>0.729167</td>\n",
       "      <td>0.685567</td>\n",
       "      <td>0.208955</td>\n",
       "      <td>0.007519</td>\n",
       "      <td>0.555556</td>\n",
       "    </tr>\n",
       "    <tr>\n",
       "      <th>LC_POS</th>\n",
       "      <td>0.125000</td>\n",
       "      <td>0.314433</td>\n",
       "      <td>0.791045</td>\n",
       "      <td>0.977444</td>\n",
       "      <td>0.370370</td>\n",
       "    </tr>\n",
       "  </tbody>\n",
       "</table>\n",
       "</div>"
      ],
      "text/plain": [
       "SITE              1         2         3         4         5\n",
       "LC_STATUS                                                  \n",
       "HC         0.145833  0.000000  0.000000  0.015038  0.074074\n",
       "LC_NEG     0.729167  0.685567  0.208955  0.007519  0.555556\n",
       "LC_POS     0.125000  0.314433  0.791045  0.977444  0.370370"
      ]
     },
     "execution_count": 21,
     "metadata": {},
     "output_type": "execute_result"
    }
   ],
   "source": [
    "pd.crosstab(df_test81[\"LC_STATUS\"], df_test81[\"SITE\"], normalize=\"columns\")"
   ]
  },
  {
   "cell_type": "code",
   "execution_count": 22,
   "metadata": {},
   "outputs": [
    {
     "data": {
      "text/html": [
       "<div>\n",
       "<style scoped>\n",
       "    .dataframe tbody tr th:only-of-type {\n",
       "        vertical-align: middle;\n",
       "    }\n",
       "\n",
       "    .dataframe tbody tr th {\n",
       "        vertical-align: top;\n",
       "    }\n",
       "\n",
       "    .dataframe thead th {\n",
       "        text-align: right;\n",
       "    }\n",
       "</style>\n",
       "<table border=\"1\" class=\"dataframe\">\n",
       "  <thead>\n",
       "    <tr style=\"text-align: right;\">\n",
       "      <th>SITE</th>\n",
       "      <th>1</th>\n",
       "      <th>2</th>\n",
       "      <th>3</th>\n",
       "      <th>4</th>\n",
       "      <th>5</th>\n",
       "    </tr>\n",
       "    <tr>\n",
       "      <th>LC_STATUS</th>\n",
       "      <th></th>\n",
       "      <th></th>\n",
       "      <th></th>\n",
       "      <th></th>\n",
       "      <th></th>\n",
       "    </tr>\n",
       "  </thead>\n",
       "  <tbody>\n",
       "    <tr>\n",
       "      <th>HC</th>\n",
       "      <td>0.127660</td>\n",
       "      <td>0.000000</td>\n",
       "      <td>0.014706</td>\n",
       "      <td>0.015038</td>\n",
       "      <td>0.074074</td>\n",
       "    </tr>\n",
       "    <tr>\n",
       "      <th>LC_NEG</th>\n",
       "      <td>0.723404</td>\n",
       "      <td>0.686106</td>\n",
       "      <td>0.205882</td>\n",
       "      <td>0.007519</td>\n",
       "      <td>0.555556</td>\n",
       "    </tr>\n",
       "    <tr>\n",
       "      <th>LC_POS</th>\n",
       "      <td>0.148936</td>\n",
       "      <td>0.313894</td>\n",
       "      <td>0.779412</td>\n",
       "      <td>0.977444</td>\n",
       "      <td>0.370370</td>\n",
       "    </tr>\n",
       "  </tbody>\n",
       "</table>\n",
       "</div>"
      ],
      "text/plain": [
       "SITE              1         2         3         4         5\n",
       "LC_STATUS                                                  \n",
       "HC         0.127660  0.000000  0.014706  0.015038  0.074074\n",
       "LC_NEG     0.723404  0.686106  0.205882  0.007519  0.555556\n",
       "LC_POS     0.148936  0.313894  0.779412  0.977444  0.370370"
      ]
     },
     "execution_count": 22,
     "metadata": {},
     "output_type": "execute_result"
    }
   ],
   "source": [
    "pd.crosstab(df_holdout81[\"LC_STATUS\"], df_holdout81[\"SITE\"], normalize=\"columns\")"
   ]
  },
  {
   "cell_type": "markdown",
   "metadata": {},
   "source": [
    "## Split T85"
   ]
  },
  {
   "cell_type": "code",
   "execution_count": 23,
   "metadata": {},
   "outputs": [],
   "source": [
    "# Create combined variable to stratify on both LC_STATUS and SITE\n",
    "df85[\"LC_STATUS_SITE\"] = df85[\"LC_STATUS\"] + \"_\" + df85[\"SITE\"].astype(str)\n",
    "\n",
    "df_train85, df_test85, df_holdout85 = straify_train_test_holdout(df85, 'LC_STATUS', 'LC_STATUS_SITE', test_size = 0.2, holdout_size = 0.2, random_state = 42)"
   ]
  },
  {
   "cell_type": "markdown",
   "metadata": {},
   "source": [
    "Verfiy stratification accurate"
   ]
  },
  {
   "cell_type": "code",
   "execution_count": 24,
   "metadata": {},
   "outputs": [
    {
     "data": {
      "text/html": [
       "<div>\n",
       "<style scoped>\n",
       "    .dataframe tbody tr th:only-of-type {\n",
       "        vertical-align: middle;\n",
       "    }\n",
       "\n",
       "    .dataframe tbody tr th {\n",
       "        vertical-align: top;\n",
       "    }\n",
       "\n",
       "    .dataframe thead th {\n",
       "        text-align: right;\n",
       "    }\n",
       "</style>\n",
       "<table border=\"1\" class=\"dataframe\">\n",
       "  <thead>\n",
       "    <tr style=\"text-align: right;\">\n",
       "      <th>SITE</th>\n",
       "      <th>1</th>\n",
       "      <th>2</th>\n",
       "      <th>3</th>\n",
       "      <th>4</th>\n",
       "      <th>5</th>\n",
       "    </tr>\n",
       "    <tr>\n",
       "      <th>LC_STATUS</th>\n",
       "      <th></th>\n",
       "      <th></th>\n",
       "      <th></th>\n",
       "      <th></th>\n",
       "      <th></th>\n",
       "    </tr>\n",
       "  </thead>\n",
       "  <tbody>\n",
       "    <tr>\n",
       "      <th>HC</th>\n",
       "      <td>0.134752</td>\n",
       "      <td>0.000000</td>\n",
       "      <td>0.009756</td>\n",
       "      <td>0.0125</td>\n",
       "      <td>0.029610</td>\n",
       "    </tr>\n",
       "    <tr>\n",
       "      <th>LC_NEG</th>\n",
       "      <td>0.730496</td>\n",
       "      <td>0.685355</td>\n",
       "      <td>0.209756</td>\n",
       "      <td>0.0125</td>\n",
       "      <td>0.753701</td>\n",
       "    </tr>\n",
       "    <tr>\n",
       "      <th>LC_POS</th>\n",
       "      <td>0.134752</td>\n",
       "      <td>0.314645</td>\n",
       "      <td>0.780488</td>\n",
       "      <td>0.9750</td>\n",
       "      <td>0.216689</td>\n",
       "    </tr>\n",
       "  </tbody>\n",
       "</table>\n",
       "</div>"
      ],
      "text/plain": [
       "SITE              1         2         3       4         5\n",
       "LC_STATUS                                                \n",
       "HC         0.134752  0.000000  0.009756  0.0125  0.029610\n",
       "LC_NEG     0.730496  0.685355  0.209756  0.0125  0.753701\n",
       "LC_POS     0.134752  0.314645  0.780488  0.9750  0.216689"
      ]
     },
     "execution_count": 24,
     "metadata": {},
     "output_type": "execute_result"
    }
   ],
   "source": [
    "pd.crosstab(df_train85[\"LC_STATUS\"], df_train85[\"SITE\"], normalize=\"columns\")"
   ]
  },
  {
   "cell_type": "code",
   "execution_count": 25,
   "metadata": {},
   "outputs": [
    {
     "data": {
      "text/html": [
       "<div>\n",
       "<style scoped>\n",
       "    .dataframe tbody tr th:only-of-type {\n",
       "        vertical-align: middle;\n",
       "    }\n",
       "\n",
       "    .dataframe tbody tr th {\n",
       "        vertical-align: top;\n",
       "    }\n",
       "\n",
       "    .dataframe thead th {\n",
       "        text-align: right;\n",
       "    }\n",
       "</style>\n",
       "<table border=\"1\" class=\"dataframe\">\n",
       "  <thead>\n",
       "    <tr style=\"text-align: right;\">\n",
       "      <th>SITE</th>\n",
       "      <th>1</th>\n",
       "      <th>2</th>\n",
       "      <th>3</th>\n",
       "      <th>4</th>\n",
       "      <th>5</th>\n",
       "    </tr>\n",
       "    <tr>\n",
       "      <th>LC_STATUS</th>\n",
       "      <th></th>\n",
       "      <th></th>\n",
       "      <th></th>\n",
       "      <th></th>\n",
       "      <th></th>\n",
       "    </tr>\n",
       "  </thead>\n",
       "  <tbody>\n",
       "    <tr>\n",
       "      <th>HC</th>\n",
       "      <td>0.142857</td>\n",
       "      <td>0.000000</td>\n",
       "      <td>0.000000</td>\n",
       "      <td>0.015038</td>\n",
       "      <td>0.032258</td>\n",
       "    </tr>\n",
       "    <tr>\n",
       "      <th>LC_NEG</th>\n",
       "      <td>0.714286</td>\n",
       "      <td>0.685567</td>\n",
       "      <td>0.208955</td>\n",
       "      <td>0.007519</td>\n",
       "      <td>0.754032</td>\n",
       "    </tr>\n",
       "    <tr>\n",
       "      <th>LC_POS</th>\n",
       "      <td>0.142857</td>\n",
       "      <td>0.314433</td>\n",
       "      <td>0.791045</td>\n",
       "      <td>0.977444</td>\n",
       "      <td>0.213710</td>\n",
       "    </tr>\n",
       "  </tbody>\n",
       "</table>\n",
       "</div>"
      ],
      "text/plain": [
       "SITE              1         2         3         4         5\n",
       "LC_STATUS                                                  \n",
       "HC         0.142857  0.000000  0.000000  0.015038  0.032258\n",
       "LC_NEG     0.714286  0.685567  0.208955  0.007519  0.754032\n",
       "LC_POS     0.142857  0.314433  0.791045  0.977444  0.213710"
      ]
     },
     "execution_count": 25,
     "metadata": {},
     "output_type": "execute_result"
    }
   ],
   "source": [
    "pd.crosstab(df_test85[\"LC_STATUS\"], df_test85[\"SITE\"], normalize=\"columns\")"
   ]
  },
  {
   "cell_type": "code",
   "execution_count": 26,
   "metadata": {},
   "outputs": [
    {
     "data": {
      "text/html": [
       "<div>\n",
       "<style scoped>\n",
       "    .dataframe tbody tr th:only-of-type {\n",
       "        vertical-align: middle;\n",
       "    }\n",
       "\n",
       "    .dataframe tbody tr th {\n",
       "        vertical-align: top;\n",
       "    }\n",
       "\n",
       "    .dataframe thead th {\n",
       "        text-align: right;\n",
       "    }\n",
       "</style>\n",
       "<table border=\"1\" class=\"dataframe\">\n",
       "  <thead>\n",
       "    <tr style=\"text-align: right;\">\n",
       "      <th>SITE</th>\n",
       "      <th>1</th>\n",
       "      <th>2</th>\n",
       "      <th>3</th>\n",
       "      <th>4</th>\n",
       "      <th>5</th>\n",
       "    </tr>\n",
       "    <tr>\n",
       "      <th>LC_STATUS</th>\n",
       "      <th></th>\n",
       "      <th></th>\n",
       "      <th></th>\n",
       "      <th></th>\n",
       "      <th></th>\n",
       "    </tr>\n",
       "  </thead>\n",
       "  <tbody>\n",
       "    <tr>\n",
       "      <th>HC</th>\n",
       "      <td>0.127660</td>\n",
       "      <td>0.000000</td>\n",
       "      <td>0.014706</td>\n",
       "      <td>0.015038</td>\n",
       "      <td>0.032129</td>\n",
       "    </tr>\n",
       "    <tr>\n",
       "      <th>LC_NEG</th>\n",
       "      <td>0.723404</td>\n",
       "      <td>0.686106</td>\n",
       "      <td>0.205882</td>\n",
       "      <td>0.007519</td>\n",
       "      <td>0.751004</td>\n",
       "    </tr>\n",
       "    <tr>\n",
       "      <th>LC_POS</th>\n",
       "      <td>0.148936</td>\n",
       "      <td>0.313894</td>\n",
       "      <td>0.779412</td>\n",
       "      <td>0.977444</td>\n",
       "      <td>0.216867</td>\n",
       "    </tr>\n",
       "  </tbody>\n",
       "</table>\n",
       "</div>"
      ],
      "text/plain": [
       "SITE              1         2         3         4         5\n",
       "LC_STATUS                                                  \n",
       "HC         0.127660  0.000000  0.014706  0.015038  0.032129\n",
       "LC_NEG     0.723404  0.686106  0.205882  0.007519  0.751004\n",
       "LC_POS     0.148936  0.313894  0.779412  0.977444  0.216867"
      ]
     },
     "execution_count": 26,
     "metadata": {},
     "output_type": "execute_result"
    }
   ],
   "source": [
    "pd.crosstab(df_holdout85[\"LC_STATUS\"], df_holdout85[\"SITE\"], normalize=\"columns\")"
   ]
  },
  {
   "cell_type": "markdown",
   "metadata": {},
   "source": [
    "## Split DT"
   ]
  },
  {
   "cell_type": "code",
   "execution_count": 29,
   "metadata": {},
   "outputs": [],
   "source": [
    "# Create combined variable to stratify on both LC_STATUS and SITE\n",
    "dfDT[\"LC_STATUS_SITE\"] = dfDT[\"LC_STATUS\"] + \"_\" + dfDT[\"SITE\"].astype(str)\n",
    "\n",
    "df_trainDT, df_testDT, df_holdoutDT = straify_train_test_holdout(dfDT, 'LC_STATUS', 'LC_STATUS_SITE', test_size = 0.2, holdout_size = 0.2, random_state = 42)"
   ]
  },
  {
   "cell_type": "markdown",
   "metadata": {},
   "source": [
    "Verfiy stratification accurate"
   ]
  },
  {
   "cell_type": "code",
   "execution_count": null,
   "metadata": {},
   "outputs": [
    {
     "data": {
      "text/html": [
       "<div>\n",
       "<style scoped>\n",
       "    .dataframe tbody tr th:only-of-type {\n",
       "        vertical-align: middle;\n",
       "    }\n",
       "\n",
       "    .dataframe tbody tr th {\n",
       "        vertical-align: top;\n",
       "    }\n",
       "\n",
       "    .dataframe thead th {\n",
       "        text-align: right;\n",
       "    }\n",
       "</style>\n",
       "<table border=\"1\" class=\"dataframe\">\n",
       "  <thead>\n",
       "    <tr style=\"text-align: right;\">\n",
       "      <th>SITE</th>\n",
       "      <th>1</th>\n",
       "      <th>2</th>\n",
       "      <th>3</th>\n",
       "      <th>4</th>\n",
       "      <th>5</th>\n",
       "    </tr>\n",
       "    <tr>\n",
       "      <th>LC_STATUS</th>\n",
       "      <th></th>\n",
       "      <th></th>\n",
       "      <th></th>\n",
       "      <th></th>\n",
       "      <th></th>\n",
       "    </tr>\n",
       "  </thead>\n",
       "  <tbody>\n",
       "    <tr>\n",
       "      <th>HC</th>\n",
       "      <td>0.134752</td>\n",
       "      <td>0.000000</td>\n",
       "      <td>0.009756</td>\n",
       "      <td>0.0125</td>\n",
       "      <td>0.029610</td>\n",
       "    </tr>\n",
       "    <tr>\n",
       "      <th>LC_NEG</th>\n",
       "      <td>0.730496</td>\n",
       "      <td>0.685355</td>\n",
       "      <td>0.209756</td>\n",
       "      <td>0.0125</td>\n",
       "      <td>0.753701</td>\n",
       "    </tr>\n",
       "    <tr>\n",
       "      <th>LC_POS</th>\n",
       "      <td>0.134752</td>\n",
       "      <td>0.314645</td>\n",
       "      <td>0.780488</td>\n",
       "      <td>0.9750</td>\n",
       "      <td>0.216689</td>\n",
       "    </tr>\n",
       "  </tbody>\n",
       "</table>\n",
       "</div>"
      ],
      "text/plain": [
       "SITE              1         2         3       4         5\n",
       "LC_STATUS                                                \n",
       "HC         0.134752  0.000000  0.009756  0.0125  0.029610\n",
       "LC_NEG     0.730496  0.685355  0.209756  0.0125  0.753701\n",
       "LC_POS     0.134752  0.314645  0.780488  0.9750  0.216689"
      ]
     },
     "metadata": {},
     "output_type": "display_data"
    }
   ],
   "source": [
    "pd.crosstab(df_trainDT[\"LC_STATUS\"], df_trainDT[\"SITE\"], normalize=\"columns\")"
   ]
  },
  {
   "cell_type": "code",
   "execution_count": 30,
   "metadata": {},
   "outputs": [
    {
     "data": {
      "text/html": [
       "<div>\n",
       "<style scoped>\n",
       "    .dataframe tbody tr th:only-of-type {\n",
       "        vertical-align: middle;\n",
       "    }\n",
       "\n",
       "    .dataframe tbody tr th {\n",
       "        vertical-align: top;\n",
       "    }\n",
       "\n",
       "    .dataframe thead th {\n",
       "        text-align: right;\n",
       "    }\n",
       "</style>\n",
       "<table border=\"1\" class=\"dataframe\">\n",
       "  <thead>\n",
       "    <tr style=\"text-align: right;\">\n",
       "      <th>SITE</th>\n",
       "      <th>1</th>\n",
       "      <th>2</th>\n",
       "      <th>3</th>\n",
       "      <th>4</th>\n",
       "      <th>5</th>\n",
       "    </tr>\n",
       "    <tr>\n",
       "      <th>LC_STATUS</th>\n",
       "      <th></th>\n",
       "      <th></th>\n",
       "      <th></th>\n",
       "      <th></th>\n",
       "      <th></th>\n",
       "    </tr>\n",
       "  </thead>\n",
       "  <tbody>\n",
       "    <tr>\n",
       "      <th>HC</th>\n",
       "      <td>0.176471</td>\n",
       "      <td>0.000000</td>\n",
       "      <td>0.00000</td>\n",
       "      <td>0.014925</td>\n",
       "      <td>0.875</td>\n",
       "    </tr>\n",
       "    <tr>\n",
       "      <th>LC_NEG</th>\n",
       "      <td>0.470588</td>\n",
       "      <td>0.683478</td>\n",
       "      <td>0.19697</td>\n",
       "      <td>0.014925</td>\n",
       "      <td>0.125</td>\n",
       "    </tr>\n",
       "    <tr>\n",
       "      <th>LC_POS</th>\n",
       "      <td>0.352941</td>\n",
       "      <td>0.316522</td>\n",
       "      <td>0.80303</td>\n",
       "      <td>0.970149</td>\n",
       "      <td>0.000</td>\n",
       "    </tr>\n",
       "  </tbody>\n",
       "</table>\n",
       "</div>"
      ],
      "text/plain": [
       "SITE              1         2        3         4      5\n",
       "LC_STATUS                                              \n",
       "HC         0.176471  0.000000  0.00000  0.014925  0.875\n",
       "LC_NEG     0.470588  0.683478  0.19697  0.014925  0.125\n",
       "LC_POS     0.352941  0.316522  0.80303  0.970149  0.000"
      ]
     },
     "execution_count": 30,
     "metadata": {},
     "output_type": "execute_result"
    }
   ],
   "source": [
    "pd.crosstab(df_testDT[\"LC_STATUS\"], df_testDT[\"SITE\"], normalize=\"columns\")"
   ]
  },
  {
   "cell_type": "code",
   "execution_count": 31,
   "metadata": {},
   "outputs": [
    {
     "data": {
      "text/html": [
       "<div>\n",
       "<style scoped>\n",
       "    .dataframe tbody tr th:only-of-type {\n",
       "        vertical-align: middle;\n",
       "    }\n",
       "\n",
       "    .dataframe tbody tr th {\n",
       "        vertical-align: top;\n",
       "    }\n",
       "\n",
       "    .dataframe thead th {\n",
       "        text-align: right;\n",
       "    }\n",
       "</style>\n",
       "<table border=\"1\" class=\"dataframe\">\n",
       "  <thead>\n",
       "    <tr style=\"text-align: right;\">\n",
       "      <th>SITE</th>\n",
       "      <th>1</th>\n",
       "      <th>2</th>\n",
       "      <th>3</th>\n",
       "      <th>4</th>\n",
       "      <th>5</th>\n",
       "    </tr>\n",
       "    <tr>\n",
       "      <th>LC_STATUS</th>\n",
       "      <th></th>\n",
       "      <th></th>\n",
       "      <th></th>\n",
       "      <th></th>\n",
       "      <th></th>\n",
       "    </tr>\n",
       "  </thead>\n",
       "  <tbody>\n",
       "    <tr>\n",
       "      <th>HC</th>\n",
       "      <td>0.176471</td>\n",
       "      <td>0.000000</td>\n",
       "      <td>0.00000</td>\n",
       "      <td>0.015038</td>\n",
       "      <td>0.8</td>\n",
       "    </tr>\n",
       "    <tr>\n",
       "      <th>LC_NEG</th>\n",
       "      <td>0.470588</td>\n",
       "      <td>0.682927</td>\n",
       "      <td>0.19697</td>\n",
       "      <td>0.007519</td>\n",
       "      <td>0.1</td>\n",
       "    </tr>\n",
       "    <tr>\n",
       "      <th>LC_POS</th>\n",
       "      <td>0.352941</td>\n",
       "      <td>0.317073</td>\n",
       "      <td>0.80303</td>\n",
       "      <td>0.977444</td>\n",
       "      <td>0.1</td>\n",
       "    </tr>\n",
       "  </tbody>\n",
       "</table>\n",
       "</div>"
      ],
      "text/plain": [
       "SITE              1         2        3         4    5\n",
       "LC_STATUS                                            \n",
       "HC         0.176471  0.000000  0.00000  0.015038  0.8\n",
       "LC_NEG     0.470588  0.682927  0.19697  0.007519  0.1\n",
       "LC_POS     0.352941  0.317073  0.80303  0.977444  0.1"
      ]
     },
     "execution_count": 31,
     "metadata": {},
     "output_type": "execute_result"
    }
   ],
   "source": [
    "pd.crosstab(df_holdoutDT[\"LC_STATUS\"], df_holdoutDT[\"SITE\"], normalize=\"columns\")"
   ]
  },
  {
   "cell_type": "markdown",
   "metadata": {},
   "source": [
    "## Export"
   ]
  },
  {
   "cell_type": "code",
   "execution_count": 33,
   "metadata": {},
   "outputs": [
    {
     "data": {
      "application/vnd.jupyter.widget-view+json": {
       "model_id": "440bf1ff96884ae9a65f763ba71078ad",
       "version_major": 2,
       "version_minor": 0
      },
      "text/plain": [
       "Saving the dataset (0/1 shards):   0%|          | 0/2814 [00:00<?, ? examples/s]"
      ]
     },
     "metadata": {},
     "output_type": "display_data"
    },
    {
     "data": {
      "application/vnd.jupyter.widget-view+json": {
       "model_id": "3aac83980baa456c92d890aad7fe9855",
       "version_major": 2,
       "version_minor": 0
      },
      "text/plain": [
       "Saving the dataset (0/1 shards):   0%|          | 0/938 [00:00<?, ? examples/s]"
      ]
     },
     "metadata": {},
     "output_type": "display_data"
    },
    {
     "data": {
      "application/vnd.jupyter.widget-view+json": {
       "model_id": "d1a65d7b12534c0d99f77bf980226976",
       "version_major": 2,
       "version_minor": 0
      },
      "text/plain": [
       "Saving the dataset (0/1 shards):   0%|          | 0/939 [00:00<?, ? examples/s]"
      ]
     },
     "metadata": {},
     "output_type": "display_data"
    }
   ],
   "source": [
    "datasets.arrow_dataset.Dataset.from_pandas(df_train81,preserve_index=False).save_to_disk(\n",
    "    \"../Data/DataV2/TTS/T81_Train.arrow\"\n",
    ")\n",
    "datasets.arrow_dataset.Dataset.from_pandas(df_test81,preserve_index=False).save_to_disk(\n",
    "    \"../Data/DataV2/TTS/T81_Test.arrow\"\n",
    ")\n",
    "datasets.arrow_dataset.Dataset.from_pandas(df_holdout81,preserve_index=False).save_to_disk(\n",
    "    \"../Data/DataV2/TTS/T81_Holdout.arrow\"\n",
    ")"
   ]
  },
  {
   "cell_type": "code",
   "execution_count": 34,
   "metadata": {},
   "outputs": [
    {
     "data": {
      "application/vnd.jupyter.widget-view+json": {
       "model_id": "29541f7e966f4452b73a7c4216e3c2c3",
       "version_major": 2,
       "version_minor": 0
      },
      "text/plain": [
       "Saving the dataset (0/1 shards):   0%|          | 0/3237 [00:00<?, ? examples/s]"
      ]
     },
     "metadata": {},
     "output_type": "display_data"
    },
    {
     "data": {
      "application/vnd.jupyter.widget-view+json": {
       "model_id": "4875957f11d04151bec3033c033f5ad9",
       "version_major": 2,
       "version_minor": 0
      },
      "text/plain": [
       "Saving the dataset (0/1 shards):   0%|          | 0/1079 [00:00<?, ? examples/s]"
      ]
     },
     "metadata": {},
     "output_type": "display_data"
    },
    {
     "data": {
      "application/vnd.jupyter.widget-view+json": {
       "model_id": "202dbbe8ef58410da323ea77158e1e40",
       "version_major": 2,
       "version_minor": 0
      },
      "text/plain": [
       "Saving the dataset (0/1 shards):   0%|          | 0/1080 [00:00<?, ? examples/s]"
      ]
     },
     "metadata": {},
     "output_type": "display_data"
    }
   ],
   "source": [
    "datasets.arrow_dataset.Dataset.from_pandas(\n",
    "    df_train85, preserve_index=False\n",
    ").save_to_disk(\"../Data/DataV2/TTS/T85_Train.arrow\")\n",
    "datasets.arrow_dataset.Dataset.from_pandas(\n",
    "    df_test85, preserve_index=False\n",
    ").save_to_disk(\"../Data/DataV2/TTS/T85_Test.arrow\")\n",
    "datasets.arrow_dataset.Dataset.from_pandas(\n",
    "    df_holdout85, preserve_index=False\n",
    ").save_to_disk(\"../Data/DataV2/TTS/T85_Holdout.arrow\")"
   ]
  },
  {
   "cell_type": "code",
   "execution_count": 35,
   "metadata": {},
   "outputs": [
    {
     "data": {
      "application/vnd.jupyter.widget-view+json": {
       "model_id": "890093aed46c4bb5a7c0d379919d1e9f",
       "version_major": 2,
       "version_minor": 0
      },
      "text/plain": [
       "Saving the dataset (0/1 shards):   0%|          | 0/2400 [00:00<?, ? examples/s]"
      ]
     },
     "metadata": {},
     "output_type": "display_data"
    },
    {
     "data": {
      "application/vnd.jupyter.widget-view+json": {
       "model_id": "2097eb9f74fa483b9588b77cf7a41a49",
       "version_major": 2,
       "version_minor": 0
      },
      "text/plain": [
       "Saving the dataset (0/1 shards):   0%|          | 0/800 [00:00<?, ? examples/s]"
      ]
     },
     "metadata": {},
     "output_type": "display_data"
    },
    {
     "data": {
      "application/vnd.jupyter.widget-view+json": {
       "model_id": "e9a79adc6d8e45888dbaf8fa75c1db60",
       "version_major": 2,
       "version_minor": 0
      },
      "text/plain": [
       "Saving the dataset (0/1 shards):   0%|          | 0/800 [00:00<?, ? examples/s]"
      ]
     },
     "metadata": {},
     "output_type": "display_data"
    }
   ],
   "source": [
    "datasets.arrow_dataset.Dataset.from_pandas(\n",
    "    df_trainDT, preserve_index=False\n",
    ").save_to_disk(\"../Data/DataV2/TTS/DT_Train.arrow\")\n",
    "datasets.arrow_dataset.Dataset.from_pandas(\n",
    "    df_testDT, preserve_index=False\n",
    ").save_to_disk(\"../Data/DataV2/TTS/DT_Test.arrow\")\n",
    "datasets.arrow_dataset.Dataset.from_pandas(\n",
    "    df_holdoutDT, preserve_index=False\n",
    ").save_to_disk(\"../Data/DataV2/TTS/DT_Holdout.arrow\")"
   ]
  }
 ],
 "metadata": {
  "kernelspec": {
   "display_name": "lm2",
   "language": "python",
   "name": "python3"
  },
  "language_info": {
   "codemirror_mode": {
    "name": "ipython",
    "version": 3
   },
   "file_extension": ".py",
   "mimetype": "text/x-python",
   "name": "python",
   "nbconvert_exporter": "python",
   "pygments_lexer": "ipython3",
   "version": "3.11.8"
  }
 },
 "nbformat": 4,
 "nbformat_minor": 2
}
