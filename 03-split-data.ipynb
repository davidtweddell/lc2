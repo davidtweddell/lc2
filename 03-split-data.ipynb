{
 "cells": [
  {
   "cell_type": "code",
   "execution_count": 2,
   "metadata": {},
   "outputs": [],
   "source": [
    "# reload magics\n",
    "%load_ext autoreload\n",
    "%autoreload 2\n",
    "\n",
    "import pandas as pd\n",
    "import numpy as np\n",
    "import matplotlib.pyplot as plt\n",
    "import seaborn as sns\n",
    "import datasets\n",
    "from project_modules.io import load_dataset_to_df\n",
    "\n",
    "from sklearn.model_selection import train_test_split\n",
    "from copy import deepcopy\n",
    "\n",
    "\n",
    "# from project_modules.utils import get_logger\n",
    "\n",
    "# logger = get_logger(\"log-data-combine-split.log\")\n",
    "# # read the parameter file\n",
    "\n",
    "# from project_modules.utils import read_parameters\n",
    "# parms = read_parameters(\"/Users/david/projects/lc-project-data/project.yaml\")"
   ]
  },
  {
   "cell_type": "code",
   "execution_count": 3,
   "metadata": {},
   "outputs": [],
   "source": [
    "from pathlib import Path\n",
    "\n",
    "# input_path = Path(\"../lc-project-data\")\n",
    "# output_path = Path(\"../lc-project-data\")\n",
    "\n",
    "# for MP,\n",
    "# input_path = Path(\"../Data/DataV3\")\n",
    "# output_path = Path(\"../Data/DataV3\")\n",
    "\n",
    "input_path = Path(\"../Data/DataV4\")\n",
    "output_path = Path(\"../Data/DataV4\")"
   ]
  },
  {
   "cell_type": "code",
   "execution_count": 4,
   "metadata": {},
   "outputs": [],
   "source": [
    "site_name_dict = {1: \"LDN\", 2: \"MTL\", 3: \"SAN\", 4: \"RIO\", 5: \"LUS\", 6: \"CA\", 7: \"NA\"}\n",
    "status_name_dict = {\n",
    "    0:'HC',\n",
    "    1:'LC_NEG',\n",
    "    2:'LC_POS'\n",
    "}"
   ]
  },
  {
   "cell_type": "code",
   "execution_count": 6,
   "metadata": {},
   "outputs": [],
   "source": [
    "# df81 = load_dataset_to_df('../Data/DataV2/featuresThresAll81.arrow', verbose = True)\n",
    "# df85 = load_dataset_to_df('../Data/DataV2/featuresThresAll85.arrow', verbose = True)\n",
    "# dfDT = load_dataset_to_df(\"../Data/DataV2/featuresDT.arrow\", verbose=True)\n",
    "\n",
    "# df = load_dataset_to_df(input_path/\"2024-04-30-features-cmplt.arrow\", verbose=True)# Prior Oct 8 2024 Bc of vax fillin removal\n",
    "\n",
    "df = load_dataset_to_df(input_path/'2024-10-09-features-cmplt.arrow',verbose=True) # After Oct 8 2024 Bc of vax fillin removal"
   ]
  },
  {
   "cell_type": "code",
   "execution_count": 7,
   "metadata": {},
   "outputs": [],
   "source": [
    "import json\n",
    "\n",
    "with open('JSON/dict-preLongCovid.json', 'r') as file:\n",
    "    lColPreLC = json.load(file)"
   ]
  },
  {
   "cell_type": "code",
   "execution_count": 8,
   "metadata": {},
   "outputs": [],
   "source": [
    "lColPreLC2 = deepcopy(lColPreLC)"
   ]
  },
  {
   "cell_type": "code",
   "execution_count": 9,
   "metadata": {},
   "outputs": [],
   "source": [
    "lColPreLC2.remove('CD-mode_of_diag')"
   ]
  },
  {
   "cell_type": "markdown",
   "metadata": {},
   "source": [
    "### Do train-test-holdout split here and save as a new dataset"
   ]
  },
  {
   "cell_type": "code",
   "execution_count": 10,
   "metadata": {},
   "outputs": [
    {
     "name": "stdout",
     "output_type": "stream",
     "text": [
      "% of patiens from each site in cmplt\n"
     ]
    },
    {
     "data": {
      "text/html": [
       "<div>\n",
       "<style scoped>\n",
       "    .dataframe tbody tr th:only-of-type {\n",
       "        vertical-align: middle;\n",
       "    }\n",
       "\n",
       "    .dataframe tbody tr th {\n",
       "        vertical-align: top;\n",
       "    }\n",
       "\n",
       "    .dataframe thead th {\n",
       "        text-align: right;\n",
       "    }\n",
       "</style>\n",
       "<table border=\"1\" class=\"dataframe\">\n",
       "  <thead>\n",
       "    <tr style=\"text-align: right;\">\n",
       "      <th>SITE</th>\n",
       "      <th>LDN</th>\n",
       "      <th>LUS</th>\n",
       "      <th>MTL</th>\n",
       "      <th>RIO</th>\n",
       "      <th>SAN</th>\n",
       "    </tr>\n",
       "    <tr>\n",
       "      <th>LC_STATUS</th>\n",
       "      <th></th>\n",
       "      <th></th>\n",
       "      <th></th>\n",
       "      <th></th>\n",
       "      <th></th>\n",
       "    </tr>\n",
       "  </thead>\n",
       "  <tbody>\n",
       "    <tr>\n",
       "      <th>HC</th>\n",
       "      <td>0.27</td>\n",
       "      <td>0.66</td>\n",
       "      <td>0.68</td>\n",
       "      <td>0.16</td>\n",
       "      <td>0.20</td>\n",
       "    </tr>\n",
       "    <tr>\n",
       "      <th>LC_NEG</th>\n",
       "      <td>0.63</td>\n",
       "      <td>0.24</td>\n",
       "      <td>0.32</td>\n",
       "      <td>0.83</td>\n",
       "      <td>0.80</td>\n",
       "    </tr>\n",
       "    <tr>\n",
       "      <th>LC_POS</th>\n",
       "      <td>0.10</td>\n",
       "      <td>0.11</td>\n",
       "      <td>0.00</td>\n",
       "      <td>0.01</td>\n",
       "      <td>0.01</td>\n",
       "    </tr>\n",
       "  </tbody>\n",
       "</table>\n",
       "</div>"
      ],
      "text/plain": [
       "SITE        LDN   LUS   MTL   RIO   SAN\n",
       "LC_STATUS                              \n",
       "HC         0.27  0.66  0.68  0.16  0.20\n",
       "LC_NEG     0.63  0.24  0.32  0.83  0.80\n",
       "LC_POS     0.10  0.11  0.00  0.01  0.01"
      ]
     },
     "execution_count": 10,
     "metadata": {},
     "output_type": "execute_result"
    }
   ],
   "source": [
    "print('% of patiens from each site in cmplt')\n",
    "pd.crosstab(df[\"LC_STATUS\"].map(status_name_dict), df[\"SITE\"].map(site_name_dict), normalize=\"columns\").round(2)"
   ]
  },
  {
   "cell_type": "code",
   "execution_count": 11,
   "metadata": {},
   "outputs": [
    {
     "name": "stdout",
     "output_type": "stream",
     "text": [
      "# of patiens from each site in cmplt\n"
     ]
    },
    {
     "data": {
      "text/html": [
       "<div>\n",
       "<style scoped>\n",
       "    .dataframe tbody tr th:only-of-type {\n",
       "        vertical-align: middle;\n",
       "    }\n",
       "\n",
       "    .dataframe tbody tr th {\n",
       "        vertical-align: top;\n",
       "    }\n",
       "\n",
       "    .dataframe thead th {\n",
       "        text-align: right;\n",
       "    }\n",
       "</style>\n",
       "<table border=\"1\" class=\"dataframe\">\n",
       "  <thead>\n",
       "    <tr style=\"text-align: right;\">\n",
       "      <th>SITE</th>\n",
       "      <th>LDN</th>\n",
       "      <th>LUS</th>\n",
       "      <th>MTL</th>\n",
       "      <th>RIO</th>\n",
       "      <th>SAN</th>\n",
       "    </tr>\n",
       "    <tr>\n",
       "      <th>LC_STATUS</th>\n",
       "      <th></th>\n",
       "      <th></th>\n",
       "      <th></th>\n",
       "      <th></th>\n",
       "      <th></th>\n",
       "    </tr>\n",
       "  </thead>\n",
       "  <tbody>\n",
       "    <tr>\n",
       "      <th>HC</th>\n",
       "      <td>44</td>\n",
       "      <td>238</td>\n",
       "      <td>1962</td>\n",
       "      <td>128</td>\n",
       "      <td>65</td>\n",
       "    </tr>\n",
       "    <tr>\n",
       "      <th>LC_NEG</th>\n",
       "      <td>101</td>\n",
       "      <td>85</td>\n",
       "      <td>910</td>\n",
       "      <td>650</td>\n",
       "      <td>266</td>\n",
       "    </tr>\n",
       "    <tr>\n",
       "      <th>LC_POS</th>\n",
       "      <td>16</td>\n",
       "      <td>38</td>\n",
       "      <td>0</td>\n",
       "      <td>9</td>\n",
       "      <td>2</td>\n",
       "    </tr>\n",
       "  </tbody>\n",
       "</table>\n",
       "</div>"
      ],
      "text/plain": [
       "SITE       LDN  LUS   MTL  RIO  SAN\n",
       "LC_STATUS                          \n",
       "HC          44  238  1962  128   65\n",
       "LC_NEG     101   85   910  650  266\n",
       "LC_POS      16   38     0    9    2"
      ]
     },
     "execution_count": 11,
     "metadata": {},
     "output_type": "execute_result"
    }
   ],
   "source": [
    "print(\"# of patiens from each site in cmplt\")\n",
    "\n",
    "pd.crosstab(df[\"LC_STATUS\"].map(status_name_dict), df[\"SITE\"].map(site_name_dict))"
   ]
  },
  {
   "cell_type": "code",
   "execution_count": 12,
   "metadata": {},
   "outputs": [],
   "source": [
    "def straify_train_test_holdout(df, labelVar, stratifyCol, test_size = 0.2, holdout_size = 0.2, random_state = 42 ):\n",
    "    from sklearn.model_selection import train_test_split\n",
    "    df_train, df_holdout = train_test_split(df, test_size = holdout_size, random_state = random_state, stratify = df['LC_STATUS'])\n",
    "    # Split the data into training and holdout sets\n",
    "    df_train, df_holdout = train_test_split(\n",
    "        df,\n",
    "        test_size=holdout_size,\n",
    "        stratify=df[stratifyCol],\n",
    "        random_state=42,\n",
    "    )\n",
    "\n",
    "    df_train, df_test = train_test_split(\n",
    "        df_train,\n",
    "        test_size=test_size / (1 - holdout_size),\n",
    "        random_state=random_state,\n",
    "        stratify=df_train[stratifyCol],\n",
    "    )\n",
    "    return df_train, df_test, df_holdout"
   ]
  },
  {
   "cell_type": "code",
   "execution_count": 13,
   "metadata": {},
   "outputs": [],
   "source": [
    "# Create combined variable to stratify on both LC_STATUS and SITE\n",
    "df[\"LC_STATUS_SITE\"] = df[\"LC_STATUS\"].astype(str) + \"_\" + df[\"SITE\"].astype(str)\n",
    "\n",
    "df_train, df_test, df_holdout = straify_train_test_holdout(\n",
    "    df,\n",
    "    \"LC_STATUS\",\n",
    "    \"LC_STATUS_SITE\",\n",
    "    test_size=0.2,\n",
    "    holdout_size=0.2,\n",
    "    random_state=42,\n",
    ")"
   ]
  },
  {
   "cell_type": "markdown",
   "metadata": {},
   "source": [
    "Verfiy stratification accurate"
   ]
  },
  {
   "cell_type": "code",
   "execution_count": 14,
   "metadata": {},
   "outputs": [
    {
     "data": {
      "text/html": [
       "<div>\n",
       "<style scoped>\n",
       "    .dataframe tbody tr th:only-of-type {\n",
       "        vertical-align: middle;\n",
       "    }\n",
       "\n",
       "    .dataframe tbody tr th {\n",
       "        vertical-align: top;\n",
       "    }\n",
       "\n",
       "    .dataframe thead th {\n",
       "        text-align: right;\n",
       "    }\n",
       "</style>\n",
       "<table border=\"1\" class=\"dataframe\">\n",
       "  <thead>\n",
       "    <tr style=\"text-align: right;\">\n",
       "      <th>SITE</th>\n",
       "      <th>1</th>\n",
       "      <th>2</th>\n",
       "      <th>3</th>\n",
       "      <th>4</th>\n",
       "      <th>5</th>\n",
       "    </tr>\n",
       "    <tr>\n",
       "      <th>LC_STATUS</th>\n",
       "      <th></th>\n",
       "      <th></th>\n",
       "      <th></th>\n",
       "      <th></th>\n",
       "      <th></th>\n",
       "    </tr>\n",
       "  </thead>\n",
       "  <tbody>\n",
       "    <tr>\n",
       "      <th>0</th>\n",
       "      <td>0.268041</td>\n",
       "      <td>0.683111</td>\n",
       "      <td>0.19403</td>\n",
       "      <td>0.161359</td>\n",
       "      <td>0.657407</td>\n",
       "    </tr>\n",
       "    <tr>\n",
       "      <th>1</th>\n",
       "      <td>0.628866</td>\n",
       "      <td>0.316889</td>\n",
       "      <td>0.79602</td>\n",
       "      <td>0.828025</td>\n",
       "      <td>0.236111</td>\n",
       "    </tr>\n",
       "    <tr>\n",
       "      <th>2</th>\n",
       "      <td>0.103093</td>\n",
       "      <td>0.000000</td>\n",
       "      <td>0.00995</td>\n",
       "      <td>0.010616</td>\n",
       "      <td>0.106481</td>\n",
       "    </tr>\n",
       "  </tbody>\n",
       "</table>\n",
       "</div>"
      ],
      "text/plain": [
       "SITE              1         2        3         4         5\n",
       "LC_STATUS                                                 \n",
       "0          0.268041  0.683111  0.19403  0.161359  0.657407\n",
       "1          0.628866  0.316889  0.79602  0.828025  0.236111\n",
       "2          0.103093  0.000000  0.00995  0.010616  0.106481"
      ]
     },
     "execution_count": 14,
     "metadata": {},
     "output_type": "execute_result"
    }
   ],
   "source": [
    "pd.crosstab(df_train[\"LC_STATUS\"], df_train[\"SITE\"], normalize=\"columns\")"
   ]
  },
  {
   "cell_type": "code",
   "execution_count": 15,
   "metadata": {},
   "outputs": [
    {
     "data": {
      "text/html": [
       "<div>\n",
       "<style scoped>\n",
       "    .dataframe tbody tr th:only-of-type {\n",
       "        vertical-align: middle;\n",
       "    }\n",
       "\n",
       "    .dataframe tbody tr th {\n",
       "        vertical-align: top;\n",
       "    }\n",
       "\n",
       "    .dataframe thead th {\n",
       "        text-align: right;\n",
       "    }\n",
       "</style>\n",
       "<table border=\"1\" class=\"dataframe\">\n",
       "  <thead>\n",
       "    <tr style=\"text-align: right;\">\n",
       "      <th>SITE</th>\n",
       "      <th>1</th>\n",
       "      <th>2</th>\n",
       "      <th>3</th>\n",
       "      <th>4</th>\n",
       "      <th>5</th>\n",
       "    </tr>\n",
       "    <tr>\n",
       "      <th>LC_STATUS</th>\n",
       "      <th></th>\n",
       "      <th></th>\n",
       "      <th></th>\n",
       "      <th></th>\n",
       "      <th></th>\n",
       "    </tr>\n",
       "  </thead>\n",
       "  <tbody>\n",
       "    <tr>\n",
       "      <th>0</th>\n",
       "      <td>0.28125</td>\n",
       "      <td>0.683478</td>\n",
       "      <td>0.19697</td>\n",
       "      <td>0.164557</td>\n",
       "      <td>0.666667</td>\n",
       "    </tr>\n",
       "    <tr>\n",
       "      <th>1</th>\n",
       "      <td>0.62500</td>\n",
       "      <td>0.316522</td>\n",
       "      <td>0.80303</td>\n",
       "      <td>0.822785</td>\n",
       "      <td>0.236111</td>\n",
       "    </tr>\n",
       "    <tr>\n",
       "      <th>2</th>\n",
       "      <td>0.09375</td>\n",
       "      <td>0.000000</td>\n",
       "      <td>0.00000</td>\n",
       "      <td>0.012658</td>\n",
       "      <td>0.097222</td>\n",
       "    </tr>\n",
       "  </tbody>\n",
       "</table>\n",
       "</div>"
      ],
      "text/plain": [
       "SITE             1         2        3         4         5\n",
       "LC_STATUS                                                \n",
       "0          0.28125  0.683478  0.19697  0.164557  0.666667\n",
       "1          0.62500  0.316522  0.80303  0.822785  0.236111\n",
       "2          0.09375  0.000000  0.00000  0.012658  0.097222"
      ]
     },
     "execution_count": 15,
     "metadata": {},
     "output_type": "execute_result"
    }
   ],
   "source": [
    "pd.crosstab(df_test[\"LC_STATUS\"], df_test[\"SITE\"], normalize=\"columns\")"
   ]
  },
  {
   "cell_type": "code",
   "execution_count": 16,
   "metadata": {},
   "outputs": [
    {
     "data": {
      "text/html": [
       "<div>\n",
       "<style scoped>\n",
       "    .dataframe tbody tr th:only-of-type {\n",
       "        vertical-align: middle;\n",
       "    }\n",
       "\n",
       "    .dataframe tbody tr th {\n",
       "        vertical-align: top;\n",
       "    }\n",
       "\n",
       "    .dataframe thead th {\n",
       "        text-align: right;\n",
       "    }\n",
       "</style>\n",
       "<table border=\"1\" class=\"dataframe\">\n",
       "  <thead>\n",
       "    <tr style=\"text-align: right;\">\n",
       "      <th>SITE</th>\n",
       "      <th>1</th>\n",
       "      <th>2</th>\n",
       "      <th>3</th>\n",
       "      <th>4</th>\n",
       "      <th>5</th>\n",
       "    </tr>\n",
       "    <tr>\n",
       "      <th>LC_STATUS</th>\n",
       "      <th></th>\n",
       "      <th></th>\n",
       "      <th></th>\n",
       "      <th></th>\n",
       "      <th></th>\n",
       "    </tr>\n",
       "  </thead>\n",
       "  <tbody>\n",
       "    <tr>\n",
       "      <th>0</th>\n",
       "      <td>0.28125</td>\n",
       "      <td>0.682927</td>\n",
       "      <td>0.19697</td>\n",
       "      <td>0.164557</td>\n",
       "      <td>0.657534</td>\n",
       "    </tr>\n",
       "    <tr>\n",
       "      <th>1</th>\n",
       "      <td>0.62500</td>\n",
       "      <td>0.317073</td>\n",
       "      <td>0.80303</td>\n",
       "      <td>0.822785</td>\n",
       "      <td>0.232877</td>\n",
       "    </tr>\n",
       "    <tr>\n",
       "      <th>2</th>\n",
       "      <td>0.09375</td>\n",
       "      <td>0.000000</td>\n",
       "      <td>0.00000</td>\n",
       "      <td>0.012658</td>\n",
       "      <td>0.109589</td>\n",
       "    </tr>\n",
       "  </tbody>\n",
       "</table>\n",
       "</div>"
      ],
      "text/plain": [
       "SITE             1         2        3         4         5\n",
       "LC_STATUS                                                \n",
       "0          0.28125  0.682927  0.19697  0.164557  0.657534\n",
       "1          0.62500  0.317073  0.80303  0.822785  0.232877\n",
       "2          0.09375  0.000000  0.00000  0.012658  0.109589"
      ]
     },
     "execution_count": 16,
     "metadata": {},
     "output_type": "execute_result"
    }
   ],
   "source": [
    "pd.crosstab(df_holdout[\"LC_STATUS\"], df_holdout[\"SITE\"], normalize=\"columns\")"
   ]
  },
  {
   "cell_type": "code",
   "execution_count": 17,
   "metadata": {},
   "outputs": [
    {
     "data": {
      "text/html": [
       "<div>\n",
       "<style scoped>\n",
       "    .dataframe tbody tr th:only-of-type {\n",
       "        vertical-align: middle;\n",
       "    }\n",
       "\n",
       "    .dataframe tbody tr th {\n",
       "        vertical-align: top;\n",
       "    }\n",
       "\n",
       "    .dataframe thead th {\n",
       "        text-align: right;\n",
       "    }\n",
       "</style>\n",
       "<table border=\"1\" class=\"dataframe\">\n",
       "  <thead>\n",
       "    <tr style=\"text-align: right;\">\n",
       "      <th></th>\n",
       "      <th>__index_level_0__</th>\n",
       "      <th>SITE</th>\n",
       "      <th>LC_STATUS</th>\n",
       "      <th>sex</th>\n",
       "      <th>age</th>\n",
       "      <th>MED-Analgesics</th>\n",
       "      <th>MED-Anesthetics</th>\n",
       "      <th>MED-Antibacterials</th>\n",
       "      <th>MED-Anticonvulsants</th>\n",
       "      <th>MED-Antidepressants</th>\n",
       "      <th>...</th>\n",
       "      <th>LABS-IND-sodium</th>\n",
       "      <th>LABS-IND-triglycerides</th>\n",
       "      <th>LABS-IND-urea</th>\n",
       "      <th>LABS-IND-wbc</th>\n",
       "      <th>SUBST-1</th>\n",
       "      <th>SUBST-2</th>\n",
       "      <th>SUBST-3</th>\n",
       "      <th>SUBST-4</th>\n",
       "      <th>SUBST-5</th>\n",
       "      <th>LC_STATUS_SITE</th>\n",
       "    </tr>\n",
       "  </thead>\n",
       "  <tbody>\n",
       "    <tr>\n",
       "      <th>0</th>\n",
       "      <td>0</td>\n",
       "      <td>2</td>\n",
       "      <td>1</td>\n",
       "      <td>2.0</td>\n",
       "      <td>30.0</td>\n",
       "      <td>0</td>\n",
       "      <td>0</td>\n",
       "      <td>0</td>\n",
       "      <td>0</td>\n",
       "      <td>0</td>\n",
       "      <td>...</td>\n",
       "      <td>0.0</td>\n",
       "      <td>0.0</td>\n",
       "      <td>0.0</td>\n",
       "      <td>0.0</td>\n",
       "      <td>0.0</td>\n",
       "      <td>0.0</td>\n",
       "      <td>0.0</td>\n",
       "      <td>0.0</td>\n",
       "      <td>0.0</td>\n",
       "      <td>1_2</td>\n",
       "    </tr>\n",
       "    <tr>\n",
       "      <th>1</th>\n",
       "      <td>1</td>\n",
       "      <td>2</td>\n",
       "      <td>1</td>\n",
       "      <td>1.0</td>\n",
       "      <td>33.0</td>\n",
       "      <td>0</td>\n",
       "      <td>0</td>\n",
       "      <td>0</td>\n",
       "      <td>0</td>\n",
       "      <td>0</td>\n",
       "      <td>...</td>\n",
       "      <td>0.0</td>\n",
       "      <td>0.0</td>\n",
       "      <td>0.0</td>\n",
       "      <td>0.0</td>\n",
       "      <td>0.0</td>\n",
       "      <td>0.0</td>\n",
       "      <td>0.0</td>\n",
       "      <td>0.0</td>\n",
       "      <td>0.0</td>\n",
       "      <td>1_2</td>\n",
       "    </tr>\n",
       "    <tr>\n",
       "      <th>2</th>\n",
       "      <td>2</td>\n",
       "      <td>2</td>\n",
       "      <td>1</td>\n",
       "      <td>2.0</td>\n",
       "      <td>36.0</td>\n",
       "      <td>0</td>\n",
       "      <td>0</td>\n",
       "      <td>0</td>\n",
       "      <td>0</td>\n",
       "      <td>0</td>\n",
       "      <td>...</td>\n",
       "      <td>0.0</td>\n",
       "      <td>0.0</td>\n",
       "      <td>0.0</td>\n",
       "      <td>0.0</td>\n",
       "      <td>0.0</td>\n",
       "      <td>0.0</td>\n",
       "      <td>0.0</td>\n",
       "      <td>0.0</td>\n",
       "      <td>0.0</td>\n",
       "      <td>1_2</td>\n",
       "    </tr>\n",
       "    <tr>\n",
       "      <th>3</th>\n",
       "      <td>3</td>\n",
       "      <td>2</td>\n",
       "      <td>1</td>\n",
       "      <td>2.0</td>\n",
       "      <td>50.0</td>\n",
       "      <td>0</td>\n",
       "      <td>0</td>\n",
       "      <td>0</td>\n",
       "      <td>0</td>\n",
       "      <td>0</td>\n",
       "      <td>...</td>\n",
       "      <td>0.0</td>\n",
       "      <td>0.0</td>\n",
       "      <td>0.0</td>\n",
       "      <td>0.0</td>\n",
       "      <td>1.0</td>\n",
       "      <td>0.0</td>\n",
       "      <td>0.0</td>\n",
       "      <td>0.0</td>\n",
       "      <td>0.0</td>\n",
       "      <td>1_2</td>\n",
       "    </tr>\n",
       "    <tr>\n",
       "      <th>4</th>\n",
       "      <td>4</td>\n",
       "      <td>2</td>\n",
       "      <td>1</td>\n",
       "      <td>1.0</td>\n",
       "      <td>40.0</td>\n",
       "      <td>0</td>\n",
       "      <td>0</td>\n",
       "      <td>0</td>\n",
       "      <td>0</td>\n",
       "      <td>0</td>\n",
       "      <td>...</td>\n",
       "      <td>0.0</td>\n",
       "      <td>0.0</td>\n",
       "      <td>0.0</td>\n",
       "      <td>0.0</td>\n",
       "      <td>0.0</td>\n",
       "      <td>0.0</td>\n",
       "      <td>0.0</td>\n",
       "      <td>0.0</td>\n",
       "      <td>0.0</td>\n",
       "      <td>1_2</td>\n",
       "    </tr>\n",
       "    <tr>\n",
       "      <th>...</th>\n",
       "      <td>...</td>\n",
       "      <td>...</td>\n",
       "      <td>...</td>\n",
       "      <td>...</td>\n",
       "      <td>...</td>\n",
       "      <td>...</td>\n",
       "      <td>...</td>\n",
       "      <td>...</td>\n",
       "      <td>...</td>\n",
       "      <td>...</td>\n",
       "      <td>...</td>\n",
       "      <td>...</td>\n",
       "      <td>...</td>\n",
       "      <td>...</td>\n",
       "      <td>...</td>\n",
       "      <td>...</td>\n",
       "      <td>...</td>\n",
       "      <td>...</td>\n",
       "      <td>...</td>\n",
       "      <td>...</td>\n",
       "      <td>...</td>\n",
       "    </tr>\n",
       "    <tr>\n",
       "      <th>4509</th>\n",
       "      <td>5659</td>\n",
       "      <td>3</td>\n",
       "      <td>1</td>\n",
       "      <td>1.0</td>\n",
       "      <td>48.0</td>\n",
       "      <td>0</td>\n",
       "      <td>0</td>\n",
       "      <td>0</td>\n",
       "      <td>0</td>\n",
       "      <td>0</td>\n",
       "      <td>...</td>\n",
       "      <td>1.0</td>\n",
       "      <td>1.0</td>\n",
       "      <td>1.0</td>\n",
       "      <td>0.0</td>\n",
       "      <td>0.0</td>\n",
       "      <td>0.0</td>\n",
       "      <td>1.0</td>\n",
       "      <td>0.0</td>\n",
       "      <td>0.0</td>\n",
       "      <td>1_3</td>\n",
       "    </tr>\n",
       "    <tr>\n",
       "      <th>4510</th>\n",
       "      <td>5660</td>\n",
       "      <td>3</td>\n",
       "      <td>1</td>\n",
       "      <td>2.0</td>\n",
       "      <td>42.0</td>\n",
       "      <td>0</td>\n",
       "      <td>0</td>\n",
       "      <td>0</td>\n",
       "      <td>0</td>\n",
       "      <td>0</td>\n",
       "      <td>...</td>\n",
       "      <td>1.0</td>\n",
       "      <td>0.0</td>\n",
       "      <td>1.0</td>\n",
       "      <td>1.0</td>\n",
       "      <td>0.0</td>\n",
       "      <td>0.0</td>\n",
       "      <td>0.0</td>\n",
       "      <td>0.0</td>\n",
       "      <td>0.0</td>\n",
       "      <td>1_3</td>\n",
       "    </tr>\n",
       "    <tr>\n",
       "      <th>4511</th>\n",
       "      <td>5661</td>\n",
       "      <td>3</td>\n",
       "      <td>1</td>\n",
       "      <td>1.0</td>\n",
       "      <td>23.0</td>\n",
       "      <td>0</td>\n",
       "      <td>0</td>\n",
       "      <td>0</td>\n",
       "      <td>0</td>\n",
       "      <td>0</td>\n",
       "      <td>...</td>\n",
       "      <td>0.0</td>\n",
       "      <td>1.0</td>\n",
       "      <td>0.0</td>\n",
       "      <td>0.0</td>\n",
       "      <td>0.0</td>\n",
       "      <td>0.0</td>\n",
       "      <td>1.0</td>\n",
       "      <td>1.0</td>\n",
       "      <td>0.0</td>\n",
       "      <td>1_3</td>\n",
       "    </tr>\n",
       "    <tr>\n",
       "      <th>4512</th>\n",
       "      <td>5662</td>\n",
       "      <td>3</td>\n",
       "      <td>1</td>\n",
       "      <td>1.0</td>\n",
       "      <td>71.0</td>\n",
       "      <td>0</td>\n",
       "      <td>0</td>\n",
       "      <td>0</td>\n",
       "      <td>0</td>\n",
       "      <td>0</td>\n",
       "      <td>...</td>\n",
       "      <td>1.0</td>\n",
       "      <td>0.0</td>\n",
       "      <td>1.0</td>\n",
       "      <td>0.0</td>\n",
       "      <td>0.0</td>\n",
       "      <td>0.0</td>\n",
       "      <td>0.0</td>\n",
       "      <td>0.0</td>\n",
       "      <td>0.0</td>\n",
       "      <td>1_3</td>\n",
       "    </tr>\n",
       "    <tr>\n",
       "      <th>4513</th>\n",
       "      <td>5663</td>\n",
       "      <td>3</td>\n",
       "      <td>1</td>\n",
       "      <td>2.0</td>\n",
       "      <td>58.0</td>\n",
       "      <td>0</td>\n",
       "      <td>0</td>\n",
       "      <td>0</td>\n",
       "      <td>0</td>\n",
       "      <td>0</td>\n",
       "      <td>...</td>\n",
       "      <td>1.0</td>\n",
       "      <td>1.0</td>\n",
       "      <td>1.0</td>\n",
       "      <td>1.0</td>\n",
       "      <td>0.0</td>\n",
       "      <td>0.0</td>\n",
       "      <td>0.0</td>\n",
       "      <td>0.0</td>\n",
       "      <td>0.0</td>\n",
       "      <td>1_3</td>\n",
       "    </tr>\n",
       "  </tbody>\n",
       "</table>\n",
       "<p>4514 rows × 438 columns</p>\n",
       "</div>"
      ],
      "text/plain": [
       "      __index_level_0__  SITE  LC_STATUS  sex   age  MED-Analgesics  \\\n",
       "0                     0     2          1  2.0  30.0               0   \n",
       "1                     1     2          1  1.0  33.0               0   \n",
       "2                     2     2          1  2.0  36.0               0   \n",
       "3                     3     2          1  2.0  50.0               0   \n",
       "4                     4     2          1  1.0  40.0               0   \n",
       "...                 ...   ...        ...  ...   ...             ...   \n",
       "4509               5659     3          1  1.0  48.0               0   \n",
       "4510               5660     3          1  2.0  42.0               0   \n",
       "4511               5661     3          1  1.0  23.0               0   \n",
       "4512               5662     3          1  1.0  71.0               0   \n",
       "4513               5663     3          1  2.0  58.0               0   \n",
       "\n",
       "      MED-Anesthetics  MED-Antibacterials  MED-Anticonvulsants  \\\n",
       "0                   0                   0                    0   \n",
       "1                   0                   0                    0   \n",
       "2                   0                   0                    0   \n",
       "3                   0                   0                    0   \n",
       "4                   0                   0                    0   \n",
       "...               ...                 ...                  ...   \n",
       "4509                0                   0                    0   \n",
       "4510                0                   0                    0   \n",
       "4511                0                   0                    0   \n",
       "4512                0                   0                    0   \n",
       "4513                0                   0                    0   \n",
       "\n",
       "      MED-Antidepressants  ...  LABS-IND-sodium  LABS-IND-triglycerides  \\\n",
       "0                       0  ...              0.0                     0.0   \n",
       "1                       0  ...              0.0                     0.0   \n",
       "2                       0  ...              0.0                     0.0   \n",
       "3                       0  ...              0.0                     0.0   \n",
       "4                       0  ...              0.0                     0.0   \n",
       "...                   ...  ...              ...                     ...   \n",
       "4509                    0  ...              1.0                     1.0   \n",
       "4510                    0  ...              1.0                     0.0   \n",
       "4511                    0  ...              0.0                     1.0   \n",
       "4512                    0  ...              1.0                     0.0   \n",
       "4513                    0  ...              1.0                     1.0   \n",
       "\n",
       "      LABS-IND-urea  LABS-IND-wbc  SUBST-1  SUBST-2  SUBST-3  SUBST-4  \\\n",
       "0               0.0           0.0      0.0      0.0      0.0      0.0   \n",
       "1               0.0           0.0      0.0      0.0      0.0      0.0   \n",
       "2               0.0           0.0      0.0      0.0      0.0      0.0   \n",
       "3               0.0           0.0      1.0      0.0      0.0      0.0   \n",
       "4               0.0           0.0      0.0      0.0      0.0      0.0   \n",
       "...             ...           ...      ...      ...      ...      ...   \n",
       "4509            1.0           0.0      0.0      0.0      1.0      0.0   \n",
       "4510            1.0           1.0      0.0      0.0      0.0      0.0   \n",
       "4511            0.0           0.0      0.0      0.0      1.0      1.0   \n",
       "4512            1.0           0.0      0.0      0.0      0.0      0.0   \n",
       "4513            1.0           1.0      0.0      0.0      0.0      0.0   \n",
       "\n",
       "      SUBST-5  LC_STATUS_SITE  \n",
       "0         0.0             1_2  \n",
       "1         0.0             1_2  \n",
       "2         0.0             1_2  \n",
       "3         0.0             1_2  \n",
       "4         0.0             1_2  \n",
       "...       ...             ...  \n",
       "4509      0.0             1_3  \n",
       "4510      0.0             1_3  \n",
       "4511      0.0             1_3  \n",
       "4512      0.0             1_3  \n",
       "4513      0.0             1_3  \n",
       "\n",
       "[4514 rows x 438 columns]"
      ]
     },
     "execution_count": 17,
     "metadata": {},
     "output_type": "execute_result"
    }
   ],
   "source": [
    "df"
   ]
  },
  {
   "cell_type": "code",
   "execution_count": 18,
   "metadata": {},
   "outputs": [
    {
     "data": {
      "application/vnd.jupyter.widget-view+json": {
       "model_id": "fcffc2ab99604faa8bbdff65d5bf31d2",
       "version_major": 2,
       "version_minor": 0
      },
      "text/plain": [
       "Saving the dataset (0/1 shards):   0%|          | 0/2708 [00:00<?, ? examples/s]"
      ]
     },
     "metadata": {},
     "output_type": "display_data"
    },
    {
     "data": {
      "application/vnd.jupyter.widget-view+json": {
       "model_id": "892198c9edfe4ab782141803bcaa5464",
       "version_major": 2,
       "version_minor": 0
      },
      "text/plain": [
       "Saving the dataset (0/1 shards):   0%|          | 0/903 [00:00<?, ? examples/s]"
      ]
     },
     "metadata": {},
     "output_type": "display_data"
    },
    {
     "data": {
      "application/vnd.jupyter.widget-view+json": {
       "model_id": "8018a9e6bd424df18e83afb3de3562c9",
       "version_major": 2,
       "version_minor": 0
      },
      "text/plain": [
       "Saving the dataset (0/1 shards):   0%|          | 0/903 [00:00<?, ? examples/s]"
      ]
     },
     "metadata": {},
     "output_type": "display_data"
    }
   ],
   "source": [
    "datasets.arrow_dataset.Dataset.from_pandas(df_train,preserve_index=False).save_to_disk(\n",
    "    output_path/\"TTS/dfcmplt_Train.arrow\"\n",
    ")\n",
    "datasets.arrow_dataset.Dataset.from_pandas(df_test, preserve_index=False).save_to_disk(\n",
    "    output_path / \"TTS/dfcmplt_Test.arrow\"\n",
    ")\n",
    "datasets.arrow_dataset.Dataset.from_pandas(\n",
    "    df_holdout, preserve_index=False\n",
    ").save_to_disk(output_path / \"TTS/dfcmplt_Holdout.arrow\")"
   ]
  },
  {
   "cell_type": "code",
   "execution_count": 19,
   "metadata": {},
   "outputs": [
    {
     "data": {
      "application/vnd.jupyter.widget-view+json": {
       "model_id": "95291eec29f9465998f4f2bfa1e62fd8",
       "version_major": 2,
       "version_minor": 0
      },
      "text/plain": [
       "Saving the dataset (0/1 shards):   0%|          | 0/2708 [00:00<?, ? examples/s]"
      ]
     },
     "metadata": {},
     "output_type": "display_data"
    },
    {
     "data": {
      "application/vnd.jupyter.widget-view+json": {
       "model_id": "56b5b696c4b14504856d4897c1164a7e",
       "version_major": 2,
       "version_minor": 0
      },
      "text/plain": [
       "Saving the dataset (0/1 shards):   0%|          | 0/903 [00:00<?, ? examples/s]"
      ]
     },
     "metadata": {},
     "output_type": "display_data"
    },
    {
     "data": {
      "application/vnd.jupyter.widget-view+json": {
       "model_id": "0409947daed24d07ae38265fafac4b99",
       "version_major": 2,
       "version_minor": 0
      },
      "text/plain": [
       "Saving the dataset (0/1 shards):   0%|          | 0/903 [00:00<?, ? examples/s]"
      ]
     },
     "metadata": {},
     "output_type": "display_data"
    }
   ],
   "source": [
    "datasets.arrow_dataset.Dataset.from_pandas(df_train[lColPreLC],preserve_index=False).save_to_disk(\n",
    "    output_path/\"TTS/dfcmpltPreLC_Train.arrow\"\n",
    ")\n",
    "datasets.arrow_dataset.Dataset.from_pandas(df_test[lColPreLC], preserve_index=False).save_to_disk(\n",
    "    output_path / \"TTS/dfcmpltPreLC_Test.arrow\"\n",
    ")\n",
    "datasets.arrow_dataset.Dataset.from_pandas(\n",
    "    df_holdout[lColPreLC], preserve_index=False\n",
    ").save_to_disk(output_path / \"TTS/dfcmpltPreLC_Holdout.arrow\")"
   ]
  },
  {
   "cell_type": "code",
   "execution_count": 20,
   "metadata": {},
   "outputs": [
    {
     "data": {
      "application/vnd.jupyter.widget-view+json": {
       "model_id": "6c1a16e814c244c28595e9a2217a4782",
       "version_major": 2,
       "version_minor": 0
      },
      "text/plain": [
       "Saving the dataset (0/1 shards):   0%|          | 0/2708 [00:00<?, ? examples/s]"
      ]
     },
     "metadata": {},
     "output_type": "display_data"
    },
    {
     "data": {
      "application/vnd.jupyter.widget-view+json": {
       "model_id": "c4381b73004b48058237878606fd24ef",
       "version_major": 2,
       "version_minor": 0
      },
      "text/plain": [
       "Saving the dataset (0/1 shards):   0%|          | 0/903 [00:00<?, ? examples/s]"
      ]
     },
     "metadata": {},
     "output_type": "display_data"
    },
    {
     "data": {
      "application/vnd.jupyter.widget-view+json": {
       "model_id": "fc6f0d6a0988444383b579a1e9d8e6fa",
       "version_major": 2,
       "version_minor": 0
      },
      "text/plain": [
       "Saving the dataset (0/1 shards):   0%|          | 0/903 [00:00<?, ? examples/s]"
      ]
     },
     "metadata": {},
     "output_type": "display_data"
    }
   ],
   "source": [
    "# lColPreLC2 = remove mode of diag from prelc cols\n",
    "datasets.arrow_dataset.Dataset.from_pandas(df_train[lColPreLC2],preserve_index=False).save_to_disk(\n",
    "    output_path/\"TTS/dfcmpltPreLC2_Train.arrow\"\n",
    ")\n",
    "datasets.arrow_dataset.Dataset.from_pandas(df_test[lColPreLC2], preserve_index=False).save_to_disk(\n",
    "    output_path / \"TTS/dfcmpltPreLC2_Test.arrow\"\n",
    ")\n",
    "datasets.arrow_dataset.Dataset.from_pandas(\n",
    "    df_holdout[lColPreLC2], preserve_index=False\n",
    ").save_to_disk(output_path / \"TTS/dfcmpltPreLC2_Holdout.arrow\")"
   ]
  },
  {
   "cell_type": "code",
   "execution_count": 21,
   "metadata": {},
   "outputs": [
    {
     "data": {
      "application/vnd.jupyter.widget-view+json": {
       "model_id": "dcfcaf1ac52244819d8f099924639f9f",
       "version_major": 2,
       "version_minor": 0
      },
      "text/plain": [
       "Saving the dataset (0/1 shards):   0%|          | 0/2695 [00:00<?, ? examples/s]"
      ]
     },
     "metadata": {},
     "output_type": "display_data"
    },
    {
     "data": {
      "application/vnd.jupyter.widget-view+json": {
       "model_id": "24d68a7fd1154f449829231ebffb14e4",
       "version_major": 2,
       "version_minor": 0
      },
      "text/plain": [
       "Saving the dataset (0/1 shards):   0%|          | 0/898 [00:00<?, ? examples/s]"
      ]
     },
     "metadata": {},
     "output_type": "display_data"
    },
    {
     "data": {
      "application/vnd.jupyter.widget-view+json": {
       "model_id": "75ab4698dae8430aa752f8bc6b4b1248",
       "version_major": 2,
       "version_minor": 0
      },
      "text/plain": [
       "Saving the dataset (0/1 shards):   0%|          | 0/900 [00:00<?, ? examples/s]"
      ]
     },
     "metadata": {},
     "output_type": "display_data"
    }
   ],
   "source": [
    "# lColPreLC3 = remove 21 patietnst that were incorectly included - May 2/3\n",
    "\n",
    "# reimport original data\n",
    "from pathlib import Path\n",
    "input_path = Path(\"../Data/Original Data/2024_04_26\")\n",
    "\n",
    "\n",
    "dfOrg = pd.read_excel(input_path / \"FINAL-CORRECTED-DATA-2024-04-26.xlsx\")\n",
    "\n",
    "#records to remove\n",
    "recRemove = ['353','363','400','1020','1147','1154','1159','1164','1171','1173','1228','1242','1272','1300','1325','1344','1345','1346','1348','1349','1380']\n",
    "recRemove = [int(x) for x in recRemove]\n",
    "indexOrg = dfOrg[~dfOrg['record_id'].isin(recRemove)].index\n",
    "recRemove = [int(x) for x in recRemove]\n",
    "# dfOrg[['record_id','__index_']]\n",
    "\n",
    "\n",
    "\n",
    "df_train_LC3 = df_train[df_train['__index_level_0__'].isin(indexOrg)]\n",
    "df_test_LC3 = df_test[df_test['__index_level_0__'].isin(indexOrg)]\n",
    "df_holdout_LC3 = df_holdout[df_holdout['__index_level_0__'].isin(indexOrg)]\n",
    "\n",
    "lColPreLC3 = [x for x in lColPreLC2 if 'covid_test' not in  x.lower()]\n",
    "\n",
    "\n",
    "\n",
    "datasets.arrow_dataset.Dataset.from_pandas(df_train_LC3[lColPreLC3],preserve_index=False).save_to_disk(\n",
    "    output_path/\"TTS/dfcmpltPreLC3_Train.arrow\"\n",
    ")\n",
    "datasets.arrow_dataset.Dataset.from_pandas(df_test_LC3[lColPreLC3], preserve_index=False).save_to_disk(\n",
    "    output_path / \"TTS/dfcmpltPreLC3_Test.arrow\"\n",
    ")\n",
    "datasets.arrow_dataset.Dataset.from_pandas(\n",
    "    df_holdout_LC3[lColPreLC3], preserve_index=False\n",
    ").save_to_disk(output_path / \"TTS/dfcmpltPreLC3_Holdout.arrow\")\n"
   ]
  },
  {
   "cell_type": "code",
   "execution_count": 22,
   "metadata": {},
   "outputs": [
    {
     "data": {
      "text/plain": [
       "['__index_level_0__',\n",
       " 'SITE',\n",
       " 'LC_STATUS',\n",
       " 'sex',\n",
       " 'age',\n",
       " 'VAX-vaccinated',\n",
       " 'CD-hospitalized',\n",
       " 'CD-required_oxygen',\n",
       " 'MED-Analgesics',\n",
       " 'MED-Anesthetics',\n",
       " 'MED-Antibacterials',\n",
       " 'MED-Anticonvulsants',\n",
       " 'MED-Antidepressants',\n",
       " 'MED-Antifungals',\n",
       " 'MED-Antimigraine-agents',\n",
       " 'MED-Antiparasitics',\n",
       " 'MED-Antiparkinson-agents',\n",
       " 'MED-Antipsychotics',\n",
       " 'MED-Antispasticity-agents',\n",
       " 'MED-Antivirals',\n",
       " 'MED-Blood-glucose-regulators',\n",
       " 'MED-Blood-products',\n",
       " 'MED-Cardiovascular-agents',\n",
       " 'MED-Dental-and-oral-agents',\n",
       " 'MED-Dermatological-agents',\n",
       " 'MED-Gastrointestinal-agents',\n",
       " 'MED-Hormonal-agents-(adrenal)',\n",
       " 'MED-Hormonal-agents-(sex-hormones)',\n",
       " 'MED-Hormonal-agents-(thyroid)',\n",
       " 'MED-Hormone-suppressant-(thyroid)',\n",
       " 'MED-Immunological-agents',\n",
       " 'MED-Inflammatory-bowel-disease-agents',\n",
       " 'MED-Metabolic-bone-disease-agents',\n",
       " 'MED-Ophthalmic-agents',\n",
       " 'MED-Respiratory-tract-agents',\n",
       " 'MED-Skeletal-muscle-relaxants',\n",
       " 'SYMPT-abdominal_pain___1',\n",
       " 'SYMPT-chest_pain___1',\n",
       " 'SYMPT-confusion_altered_mental_s___1',\n",
       " 'SYMPT-cough___1',\n",
       " 'SYMPT-diarrhea___1',\n",
       " 'SYMPT-dizziness___1',\n",
       " 'SYMPT-ear_pain___1',\n",
       " 'SYMPT-extremity_weakness_or_numb___1',\n",
       " 'SYMPT-fatigue___1',\n",
       " 'SYMPT-fever_38_0oc___1',\n",
       " 'SYMPT-headache___1',\n",
       " 'SYMPT-hemoptysis_bloody_sputum___1',\n",
       " 'SYMPT-joint_pain_arthralgia___1',\n",
       " 'SYMPT-leg_swelling_edema___1',\n",
       " 'SYMPT-loss_of_appetite___1',\n",
       " 'SYMPT-loss_of_taste_lost_of_smel___1',\n",
       " 'SYMPT-muscle_aches_myalgia___1',\n",
       " 'SYMPT-nausea_vomiting___1',\n",
       " 'SYMPT-night_sweats___1',\n",
       " 'SYMPT-red_eye_conjunctivitis___1',\n",
       " 'SYMPT-runny_nose_rhinorrhea___1',\n",
       " 'SYMPT-seizure___1',\n",
       " 'SYMPT-shortness_of_breath_dyspne___1',\n",
       " 'SYMPT-skin_rash___1',\n",
       " 'SYMPT-sore_throat___1',\n",
       " 'SYMPT-trouble_speaking_aphasia_d___1',\n",
       " 'SYMPT-weight_loss___1',\n",
       " 'SYMPT-wheezing_or_stridor___1',\n",
       " 'HHX-Arterial Hypertension',\n",
       " 'HHX-Asthma',\n",
       " 'HHX-Atrial fibrillation or flutter',\n",
       " 'HHX-COPD (emphysema',\n",
       " 'HHX-Cancer',\n",
       " 'HHX-Cardiovascular disease',\n",
       " 'HHX-Chronic hematologic disease',\n",
       " 'HHX-Chronic kidney disease',\n",
       " 'HHX-Chronic liver disease',\n",
       " 'HHX-Chronic lung disease',\n",
       " 'HHX-Chronic neurological disorder (other than stroke/TIA)',\n",
       " 'HHX-Coronary artery disease',\n",
       " 'HHX-Dementia',\n",
       " 'HHX-Diabetes',\n",
       " 'HHX-Dialysis',\n",
       " 'HHX-HIV or AIDS',\n",
       " 'HHX-Heart failure',\n",
       " 'HHX-Immunosuppression',\n",
       " 'HHX-Malnutrition',\n",
       " 'HHX-Obesity',\n",
       " 'HHX-Other',\n",
       " 'HHX-Past tuberculosis infection',\n",
       " 'HHX-Pregnant',\n",
       " 'HHX-Prior myocardial infarction',\n",
       " 'HHX-Psychiatric disease',\n",
       " 'HHX-Pulmonary hypertension',\n",
       " 'HHX-Rheumatologic disease',\n",
       " 'HHX-Stroke',\n",
       " 'HHX-Transient ischemic attack (TIA)',\n",
       " 'HHX-OTHER-AAA',\n",
       " 'HHX-OTHER-Anemia',\n",
       " 'HHX-OTHER-BPH',\n",
       " 'HHX-OTHER-Celiac',\n",
       " \"HHX-OTHER-Crohn's-disease\",\n",
       " 'HHX-OTHER-DVT',\n",
       " 'HHX-OTHER-Derm',\n",
       " 'HHX-OTHER-GERD',\n",
       " 'HHX-OTHER-GI',\n",
       " 'HHX-OTHER-IBS',\n",
       " 'HHX-OTHER-MSK',\n",
       " 'HHX-OTHER-OB',\n",
       " 'HHX-OTHER-Sleep-disorder',\n",
       " 'HHX-OTHER-UNSPECIFIED',\n",
       " 'HHX-OTHER-chagas',\n",
       " 'HHX-OTHER-concussion',\n",
       " 'HHX-OTHER-diverticulitis',\n",
       " 'HHX-OTHER-fatigue',\n",
       " 'HHX-OTHER-genetic-disorder',\n",
       " 'HHX-OTHER-hyper',\n",
       " 'HHX-OTHER-hypo',\n",
       " 'HHX-OTHER-resp',\n",
       " 'HHX-OTHER-sickle-cell-anemia',\n",
       " 'HHX-OTHER-surgery',\n",
       " 'HHX-OTHER-ulcerative-colitis',\n",
       " 'CD-acute_kidney_injury___3',\n",
       " 'CD-acute_kidney_injury___4',\n",
       " 'CD-acute_respiratory_distress___3',\n",
       " 'CD-acute_respiratory_distress___4',\n",
       " 'CD-adjunctive___1',\n",
       " 'CD-anemia___3',\n",
       " 'CD-anemia___4',\n",
       " 'CD-anxiety___3',\n",
       " 'CD-anxiety___4',\n",
       " 'CD-asthma___3',\n",
       " 'CD-asthma___4',\n",
       " 'CD-bacterial_viral_or_cryptog___3',\n",
       " 'CD-bacterial_viral_or_cryptog___4',\n",
       " 'CD-bacteriemia___3',\n",
       " 'CD-bacteriemia___4',\n",
       " 'CD-brain_fog___3',\n",
       " 'CD-brain_fog___4',\n",
       " 'CD-bronchiolitis___3',\n",
       " 'CD-bronchiolitis___4',\n",
       " 'CD-cardiac_arrest___3',\n",
       " 'CD-cardiac_arrest___4',\n",
       " 'CD-cardiovascular-other-3',\n",
       " 'CD-cardiovascular-other-4',\n",
       " 'CD-copd___3',\n",
       " 'CD-copd___4',\n",
       " 'CD-decompensated_heart_failur___3',\n",
       " 'CD-decompensated_heart_failur___4',\n",
       " 'CD-deep_vein_thrombosis_dvt___3',\n",
       " 'CD-deep_vein_thrombosis_dvt___4',\n",
       " 'CD-depression___3',\n",
       " 'CD-depression___4',\n",
       " 'CD-difficulty_with_concentrat___3',\n",
       " 'CD-difficulty_with_concentrat___4',\n",
       " 'CD-disseminated_intravascular___3',\n",
       " 'CD-disseminated_intravascular___4',\n",
       " 'CD-encephalitis___3',\n",
       " 'CD-encephalitis___4',\n",
       " 'CD-endocarditis___3',\n",
       " 'CD-endocarditis___4',\n",
       " 'CD-endocrine-other-3',\n",
       " 'CD-endocrine-other-4',\n",
       " 'CD-gastrointestinal-other-3',\n",
       " 'CD-gastrointestinal-other-4',\n",
       " 'CD-gastrointestinal_haemorrha___3',\n",
       " 'CD-gastrointestinal_haemorrha___4',\n",
       " 'CD-hyperglycemia___3',\n",
       " 'CD-hyperglycemia___4',\n",
       " 'CD-hypoglycemia___3',\n",
       " 'CD-hypoglycemia___4',\n",
       " 'CD-insomnia___3',\n",
       " 'CD-insomnia___4',\n",
       " 'CD-interstitial_lung_disease___3',\n",
       " 'CD-interstitial_lung_disease___4',\n",
       " 'CD-left_ventricular_function___3',\n",
       " 'CD-left_ventricular_function___4',\n",
       " 'CD-liver_dysfunction___3',\n",
       " 'CD-liver_dysfunction___4',\n",
       " 'CD-medication_received___1',\n",
       " 'CD-medication_received___2',\n",
       " 'CD-medication_received___3',\n",
       " 'CD-medication_received___4',\n",
       " 'CD-medication_received___5',\n",
       " 'CD-medication_received___6',\n",
       " 'CD-memory_problems___3',\n",
       " 'CD-memory_problems___4',\n",
       " 'CD-meningitis___3',\n",
       " 'CD-meningitis___4',\n",
       " 'CD-mood_change___3',\n",
       " 'CD-mood_change___4',\n",
       " 'CD-myocardial_infarction_stem___3',\n",
       " 'CD-myocardial_infarction_stem___4',\n",
       " 'CD-myocarditis___3',\n",
       " 'CD-myocarditis___4',\n",
       " 'CD-myositis___3',\n",
       " 'CD-myositis___4',\n",
       " 'CD-neurologic-other-3',\n",
       " 'CD-neurologic-other-4',\n",
       " 'CD-new_atrial_fibrillation_or___3',\n",
       " 'CD-new_atrial_fibrillation_or___4',\n",
       " 'CD-non_st_elevation_myocardia___3',\n",
       " 'CD-non_st_elevation_myocardia___4',\n",
       " 'CD-other_cardiac_arrhythmia___3',\n",
       " 'CD-other_cardiac_arrhythmia___4',\n",
       " 'CD-pancreatitis___3',\n",
       " 'CD-pancreatitis___4',\n",
       " 'CD-pericarditis___3',\n",
       " 'CD-pericarditis___4',\n",
       " 'CD-pleural_effusion___3',\n",
       " 'CD-pleural_effusion___4',\n",
       " 'CD-pneumothorax___3',\n",
       " 'CD-pneumothorax___4',\n",
       " 'CD-psychiatric-other-3',\n",
       " 'CD-psychiatric-other-4',\n",
       " 'CD-pulmonary_embolism_pe___3',\n",
       " 'CD-pulmonary_embolism_pe___4',\n",
       " 'CD-renal-other-3',\n",
       " 'CD-renal-other-4',\n",
       " 'CD-respiratory-other-3',\n",
       " 'CD-respiratory-other-4',\n",
       " 'CD-rhabdomyolysis___3',\n",
       " 'CD-rhabdomyolysis___4',\n",
       " 'CD-st_elevation___3',\n",
       " 'CD-st_elevation___4',\n",
       " 'CD-stroke___3',\n",
       " 'CD-stroke___4',\n",
       " 'CD-tia___3',\n",
       " 'CD-tia___4',\n",
       " 'CD-type_of_care___1',\n",
       " 'CD-type_of_care___2',\n",
       " 'CD-ventilatory_support_type___1',\n",
       " 'CD-ventilatory_support_type___2',\n",
       " 'CD-ventilatory_support_type___3',\n",
       " 'CD-ventilatory_support_type___4',\n",
       " 'CD-ventricular_tachycardia_or___3',\n",
       " 'CD-ventricular_tachycardia_or___4',\n",
       " 'CD-severity_level___0',\n",
       " 'CD-severity_level___1',\n",
       " 'CD-severity_level___2',\n",
       " 'CD-severity_level___3',\n",
       " 'SUBST-1',\n",
       " 'SUBST-2',\n",
       " 'SUBST-3',\n",
       " 'SUBST-4',\n",
       " 'SUBST-5']"
      ]
     },
     "execution_count": 22,
     "metadata": {},
     "output_type": "execute_result"
    }
   ],
   "source": [
    "lColPreLC3"
   ]
  },
  {
   "cell_type": "code",
   "execution_count": 23,
   "metadata": {},
   "outputs": [
    {
     "data": {
      "application/vnd.jupyter.widget-view+json": {
       "model_id": "fc225576c46c450c8c3944cffb62e930",
       "version_major": 2,
       "version_minor": 0
      },
      "text/plain": [
       "Saving the dataset (0/1 shards):   0%|          | 0/2695 [00:00<?, ? examples/s]"
      ]
     },
     "metadata": {},
     "output_type": "display_data"
    },
    {
     "data": {
      "application/vnd.jupyter.widget-view+json": {
       "model_id": "4f1eab8038d64d1d839ecb8656500c05",
       "version_major": 2,
       "version_minor": 0
      },
      "text/plain": [
       "Saving the dataset (0/1 shards):   0%|          | 0/898 [00:00<?, ? examples/s]"
      ]
     },
     "metadata": {},
     "output_type": "display_data"
    },
    {
     "data": {
      "application/vnd.jupyter.widget-view+json": {
       "model_id": "982963d3ecaf42089064b847d9798f6a",
       "version_major": 2,
       "version_minor": 0
      },
      "text/plain": [
       "Saving the dataset (0/1 shards):   0%|          | 0/900 [00:00<?, ? examples/s]"
      ]
     },
     "metadata": {},
     "output_type": "display_data"
    }
   ],
   "source": [
    "# lColPreLC4 = remove severity variable bc Issue #8 - The severity level variable can likely be omitted. It was only collected by a few sites for a few patients and i suspect that the zeros within it are in fact missing data. - May 6\n",
    "\n",
    "lColPreLC4 = deepcopy(lColPreLC3)\n",
    "lColPreLC4.remove('CD-severity_level___0')\n",
    "lColPreLC4.remove('CD-severity_level___1')\n",
    "lColPreLC4.remove('CD-severity_level___2')\n",
    "lColPreLC4.remove('CD-severity_level___3')\n",
    "\n",
    "\n",
    "df_train_LC4 = deepcopy(df_train_LC3[lColPreLC3])[lColPreLC4]\n",
    "df_test_LC4 = deepcopy(df_test_LC3[lColPreLC3])[lColPreLC4]\n",
    "df_holdout_LC4 = deepcopy(df_holdout_LC3[lColPreLC3])[lColPreLC4]\n",
    "\n",
    "datasets.arrow_dataset.Dataset.from_pandas(df_train_LC4,preserve_index=False).save_to_disk(\n",
    "    output_path/\"TTS/dfcmpltPreLC4_Train.arrow\"\n",
    ")\n",
    "datasets.arrow_dataset.Dataset.from_pandas(df_test_LC4, preserve_index=False).save_to_disk(\n",
    "    output_path / \"TTS/dfcmpltPreLC4_Test.arrow\"\n",
    ")\n",
    "datasets.arrow_dataset.Dataset.from_pandas(df_holdout_LC4, preserve_index=False\n",
    ").save_to_disk(output_path / \"TTS/dfcmpltPreLC4_Holdout.arrow\")\n"
   ]
  },
  {
   "cell_type": "code",
   "execution_count": 24,
   "metadata": {},
   "outputs": [
    {
     "data": {
      "application/vnd.jupyter.widget-view+json": {
       "model_id": "c766b8153a1843118498ce53cd32b91a",
       "version_major": 2,
       "version_minor": 0
      },
      "text/plain": [
       "Saving the dataset (0/1 shards):   0%|          | 0/97 [00:00<?, ? examples/s]"
      ]
     },
     "metadata": {},
     "output_type": "display_data"
    },
    {
     "data": {
      "application/vnd.jupyter.widget-view+json": {
       "model_id": "7be3146d76574087ae15741e8721bbe7",
       "version_major": 2,
       "version_minor": 0
      },
      "text/plain": [
       "Saving the dataset (0/1 shards):   0%|          | 0/32 [00:00<?, ? examples/s]"
      ]
     },
     "metadata": {},
     "output_type": "display_data"
    },
    {
     "data": {
      "application/vnd.jupyter.widget-view+json": {
       "model_id": "28441284a6ab43369a1936309979fd1b",
       "version_major": 2,
       "version_minor": 0
      },
      "text/plain": [
       "Saving the dataset (0/1 shards):   0%|          | 0/32 [00:00<?, ? examples/s]"
      ]
     },
     "metadata": {},
     "output_type": "display_data"
    },
    {
     "data": {
      "application/vnd.jupyter.widget-view+json": {
       "model_id": "b88e49ffce5a450ba4f6550ce3c2fb99",
       "version_major": 2,
       "version_minor": 0
      },
      "text/plain": [
       "Saving the dataset (0/1 shards):   0%|          | 0/97 [00:00<?, ? examples/s]"
      ]
     },
     "metadata": {},
     "output_type": "display_data"
    },
    {
     "data": {
      "application/vnd.jupyter.widget-view+json": {
       "model_id": "2399c2d0360a459eb747f0866e893fc4",
       "version_major": 2,
       "version_minor": 0
      },
      "text/plain": [
       "Saving the dataset (0/1 shards):   0%|          | 0/32 [00:00<?, ? examples/s]"
      ]
     },
     "metadata": {},
     "output_type": "display_data"
    },
    {
     "data": {
      "application/vnd.jupyter.widget-view+json": {
       "model_id": "14125b34af1649d99f06011a7132bb5d",
       "version_major": 2,
       "version_minor": 0
      },
      "text/plain": [
       "Saving the dataset (0/1 shards):   0%|          | 0/32 [00:00<?, ? examples/s]"
      ]
     },
     "metadata": {},
     "output_type": "display_data"
    },
    {
     "data": {
      "application/vnd.jupyter.widget-view+json": {
       "model_id": "24f610772b7443cf844507c4b0618377",
       "version_major": 2,
       "version_minor": 0
      },
      "text/plain": [
       "Saving the dataset (0/1 shards):   0%|          | 0/97 [00:00<?, ? examples/s]"
      ]
     },
     "metadata": {},
     "output_type": "display_data"
    },
    {
     "data": {
      "application/vnd.jupyter.widget-view+json": {
       "model_id": "5880edbebb4444868288117cc7177b03",
       "version_major": 2,
       "version_minor": 0
      },
      "text/plain": [
       "Saving the dataset (0/1 shards):   0%|          | 0/32 [00:00<?, ? examples/s]"
      ]
     },
     "metadata": {},
     "output_type": "display_data"
    },
    {
     "data": {
      "application/vnd.jupyter.widget-view+json": {
       "model_id": "b75edd2a844a45bbb892343c8ecf469e",
       "version_major": 2,
       "version_minor": 0
      },
      "text/plain": [
       "Saving the dataset (0/1 shards):   0%|          | 0/32 [00:00<?, ? examples/s]"
      ]
     },
     "metadata": {},
     "output_type": "display_data"
    },
    {
     "data": {
      "application/vnd.jupyter.widget-view+json": {
       "model_id": "467b2d9b92c249eeb82a6de12f4806a4",
       "version_major": 2,
       "version_minor": 0
      },
      "text/plain": [
       "Saving the dataset (0/1 shards):   0%|          | 0/97 [00:00<?, ? examples/s]"
      ]
     },
     "metadata": {},
     "output_type": "display_data"
    },
    {
     "data": {
      "application/vnd.jupyter.widget-view+json": {
       "model_id": "56cedffd782f41e4b22f5ab3517c5186",
       "version_major": 2,
       "version_minor": 0
      },
      "text/plain": [
       "Saving the dataset (0/1 shards):   0%|          | 0/32 [00:00<?, ? examples/s]"
      ]
     },
     "metadata": {},
     "output_type": "display_data"
    },
    {
     "data": {
      "application/vnd.jupyter.widget-view+json": {
       "model_id": "22a9b4974afb474fb1c45b60bfc90cae",
       "version_major": 2,
       "version_minor": 0
      },
      "text/plain": [
       "Saving the dataset (0/1 shards):   0%|          | 0/32 [00:00<?, ? examples/s]"
      ]
     },
     "metadata": {},
     "output_type": "display_data"
    },
    {
     "data": {
      "application/vnd.jupyter.widget-view+json": {
       "model_id": "90cd1718fbb84035800b0aab7d6ee6fe",
       "version_major": 2,
       "version_minor": 0
      },
      "text/plain": [
       "Saving the dataset (0/1 shards):   0%|          | 0/97 [00:00<?, ? examples/s]"
      ]
     },
     "metadata": {},
     "output_type": "display_data"
    },
    {
     "data": {
      "application/vnd.jupyter.widget-view+json": {
       "model_id": "c9151bdc60da46809172e87547e32e28",
       "version_major": 2,
       "version_minor": 0
      },
      "text/plain": [
       "Saving the dataset (0/1 shards):   0%|          | 0/32 [00:00<?, ? examples/s]"
      ]
     },
     "metadata": {},
     "output_type": "display_data"
    },
    {
     "data": {
      "application/vnd.jupyter.widget-view+json": {
       "model_id": "429a8698efe64c5d806036e8cfd87420",
       "version_major": 2,
       "version_minor": 0
      },
      "text/plain": [
       "Saving the dataset (0/1 shards):   0%|          | 0/32 [00:00<?, ? examples/s]"
      ]
     },
     "metadata": {},
     "output_type": "display_data"
    },
    {
     "data": {
      "application/vnd.jupyter.widget-view+json": {
       "model_id": "9f5637c1f0254a14bccfa85523d617f2",
       "version_major": 2,
       "version_minor": 0
      },
      "text/plain": [
       "Saving the dataset (0/1 shards):   0%|          | 0/1723 [00:00<?, ? examples/s]"
      ]
     },
     "metadata": {},
     "output_type": "display_data"
    },
    {
     "data": {
      "application/vnd.jupyter.widget-view+json": {
       "model_id": "6d3cfbe35cbf4294a5bed36dbb8b77e3",
       "version_major": 2,
       "version_minor": 0
      },
      "text/plain": [
       "Saving the dataset (0/1 shards):   0%|          | 0/575 [00:00<?, ? examples/s]"
      ]
     },
     "metadata": {},
     "output_type": "display_data"
    },
    {
     "data": {
      "application/vnd.jupyter.widget-view+json": {
       "model_id": "ec1257ef7a464be7b8e500a50fa1945e",
       "version_major": 2,
       "version_minor": 0
      },
      "text/plain": [
       "Saving the dataset (0/1 shards):   0%|          | 0/574 [00:00<?, ? examples/s]"
      ]
     },
     "metadata": {},
     "output_type": "display_data"
    },
    {
     "data": {
      "application/vnd.jupyter.widget-view+json": {
       "model_id": "6eb37bb13fa34773b4aacc2d098cc64d",
       "version_major": 2,
       "version_minor": 0
      },
      "text/plain": [
       "Saving the dataset (0/1 shards):   0%|          | 0/1723 [00:00<?, ? examples/s]"
      ]
     },
     "metadata": {},
     "output_type": "display_data"
    },
    {
     "data": {
      "application/vnd.jupyter.widget-view+json": {
       "model_id": "c263a5d8dea94163a51652242ac32998",
       "version_major": 2,
       "version_minor": 0
      },
      "text/plain": [
       "Saving the dataset (0/1 shards):   0%|          | 0/575 [00:00<?, ? examples/s]"
      ]
     },
     "metadata": {},
     "output_type": "display_data"
    },
    {
     "data": {
      "application/vnd.jupyter.widget-view+json": {
       "model_id": "d6d7fc869f454cdfa15dc7416fb92d95",
       "version_major": 2,
       "version_minor": 0
      },
      "text/plain": [
       "Saving the dataset (0/1 shards):   0%|          | 0/574 [00:00<?, ? examples/s]"
      ]
     },
     "metadata": {},
     "output_type": "display_data"
    },
    {
     "data": {
      "application/vnd.jupyter.widget-view+json": {
       "model_id": "1c00f6c35d0149cba56d1ace8fcc4944",
       "version_major": 2,
       "version_minor": 0
      },
      "text/plain": [
       "Saving the dataset (0/1 shards):   0%|          | 0/1723 [00:00<?, ? examples/s]"
      ]
     },
     "metadata": {},
     "output_type": "display_data"
    },
    {
     "data": {
      "application/vnd.jupyter.widget-view+json": {
       "model_id": "89ad33d5ee9f42d7accbab7ccc2afb93",
       "version_major": 2,
       "version_minor": 0
      },
      "text/plain": [
       "Saving the dataset (0/1 shards):   0%|          | 0/575 [00:00<?, ? examples/s]"
      ]
     },
     "metadata": {},
     "output_type": "display_data"
    },
    {
     "data": {
      "application/vnd.jupyter.widget-view+json": {
       "model_id": "0d19717d08684b59b24efb457fdb3277",
       "version_major": 2,
       "version_minor": 0
      },
      "text/plain": [
       "Saving the dataset (0/1 shards):   0%|          | 0/574 [00:00<?, ? examples/s]"
      ]
     },
     "metadata": {},
     "output_type": "display_data"
    },
    {
     "data": {
      "application/vnd.jupyter.widget-view+json": {
       "model_id": "f06c613cb9a8449f99ad42fff3bc1ff4",
       "version_major": 2,
       "version_minor": 0
      },
      "text/plain": [
       "Saving the dataset (0/1 shards):   0%|          | 0/1710 [00:00<?, ? examples/s]"
      ]
     },
     "metadata": {},
     "output_type": "display_data"
    },
    {
     "data": {
      "application/vnd.jupyter.widget-view+json": {
       "model_id": "b331ab46abca4385908a811659fcc09f",
       "version_major": 2,
       "version_minor": 0
      },
      "text/plain": [
       "Saving the dataset (0/1 shards):   0%|          | 0/570 [00:00<?, ? examples/s]"
      ]
     },
     "metadata": {},
     "output_type": "display_data"
    },
    {
     "data": {
      "application/vnd.jupyter.widget-view+json": {
       "model_id": "4004c5d76a064677a784606f0301993f",
       "version_major": 2,
       "version_minor": 0
      },
      "text/plain": [
       "Saving the dataset (0/1 shards):   0%|          | 0/571 [00:00<?, ? examples/s]"
      ]
     },
     "metadata": {},
     "output_type": "display_data"
    },
    {
     "data": {
      "application/vnd.jupyter.widget-view+json": {
       "model_id": "b33bd16fd3864de9a4ac23e9deca7fd1",
       "version_major": 2,
       "version_minor": 0
      },
      "text/plain": [
       "Saving the dataset (0/1 shards):   0%|          | 0/1710 [00:00<?, ? examples/s]"
      ]
     },
     "metadata": {},
     "output_type": "display_data"
    },
    {
     "data": {
      "application/vnd.jupyter.widget-view+json": {
       "model_id": "7948135972324589809af695588278bb",
       "version_major": 2,
       "version_minor": 0
      },
      "text/plain": [
       "Saving the dataset (0/1 shards):   0%|          | 0/570 [00:00<?, ? examples/s]"
      ]
     },
     "metadata": {},
     "output_type": "display_data"
    },
    {
     "data": {
      "application/vnd.jupyter.widget-view+json": {
       "model_id": "b8bc58382c824ccb80778aecad4c1c8e",
       "version_major": 2,
       "version_minor": 0
      },
      "text/plain": [
       "Saving the dataset (0/1 shards):   0%|          | 0/571 [00:00<?, ? examples/s]"
      ]
     },
     "metadata": {},
     "output_type": "display_data"
    },
    {
     "data": {
      "application/vnd.jupyter.widget-view+json": {
       "model_id": "a5c2cabdec97404c85b79859fcc38f10",
       "version_major": 2,
       "version_minor": 0
      },
      "text/plain": [
       "Saving the dataset (0/1 shards):   0%|          | 0/201 [00:00<?, ? examples/s]"
      ]
     },
     "metadata": {},
     "output_type": "display_data"
    },
    {
     "data": {
      "application/vnd.jupyter.widget-view+json": {
       "model_id": "c89d01f885f54f0fa79e051c8eed7b42",
       "version_major": 2,
       "version_minor": 0
      },
      "text/plain": [
       "Saving the dataset (0/1 shards):   0%|          | 0/66 [00:00<?, ? examples/s]"
      ]
     },
     "metadata": {},
     "output_type": "display_data"
    },
    {
     "data": {
      "application/vnd.jupyter.widget-view+json": {
       "model_id": "dc0a30e2e07b486eb8fd2493a993b25b",
       "version_major": 2,
       "version_minor": 0
      },
      "text/plain": [
       "Saving the dataset (0/1 shards):   0%|          | 0/66 [00:00<?, ? examples/s]"
      ]
     },
     "metadata": {},
     "output_type": "display_data"
    },
    {
     "data": {
      "application/vnd.jupyter.widget-view+json": {
       "model_id": "158923c965e14ec892093a2be2226cd3",
       "version_major": 2,
       "version_minor": 0
      },
      "text/plain": [
       "Saving the dataset (0/1 shards):   0%|          | 0/201 [00:00<?, ? examples/s]"
      ]
     },
     "metadata": {},
     "output_type": "display_data"
    },
    {
     "data": {
      "application/vnd.jupyter.widget-view+json": {
       "model_id": "47e4ef803a3b415b86e746a052b5c05d",
       "version_major": 2,
       "version_minor": 0
      },
      "text/plain": [
       "Saving the dataset (0/1 shards):   0%|          | 0/66 [00:00<?, ? examples/s]"
      ]
     },
     "metadata": {},
     "output_type": "display_data"
    },
    {
     "data": {
      "application/vnd.jupyter.widget-view+json": {
       "model_id": "b1f377b17c6a45288dd405b8063c0be4",
       "version_major": 2,
       "version_minor": 0
      },
      "text/plain": [
       "Saving the dataset (0/1 shards):   0%|          | 0/66 [00:00<?, ? examples/s]"
      ]
     },
     "metadata": {},
     "output_type": "display_data"
    },
    {
     "data": {
      "application/vnd.jupyter.widget-view+json": {
       "model_id": "c3c7fcb699a3420da7b2ee0822676a19",
       "version_major": 2,
       "version_minor": 0
      },
      "text/plain": [
       "Saving the dataset (0/1 shards):   0%|          | 0/201 [00:00<?, ? examples/s]"
      ]
     },
     "metadata": {},
     "output_type": "display_data"
    },
    {
     "data": {
      "application/vnd.jupyter.widget-view+json": {
       "model_id": "dd40af93c0ad441590148b1606273e03",
       "version_major": 2,
       "version_minor": 0
      },
      "text/plain": [
       "Saving the dataset (0/1 shards):   0%|          | 0/66 [00:00<?, ? examples/s]"
      ]
     },
     "metadata": {},
     "output_type": "display_data"
    },
    {
     "data": {
      "application/vnd.jupyter.widget-view+json": {
       "model_id": "d69d2fbd4bed4eb6846107a7bc988da2",
       "version_major": 2,
       "version_minor": 0
      },
      "text/plain": [
       "Saving the dataset (0/1 shards):   0%|          | 0/66 [00:00<?, ? examples/s]"
      ]
     },
     "metadata": {},
     "output_type": "display_data"
    },
    {
     "data": {
      "application/vnd.jupyter.widget-view+json": {
       "model_id": "70dbe2f384bb4a369dc9c07e64e1f84b",
       "version_major": 2,
       "version_minor": 0
      },
      "text/plain": [
       "Saving the dataset (0/1 shards):   0%|          | 0/201 [00:00<?, ? examples/s]"
      ]
     },
     "metadata": {},
     "output_type": "display_data"
    },
    {
     "data": {
      "application/vnd.jupyter.widget-view+json": {
       "model_id": "0c9bb73118ab472587fc2063cf57e98d",
       "version_major": 2,
       "version_minor": 0
      },
      "text/plain": [
       "Saving the dataset (0/1 shards):   0%|          | 0/66 [00:00<?, ? examples/s]"
      ]
     },
     "metadata": {},
     "output_type": "display_data"
    },
    {
     "data": {
      "application/vnd.jupyter.widget-view+json": {
       "model_id": "295a736ff2a042a8b434a769f2b3e0ae",
       "version_major": 2,
       "version_minor": 0
      },
      "text/plain": [
       "Saving the dataset (0/1 shards):   0%|          | 0/66 [00:00<?, ? examples/s]"
      ]
     },
     "metadata": {},
     "output_type": "display_data"
    },
    {
     "data": {
      "application/vnd.jupyter.widget-view+json": {
       "model_id": "5c779e2d756447dba9c21283056cddf5",
       "version_major": 2,
       "version_minor": 0
      },
      "text/plain": [
       "Saving the dataset (0/1 shards):   0%|          | 0/201 [00:00<?, ? examples/s]"
      ]
     },
     "metadata": {},
     "output_type": "display_data"
    },
    {
     "data": {
      "application/vnd.jupyter.widget-view+json": {
       "model_id": "4939c963930c4704af7f119df5c3c238",
       "version_major": 2,
       "version_minor": 0
      },
      "text/plain": [
       "Saving the dataset (0/1 shards):   0%|          | 0/66 [00:00<?, ? examples/s]"
      ]
     },
     "metadata": {},
     "output_type": "display_data"
    },
    {
     "data": {
      "application/vnd.jupyter.widget-view+json": {
       "model_id": "01ee9ee475db4d6e9d3161800fe4fa36",
       "version_major": 2,
       "version_minor": 0
      },
      "text/plain": [
       "Saving the dataset (0/1 shards):   0%|          | 0/66 [00:00<?, ? examples/s]"
      ]
     },
     "metadata": {},
     "output_type": "display_data"
    },
    {
     "data": {
      "application/vnd.jupyter.widget-view+json": {
       "model_id": "96051a8229ca47c182baec99af3000a6",
       "version_major": 2,
       "version_minor": 0
      },
      "text/plain": [
       "Saving the dataset (0/1 shards):   0%|          | 0/471 [00:00<?, ? examples/s]"
      ]
     },
     "metadata": {},
     "output_type": "display_data"
    },
    {
     "data": {
      "application/vnd.jupyter.widget-view+json": {
       "model_id": "871f69f9c5104a728ff22e4fae8af0d7",
       "version_major": 2,
       "version_minor": 0
      },
      "text/plain": [
       "Saving the dataset (0/1 shards):   0%|          | 0/158 [00:00<?, ? examples/s]"
      ]
     },
     "metadata": {},
     "output_type": "display_data"
    },
    {
     "data": {
      "application/vnd.jupyter.widget-view+json": {
       "model_id": "778e09546ef44a38ad2abb80d73bfe10",
       "version_major": 2,
       "version_minor": 0
      },
      "text/plain": [
       "Saving the dataset (0/1 shards):   0%|          | 0/158 [00:00<?, ? examples/s]"
      ]
     },
     "metadata": {},
     "output_type": "display_data"
    },
    {
     "data": {
      "application/vnd.jupyter.widget-view+json": {
       "model_id": "7570c54218df4c4a81506786a3101319",
       "version_major": 2,
       "version_minor": 0
      },
      "text/plain": [
       "Saving the dataset (0/1 shards):   0%|          | 0/471 [00:00<?, ? examples/s]"
      ]
     },
     "metadata": {},
     "output_type": "display_data"
    },
    {
     "data": {
      "application/vnd.jupyter.widget-view+json": {
       "model_id": "69a53dd46d6549489b0a2f12729047fe",
       "version_major": 2,
       "version_minor": 0
      },
      "text/plain": [
       "Saving the dataset (0/1 shards):   0%|          | 0/158 [00:00<?, ? examples/s]"
      ]
     },
     "metadata": {},
     "output_type": "display_data"
    },
    {
     "data": {
      "application/vnd.jupyter.widget-view+json": {
       "model_id": "a9e995c99b8c42d69a451d78d57a3efe",
       "version_major": 2,
       "version_minor": 0
      },
      "text/plain": [
       "Saving the dataset (0/1 shards):   0%|          | 0/158 [00:00<?, ? examples/s]"
      ]
     },
     "metadata": {},
     "output_type": "display_data"
    },
    {
     "data": {
      "application/vnd.jupyter.widget-view+json": {
       "model_id": "98ee666f36ea4d6cbaf16c11b0ae3656",
       "version_major": 2,
       "version_minor": 0
      },
      "text/plain": [
       "Saving the dataset (0/1 shards):   0%|          | 0/471 [00:00<?, ? examples/s]"
      ]
     },
     "metadata": {},
     "output_type": "display_data"
    },
    {
     "data": {
      "application/vnd.jupyter.widget-view+json": {
       "model_id": "680a7ce1c4a64eaba9a6344a3f10fde2",
       "version_major": 2,
       "version_minor": 0
      },
      "text/plain": [
       "Saving the dataset (0/1 shards):   0%|          | 0/158 [00:00<?, ? examples/s]"
      ]
     },
     "metadata": {},
     "output_type": "display_data"
    },
    {
     "data": {
      "application/vnd.jupyter.widget-view+json": {
       "model_id": "88f00dc112aa4444af0503a12c933099",
       "version_major": 2,
       "version_minor": 0
      },
      "text/plain": [
       "Saving the dataset (0/1 shards):   0%|          | 0/158 [00:00<?, ? examples/s]"
      ]
     },
     "metadata": {},
     "output_type": "display_data"
    },
    {
     "data": {
      "application/vnd.jupyter.widget-view+json": {
       "model_id": "5d8561ffacd443dcad8e7d1544d56a19",
       "version_major": 2,
       "version_minor": 0
      },
      "text/plain": [
       "Saving the dataset (0/1 shards):   0%|          | 0/471 [00:00<?, ? examples/s]"
      ]
     },
     "metadata": {},
     "output_type": "display_data"
    },
    {
     "data": {
      "application/vnd.jupyter.widget-view+json": {
       "model_id": "941b7c0500fd49e5963c39c697314847",
       "version_major": 2,
       "version_minor": 0
      },
      "text/plain": [
       "Saving the dataset (0/1 shards):   0%|          | 0/158 [00:00<?, ? examples/s]"
      ]
     },
     "metadata": {},
     "output_type": "display_data"
    },
    {
     "data": {
      "application/vnd.jupyter.widget-view+json": {
       "model_id": "8ec274fe0db54989a70c3b6b851d72f5",
       "version_major": 2,
       "version_minor": 0
      },
      "text/plain": [
       "Saving the dataset (0/1 shards):   0%|          | 0/158 [00:00<?, ? examples/s]"
      ]
     },
     "metadata": {},
     "output_type": "display_data"
    },
    {
     "data": {
      "application/vnd.jupyter.widget-view+json": {
       "model_id": "8fba929b6f6845b68e16c6fbb816647e",
       "version_major": 2,
       "version_minor": 0
      },
      "text/plain": [
       "Saving the dataset (0/1 shards):   0%|          | 0/471 [00:00<?, ? examples/s]"
      ]
     },
     "metadata": {},
     "output_type": "display_data"
    },
    {
     "data": {
      "application/vnd.jupyter.widget-view+json": {
       "model_id": "4b82333225e545f2a5fe96bc6c7aefcb",
       "version_major": 2,
       "version_minor": 0
      },
      "text/plain": [
       "Saving the dataset (0/1 shards):   0%|          | 0/158 [00:00<?, ? examples/s]"
      ]
     },
     "metadata": {},
     "output_type": "display_data"
    },
    {
     "data": {
      "application/vnd.jupyter.widget-view+json": {
       "model_id": "2490fe94efbf4245bb41e6561f980afc",
       "version_major": 2,
       "version_minor": 0
      },
      "text/plain": [
       "Saving the dataset (0/1 shards):   0%|          | 0/158 [00:00<?, ? examples/s]"
      ]
     },
     "metadata": {},
     "output_type": "display_data"
    },
    {
     "data": {
      "application/vnd.jupyter.widget-view+json": {
       "model_id": "9ff9f9addfe644a8be4dd9de28ff1fd3",
       "version_major": 2,
       "version_minor": 0
      },
      "text/plain": [
       "Saving the dataset (0/1 shards):   0%|          | 0/216 [00:00<?, ? examples/s]"
      ]
     },
     "metadata": {},
     "output_type": "display_data"
    },
    {
     "data": {
      "application/vnd.jupyter.widget-view+json": {
       "model_id": "afb8be81ff6541d193b037d3a4d72d7a",
       "version_major": 2,
       "version_minor": 0
      },
      "text/plain": [
       "Saving the dataset (0/1 shards):   0%|          | 0/72 [00:00<?, ? examples/s]"
      ]
     },
     "metadata": {},
     "output_type": "display_data"
    },
    {
     "data": {
      "application/vnd.jupyter.widget-view+json": {
       "model_id": "f2889e66d3534a2d8e5ef14f6c38d39c",
       "version_major": 2,
       "version_minor": 0
      },
      "text/plain": [
       "Saving the dataset (0/1 shards):   0%|          | 0/73 [00:00<?, ? examples/s]"
      ]
     },
     "metadata": {},
     "output_type": "display_data"
    },
    {
     "data": {
      "application/vnd.jupyter.widget-view+json": {
       "model_id": "52ed33d9283542f6a8d1b09b1afab911",
       "version_major": 2,
       "version_minor": 0
      },
      "text/plain": [
       "Saving the dataset (0/1 shards):   0%|          | 0/216 [00:00<?, ? examples/s]"
      ]
     },
     "metadata": {},
     "output_type": "display_data"
    },
    {
     "data": {
      "application/vnd.jupyter.widget-view+json": {
       "model_id": "d7427ae4723941d2a88d82f9a9ab1f9c",
       "version_major": 2,
       "version_minor": 0
      },
      "text/plain": [
       "Saving the dataset (0/1 shards):   0%|          | 0/72 [00:00<?, ? examples/s]"
      ]
     },
     "metadata": {},
     "output_type": "display_data"
    },
    {
     "data": {
      "application/vnd.jupyter.widget-view+json": {
       "model_id": "c9bf22a0907e4b2bb3da7ebd752a0d79",
       "version_major": 2,
       "version_minor": 0
      },
      "text/plain": [
       "Saving the dataset (0/1 shards):   0%|          | 0/73 [00:00<?, ? examples/s]"
      ]
     },
     "metadata": {},
     "output_type": "display_data"
    },
    {
     "data": {
      "application/vnd.jupyter.widget-view+json": {
       "model_id": "1ca983defba144349b25eeda3af2c5c5",
       "version_major": 2,
       "version_minor": 0
      },
      "text/plain": [
       "Saving the dataset (0/1 shards):   0%|          | 0/216 [00:00<?, ? examples/s]"
      ]
     },
     "metadata": {},
     "output_type": "display_data"
    },
    {
     "data": {
      "application/vnd.jupyter.widget-view+json": {
       "model_id": "1021a9d0972443269c68b462f48052f3",
       "version_major": 2,
       "version_minor": 0
      },
      "text/plain": [
       "Saving the dataset (0/1 shards):   0%|          | 0/72 [00:00<?, ? examples/s]"
      ]
     },
     "metadata": {},
     "output_type": "display_data"
    },
    {
     "data": {
      "application/vnd.jupyter.widget-view+json": {
       "model_id": "afd7908c23254ed786bf62ff9fc19a34",
       "version_major": 2,
       "version_minor": 0
      },
      "text/plain": [
       "Saving the dataset (0/1 shards):   0%|          | 0/73 [00:00<?, ? examples/s]"
      ]
     },
     "metadata": {},
     "output_type": "display_data"
    },
    {
     "data": {
      "application/vnd.jupyter.widget-view+json": {
       "model_id": "2a9c69d9e4e3494bb6d3d1e4244a4d27",
       "version_major": 2,
       "version_minor": 0
      },
      "text/plain": [
       "Saving the dataset (0/1 shards):   0%|          | 0/216 [00:00<?, ? examples/s]"
      ]
     },
     "metadata": {},
     "output_type": "display_data"
    },
    {
     "data": {
      "application/vnd.jupyter.widget-view+json": {
       "model_id": "3a2e76afa6054127a3057b02e4c076c1",
       "version_major": 2,
       "version_minor": 0
      },
      "text/plain": [
       "Saving the dataset (0/1 shards):   0%|          | 0/72 [00:00<?, ? examples/s]"
      ]
     },
     "metadata": {},
     "output_type": "display_data"
    },
    {
     "data": {
      "application/vnd.jupyter.widget-view+json": {
       "model_id": "1e979e8f347f4371b8322209ff20e9e7",
       "version_major": 2,
       "version_minor": 0
      },
      "text/plain": [
       "Saving the dataset (0/1 shards):   0%|          | 0/73 [00:00<?, ? examples/s]"
      ]
     },
     "metadata": {},
     "output_type": "display_data"
    },
    {
     "data": {
      "application/vnd.jupyter.widget-view+json": {
       "model_id": "fbc70bc78d774a3dadd131d6c47caf9e",
       "version_major": 2,
       "version_minor": 0
      },
      "text/plain": [
       "Saving the dataset (0/1 shards):   0%|          | 0/216 [00:00<?, ? examples/s]"
      ]
     },
     "metadata": {},
     "output_type": "display_data"
    },
    {
     "data": {
      "application/vnd.jupyter.widget-view+json": {
       "model_id": "69d198cd3c3342c9845ac4b9b26f2790",
       "version_major": 2,
       "version_minor": 0
      },
      "text/plain": [
       "Saving the dataset (0/1 shards):   0%|          | 0/72 [00:00<?, ? examples/s]"
      ]
     },
     "metadata": {},
     "output_type": "display_data"
    },
    {
     "data": {
      "application/vnd.jupyter.widget-view+json": {
       "model_id": "ce5479cdc2114c9781b5e4a3bc8ddae9",
       "version_major": 2,
       "version_minor": 0
      },
      "text/plain": [
       "Saving the dataset (0/1 shards):   0%|          | 0/73 [00:00<?, ? examples/s]"
      ]
     },
     "metadata": {},
     "output_type": "display_data"
    },
    {
     "data": {
      "application/vnd.jupyter.widget-view+json": {
       "model_id": "9e6bec98d5ff44928098889622dfcbf2",
       "version_major": 2,
       "version_minor": 0
      },
      "text/plain": [
       "Saving the dataset (0/1 shards):   0%|          | 0/1820 [00:00<?, ? examples/s]"
      ]
     },
     "metadata": {},
     "output_type": "display_data"
    },
    {
     "data": {
      "application/vnd.jupyter.widget-view+json": {
       "model_id": "f0f0639c812d49cb91342a147446e4ea",
       "version_major": 2,
       "version_minor": 0
      },
      "text/plain": [
       "Saving the dataset (0/1 shards):   0%|          | 0/607 [00:00<?, ? examples/s]"
      ]
     },
     "metadata": {},
     "output_type": "display_data"
    },
    {
     "data": {
      "application/vnd.jupyter.widget-view+json": {
       "model_id": "64f9f679ac524e668601445be864614d",
       "version_major": 2,
       "version_minor": 0
      },
      "text/plain": [
       "Saving the dataset (0/1 shards):   0%|          | 0/606 [00:00<?, ? examples/s]"
      ]
     },
     "metadata": {},
     "output_type": "display_data"
    },
    {
     "data": {
      "application/vnd.jupyter.widget-view+json": {
       "model_id": "fea4ed8e365043d08026bfe7476e2b62",
       "version_major": 2,
       "version_minor": 0
      },
      "text/plain": [
       "Saving the dataset (0/1 shards):   0%|          | 0/1820 [00:00<?, ? examples/s]"
      ]
     },
     "metadata": {},
     "output_type": "display_data"
    },
    {
     "data": {
      "application/vnd.jupyter.widget-view+json": {
       "model_id": "6b692a0b3e294effb11df72bda01fca8",
       "version_major": 2,
       "version_minor": 0
      },
      "text/plain": [
       "Saving the dataset (0/1 shards):   0%|          | 0/607 [00:00<?, ? examples/s]"
      ]
     },
     "metadata": {},
     "output_type": "display_data"
    },
    {
     "data": {
      "application/vnd.jupyter.widget-view+json": {
       "model_id": "bac0b9cf00a1486996e35df0857aa848",
       "version_major": 2,
       "version_minor": 0
      },
      "text/plain": [
       "Saving the dataset (0/1 shards):   0%|          | 0/606 [00:00<?, ? examples/s]"
      ]
     },
     "metadata": {},
     "output_type": "display_data"
    },
    {
     "data": {
      "application/vnd.jupyter.widget-view+json": {
       "model_id": "a07299347ece49efbc8ca707bb4e64d9",
       "version_major": 2,
       "version_minor": 0
      },
      "text/plain": [
       "Saving the dataset (0/1 shards):   0%|          | 0/1820 [00:00<?, ? examples/s]"
      ]
     },
     "metadata": {},
     "output_type": "display_data"
    },
    {
     "data": {
      "application/vnd.jupyter.widget-view+json": {
       "model_id": "2ab562c011034ce594377e9f4d70b9fa",
       "version_major": 2,
       "version_minor": 0
      },
      "text/plain": [
       "Saving the dataset (0/1 shards):   0%|          | 0/607 [00:00<?, ? examples/s]"
      ]
     },
     "metadata": {},
     "output_type": "display_data"
    },
    {
     "data": {
      "application/vnd.jupyter.widget-view+json": {
       "model_id": "1c8b7222193148b493ecac236bf0e489",
       "version_major": 2,
       "version_minor": 0
      },
      "text/plain": [
       "Saving the dataset (0/1 shards):   0%|          | 0/606 [00:00<?, ? examples/s]"
      ]
     },
     "metadata": {},
     "output_type": "display_data"
    },
    {
     "data": {
      "application/vnd.jupyter.widget-view+json": {
       "model_id": "d16dffce8ba54607a63773e0ecf327d0",
       "version_major": 2,
       "version_minor": 0
      },
      "text/plain": [
       "Saving the dataset (0/1 shards):   0%|          | 0/1807 [00:00<?, ? examples/s]"
      ]
     },
     "metadata": {},
     "output_type": "display_data"
    },
    {
     "data": {
      "application/vnd.jupyter.widget-view+json": {
       "model_id": "5851dc0934f04261af6f7a3a6f0bbb1a",
       "version_major": 2,
       "version_minor": 0
      },
      "text/plain": [
       "Saving the dataset (0/1 shards):   0%|          | 0/602 [00:00<?, ? examples/s]"
      ]
     },
     "metadata": {},
     "output_type": "display_data"
    },
    {
     "data": {
      "application/vnd.jupyter.widget-view+json": {
       "model_id": "daf852d203c8414ead77f3ae8965252b",
       "version_major": 2,
       "version_minor": 0
      },
      "text/plain": [
       "Saving the dataset (0/1 shards):   0%|          | 0/603 [00:00<?, ? examples/s]"
      ]
     },
     "metadata": {},
     "output_type": "display_data"
    },
    {
     "data": {
      "application/vnd.jupyter.widget-view+json": {
       "model_id": "22712833d0324741aa21db0653f19c5e",
       "version_major": 2,
       "version_minor": 0
      },
      "text/plain": [
       "Saving the dataset (0/1 shards):   0%|          | 0/1807 [00:00<?, ? examples/s]"
      ]
     },
     "metadata": {},
     "output_type": "display_data"
    },
    {
     "data": {
      "application/vnd.jupyter.widget-view+json": {
       "model_id": "245edfd5e1144fa3afa8e4b9cbda272f",
       "version_major": 2,
       "version_minor": 0
      },
      "text/plain": [
       "Saving the dataset (0/1 shards):   0%|          | 0/602 [00:00<?, ? examples/s]"
      ]
     },
     "metadata": {},
     "output_type": "display_data"
    },
    {
     "data": {
      "application/vnd.jupyter.widget-view+json": {
       "model_id": "a15e4941249642faa45af4f3c796d913",
       "version_major": 2,
       "version_minor": 0
      },
      "text/plain": [
       "Saving the dataset (0/1 shards):   0%|          | 0/603 [00:00<?, ? examples/s]"
      ]
     },
     "metadata": {},
     "output_type": "display_data"
    },
    {
     "data": {
      "application/vnd.jupyter.widget-view+json": {
       "model_id": "9cdd61e9eb55421c8a0c6ff18dc4997e",
       "version_major": 2,
       "version_minor": 0
      },
      "text/plain": [
       "Saving the dataset (0/1 shards):   0%|          | 0/2021 [00:00<?, ? examples/s]"
      ]
     },
     "metadata": {},
     "output_type": "display_data"
    },
    {
     "data": {
      "application/vnd.jupyter.widget-view+json": {
       "model_id": "bd7747cc65b54d4090e3dd68ef2959a4",
       "version_major": 2,
       "version_minor": 0
      },
      "text/plain": [
       "Saving the dataset (0/1 shards):   0%|          | 0/673 [00:00<?, ? examples/s]"
      ]
     },
     "metadata": {},
     "output_type": "display_data"
    },
    {
     "data": {
      "application/vnd.jupyter.widget-view+json": {
       "model_id": "5390f7b5303b4b0ea6571c7c53cab3ff",
       "version_major": 2,
       "version_minor": 0
      },
      "text/plain": [
       "Saving the dataset (0/1 shards):   0%|          | 0/672 [00:00<?, ? examples/s]"
      ]
     },
     "metadata": {},
     "output_type": "display_data"
    },
    {
     "data": {
      "application/vnd.jupyter.widget-view+json": {
       "model_id": "a2ad3b4790f94eea99d7989b1b008795",
       "version_major": 2,
       "version_minor": 0
      },
      "text/plain": [
       "Saving the dataset (0/1 shards):   0%|          | 0/2021 [00:00<?, ? examples/s]"
      ]
     },
     "metadata": {},
     "output_type": "display_data"
    },
    {
     "data": {
      "application/vnd.jupyter.widget-view+json": {
       "model_id": "32e88566788548f2b45f476d6c6022ac",
       "version_major": 2,
       "version_minor": 0
      },
      "text/plain": [
       "Saving the dataset (0/1 shards):   0%|          | 0/673 [00:00<?, ? examples/s]"
      ]
     },
     "metadata": {},
     "output_type": "display_data"
    },
    {
     "data": {
      "application/vnd.jupyter.widget-view+json": {
       "model_id": "6a46406a55c94bc7966a97f2cdb9baba",
       "version_major": 2,
       "version_minor": 0
      },
      "text/plain": [
       "Saving the dataset (0/1 shards):   0%|          | 0/672 [00:00<?, ? examples/s]"
      ]
     },
     "metadata": {},
     "output_type": "display_data"
    },
    {
     "data": {
      "application/vnd.jupyter.widget-view+json": {
       "model_id": "7252c4f222be439fbf1882a151e1c9de",
       "version_major": 2,
       "version_minor": 0
      },
      "text/plain": [
       "Saving the dataset (0/1 shards):   0%|          | 0/2021 [00:00<?, ? examples/s]"
      ]
     },
     "metadata": {},
     "output_type": "display_data"
    },
    {
     "data": {
      "application/vnd.jupyter.widget-view+json": {
       "model_id": "3c998a5e83fa473e8e029f4178f1bedd",
       "version_major": 2,
       "version_minor": 0
      },
      "text/plain": [
       "Saving the dataset (0/1 shards):   0%|          | 0/673 [00:00<?, ? examples/s]"
      ]
     },
     "metadata": {},
     "output_type": "display_data"
    },
    {
     "data": {
      "application/vnd.jupyter.widget-view+json": {
       "model_id": "dbebd4d53df14502af7f38da102494c4",
       "version_major": 2,
       "version_minor": 0
      },
      "text/plain": [
       "Saving the dataset (0/1 shards):   0%|          | 0/672 [00:00<?, ? examples/s]"
      ]
     },
     "metadata": {},
     "output_type": "display_data"
    },
    {
     "data": {
      "application/vnd.jupyter.widget-view+json": {
       "model_id": "6c60c4ba73454f9595f2111b0e3a3df0",
       "version_major": 2,
       "version_minor": 0
      },
      "text/plain": [
       "Saving the dataset (0/1 shards):   0%|          | 0/2008 [00:00<?, ? examples/s]"
      ]
     },
     "metadata": {},
     "output_type": "display_data"
    },
    {
     "data": {
      "application/vnd.jupyter.widget-view+json": {
       "model_id": "6ccfe2f2f46f4646870cdaf319ce2c78",
       "version_major": 2,
       "version_minor": 0
      },
      "text/plain": [
       "Saving the dataset (0/1 shards):   0%|          | 0/668 [00:00<?, ? examples/s]"
      ]
     },
     "metadata": {},
     "output_type": "display_data"
    },
    {
     "data": {
      "application/vnd.jupyter.widget-view+json": {
       "model_id": "8dfa0592d46747a095dfd3bc79ab3860",
       "version_major": 2,
       "version_minor": 0
      },
      "text/plain": [
       "Saving the dataset (0/1 shards):   0%|          | 0/669 [00:00<?, ? examples/s]"
      ]
     },
     "metadata": {},
     "output_type": "display_data"
    },
    {
     "data": {
      "application/vnd.jupyter.widget-view+json": {
       "model_id": "a68369a268b043d696df80454b894116",
       "version_major": 2,
       "version_minor": 0
      },
      "text/plain": [
       "Saving the dataset (0/1 shards):   0%|          | 0/2008 [00:00<?, ? examples/s]"
      ]
     },
     "metadata": {},
     "output_type": "display_data"
    },
    {
     "data": {
      "application/vnd.jupyter.widget-view+json": {
       "model_id": "802d5a99fc75430c957d1860f1e8e011",
       "version_major": 2,
       "version_minor": 0
      },
      "text/plain": [
       "Saving the dataset (0/1 shards):   0%|          | 0/668 [00:00<?, ? examples/s]"
      ]
     },
     "metadata": {},
     "output_type": "display_data"
    },
    {
     "data": {
      "application/vnd.jupyter.widget-view+json": {
       "model_id": "e9791daa180442b6a336cc2042c4cb37",
       "version_major": 2,
       "version_minor": 0
      },
      "text/plain": [
       "Saving the dataset (0/1 shards):   0%|          | 0/669 [00:00<?, ? examples/s]"
      ]
     },
     "metadata": {},
     "output_type": "display_data"
    }
   ],
   "source": [
    "for key in site_name_dict.keys():\n",
    "    if key == 7:\n",
    "        query = 'SITE==1 or SITE==2 or SITE==3'\n",
    "    elif key == 6:\n",
    "        query = \"SITE==1 or SITE==2\"\n",
    "    else:\n",
    "        query = f'SITE=={key}'\n",
    "\n",
    "    datasets.arrow_dataset.Dataset.from_pandas(\n",
    "        df_train.query(query), preserve_index=False\n",
    "    ).save_to_disk(output_path / f\"TTS/dfcmplt_SITE{key}_Train.arrow\")\n",
    "\n",
    "\n",
    "    datasets.arrow_dataset.Dataset.from_pandas(\n",
    "        df_test.query(query), preserve_index=False\n",
    "    ).save_to_disk(output_path / f\"TTS/dfcmplt_SITE{key}_Test.arrow\")\n",
    "\n",
    "    datasets.arrow_dataset.Dataset.from_pandas(\n",
    "        df_holdout.query(query), preserve_index=False\n",
    "    ).save_to_disk(output_path / f\"TTS/dfcmplt_SITE{key}_Holdout.arrow\")\n",
    "\n",
    "\n",
    "\n",
    "    # Versions with no LongCovid cols\n",
    "    datasets.arrow_dataset.Dataset.from_pandas(\n",
    "        df_train[lColPreLC].query(query), preserve_index=False\n",
    "    ).save_to_disk(output_path / f\"TTS/dfcmpltPreLC_SITE{key}_Train.arrow\")\n",
    "\n",
    "    datasets.arrow_dataset.Dataset.from_pandas(\n",
    "        df_test[lColPreLC].query(query), preserve_index=False\n",
    "    ).save_to_disk(output_path / f\"TTS/dfcmpltPreLC_SITE{key}_Test.arrow\")\n",
    "\n",
    "    datasets.arrow_dataset.Dataset.from_pandas(\n",
    "        df_holdout[lColPreLC].query(query), preserve_index=False\n",
    "    ).save_to_disk(output_path / f\"TTS/dfcmpltPreLC_SITE{key}_Holdout.arrow\")\n",
    "    \n",
    "    # lColPreLC2 = remove mode of diag from prelc cols\n",
    "    datasets.arrow_dataset.Dataset.from_pandas(\n",
    "        df_train[lColPreLC2].query(query), preserve_index=False\n",
    "    ).save_to_disk(output_path / f\"TTS/dfcmpltPreLC2_SITE{key}_Train.arrow\")\n",
    "\n",
    "    datasets.arrow_dataset.Dataset.from_pandas(\n",
    "        df_test[lColPreLC2].query(query), preserve_index=False\n",
    "    ).save_to_disk(output_path / f\"TTS/dfcmpltPreLC2_SITE{key}_Test.arrow\")\n",
    "\n",
    "    datasets.arrow_dataset.Dataset.from_pandas(\n",
    "        df_holdout[lColPreLC2].query(query), preserve_index=False\n",
    "    ).save_to_disk(output_path / f\"TTS/dfcmpltPreLC2_SITE{key}_Holdout.arrow\")\n",
    "    \n",
    "    \n",
    "    #lColPreLC3 = remove problematic patients\n",
    "    datasets.arrow_dataset.Dataset.from_pandas(\n",
    "        df_train_LC3[lColPreLC3].query(query), preserve_index=False\n",
    "    ).save_to_disk(output_path / f\"TTS/dfcmpltPreLC3_SITE{key}_Train.arrow\")\n",
    "\n",
    "    datasets.arrow_dataset.Dataset.from_pandas(\n",
    "        df_test_LC3[lColPreLC3].query(query), preserve_index=False\n",
    "    ).save_to_disk(output_path / f\"TTS/dfcmpltPreLC3_SITE{key}_Test.arrow\")\n",
    "\n",
    "    datasets.arrow_dataset.Dataset.from_pandas(\n",
    "        df_holdout_LC3[lColPreLC3].query(query), preserve_index=False\n",
    "    ).save_to_disk(output_path / f\"TTS/dfcmpltPreLC3_SITE{key}_Holdout.arrow\")\n",
    "    \n",
    "    #lColPreLC3 = remove severity variable\n",
    "    datasets.arrow_dataset.Dataset.from_pandas(\n",
    "        df_train_LC4.query(query), preserve_index=False\n",
    "    ).save_to_disk(output_path / f\"TTS/dfcmpltPreLC4_SITE{key}_Train.arrow\")\n",
    "\n",
    "    datasets.arrow_dataset.Dataset.from_pandas(\n",
    "        df_test_LC4.query(query), preserve_index=False\n",
    "    ).save_to_disk(output_path / f\"TTS/dfcmpltPreLC4_SITE{key}_Test.arrow\")\n",
    "\n",
    "    datasets.arrow_dataset.Dataset.from_pandas(\n",
    "        df_holdout_LC4.query(query), preserve_index=False\n",
    "    ).save_to_disk(output_path / f\"TTS/dfcmpltPreLC4_SITE{key}_Holdout.arrow\")"
   ]
  },
  {
   "cell_type": "code",
   "execution_count": null,
   "metadata": {},
   "outputs": [],
   "source": []
  },
  {
   "cell_type": "markdown",
   "metadata": {},
   "source": [
    "# ---- BELOW ARCHIVED April 30 \n",
    "- based on changes made with filling in data with missing values and assusmptions\n",
    "- Confirmed by emails to team on april 28 and 29\n"
   ]
  },
  {
   "cell_type": "markdown",
   "metadata": {},
   "source": [
    "## Split T81"
   ]
  },
  {
   "cell_type": "code",
   "execution_count": 19,
   "metadata": {},
   "outputs": [],
   "source": [
    "# Create combined variable to stratify on both LC_STATUS and SITE\n",
    "df81[\"LC_STATUS_SITE\"] = df81[\"LC_STATUS\"] + \"_\" + df81[\"SITE\"].astype(str)\n",
    "\n",
    "df_train81, df_test81, df_holdout81 = straify_train_test_holdout(df81, 'LC_STATUS', 'LC_STATUS_SITE', test_size = 0.2, holdout_size = 0.2, random_state = 42)"
   ]
  },
  {
   "cell_type": "markdown",
   "metadata": {},
   "source": [
    "Verfiy stratification accurate"
   ]
  },
  {
   "cell_type": "code",
   "execution_count": 20,
   "metadata": {},
   "outputs": [
    {
     "data": {
      "text/html": [
       "<div>\n",
       "<style scoped>\n",
       "    .dataframe tbody tr th:only-of-type {\n",
       "        vertical-align: middle;\n",
       "    }\n",
       "\n",
       "    .dataframe tbody tr th {\n",
       "        vertical-align: top;\n",
       "    }\n",
       "\n",
       "    .dataframe thead th {\n",
       "        text-align: right;\n",
       "    }\n",
       "</style>\n",
       "<table border=\"1\" class=\"dataframe\">\n",
       "  <thead>\n",
       "    <tr style=\"text-align: right;\">\n",
       "      <th>SITE</th>\n",
       "      <th>1</th>\n",
       "      <th>2</th>\n",
       "      <th>3</th>\n",
       "      <th>4</th>\n",
       "      <th>5</th>\n",
       "    </tr>\n",
       "    <tr>\n",
       "      <th>LC_STATUS</th>\n",
       "      <th></th>\n",
       "      <th></th>\n",
       "      <th></th>\n",
       "      <th></th>\n",
       "      <th></th>\n",
       "    </tr>\n",
       "  </thead>\n",
       "  <tbody>\n",
       "    <tr>\n",
       "      <th>HC</th>\n",
       "      <td>0.133803</td>\n",
       "      <td>0.000000</td>\n",
       "      <td>0.009756</td>\n",
       "      <td>0.0125</td>\n",
       "      <td>0.068966</td>\n",
       "    </tr>\n",
       "    <tr>\n",
       "      <th>LC_NEG</th>\n",
       "      <td>0.725352</td>\n",
       "      <td>0.685355</td>\n",
       "      <td>0.209756</td>\n",
       "      <td>0.0125</td>\n",
       "      <td>0.557994</td>\n",
       "    </tr>\n",
       "    <tr>\n",
       "      <th>LC_POS</th>\n",
       "      <td>0.140845</td>\n",
       "      <td>0.314645</td>\n",
       "      <td>0.780488</td>\n",
       "      <td>0.9750</td>\n",
       "      <td>0.373041</td>\n",
       "    </tr>\n",
       "  </tbody>\n",
       "</table>\n",
       "</div>"
      ],
      "text/plain": [
       "SITE              1         2         3       4         5\n",
       "LC_STATUS                                                \n",
       "HC         0.133803  0.000000  0.009756  0.0125  0.068966\n",
       "LC_NEG     0.725352  0.685355  0.209756  0.0125  0.557994\n",
       "LC_POS     0.140845  0.314645  0.780488  0.9750  0.373041"
      ]
     },
     "execution_count": 20,
     "metadata": {},
     "output_type": "execute_result"
    }
   ],
   "source": [
    "pd.crosstab(df_train81[\"LC_STATUS\"], df_train81[\"SITE\"], normalize=\"columns\")"
   ]
  },
  {
   "cell_type": "code",
   "execution_count": 21,
   "metadata": {},
   "outputs": [
    {
     "data": {
      "text/html": [
       "<div>\n",
       "<style scoped>\n",
       "    .dataframe tbody tr th:only-of-type {\n",
       "        vertical-align: middle;\n",
       "    }\n",
       "\n",
       "    .dataframe tbody tr th {\n",
       "        vertical-align: top;\n",
       "    }\n",
       "\n",
       "    .dataframe thead th {\n",
       "        text-align: right;\n",
       "    }\n",
       "</style>\n",
       "<table border=\"1\" class=\"dataframe\">\n",
       "  <thead>\n",
       "    <tr style=\"text-align: right;\">\n",
       "      <th>SITE</th>\n",
       "      <th>1</th>\n",
       "      <th>2</th>\n",
       "      <th>3</th>\n",
       "      <th>4</th>\n",
       "      <th>5</th>\n",
       "    </tr>\n",
       "    <tr>\n",
       "      <th>LC_STATUS</th>\n",
       "      <th></th>\n",
       "      <th></th>\n",
       "      <th></th>\n",
       "      <th></th>\n",
       "      <th></th>\n",
       "    </tr>\n",
       "  </thead>\n",
       "  <tbody>\n",
       "    <tr>\n",
       "      <th>HC</th>\n",
       "      <td>0.145833</td>\n",
       "      <td>0.000000</td>\n",
       "      <td>0.000000</td>\n",
       "      <td>0.015038</td>\n",
       "      <td>0.074074</td>\n",
       "    </tr>\n",
       "    <tr>\n",
       "      <th>LC_NEG</th>\n",
       "      <td>0.729167</td>\n",
       "      <td>0.685567</td>\n",
       "      <td>0.208955</td>\n",
       "      <td>0.007519</td>\n",
       "      <td>0.555556</td>\n",
       "    </tr>\n",
       "    <tr>\n",
       "      <th>LC_POS</th>\n",
       "      <td>0.125000</td>\n",
       "      <td>0.314433</td>\n",
       "      <td>0.791045</td>\n",
       "      <td>0.977444</td>\n",
       "      <td>0.370370</td>\n",
       "    </tr>\n",
       "  </tbody>\n",
       "</table>\n",
       "</div>"
      ],
      "text/plain": [
       "SITE              1         2         3         4         5\n",
       "LC_STATUS                                                  \n",
       "HC         0.145833  0.000000  0.000000  0.015038  0.074074\n",
       "LC_NEG     0.729167  0.685567  0.208955  0.007519  0.555556\n",
       "LC_POS     0.125000  0.314433  0.791045  0.977444  0.370370"
      ]
     },
     "execution_count": 21,
     "metadata": {},
     "output_type": "execute_result"
    }
   ],
   "source": [
    "pd.crosstab(df_test81[\"LC_STATUS\"], df_test81[\"SITE\"], normalize=\"columns\")"
   ]
  },
  {
   "cell_type": "code",
   "execution_count": 22,
   "metadata": {},
   "outputs": [
    {
     "data": {
      "text/html": [
       "<div>\n",
       "<style scoped>\n",
       "    .dataframe tbody tr th:only-of-type {\n",
       "        vertical-align: middle;\n",
       "    }\n",
       "\n",
       "    .dataframe tbody tr th {\n",
       "        vertical-align: top;\n",
       "    }\n",
       "\n",
       "    .dataframe thead th {\n",
       "        text-align: right;\n",
       "    }\n",
       "</style>\n",
       "<table border=\"1\" class=\"dataframe\">\n",
       "  <thead>\n",
       "    <tr style=\"text-align: right;\">\n",
       "      <th>SITE</th>\n",
       "      <th>1</th>\n",
       "      <th>2</th>\n",
       "      <th>3</th>\n",
       "      <th>4</th>\n",
       "      <th>5</th>\n",
       "    </tr>\n",
       "    <tr>\n",
       "      <th>LC_STATUS</th>\n",
       "      <th></th>\n",
       "      <th></th>\n",
       "      <th></th>\n",
       "      <th></th>\n",
       "      <th></th>\n",
       "    </tr>\n",
       "  </thead>\n",
       "  <tbody>\n",
       "    <tr>\n",
       "      <th>HC</th>\n",
       "      <td>0.127660</td>\n",
       "      <td>0.000000</td>\n",
       "      <td>0.014706</td>\n",
       "      <td>0.015038</td>\n",
       "      <td>0.074074</td>\n",
       "    </tr>\n",
       "    <tr>\n",
       "      <th>LC_NEG</th>\n",
       "      <td>0.723404</td>\n",
       "      <td>0.686106</td>\n",
       "      <td>0.205882</td>\n",
       "      <td>0.007519</td>\n",
       "      <td>0.555556</td>\n",
       "    </tr>\n",
       "    <tr>\n",
       "      <th>LC_POS</th>\n",
       "      <td>0.148936</td>\n",
       "      <td>0.313894</td>\n",
       "      <td>0.779412</td>\n",
       "      <td>0.977444</td>\n",
       "      <td>0.370370</td>\n",
       "    </tr>\n",
       "  </tbody>\n",
       "</table>\n",
       "</div>"
      ],
      "text/plain": [
       "SITE              1         2         3         4         5\n",
       "LC_STATUS                                                  \n",
       "HC         0.127660  0.000000  0.014706  0.015038  0.074074\n",
       "LC_NEG     0.723404  0.686106  0.205882  0.007519  0.555556\n",
       "LC_POS     0.148936  0.313894  0.779412  0.977444  0.370370"
      ]
     },
     "execution_count": 22,
     "metadata": {},
     "output_type": "execute_result"
    }
   ],
   "source": [
    "pd.crosstab(df_holdout81[\"LC_STATUS\"], df_holdout81[\"SITE\"], normalize=\"columns\")"
   ]
  },
  {
   "cell_type": "markdown",
   "metadata": {},
   "source": [
    "## Split T85"
   ]
  },
  {
   "cell_type": "code",
   "execution_count": 23,
   "metadata": {},
   "outputs": [],
   "source": [
    "# Create combined variable to stratify on both LC_STATUS and SITE\n",
    "df85[\"LC_STATUS_SITE\"] = df85[\"LC_STATUS\"] + \"_\" + df85[\"SITE\"].astype(str)\n",
    "\n",
    "df_train85, df_test85, df_holdout85 = straify_train_test_holdout(df85, 'LC_STATUS', 'LC_STATUS_SITE', test_size = 0.2, holdout_size = 0.2, random_state = 42)"
   ]
  },
  {
   "cell_type": "markdown",
   "metadata": {},
   "source": [
    "Verfiy stratification accurate"
   ]
  },
  {
   "cell_type": "code",
   "execution_count": 24,
   "metadata": {},
   "outputs": [
    {
     "data": {
      "text/html": [
       "<div>\n",
       "<style scoped>\n",
       "    .dataframe tbody tr th:only-of-type {\n",
       "        vertical-align: middle;\n",
       "    }\n",
       "\n",
       "    .dataframe tbody tr th {\n",
       "        vertical-align: top;\n",
       "    }\n",
       "\n",
       "    .dataframe thead th {\n",
       "        text-align: right;\n",
       "    }\n",
       "</style>\n",
       "<table border=\"1\" class=\"dataframe\">\n",
       "  <thead>\n",
       "    <tr style=\"text-align: right;\">\n",
       "      <th>SITE</th>\n",
       "      <th>1</th>\n",
       "      <th>2</th>\n",
       "      <th>3</th>\n",
       "      <th>4</th>\n",
       "      <th>5</th>\n",
       "    </tr>\n",
       "    <tr>\n",
       "      <th>LC_STATUS</th>\n",
       "      <th></th>\n",
       "      <th></th>\n",
       "      <th></th>\n",
       "      <th></th>\n",
       "      <th></th>\n",
       "    </tr>\n",
       "  </thead>\n",
       "  <tbody>\n",
       "    <tr>\n",
       "      <th>HC</th>\n",
       "      <td>0.134752</td>\n",
       "      <td>0.000000</td>\n",
       "      <td>0.009756</td>\n",
       "      <td>0.0125</td>\n",
       "      <td>0.029610</td>\n",
       "    </tr>\n",
       "    <tr>\n",
       "      <th>LC_NEG</th>\n",
       "      <td>0.730496</td>\n",
       "      <td>0.685355</td>\n",
       "      <td>0.209756</td>\n",
       "      <td>0.0125</td>\n",
       "      <td>0.753701</td>\n",
       "    </tr>\n",
       "    <tr>\n",
       "      <th>LC_POS</th>\n",
       "      <td>0.134752</td>\n",
       "      <td>0.314645</td>\n",
       "      <td>0.780488</td>\n",
       "      <td>0.9750</td>\n",
       "      <td>0.216689</td>\n",
       "    </tr>\n",
       "  </tbody>\n",
       "</table>\n",
       "</div>"
      ],
      "text/plain": [
       "SITE              1         2         3       4         5\n",
       "LC_STATUS                                                \n",
       "HC         0.134752  0.000000  0.009756  0.0125  0.029610\n",
       "LC_NEG     0.730496  0.685355  0.209756  0.0125  0.753701\n",
       "LC_POS     0.134752  0.314645  0.780488  0.9750  0.216689"
      ]
     },
     "execution_count": 24,
     "metadata": {},
     "output_type": "execute_result"
    }
   ],
   "source": [
    "pd.crosstab(df_train85[\"LC_STATUS\"], df_train85[\"SITE\"], normalize=\"columns\")"
   ]
  },
  {
   "cell_type": "code",
   "execution_count": 25,
   "metadata": {},
   "outputs": [
    {
     "data": {
      "text/html": [
       "<div>\n",
       "<style scoped>\n",
       "    .dataframe tbody tr th:only-of-type {\n",
       "        vertical-align: middle;\n",
       "    }\n",
       "\n",
       "    .dataframe tbody tr th {\n",
       "        vertical-align: top;\n",
       "    }\n",
       "\n",
       "    .dataframe thead th {\n",
       "        text-align: right;\n",
       "    }\n",
       "</style>\n",
       "<table border=\"1\" class=\"dataframe\">\n",
       "  <thead>\n",
       "    <tr style=\"text-align: right;\">\n",
       "      <th>SITE</th>\n",
       "      <th>1</th>\n",
       "      <th>2</th>\n",
       "      <th>3</th>\n",
       "      <th>4</th>\n",
       "      <th>5</th>\n",
       "    </tr>\n",
       "    <tr>\n",
       "      <th>LC_STATUS</th>\n",
       "      <th></th>\n",
       "      <th></th>\n",
       "      <th></th>\n",
       "      <th></th>\n",
       "      <th></th>\n",
       "    </tr>\n",
       "  </thead>\n",
       "  <tbody>\n",
       "    <tr>\n",
       "      <th>HC</th>\n",
       "      <td>0.142857</td>\n",
       "      <td>0.000000</td>\n",
       "      <td>0.000000</td>\n",
       "      <td>0.015038</td>\n",
       "      <td>0.032258</td>\n",
       "    </tr>\n",
       "    <tr>\n",
       "      <th>LC_NEG</th>\n",
       "      <td>0.714286</td>\n",
       "      <td>0.685567</td>\n",
       "      <td>0.208955</td>\n",
       "      <td>0.007519</td>\n",
       "      <td>0.754032</td>\n",
       "    </tr>\n",
       "    <tr>\n",
       "      <th>LC_POS</th>\n",
       "      <td>0.142857</td>\n",
       "      <td>0.314433</td>\n",
       "      <td>0.791045</td>\n",
       "      <td>0.977444</td>\n",
       "      <td>0.213710</td>\n",
       "    </tr>\n",
       "  </tbody>\n",
       "</table>\n",
       "</div>"
      ],
      "text/plain": [
       "SITE              1         2         3         4         5\n",
       "LC_STATUS                                                  \n",
       "HC         0.142857  0.000000  0.000000  0.015038  0.032258\n",
       "LC_NEG     0.714286  0.685567  0.208955  0.007519  0.754032\n",
       "LC_POS     0.142857  0.314433  0.791045  0.977444  0.213710"
      ]
     },
     "execution_count": 25,
     "metadata": {},
     "output_type": "execute_result"
    }
   ],
   "source": [
    "pd.crosstab(df_test85[\"LC_STATUS\"], df_test85[\"SITE\"], normalize=\"columns\")"
   ]
  },
  {
   "cell_type": "code",
   "execution_count": 26,
   "metadata": {},
   "outputs": [
    {
     "data": {
      "text/html": [
       "<div>\n",
       "<style scoped>\n",
       "    .dataframe tbody tr th:only-of-type {\n",
       "        vertical-align: middle;\n",
       "    }\n",
       "\n",
       "    .dataframe tbody tr th {\n",
       "        vertical-align: top;\n",
       "    }\n",
       "\n",
       "    .dataframe thead th {\n",
       "        text-align: right;\n",
       "    }\n",
       "</style>\n",
       "<table border=\"1\" class=\"dataframe\">\n",
       "  <thead>\n",
       "    <tr style=\"text-align: right;\">\n",
       "      <th>SITE</th>\n",
       "      <th>1</th>\n",
       "      <th>2</th>\n",
       "      <th>3</th>\n",
       "      <th>4</th>\n",
       "      <th>5</th>\n",
       "    </tr>\n",
       "    <tr>\n",
       "      <th>LC_STATUS</th>\n",
       "      <th></th>\n",
       "      <th></th>\n",
       "      <th></th>\n",
       "      <th></th>\n",
       "      <th></th>\n",
       "    </tr>\n",
       "  </thead>\n",
       "  <tbody>\n",
       "    <tr>\n",
       "      <th>HC</th>\n",
       "      <td>0.127660</td>\n",
       "      <td>0.000000</td>\n",
       "      <td>0.014706</td>\n",
       "      <td>0.015038</td>\n",
       "      <td>0.032129</td>\n",
       "    </tr>\n",
       "    <tr>\n",
       "      <th>LC_NEG</th>\n",
       "      <td>0.723404</td>\n",
       "      <td>0.686106</td>\n",
       "      <td>0.205882</td>\n",
       "      <td>0.007519</td>\n",
       "      <td>0.751004</td>\n",
       "    </tr>\n",
       "    <tr>\n",
       "      <th>LC_POS</th>\n",
       "      <td>0.148936</td>\n",
       "      <td>0.313894</td>\n",
       "      <td>0.779412</td>\n",
       "      <td>0.977444</td>\n",
       "      <td>0.216867</td>\n",
       "    </tr>\n",
       "  </tbody>\n",
       "</table>\n",
       "</div>"
      ],
      "text/plain": [
       "SITE              1         2         3         4         5\n",
       "LC_STATUS                                                  \n",
       "HC         0.127660  0.000000  0.014706  0.015038  0.032129\n",
       "LC_NEG     0.723404  0.686106  0.205882  0.007519  0.751004\n",
       "LC_POS     0.148936  0.313894  0.779412  0.977444  0.216867"
      ]
     },
     "execution_count": 26,
     "metadata": {},
     "output_type": "execute_result"
    }
   ],
   "source": [
    "pd.crosstab(df_holdout85[\"LC_STATUS\"], df_holdout85[\"SITE\"], normalize=\"columns\")"
   ]
  },
  {
   "cell_type": "markdown",
   "metadata": {},
   "source": [
    "## Split DT"
   ]
  },
  {
   "cell_type": "code",
   "execution_count": 29,
   "metadata": {},
   "outputs": [],
   "source": [
    "# Create combined variable to stratify on both LC_STATUS and SITE\n",
    "dfDT[\"LC_STATUS_SITE\"] = dfDT[\"LC_STATUS\"] + \"_\" + dfDT[\"SITE\"].astype(str)\n",
    "\n",
    "df_trainDT, df_testDT, df_holdoutDT = straify_train_test_holdout(dfDT, 'LC_STATUS', 'LC_STATUS_SITE', test_size = 0.2, holdout_size = 0.2, random_state = 42)"
   ]
  },
  {
   "cell_type": "markdown",
   "metadata": {},
   "source": [
    "Verfiy stratification accurate"
   ]
  },
  {
   "cell_type": "code",
   "execution_count": null,
   "metadata": {},
   "outputs": [
    {
     "data": {
      "text/html": [
       "<div>\n",
       "<style scoped>\n",
       "    .dataframe tbody tr th:only-of-type {\n",
       "        vertical-align: middle;\n",
       "    }\n",
       "\n",
       "    .dataframe tbody tr th {\n",
       "        vertical-align: top;\n",
       "    }\n",
       "\n",
       "    .dataframe thead th {\n",
       "        text-align: right;\n",
       "    }\n",
       "</style>\n",
       "<table border=\"1\" class=\"dataframe\">\n",
       "  <thead>\n",
       "    <tr style=\"text-align: right;\">\n",
       "      <th>SITE</th>\n",
       "      <th>1</th>\n",
       "      <th>2</th>\n",
       "      <th>3</th>\n",
       "      <th>4</th>\n",
       "      <th>5</th>\n",
       "    </tr>\n",
       "    <tr>\n",
       "      <th>LC_STATUS</th>\n",
       "      <th></th>\n",
       "      <th></th>\n",
       "      <th></th>\n",
       "      <th></th>\n",
       "      <th></th>\n",
       "    </tr>\n",
       "  </thead>\n",
       "  <tbody>\n",
       "    <tr>\n",
       "      <th>HC</th>\n",
       "      <td>0.134752</td>\n",
       "      <td>0.000000</td>\n",
       "      <td>0.009756</td>\n",
       "      <td>0.0125</td>\n",
       "      <td>0.029610</td>\n",
       "    </tr>\n",
       "    <tr>\n",
       "      <th>LC_NEG</th>\n",
       "      <td>0.730496</td>\n",
       "      <td>0.685355</td>\n",
       "      <td>0.209756</td>\n",
       "      <td>0.0125</td>\n",
       "      <td>0.753701</td>\n",
       "    </tr>\n",
       "    <tr>\n",
       "      <th>LC_POS</th>\n",
       "      <td>0.134752</td>\n",
       "      <td>0.314645</td>\n",
       "      <td>0.780488</td>\n",
       "      <td>0.9750</td>\n",
       "      <td>0.216689</td>\n",
       "    </tr>\n",
       "  </tbody>\n",
       "</table>\n",
       "</div>"
      ],
      "text/plain": [
       "SITE              1         2         3       4         5\n",
       "LC_STATUS                                                \n",
       "HC         0.134752  0.000000  0.009756  0.0125  0.029610\n",
       "LC_NEG     0.730496  0.685355  0.209756  0.0125  0.753701\n",
       "LC_POS     0.134752  0.314645  0.780488  0.9750  0.216689"
      ]
     },
     "metadata": {},
     "output_type": "display_data"
    }
   ],
   "source": [
    "pd.crosstab(df_trainDT[\"LC_STATUS\"], df_trainDT[\"SITE\"], normalize=\"columns\")"
   ]
  },
  {
   "cell_type": "code",
   "execution_count": 30,
   "metadata": {},
   "outputs": [
    {
     "data": {
      "text/html": [
       "<div>\n",
       "<style scoped>\n",
       "    .dataframe tbody tr th:only-of-type {\n",
       "        vertical-align: middle;\n",
       "    }\n",
       "\n",
       "    .dataframe tbody tr th {\n",
       "        vertical-align: top;\n",
       "    }\n",
       "\n",
       "    .dataframe thead th {\n",
       "        text-align: right;\n",
       "    }\n",
       "</style>\n",
       "<table border=\"1\" class=\"dataframe\">\n",
       "  <thead>\n",
       "    <tr style=\"text-align: right;\">\n",
       "      <th>SITE</th>\n",
       "      <th>1</th>\n",
       "      <th>2</th>\n",
       "      <th>3</th>\n",
       "      <th>4</th>\n",
       "      <th>5</th>\n",
       "    </tr>\n",
       "    <tr>\n",
       "      <th>LC_STATUS</th>\n",
       "      <th></th>\n",
       "      <th></th>\n",
       "      <th></th>\n",
       "      <th></th>\n",
       "      <th></th>\n",
       "    </tr>\n",
       "  </thead>\n",
       "  <tbody>\n",
       "    <tr>\n",
       "      <th>HC</th>\n",
       "      <td>0.176471</td>\n",
       "      <td>0.000000</td>\n",
       "      <td>0.00000</td>\n",
       "      <td>0.014925</td>\n",
       "      <td>0.875</td>\n",
       "    </tr>\n",
       "    <tr>\n",
       "      <th>LC_NEG</th>\n",
       "      <td>0.470588</td>\n",
       "      <td>0.683478</td>\n",
       "      <td>0.19697</td>\n",
       "      <td>0.014925</td>\n",
       "      <td>0.125</td>\n",
       "    </tr>\n",
       "    <tr>\n",
       "      <th>LC_POS</th>\n",
       "      <td>0.352941</td>\n",
       "      <td>0.316522</td>\n",
       "      <td>0.80303</td>\n",
       "      <td>0.970149</td>\n",
       "      <td>0.000</td>\n",
       "    </tr>\n",
       "  </tbody>\n",
       "</table>\n",
       "</div>"
      ],
      "text/plain": [
       "SITE              1         2        3         4      5\n",
       "LC_STATUS                                              \n",
       "HC         0.176471  0.000000  0.00000  0.014925  0.875\n",
       "LC_NEG     0.470588  0.683478  0.19697  0.014925  0.125\n",
       "LC_POS     0.352941  0.316522  0.80303  0.970149  0.000"
      ]
     },
     "execution_count": 30,
     "metadata": {},
     "output_type": "execute_result"
    }
   ],
   "source": [
    "pd.crosstab(df_testDT[\"LC_STATUS\"], df_testDT[\"SITE\"], normalize=\"columns\")"
   ]
  },
  {
   "cell_type": "code",
   "execution_count": 31,
   "metadata": {},
   "outputs": [
    {
     "data": {
      "text/html": [
       "<div>\n",
       "<style scoped>\n",
       "    .dataframe tbody tr th:only-of-type {\n",
       "        vertical-align: middle;\n",
       "    }\n",
       "\n",
       "    .dataframe tbody tr th {\n",
       "        vertical-align: top;\n",
       "    }\n",
       "\n",
       "    .dataframe thead th {\n",
       "        text-align: right;\n",
       "    }\n",
       "</style>\n",
       "<table border=\"1\" class=\"dataframe\">\n",
       "  <thead>\n",
       "    <tr style=\"text-align: right;\">\n",
       "      <th>SITE</th>\n",
       "      <th>1</th>\n",
       "      <th>2</th>\n",
       "      <th>3</th>\n",
       "      <th>4</th>\n",
       "      <th>5</th>\n",
       "    </tr>\n",
       "    <tr>\n",
       "      <th>LC_STATUS</th>\n",
       "      <th></th>\n",
       "      <th></th>\n",
       "      <th></th>\n",
       "      <th></th>\n",
       "      <th></th>\n",
       "    </tr>\n",
       "  </thead>\n",
       "  <tbody>\n",
       "    <tr>\n",
       "      <th>HC</th>\n",
       "      <td>0.176471</td>\n",
       "      <td>0.000000</td>\n",
       "      <td>0.00000</td>\n",
       "      <td>0.015038</td>\n",
       "      <td>0.8</td>\n",
       "    </tr>\n",
       "    <tr>\n",
       "      <th>LC_NEG</th>\n",
       "      <td>0.470588</td>\n",
       "      <td>0.682927</td>\n",
       "      <td>0.19697</td>\n",
       "      <td>0.007519</td>\n",
       "      <td>0.1</td>\n",
       "    </tr>\n",
       "    <tr>\n",
       "      <th>LC_POS</th>\n",
       "      <td>0.352941</td>\n",
       "      <td>0.317073</td>\n",
       "      <td>0.80303</td>\n",
       "      <td>0.977444</td>\n",
       "      <td>0.1</td>\n",
       "    </tr>\n",
       "  </tbody>\n",
       "</table>\n",
       "</div>"
      ],
      "text/plain": [
       "SITE              1         2        3         4    5\n",
       "LC_STATUS                                            \n",
       "HC         0.176471  0.000000  0.00000  0.015038  0.8\n",
       "LC_NEG     0.470588  0.682927  0.19697  0.007519  0.1\n",
       "LC_POS     0.352941  0.317073  0.80303  0.977444  0.1"
      ]
     },
     "execution_count": 31,
     "metadata": {},
     "output_type": "execute_result"
    }
   ],
   "source": [
    "pd.crosstab(df_holdoutDT[\"LC_STATUS\"], df_holdoutDT[\"SITE\"], normalize=\"columns\")"
   ]
  },
  {
   "cell_type": "markdown",
   "metadata": {},
   "source": [
    "## Export"
   ]
  },
  {
   "cell_type": "code",
   "execution_count": 33,
   "metadata": {},
   "outputs": [
    {
     "data": {
      "application/vnd.jupyter.widget-view+json": {
       "model_id": "440bf1ff96884ae9a65f763ba71078ad",
       "version_major": 2,
       "version_minor": 0
      },
      "text/plain": [
       "Saving the dataset (0/1 shards):   0%|          | 0/2814 [00:00<?, ? examples/s]"
      ]
     },
     "metadata": {},
     "output_type": "display_data"
    },
    {
     "data": {
      "application/vnd.jupyter.widget-view+json": {
       "model_id": "3aac83980baa456c92d890aad7fe9855",
       "version_major": 2,
       "version_minor": 0
      },
      "text/plain": [
       "Saving the dataset (0/1 shards):   0%|          | 0/938 [00:00<?, ? examples/s]"
      ]
     },
     "metadata": {},
     "output_type": "display_data"
    },
    {
     "data": {
      "application/vnd.jupyter.widget-view+json": {
       "model_id": "d1a65d7b12534c0d99f77bf980226976",
       "version_major": 2,
       "version_minor": 0
      },
      "text/plain": [
       "Saving the dataset (0/1 shards):   0%|          | 0/939 [00:00<?, ? examples/s]"
      ]
     },
     "metadata": {},
     "output_type": "display_data"
    }
   ],
   "source": [
    "datasets.arrow_dataset.Dataset.from_pandas(df_train81,preserve_index=False).save_to_disk(\n",
    "    \"../Data/DataV2/TTS/T81_Train.arrow\"\n",
    ")\n",
    "datasets.arrow_dataset.Dataset.from_pandas(df_test81,preserve_index=False).save_to_disk(\n",
    "    \"../Data/DataV2/TTS/T81_Test.arrow\"\n",
    ")\n",
    "datasets.arrow_dataset.Dataset.from_pandas(df_holdout81,preserve_index=False).save_to_disk(\n",
    "    \"../Data/DataV2/TTS/T81_Holdout.arrow\"\n",
    ")"
   ]
  },
  {
   "cell_type": "code",
   "execution_count": 34,
   "metadata": {},
   "outputs": [
    {
     "data": {
      "application/vnd.jupyter.widget-view+json": {
       "model_id": "29541f7e966f4452b73a7c4216e3c2c3",
       "version_major": 2,
       "version_minor": 0
      },
      "text/plain": [
       "Saving the dataset (0/1 shards):   0%|          | 0/3237 [00:00<?, ? examples/s]"
      ]
     },
     "metadata": {},
     "output_type": "display_data"
    },
    {
     "data": {
      "application/vnd.jupyter.widget-view+json": {
       "model_id": "4875957f11d04151bec3033c033f5ad9",
       "version_major": 2,
       "version_minor": 0
      },
      "text/plain": [
       "Saving the dataset (0/1 shards):   0%|          | 0/1079 [00:00<?, ? examples/s]"
      ]
     },
     "metadata": {},
     "output_type": "display_data"
    },
    {
     "data": {
      "application/vnd.jupyter.widget-view+json": {
       "model_id": "202dbbe8ef58410da323ea77158e1e40",
       "version_major": 2,
       "version_minor": 0
      },
      "text/plain": [
       "Saving the dataset (0/1 shards):   0%|          | 0/1080 [00:00<?, ? examples/s]"
      ]
     },
     "metadata": {},
     "output_type": "display_data"
    }
   ],
   "source": [
    "datasets.arrow_dataset.Dataset.from_pandas(\n",
    "    df_train85, preserve_index=False\n",
    ").save_to_disk(\"../Data/DataV2/TTS/T85_Train.arrow\")\n",
    "datasets.arrow_dataset.Dataset.from_pandas(\n",
    "    df_test85, preserve_index=False\n",
    ").save_to_disk(\"../Data/DataV2/TTS/T85_Test.arrow\")\n",
    "datasets.arrow_dataset.Dataset.from_pandas(\n",
    "    df_holdout85, preserve_index=False\n",
    ").save_to_disk(\"../Data/DataV2/TTS/T85_Holdout.arrow\")"
   ]
  },
  {
   "cell_type": "code",
   "execution_count": 35,
   "metadata": {},
   "outputs": [
    {
     "data": {
      "application/vnd.jupyter.widget-view+json": {
       "model_id": "890093aed46c4bb5a7c0d379919d1e9f",
       "version_major": 2,
       "version_minor": 0
      },
      "text/plain": [
       "Saving the dataset (0/1 shards):   0%|          | 0/2400 [00:00<?, ? examples/s]"
      ]
     },
     "metadata": {},
     "output_type": "display_data"
    },
    {
     "data": {
      "application/vnd.jupyter.widget-view+json": {
       "model_id": "2097eb9f74fa483b9588b77cf7a41a49",
       "version_major": 2,
       "version_minor": 0
      },
      "text/plain": [
       "Saving the dataset (0/1 shards):   0%|          | 0/800 [00:00<?, ? examples/s]"
      ]
     },
     "metadata": {},
     "output_type": "display_data"
    },
    {
     "data": {
      "application/vnd.jupyter.widget-view+json": {
       "model_id": "e9a79adc6d8e45888dbaf8fa75c1db60",
       "version_major": 2,
       "version_minor": 0
      },
      "text/plain": [
       "Saving the dataset (0/1 shards):   0%|          | 0/800 [00:00<?, ? examples/s]"
      ]
     },
     "metadata": {},
     "output_type": "display_data"
    }
   ],
   "source": [
    "datasets.arrow_dataset.Dataset.from_pandas(\n",
    "    df_trainDT, preserve_index=False\n",
    ").save_to_disk(\"../Data/DataV2/TTS/DT_Train.arrow\")\n",
    "datasets.arrow_dataset.Dataset.from_pandas(\n",
    "    df_testDT, preserve_index=False\n",
    ").save_to_disk(\"../Data/DataV2/TTS/DT_Test.arrow\")\n",
    "datasets.arrow_dataset.Dataset.from_pandas(\n",
    "    df_holdoutDT, preserve_index=False\n",
    ").save_to_disk(\"../Data/DataV2/TTS/DT_Holdout.arrow\")"
   ]
  }
 ],
 "metadata": {
  "kernelspec": {
   "display_name": "R2024_LCO",
   "language": "python",
   "name": "python3"
  },
  "language_info": {
   "codemirror_mode": {
    "name": "ipython",
    "version": 3
   },
   "file_extension": ".py",
   "mimetype": "text/x-python",
   "name": "python",
   "nbconvert_exporter": "python",
   "pygments_lexer": "ipython3",
   "version": "3.11.8"
  }
 },
 "nbformat": 4,
 "nbformat_minor": 2
}
