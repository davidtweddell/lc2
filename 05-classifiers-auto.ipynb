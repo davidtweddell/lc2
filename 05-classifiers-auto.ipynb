{
 "cells": [
  {
   "cell_type": "code",
   "execution_count": 1,
   "metadata": {},
   "outputs": [],
   "source": [
    "# reload magics\n",
    "%load_ext autoreload\n",
    "%autoreload 2\n",
    "\n",
    "import pandas as pd\n",
    "import numpy as np\n",
    "import matplotlib.pyplot as plt\n",
    "import seaborn as sns\n",
    "import datasets\n",
    "from project_modules.io import load_dataset_to_df\n",
    "from project_modules.classifcation import classify_MP,getXY, boruta_fs\n",
    "from project_modules.utils import MPutils\n",
    "from sklearn.ensemble import RandomForestClassifier\n",
    "import multiprocessing\n",
    "from sklearn.model_selection import cross_val_score\n",
    "import cupy as cp\n",
    "from datetime import datetime\n",
    "\n",
    "from tqdm.notebook import tqdm\n",
    "\n",
    "# from project_modules.utils import get_logger\n",
    "# logger = get_logger(\"log-data-combine-split.log\")\n",
    "# # read the parameter file\n",
    "\n",
    "# from project_modules.utils import read_parameters\n",
    "# parms = read_parameters(\"/Users/david/projects/lc-project-data/project.yaml\")"
   ]
  },
  {
   "cell_type": "code",
   "execution_count": 2,
   "metadata": {},
   "outputs": [],
   "source": [
    "lScorersBinary = [\n",
    "    \"accuracy\",\n",
    "    \"balanced_accuracy\",\n",
    "    \"roc_auc\",\n",
    "    \"f1\",\n",
    "    \"recall\",\n",
    "    \"sensitivity\",\n",
    "    \"specificity\",\n",
    "    \"precision\",\n",
    "    # \"average_precision\",\n",
    "    \"NPV\",\n",
    "    \"PPV\",\n",
    "    # \"neg_mean_squared_error\",\n",
    "]\n",
    "lResCol = [\n",
    "    \"Title\",\n",
    "    \"cv\",\n",
    "    \"param_clf\",\n",
    "    \"param_clf__max_depth\",\n",
    "    \"param_clf__n_estimators\",\n",
    "    \"param_clf__random_state\",\n",
    "    # \"param_clf__max_iter\",\n",
    "    \"mean_test_accuracy\",\n",
    "    \"mean_test_balanced_accuracy\",\n",
    "    \"mean_test_roc_auc\",\n",
    "    \"mean_test_f1\",\n",
    "    \"mean_test_recall\",\n",
    "    \"mean_test_sensitivity\",\n",
    "    \"mean_test_specificity\",\n",
    "    \"mean_test_precision\",\n",
    "    \"mean_test_NPV\",\n",
    "    \"mean_test_PPV\",\n",
    "]"
   ]
  },
  {
   "cell_type": "markdown",
   "metadata": {},
   "source": [
    "# Import Data"
   ]
  },
  {
   "cell_type": "code",
   "execution_count": 3,
   "metadata": {},
   "outputs": [],
   "source": [
    "lDataNames = ['T81','T85','DT']\n",
    "dataDir = '../Data/DataV2/TTS/'"
   ]
  },
  {
   "cell_type": "code",
   "execution_count": 4,
   "metadata": {},
   "outputs": [],
   "source": [
    "# saveDir = MPutils.get_saving_dir(f\"OUTPUT/MP/05-classifiers/DataV2/{dataName}/\")\n",
    "\n",
    "\n",
    "lClassifiers = [\"RF\", \"LogR\",'XGBcpu'] # different classifiers #NOTE - XGBcpu is faster than XGBcuda for some reason?\n",
    "lCV = [5] # different cross-validation splits\n",
    "lTrees=[100,1000] #num trees\n",
    "lMD=[3,6,10,15, None] #max depth\n",
    "\n",
    "lBrt_MD = [3, 5, 7]\n",
    "brt_trees = 1000\n",
    "brt_iter = 500\n",
    "brt_thres = 100\n",
    "brt_toprank = 5\n",
    "\n",
    "\n",
    "# FIXME - BELOW CODE FOR TESTING PURPOSES\n",
    "# dataName = 'T81'\n",
    "# lClassifiers = [\n",
    "#     \"RF\",\n",
    "#     \"LogR\",\n",
    "#     \"XGBcpu\",\n",
    "# ]  # different classifiers #NOTE - XGBcpu is faster than XGBcuda for some reason?\n",
    "# lCV = [5]  # different cross-validation splits\n",
    "# lTrees = [10]  # num trees\n",
    "# lMD = [3]  # max depth\n",
    "\n",
    "# lBrt_MD = [3]\n",
    "# brt_trees=10\n",
    "# brt_iter = 10\n",
    "# brt_thres=100\n",
    "# brt_toprank=5"
   ]
  },
  {
   "cell_type": "code",
   "execution_count": 5,
   "metadata": {},
   "outputs": [
    {
     "data": {
      "application/vnd.jupyter.widget-view+json": {
       "model_id": "8c47c02340f24cda9ea7b59e87573b08",
       "version_major": 2,
       "version_minor": 0
      },
      "text/plain": [
       "DataSet Main Outer Loop:   0%|          | 0/3 [00:00<?, ?it/s]"
      ]
     },
     "metadata": {},
     "output_type": "display_data"
    },
    {
     "data": {
      "application/vnd.jupyter.widget-view+json": {
       "model_id": "7ae34a26b93d483496a3386d8dd11149",
       "version_major": 2,
       "version_minor": 0
      },
      "text/plain": [
       "Boruta MD Loop:   0%|          | 0/3 [00:00<?, ?it/s]"
      ]
     },
     "metadata": {},
     "output_type": "display_data"
    },
    {
     "data": {
      "application/vnd.jupyter.widget-view+json": {
       "model_id": "086da67799c64b22a8e7a4d60e08baa0",
       "version_major": 2,
       "version_minor": 0
      },
      "text/plain": [
       "Boruta MD Loop:   0%|          | 0/3 [00:00<?, ?it/s]"
      ]
     },
     "metadata": {},
     "output_type": "display_data"
    },
    {
     "data": {
      "application/vnd.jupyter.widget-view+json": {
       "model_id": "4e436d14da1443fdbaf6c0bbbfe246ea",
       "version_major": 2,
       "version_minor": 0
      },
      "text/plain": [
       "Boruta MD Loop:   0%|          | 0/3 [00:00<?, ?it/s]"
      ]
     },
     "metadata": {},
     "output_type": "display_data"
    }
   ],
   "source": [
    "lRunDataFrames = []\n",
    "for dataName in tqdm(lDataNames,desc='DataSet Main Outer Loop'):\n",
    "\n",
    "    df_tr = load_dataset_to_df(f\"{dataDir}{dataName}_Train.arrow\", verbose=True)\n",
    "    df_ts = load_dataset_to_df(f\"{dataDir}{dataName}_Test.arrow\", verbose=True)\n",
    "    df_h = load_dataset_to_df(f\"{dataDir}{dataName}_Holdout.arrow\", verbose=True)\n",
    "    df_full = pd.concat([df_tr,df_ts,df_h])\n",
    "    lColDrop = [\"__index_level_0__\", \"LC_STATUS_SITE\",'SITE']\n",
    "\n",
    "    for df in [df_tr,df_ts,df_h,df_full]:\n",
    "        df.drop(df[df[\"LC_STATUS\"] == \"HC\"].index, inplace=True)  # drop HC\n",
    "        df[\"LC_STATUS\"] = df[\"LC_STATUS\"].apply(\n",
    "            lambda x: 1 if x == \"LC_POS\" else 0\n",
    "        )  # Convert to 0==LCNeg, 1==LCPos\n",
    "        df.drop(columns=lColDrop, inplace=True)  # drop unneeded columns\n",
    "\n",
    "    saveDir = MPutils.get_saving_dir(\n",
    "        f\"OUTPUT/MP/05-classifiers/DataV2/{dataName}/\"\n",
    "    )\n",
    "\n",
    "    ## HOLDOUT SET ONLY\n",
    "    x_h, y_h = getXY(df_h)\n",
    "\n",
    "    dfRHold = classify_MP(\n",
    "        X=x_h,\n",
    "        y=y_h,\n",
    "        lScorers=lScorersBinary,\n",
    "        lClassifiers=lClassifiers,\n",
    "        lTrees=lTrees,\n",
    "        lMD=lMD,\n",
    "        lCV=lCV,\n",
    "    )\n",
    "    dfRHold[\"Title\"] = f\"{dataName}_Holdout\"\n",
    "\n",
    "    dfRHold.to_csv(f\"{saveDir}CA_{dataName}_Holdout.csv\", index=False)\n",
    "\n",
    "    ## Full SET ONLY\n",
    "    x_F, y_F = getXY(df_full)\n",
    "\n",
    "    dfRFull = classify_MP(\n",
    "        X=x_F,\n",
    "        y=y_F,\n",
    "        lScorers=lScorersBinary,\n",
    "        lClassifiers=lClassifiers,\n",
    "        lTrees=lTrees,\n",
    "        lMD=lMD,\n",
    "        lCV=lCV,\n",
    "    )\n",
    "    dfRFull[\"Title\"] = f\"{dataName}_Full\"\n",
    "\n",
    "    dfRFull.to_csv(f\"{saveDir}CA_{dataName}_Full.csv\", index=False)\n",
    "\n",
    "    ## BORUTA Feature Selection\n",
    "\n",
    "    x_Tr, y_Tr = getXY(df_tr)\n",
    "    for boruta_md in tqdm(lBrt_MD[:],desc='Boruta MD Loop'):\n",
    "        # run brouta = get true and top feat\n",
    "        trueFeat, topFeat = boruta_fs(\n",
    "            X=x_Tr.values,\n",
    "            y=y_Tr,\n",
    "            feat_list=x_Tr.columns,\n",
    "            trees=brt_trees,\n",
    "            ittr=brt_iter,\n",
    "            threshold=brt_thres,\n",
    "            top_rank=brt_toprank,\n",
    "            verbose=0,\n",
    "            model=RandomForestClassifier(\n",
    "                n_jobs=-1, class_weight=\"balanced\", max_depth=boruta_md, random_state=42\n",
    "            ),\n",
    "            fileName=f\"{saveDir}FS_{dataName}_Boruta_T{brt_trees}_itrr{brt_iter}_th{brt_thres}_topR{brt_toprank}_MD{boruta_md}.csv\",\n",
    "        )\n",
    "\n",
    "        ## Test Brouta Features\n",
    "        x_TsMain, y_Ts = getXY(df_ts)\n",
    "\n",
    "        x_Ts_True = x_TsMain[trueFeat]\n",
    "        x_Ts_Top = x_TsMain[topFeat]\n",
    "\n",
    "        # True Feat\n",
    "        dfR_True = classify_MP(\n",
    "            X=x_Ts_True,\n",
    "            y=y_Ts,\n",
    "            lScorers=lScorersBinary,\n",
    "            lClassifiers=lClassifiers,\n",
    "            lTrees=lTrees,\n",
    "            lMD=lMD,\n",
    "            lCV=lCV,\n",
    "        )\n",
    "        dfR_True[\"Title\"] = f\"{dataName}_Boruta_True\"\n",
    "        # Top Feat\n",
    "        dfR_Top = classify_MP(\n",
    "            X=x_Ts_Top,\n",
    "            y=y_Ts,\n",
    "            lScorers=lScorersBinary,\n",
    "            lClassifiers=lClassifiers,\n",
    "            lTrees=lTrees,\n",
    "            lMD=lMD,\n",
    "            lCV=lCV,\n",
    "        )\n",
    "\n",
    "        dfR_Top[\"Title\"] = f\"{dataName}_Boruta_Top\"\n",
    "\n",
    "        dfR_True[\"brt_md\"] = boruta_md\n",
    "        dfR_Top[\"brt_md\"] = boruta_md\n",
    "        \n",
    "        dfR_True['brt_nTrue'] = len(trueFeat)\n",
    "        dfR_True['brt_nTop'] = len(topFeat)\n",
    "        \n",
    "        dfR_Top['brt_nTrue'] = len(trueFeat)\n",
    "        dfR_Top[\"brt_nTop\"] = len(topFeat)\n",
    "\n",
    "    dfCLFRun = pd.concat([dfRHold, dfRFull, dfR_True, dfR_Top])\n",
    "\n",
    "    dfCLFRun[\"MainDataset\"] = dataName\n",
    "    dfCLFRun[\"date\"] = datetime.today()\n",
    "    dfCLFRun[\"brt_params\"] = (\n",
    "        f\"T{brt_trees}_itrr{brt_iter}_th{brt_thres}_topR{brt_toprank}\"\n",
    "    )\n",
    "\n",
    "    dfCLFRun = MPutils.reorder_columns(dfCLFRun, [\"MainDataset\", \"Title\", \"date\",'brt_nTrue','brt_nTop'])\n",
    "\n",
    "    dfCLFRun.to_csv(f\"{saveDir}CLFRun_{dataName}_Results.csv\", index=False)\n",
    "    lRunDataFrames.append(dfCLFRun)"
   ]
  },
  {
   "cell_type": "code",
   "execution_count": 6,
   "metadata": {},
   "outputs": [],
   "source": [
    "dfCombRes = pd.concat(lRunDataFrames)"
   ]
  },
  {
   "cell_type": "code",
   "execution_count": 7,
   "metadata": {},
   "outputs": [],
   "source": [
    "dfCombRes[\"classifier\"] = dfCombRes[\"param_clf\"].apply(lambda x: x.__str__().split(\"(\")[0])"
   ]
  },
  {
   "cell_type": "code",
   "execution_count": 8,
   "metadata": {},
   "outputs": [],
   "source": [
    "lColFirst = [\n",
    "    \"MainDataset\",\n",
    "    \"Title\",\n",
    "    \"date\",\n",
    "    \"classifier\",\n",
    "    \"cv\",\n",
    "    \"brt_nTrue\",\n",
    "    \"brt_nTop\",\n",
    "]"
   ]
  },
  {
   "cell_type": "code",
   "execution_count": 9,
   "metadata": {},
   "outputs": [],
   "source": [
    "dfCombRes = MPutils.reorder_columns(dfCombRes, lColFirst)"
   ]
  },
  {
   "cell_type": "code",
   "execution_count": 10,
   "metadata": {},
   "outputs": [],
   "source": [
    "dfCombRes.to_csv('OUTPUT/MP/05-classifiers/DataV2/CLFRunCombined.csv',index=False)"
   ]
  },
  {
   "cell_type": "code",
   "execution_count": 11,
   "metadata": {},
   "outputs": [],
   "source": [
    "lColsSel = lColFirst+[x for x in dfCombRes if x.startswith('mean_test') or x.startswith('param_') or x.startswith('brt')]"
   ]
  },
  {
   "cell_type": "code",
   "execution_count": 12,
   "metadata": {},
   "outputs": [],
   "source": [
    "dfCombRes[lColsSel].to_csv(\n",
    "    \"OUTPUT/MP/05-classifiers/DataV2/CLFRunCombined_SelCol.csv\", index=False\n",
    ")"
   ]
  },
  {
   "cell_type": "markdown",
   "metadata": {},
   "source": [
    "# Holdoutset - validation testing - Boruta Tested Best Feature"
   ]
  },
  {
   "cell_type": "code",
   "execution_count": null,
   "metadata": {},
   "outputs": [],
   "source": [
    "lScorersBinary = [\n",
    "    \"accuracy\",\n",
    "    \"balanced_accuracy\",\n",
    "    \"roc_auc\",\n",
    "    \"f1\",\n",
    "    \"recall\",\n",
    "    \"sensitivity\",\n",
    "    \"specificity\",\n",
    "    \"precision\",\n",
    "    # \"average_precision\",\n",
    "    \"NPV\",\n",
    "    \"PPV\",\n",
    "    # \"neg_mean_squared_error\",\n",
    "]\n",
    "lClassifiers = [\"RF\", \"ET\", \"LogR\"] # different classifiers\n",
    "lCV = [3,5,10] # different cross-validation splits\n",
    "lTrees=[100,1000,10000] #num trees\n",
    "lMD=[None] #max depth\n"
   ]
  },
  {
   "cell_type": "code",
   "execution_count": null,
   "metadata": {},
   "outputs": [],
   "source": [
    "selFeat = \"Test_T81_Boruta_T1000_itrr200_thres100_topR5_MD7_True_LCN_LCP\".replace(\n",
    "    \"_LCN_LCP\", \"\"\n",
    ").replace(\"Test_\", \"\")\n",
    "lSelFeat = dFeat[selFeat]\n",
    "x,y = getXY(T81_h)\n",
    "x=x[lSelFeat]"
   ]
  },
  {
   "cell_type": "code",
   "execution_count": null,
   "metadata": {},
   "outputs": [],
   "source": [
    "dfResults = classify_MP(X=x, y=y, lScorers=lScorersBinary, lClassifiers=lClassifiers, lTrees=lTrees, lMD=lMD,lCV=lCV)"
   ]
  },
  {
   "cell_type": "code",
   "execution_count": null,
   "metadata": {},
   "outputs": [],
   "source": [
    "# dfResults.columns"
   ]
  },
  {
   "cell_type": "code",
   "execution_count": null,
   "metadata": {},
   "outputs": [],
   "source": [
    "dfResults['Title']='R81_Holdout_'+selFeat"
   ]
  },
  {
   "cell_type": "code",
   "execution_count": null,
   "metadata": {},
   "outputs": [],
   "source": [
    "lResCol = ['Title','cv']+[x for x in dfResults.columns if x.startswith(\"param_\") or x.startswith(\"mean_test_\")]"
   ]
  },
  {
   "cell_type": "code",
   "execution_count": null,
   "metadata": {},
   "outputs": [],
   "source": [
    "dfResults[lResCol] # all results"
   ]
  },
  {
   "cell_type": "code",
   "execution_count": null,
   "metadata": {},
   "outputs": [],
   "source": [
    "dfResults[\n",
    "    (dfResults[\"cv\"] == 5)\n",
    "    # & (dfResults[\"param_clf\"] == \"RandomForestClassifier()\")\n",
    "    & (dfResults[\"param_clf__n_estimators\"] == 1000)\n",
    "][lResCol].T"
   ]
  },
  {
   "cell_type": "code",
   "execution_count": null,
   "metadata": {},
   "outputs": [],
   "source": [
    "dfResults[(dfResults['cv']==5) & (dfResults['param_clf']=='RandomForestClassifier()') & (dfResults['param_clf__n_estimators']==1000)][lResCol]"
   ]
  },
  {
   "cell_type": "code",
   "execution_count": null,
   "metadata": {},
   "outputs": [],
   "source": [
    "dfResults.to_csv(\n",
    "    f\"OUTPUT/MP/05-classifiers/Validation/CA_{'R81_Holdout_'+selFeat}.csv\", index=False\n",
    ")\n",
    "dfResults[lResCol].to_csv(f\"OUTPUT/MP/05-classifiers/Validation/CA_{'R81_Holdout_'+selFeat}_selCol.csv\", index=False)"
   ]
  },
  {
   "cell_type": "code",
   "execution_count": null,
   "metadata": {},
   "outputs": [],
   "source": [
    "dfResults = pd.read_csv(\n",
    "    f\"OUTPUT/MP/05-classifiers/Validation/CA_{'R81_Holdout_'+selFeat}.csv\"\n",
    ")"
   ]
  },
  {
   "cell_type": "markdown",
   "metadata": {},
   "source": [
    "### Feature Importance of Best Set\n"
   ]
  },
  {
   "cell_type": "code",
   "execution_count": null,
   "metadata": {},
   "outputs": [],
   "source": [
    "clf = RandomForestClassifier(n_estimators=1000,max_depth=None,random_state=42)\n",
    "clf.fit(x,y)\n",
    "feature_importances = clf.feature_importances_\n",
    "feature_importances = pd.Series(feature_importances, index=x.columns).sort_values(\n",
    "    ascending=False\n",
    ")"
   ]
  },
  {
   "cell_type": "code",
   "execution_count": null,
   "metadata": {},
   "outputs": [],
   "source": [
    "feature_importances"
   ]
  },
  {
   "cell_type": "code",
   "execution_count": null,
   "metadata": {},
   "outputs": [],
   "source": [
    "feature_importances.to_csv(f\"OUTPUT/MP/05-classifiers/Validation/FR_{'R81_Holdout_'+selFeat}.csv\", index=False)"
   ]
  },
  {
   "cell_type": "markdown",
   "metadata": {},
   "source": [
    "age                                     0.419838\n",
    "dag                                     0.235372\n",
    "SYMPT-fatigue___2                       0.084360\n",
    "SYMPT-dizziness___2                     0.079019\n",
    "SYMPT-muscle_aches_myalgia___2          0.074982\n",
    "SYMPT-shortness_of_breath_dyspne___2    0.059716\n",
    "SYMPT-joint_pain_arthralgia___2         0.046712"
   ]
  },
  {
   "cell_type": "code",
   "execution_count": null,
   "metadata": {},
   "outputs": [],
   "source": [
    "clf = RandomForestClassifier(n_estimators=1000, max_depth=None, random_state=42)\n",
    "cross_val_score(clf, x, y, cv=5, scoring=\"accuracy\").mean()"
   ]
  },
  {
   "cell_type": "code",
   "execution_count": null,
   "metadata": {},
   "outputs": [],
   "source": []
  }
 ],
 "metadata": {
  "kernelspec": {
   "display_name": "clust",
   "language": "python",
   "name": "python3"
  },
  "language_info": {
   "codemirror_mode": {
    "name": "ipython",
    "version": 3
   },
   "file_extension": ".py",
   "mimetype": "text/x-python",
   "name": "python",
   "nbconvert_exporter": "python",
   "pygments_lexer": "ipython3",
   "version": "3.11.8"
  }
 },
 "nbformat": 4,
 "nbformat_minor": 2
}
